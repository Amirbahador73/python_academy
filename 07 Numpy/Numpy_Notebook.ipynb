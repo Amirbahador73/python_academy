{
 "cells": [
  {
   "cell_type": "markdown",
   "id": "815e19ae",
   "metadata": {
    "direction": "rtl"
   },
   "source": [
    "<div style=\"direction:rtl;line-height:300%;\">\n",
    "<div align=center>\n",
    "<font face=\"B Nazanin\" size=3>\n",
    "    به نام خدا\n",
    "    </font>\n",
    "    <br>\n",
    "    <br>\n",
    "    <font face=\"B Nazanin\" size=5>\n",
    "        <font color=#FF7500>\n",
    "      آکادمی همراه اول\n",
    "        </font>\n",
    "            <br>\n",
    "        <br>\n",
    "        دورۀ آشنایی با پایتون\n",
    "        <br>\n",
    "        <br>\n",
    "<b>        آشنایی با کتابخانۀ Numpy\n",
    "        </b>\n",
    "        <br>\n",
    "        <br>\n",
    "        <b> جمال کزازی <b>\n",
    "            <p> </p>\n",
    "    </font>\n",
    "    </div>\n",
    "    </div>"
   ]
  },
  {
   "cell_type": "markdown",
   "id": "f1eed2b0",
   "metadata": {
    "direction": "rtl"
   },
   "source": [
    "<hr>\n",
    "<font face=\"B Nazanin\"> \n",
    "    <h2>\n",
    "        چرا Numpy؟\n",
    "    </h2>\n",
    "    <br>\n",
    "    <font size=3>\n",
    "        <p> </p>\n",
    "کتابخانۀ Numpy یک کتابخانۀ ارزشمند است، به نحوی که می‌تواند برای ما در پایتون آرایه‌ها و ماتریس‌های n-بعدی را مدیریت کند، بسازد و عملیات‌های ریاضی مختلف (ساده تا پیچیده) را بر روی آن‌ها انجام دهد. انعطاف Numpy و افزایش سرعت محاسبات با استفاده از آن باعث مورد توجه گرفتن آن شده است.\n",
    "        <p></p>\n",
    "        شاید سوال شود که در مدیریت آرایه‌ها چه تفاوتی بین List در پایتون و Numpy است؟ بهتر است بگوییم که Numpy هم <b> «حافظۀ» </b> کمتری را اشغال می‌کند و هم <b> «سرعت» </b> بیشتری دارد و هم در<b> «اعمال ریاضی و محاسبات» </b> افزونه‌های بسیار زیادی دارد. این تفاوت‌ها باعث شده است که در انجاک محاسبات ماتریسی، Numpy یک جلودار باشد.\n",
    "        <p></p>\n",
    "       می‌خواهیم در این دفتر به ساخت آرایه در Numpy و سپس انجام عملیات‌های ریاضی و الگوریتمی مختلف (مثل مرتب کردن، تبدیل فوریه و ...) بپیردازیم.\n",
    "        <p> </p>\n",
    "         در اولین قدم به نصب این کتابخانه در پایتون می‌پردازیم:\n",
    "    </font>\n",
    "    </font>    "
   ]
  },
  {
   "cell_type": "markdown",
   "id": "8cb2b092",
   "metadata": {
    "direction": "ltr"
   },
   "source": [
    "<font face=\"Consolas\">\n",
    "pip install numpy\n",
    "    </font>\n",
    "    <hr>"
   ]
  },
  {
   "cell_type": "markdown",
   "id": "a786d820",
   "metadata": {
    "direction": "rtl"
   },
   "source": [
    "<font face=\"B Nazanin\">\n",
    "    <h2>\n",
    "ساخت آرایه در پایتون با استفاده از Numpy قهرمان!    </h2>\n",
    "    <br>\n",
    "    <font size=3>\n",
    "       برای استفاده از کتابخانه باید در ابتدا آن را import کرد. حال ما می‌خواهیم یک آرایۀ 0-بعدی ایجاد کنیم!\n",
    "    </font>\n",
    "    </font>   "
   ]
  },
  {
   "cell_type": "code",
   "execution_count": 1,
   "id": "ee63a285",
   "metadata": {},
   "outputs": [
    {
     "name": "stdout",
     "output_type": "stream",
     "text": [
      "100\n"
     ]
    }
   ],
   "source": [
    "import numpy as np\n",
    "\n",
    "first_array = np.array(100)\n",
    "\n",
    "print(first_array)"
   ]
  },
  {
   "cell_type": "markdown",
   "id": "007f01e4",
   "metadata": {},
   "source": [
    "<center><img src='n-d-array.png' height=800% width=80%></center>"
   ]
  },
  {
   "cell_type": "markdown",
   "id": "846bc3d8",
   "metadata": {
    "direction": "rtl"
   },
   "source": [
    "<font face=\"B Nazanin\">\n",
    "    <font size=3>\n",
    "حال می‌خواهیم آرایه‌های 1-بعدی و 2-بعدی و 3-بعدی دلخواه را بسازیم و آن‌ها را چاپ کنیم :) \n",
    "        <p></p>\n",
    "        با استفاده از دستور np.array می‌توان آرایه‌های n-بعدی را نیز ایجاد کرد فقط کمی دقت می‌خواهد و کمی هم باید بازی با براکت‌ها را بلد باشید!\n",
    "    </font>\n",
    "    </font> "
   ]
  },
  {
   "cell_type": "code",
   "execution_count": 4,
   "id": "24daac38",
   "metadata": {},
   "outputs": [
    {
     "name": "stdout",
     "output_type": "stream",
     "text": [
      "[1 2 3 4]\n"
     ]
    }
   ],
   "source": [
    "array_1d = np.array([1, 2, 3, 4]) # Creating an 1-D array\n",
    "\n",
    "print(array_1d) "
   ]
  },
  {
   "cell_type": "code",
   "execution_count": 2,
   "id": "c58539ef",
   "metadata": {},
   "outputs": [
    {
     "name": "stdout",
     "output_type": "stream",
     "text": [
      "[[1 2 3 4]\n",
      " [5 6 7 8]]\n"
     ]
    }
   ],
   "source": [
    "array_2d = np.array([[1, 2, 3, 4], [5, 6, 7, 8]]) # Creating a 2-D array\n",
    "\n",
    "print(array_2d)"
   ]
  },
  {
   "cell_type": "code",
   "execution_count": 6,
   "id": "c0c796c3",
   "metadata": {},
   "outputs": [
    {
     "name": "stdout",
     "output_type": "stream",
     "text": [
      "[[[ 1  2  3  4]\n",
      "  [ 5  6  7  8]]\n",
      "\n",
      " [[ 9 10 11 12]\n",
      "  [13 14 15 16]]]\n"
     ]
    }
   ],
   "source": [
    "array_3d = np.array([[[1, 2, 3, 4], [5, 6, 7, 8]], [[9, 10, 11, 12], [13, 14, 15, 16]]]) # Creating a 3-D array\n",
    "\n",
    "print (array_3d)"
   ]
  },
  {
   "cell_type": "markdown",
   "id": "9c3d8663",
   "metadata": {
    "direction": "rtl"
   },
   "source": [
    "<font face=\"B Nazanin\">\n",
    "    <font size=3>\n",
    "فرض کنید به شما آرایۀ دلخواهی داده باشند و بخواهید انواع پردازش را بر روی آن انجام دهید. در برخی از پردازش‌ها اگر شما ندانید که بُعد آرایه چقدر است ممکن است به مشکل برخورد کنید. با استفاده از دستور ndim می‌توان تعداد ابعاد آرایه را به‌دست آورد.\n",
    "    </font>\n",
    "    </font>   "
   ]
  },
  {
   "cell_type": "code",
   "execution_count": 5,
   "id": "8bb11931",
   "metadata": {},
   "outputs": [
    {
     "name": "stdout",
     "output_type": "stream",
     "text": [
      "1\n",
      "2\n",
      "3\n"
     ]
    }
   ],
   "source": [
    "# print dimension of each array\n",
    "\n",
    "print (array_1d.ndim)\n",
    "print (array_2d.ndim)\n",
    "print (array_3d.ndim)"
   ]
  },
  {
   "cell_type": "markdown",
   "id": "70e43a41",
   "metadata": {
    "direction": "rtl"
   },
   "source": [
    "<hr>\n",
    "<font face=\"B Nazanin\">\n",
    "    <h3>\n",
    "متدهای مختلف ساخت آرایه    </h3>\n",
    "    <br>\n",
    "    <font size=3>\n",
    "        برای ساخت آرایه توسط Numpy متدهای مختلفی وجود دارد. برخی از متدهای معروف عبارتند از: <p> </p> \n",
    "        - empty: یک ماتریس empty با ابعاد داده شده ایجاد می‌کند. درایه‌های این ماتریس هر عددی می‌توانند داشته باشند. <br>\n",
    "        - eye: اگر آرگومان ورودی این متد n باشد، یک ماتریس همانی n در n ایجاد می‌کند. <br>\n",
    "        - ones: یک ماتریس 1 با ابعاد داده شده ایجاد می‌کند.<br>\n",
    "        - zeros: یک ماتریس 0 با ابعاد داده شده ایجاد می‌کند.<br>\n",
    "        - arange: یک آرایه بین دو عدد داده شده با گام مشخص ایجاد می‌کند.<br>\n",
    "        - linspace: یک آرایه بین دو عدد مشخص شده با تعداد درایه‌های مدنظر ایجاد می‌کند.\n",
    "    </font>\n",
    "    </font>   "
   ]
  },
  {
   "cell_type": "code",
   "execution_count": 6,
   "id": "4ba6a476",
   "metadata": {},
   "outputs": [
    {
     "name": "stdout",
     "output_type": "stream",
     "text": [
      "[[2.12199579e-314 7.53308506e-312]\n",
      " [5.63234836e-321 7.53308506e-312]]\n"
     ]
    }
   ],
   "source": [
    "# create an empty 3*3 matrix\n",
    "empty_matrix = np.empty([2, 2])\n",
    "print(empty_matrix)"
   ]
  },
  {
   "cell_type": "code",
   "execution_count": 3,
   "id": "ebcbd0eb",
   "metadata": {},
   "outputs": [
    {
     "name": "stdout",
     "output_type": "stream",
     "text": [
      "[[1. 0. 0.]\n",
      " [0. 1. 0.]\n",
      " [0. 0. 1.]]\n"
     ]
    }
   ],
   "source": [
    "# create an eye 3*3 matrix\n",
    "eye_matrix = np.eye(3)\n",
    "print(eye_matrix)"
   ]
  },
  {
   "cell_type": "code",
   "execution_count": 8,
   "id": "ec2409e9",
   "metadata": {},
   "outputs": [
    {
     "name": "stdout",
     "output_type": "stream",
     "text": [
      "[[1. 1. 1.]\n",
      " [1. 1. 1.]\n",
      " [1. 1. 1.]]\n"
     ]
    }
   ],
   "source": [
    "# create an ones 3*3 matrix\n",
    "ones_matrix = np.ones([3, 3])\n",
    "print(ones_matrix)"
   ]
  },
  {
   "cell_type": "code",
   "execution_count": 9,
   "id": "8083d160",
   "metadata": {},
   "outputs": [
    {
     "name": "stdout",
     "output_type": "stream",
     "text": [
      "[[0. 0. 0.]\n",
      " [0. 0. 0.]\n",
      " [0. 0. 0.]]\n"
     ]
    }
   ],
   "source": [
    "# create a zero 3*3 matrix\n",
    "zeros_matrix = np.zeros([3, 3])\n",
    "print(zeros_matrix)"
   ]
  },
  {
   "cell_type": "code",
   "execution_count": 10,
   "id": "c2330ff1",
   "metadata": {},
   "outputs": [
    {
     "name": "stdout",
     "output_type": "stream",
     "text": [
      "[1.   1.05 1.1  1.15 1.2  1.25 1.3  1.35 1.4  1.45 1.5  1.55 1.6  1.65\n",
      " 1.7  1.75 1.8  1.85 1.9  1.95]\n"
     ]
    }
   ],
   "source": [
    "# create an array with arange method between 1 and 2 by step 0.05\n",
    "arange_arr = np.arange(1, 2, 0.05)\n",
    "print(arange_arr)"
   ]
  },
  {
   "cell_type": "code",
   "execution_count": 11,
   "id": "4690ccb2",
   "metadata": {},
   "outputs": [
    {
     "name": "stdout",
     "output_type": "stream",
     "text": [
      "[1.         1.11111111 1.22222222 1.33333333 1.44444444 1.55555556\n",
      " 1.66666667 1.77777778 1.88888889 2.        ]\n"
     ]
    }
   ],
   "source": [
    "# create an array with linspace method between 1 and 2 with 10 cells\n",
    "linspace_arr = np.linspace(1, 2, 10)\n",
    "print(linspace_arr)"
   ]
  },
  {
   "cell_type": "markdown",
   "id": "f21b0169",
   "metadata": {
    "direction": "rtl"
   },
   "source": [
    "<hr>\n",
    "<font face=\"B Nazanin\">\n",
    "    <h3>\n",
    "متد Meshgrid   </h3>\n",
    "    <br>\n",
    "    <font size=3>\n",
    "        این مند ساخت آرایه معمولا برای ساخت ماتریس‌های n-بعدی استفاده می‌شود. خروجی این متد n بردار یک بعدی است و این مختصات در دستگاه کارتزین ارائه می‌شوند.\n",
    "    </font>\n",
    "    </font>   "
   ]
  },
  {
   "cell_type": "code",
   "execution_count": 12,
   "id": "6886b6b0",
   "metadata": {},
   "outputs": [
    {
     "name": "stdout",
     "output_type": "stream",
     "text": [
      "[[-3.  -2.5 -2.  -1.5 -1.  -0.5  0.   0.5  1.   1.5  2.   2.5  3. ]\n",
      " [-3.  -2.5 -2.  -1.5 -1.  -0.5  0.   0.5  1.   1.5  2.   2.5  3. ]\n",
      " [-3.  -2.5 -2.  -1.5 -1.  -0.5  0.   0.5  1.   1.5  2.   2.5  3. ]\n",
      " [-3.  -2.5 -2.  -1.5 -1.  -0.5  0.   0.5  1.   1.5  2.   2.5  3. ]\n",
      " [-3.  -2.5 -2.  -1.5 -1.  -0.5  0.   0.5  1.   1.5  2.   2.5  3. ]\n",
      " [-3.  -2.5 -2.  -1.5 -1.  -0.5  0.   0.5  1.   1.5  2.   2.5  3. ]\n",
      " [-3.  -2.5 -2.  -1.5 -1.  -0.5  0.   0.5  1.   1.5  2.   2.5  3. ]\n",
      " [-3.  -2.5 -2.  -1.5 -1.  -0.5  0.   0.5  1.   1.5  2.   2.5  3. ]\n",
      " [-3.  -2.5 -2.  -1.5 -1.  -0.5  0.   0.5  1.   1.5  2.   2.5  3. ]]\n",
      "\n",
      "\n",
      "[[-4. -4. -4. -4. -4. -4. -4. -4. -4. -4. -4. -4. -4.]\n",
      " [-3. -3. -3. -3. -3. -3. -3. -3. -3. -3. -3. -3. -3.]\n",
      " [-2. -2. -2. -2. -2. -2. -2. -2. -2. -2. -2. -2. -2.]\n",
      " [-1. -1. -1. -1. -1. -1. -1. -1. -1. -1. -1. -1. -1.]\n",
      " [ 0.  0.  0.  0.  0.  0.  0.  0.  0.  0.  0.  0.  0.]\n",
      " [ 1.  1.  1.  1.  1.  1.  1.  1.  1.  1.  1.  1.  1.]\n",
      " [ 2.  2.  2.  2.  2.  2.  2.  2.  2.  2.  2.  2.  2.]\n",
      " [ 3.  3.  3.  3.  3.  3.  3.  3.  3.  3.  3.  3.  3.]\n",
      " [ 4.  4.  4.  4.  4.  4.  4.  4.  4.  4.  4.  4.  4.]]\n"
     ]
    }
   ],
   "source": [
    "# create x and y axises\n",
    "x = np.linspace(-3, 3, 13)\n",
    "y = np.linspace(-4, 4, 9)\n",
    "\n",
    "# get two 2-dimensional array\n",
    "x_mesh, y_mesh = np.meshgrid (x, y)\n",
    "\n",
    "print (x_mesh)\n",
    "print ('\\n')\n",
    "print (y_mesh)"
   ]
  },
  {
   "cell_type": "markdown",
   "id": "00643a6e",
   "metadata": {
    "direction": "rtl"
   },
   "source": [
    "<hr>\n",
    "<font face=\"B Nazanin\">\n",
    "    <h3>\n",
    "تبدیل یک لیست به آرایه‌ای در Numpy   </h3>\n",
    "    <br>\n",
    "    <font size=3>\n",
    "برای این کار کافی است تا لیست را به عنوان آرگومان ورودی تابع array در numpy قرار دهیم.    </font>\n",
    "    </font>  "
   ]
  },
  {
   "cell_type": "code",
   "execution_count": 13,
   "id": "6bd34eda",
   "metadata": {},
   "outputs": [
    {
     "name": "stdout",
     "output_type": "stream",
     "text": [
      "[ 1  2  4  8 16]\n",
      "<class 'numpy.ndarray'>\n"
     ]
    }
   ],
   "source": [
    "List_exp = [1, 2, 4, 8, 16]\n",
    "np_arr = np.array(List_exp)\n",
    "\n",
    "print(np_arr)\n",
    "print (type(np_arr))"
   ]
  },
  {
   "cell_type": "markdown",
   "id": "4f09272e",
   "metadata": {
    "direction": "rtl"
   },
   "source": [
    "<hr>\n",
    "<font face=\"B Nazanin\">\n",
    "    <h3>\n",
    "کپی یک آرایه؛ view و copy    </h3>\n",
    "    <br>\n",
    "    <font size=3>\n",
    "برای این که یک آرایه را کپی کنیم راه‌های مختلفی وجود دارد. البته بین این راه‌ها تفاوت‌هایی نیز می‌باشد. اگر همین طور آرایه‌ای را به طور معمول به آرایه‌ای دیگر assign کنیم خواهیم دید که با تغییر آرایه assign شده، آرایۀ اولی نیز تغییر می‌کند. اگر محل ذخیرۀ این دو آرایه را مشاهده کنیم، می‌بینیم که هر دو در یک محل ذخیره شده‌اند. (با استفاده از id)\n",
    "    </font>\n",
    "    </font>   "
   ]
  },
  {
   "cell_type": "code",
   "execution_count": 7,
   "id": "c257aadc",
   "metadata": {},
   "outputs": [
    {
     "name": "stdout",
     "output_type": "stream",
     "text": [
      "[ 1  5  9 16]\n",
      "[ 1  5  9 16]\n",
      "id of arr1:  1621818521232\n",
      "id of assigned_arr2:  1621818521232\n"
     ]
    }
   ],
   "source": [
    "arr1 = np.array([1, 4, 9, 16])\n",
    "assigned_arr1 = arr1\n",
    "assigned_arr1[1] = 5\n",
    "\n",
    "print(arr1)\n",
    "print(assigned_arr1)\n",
    "\n",
    "# show memory location of each array\n",
    "print(\"id of arr1: \", id(arr1))\n",
    "print(\"id of assigned_arr2: \", id(assigned_arr1))"
   ]
  },
  {
   "cell_type": "markdown",
   "id": "a0473075",
   "metadata": {},
   "source": [
    "<center><img src='copy_view.jpg' height=50% width=50%></center>"
   ]
  },
  {
   "cell_type": "markdown",
   "id": "4e3186bc",
   "metadata": {
    "direction": "rtl"
   },
   "source": [
    "<font face=\"B Nazanin\">\n",
    "    <font size=3>\n",
    "حال اگر از مشخصۀ ()view استفاده کنیم خواهیم دید که با تغییر آرایه دومی، آرایه اولی نیز تغییر می‌کند اما محل ذخیرۀ دو آرایه در حافظه متفاوت است.\n",
    "    </font>\n",
    "    </font>  "
   ]
  },
  {
   "cell_type": "code",
   "execution_count": 9,
   "id": "1b5b797e",
   "metadata": {},
   "outputs": [
    {
     "name": "stdout",
     "output_type": "stream",
     "text": [
      "[  1   8 125  64]\n",
      "[  1   8 125  64]\n",
      "id of arr2:  1621818522384\n",
      "id of assigned_arr2:  1621818522480\n"
     ]
    }
   ],
   "source": [
    "arr2 = np.array ([1, 8, 27, 64])\n",
    "assigned_arr2 = arr2.view()\n",
    "assigned_arr2[2] = 125\n",
    "\n",
    "print(arr2)\n",
    "print(assigned_arr2)\n",
    "\n",
    "# show memory location of each array\n",
    "print(\"id of arr2: \", id(arr2))\n",
    "print(\"id of assigned_arr2: \", id(assigned_arr2))"
   ]
  },
  {
   "cell_type": "markdown",
   "id": "9454271e",
   "metadata": {
    "direction": "rtl"
   },
   "source": [
    "<font face=\"B Nazanin\">\n",
    "    <font size=3>\n",
    "اما اگر بخواهیم یک آرایه را به نحوی کپی کنیم که آرایه‌ها و تغییراتشان نسبت به هم مستقل باشند از مشخصۀ ()copy استفاده می‌کنیم.\n",
    "    </font>\n",
    "    </font>  "
   ]
  },
  {
   "cell_type": "code",
   "execution_count": 16,
   "id": "62ffb8f3",
   "metadata": {},
   "outputs": [
    {
     "name": "stdout",
     "output_type": "stream",
     "text": [
      "[  1  16  81 256]\n",
      "[  1  16 625 256]\n",
      "id of arr3:  1525463866608\n",
      "id of assigned_arr3:  1525463912976\n"
     ]
    }
   ],
   "source": [
    "arr3 = np.array ([1, 16, 81, 256])\n",
    "assigned_arr3 = arr3.copy()\n",
    "assigned_arr3[2] = 625\n",
    "\n",
    "print(arr3)\n",
    "print(assigned_arr3)\n",
    "\n",
    "# show memory location of each array\n",
    "print(\"id of arr3: \", id(arr3))\n",
    "print(\"id of assigned_arr3: \", id(assigned_arr3))"
   ]
  },
  {
   "cell_type": "markdown",
   "id": "4ad61a05",
   "metadata": {
    "direction": "rtl"
   },
   "source": [
    "<hr>\n",
    "<font face=\"B Nazanin\">\n",
    "    <h3>\n",
    "اضافه کردن درایه به انتهای آرایه    </h3>\n",
    "    <br>\n",
    "    <font size=3>\n",
    "با استفاده از تابع append می‌توان به انتهای یک آرایه، مقادیر دلخواه را اضافه نمود.\n",
    "    </font>\n",
    "    </font>   "
   ]
  },
  {
   "cell_type": "code",
   "execution_count": 17,
   "id": "4a99e343",
   "metadata": {},
   "outputs": [
    {
     "name": "stdout",
     "output_type": "stream",
     "text": [
      "[ 1  2  3  4  5 10 11 12 13]\n"
     ]
    }
   ],
   "source": [
    "origin_arr = [1, 2, 3, 4, 5]\n",
    "append_arr = [10, 11, 12, 13]\n",
    "\n",
    "final_arr = np.append(origin_arr, append_arr)\n",
    "\n",
    "print(final_arr)"
   ]
  },
  {
   "cell_type": "markdown",
   "id": "001570f9",
   "metadata": {
    "direction": "rtl"
   },
   "source": [
    "<hr>\n",
    "<font face=\"B Nazanin\">\n",
    "    <h3>\n",
    "عوض کردن جای دو سطر یا ستون   </h3>\n",
    "    <br>\n",
    "    <font size=3>\n",
    "اگر بخواهیم جای دو سطر یا ستون را با یکدیگر عوض کنیم باید این تغییرات را مطابق زیر نشان دهیم: \n",
    "    </font>\n",
    "    </font>  "
   ]
  },
  {
   "cell_type": "code",
   "execution_count": 15,
   "id": "cf1ecc9d",
   "metadata": {
    "scrolled": true
   },
   "outputs": [
    {
     "name": "stdout",
     "output_type": "stream",
     "text": [
      "[[ 1  2  3  4]\n",
      " [ 5  6  7  8]\n",
      " [ 9 10 11 12]]\n",
      "\n",
      " column 0 swapped with 2:\n",
      " [[ 3  2  1  4]\n",
      " [ 7  6  5  8]\n",
      " [11 10  9 12]]\n",
      "\n",
      " row 0 swapped with 2:\n",
      " [[11 10  9 12]\n",
      " [ 7  6  5  8]\n",
      " [ 3  2  1  4]]\n",
      "11 11\n"
     ]
    }
   ],
   "source": [
    "# define an array\n",
    "my_array = np.array([[1, 2, 3, 4], [5, 6, 7, 8], [9, 10, 11, 12]])\n",
    "print(my_array)\n",
    "\n",
    "# swap two columns, 0 with 2\n",
    "my_array[:, [2, 0]] = my_array[:, [0, 2]]\n",
    "print(\"\\n column 0 swapped with 2:\\n\", my_array)\n",
    "\n",
    "# swap two rows, 0 with 2\n",
    "my_array[[2,0], :] = my_array[[0, 2], :]\n",
    "print(\"\\n row 0 swapped with 2:\\n\", my_array)\n",
    "\n",
    "print(my_array[0][0],my_array[0,0])"
   ]
  },
  {
   "cell_type": "code",
   "execution_count": 16,
   "id": "f0232a55",
   "metadata": {},
   "outputs": [
    {
     "name": "stdout",
     "output_type": "stream",
     "text": [
      "[[ 1  2  3  4]\n",
      " [ 5  6  7  8]\n",
      " [ 9 10 11 12]]\n",
      "7 7\n"
     ]
    }
   ],
   "source": [
    "# define an array\n",
    "my_array = np.array([[1, 2, 3, 4], [5, 6, 7, 8], [9, 10, 11, 12]])\n",
    "print(my_array)\n",
    "print(my_array[1][2],my_array[1,2])"
   ]
  },
  {
   "cell_type": "markdown",
   "id": "45b8f8fa",
   "metadata": {
    "direction": "rtl"
   },
   "source": [
    "<hr>\n",
    "<font face=\"B Nazanin\">\n",
    "    <h3>\n",
    "ادغام آرایه‌ها با یکدیگر   </h3>\n",
    "    <br>\n",
    "    <font size=3>\n",
    "در برخی موارد نیاز است تا دو یا چند آرایه را با یکدیگر ادغام کرد. برای مثال اگر سیگنال 2 صوت مختلف را داشته باشیم و بخواهیم آن‌ها را با هم داشته باشیم باید با هم ادغام کنیم. منظور از ادغام پشت سر هم آوردن آن‌ها است. با استفاده از دستور concatenate می‌توان این کار را انجام داد.\n",
    "    </font>\n",
    "    </font>  "
   ]
  },
  {
   "cell_type": "code",
   "execution_count": 19,
   "id": "db8bcbf5",
   "metadata": {},
   "outputs": [
    {
     "name": "stdout",
     "output_type": "stream",
     "text": [
      "[ 1  2  3  4  5  6  7  8  9 10]\n"
     ]
    }
   ],
   "source": [
    "arr_1 = np.array([1, 2, 3, 4, 5])\n",
    "arr_2 = np.array([6, 7, 8, 9, 10])\n",
    "\n",
    "arr_3 = np.concatenate((arr_1, arr_2))\n",
    "print(arr_3)"
   ]
  },
  {
   "cell_type": "markdown",
   "id": "c854a031",
   "metadata": {
    "direction": "rtl"
   },
   "source": [
    "<font face=\"B Nazanin\">\n",
    "    <br>\n",
    "    <font size=3>\n",
    "حال ممکن است بخواهیم که آرایه‌ها را در محور خاصی با یکدیگر ادغام کنیم. در این صورت از تابع stack استفاده می‌کنیم. برای این که مشخص کنیم در جهت کدام محور می‌خواهیم ادغام صورت بگیرد باید آرگومان axis را مقداردهی کنیم.\n",
    "    </font>\n",
    "    </font>  "
   ]
  },
  {
   "cell_type": "code",
   "execution_count": 20,
   "id": "7f5605c6",
   "metadata": {},
   "outputs": [
    {
     "name": "stdout",
     "output_type": "stream",
     "text": [
      "merge by row:\n",
      " [[ 1  2  3  4  5]\n",
      " [ 6  7  8  9 10]]\n",
      "merge by column:\n",
      " [[ 1  6]\n",
      " [ 2  7]\n",
      " [ 3  8]\n",
      " [ 4  9]\n",
      " [ 5 10]]\n"
     ]
    }
   ],
   "source": [
    "arr_4 = np.stack((arr_1, arr_2), axis = 0) # merge by row\n",
    "print(\"merge by row:\\n\", arr_4)\n",
    "\n",
    "arr_5 = np.stack((arr_1, arr_2), axis = 1) # merge by column\n",
    "print(\"merge by column:\\n\", arr_5)"
   ]
  },
  {
   "cell_type": "markdown",
   "id": "49317ece",
   "metadata": {
    "direction": "rtl"
   },
   "source": [
    "<hr>\n",
    "<font face=\"B Nazanin\">\n",
    "    <h3>\n",
    "مقایسۀ آرایه‌ها با یکدیگر   </h3>\n",
    "         <font size=3>\n",
    "          \n",
    "هنگامی که بخواهیم دو آرایه را با هم مقایسه کنیم که آیا این دو با یکدیگر مساوی هستند یا خیر، می‌توانیم از الگوی زیر استفاده کرد. هم‌چنین علاوه بر الگوی زیر می‌توان از تابع array_equal نیز استفاده کرد. \n",
    "    \n",
    "برای این که درایه‌های دو آرایه را با یکدیگر مقایسه کنیم می‌توانیم از توابع زیر کمک بگیریم:\n",
    "- greater(a, b): اگر a از b بزرگتر باشد، True است.\n",
    "            \n",
    "- greater_equal(a, b): اگر a بزرگتر یا مساوی b باشد، True است.\n",
    "            \n",
    "- less(a, b): اگر a کوچکتر از b باشد، True است.\n",
    "            \n",
    "- less_equal(a, b): اگر a کوچکتر یا مساوی b باشد، True است.\n",
    " \n",
    "    </font>\n",
    "    </font>  "
   ]
  },
  {
   "cell_type": "code",
   "execution_count": 17,
   "id": "14570cdb",
   "metadata": {},
   "outputs": [
    {
     "name": "stdout",
     "output_type": "stream",
     "text": [
      "[ True  True False False]\n",
      "False\n",
      "False\n",
      "a > b  :  [False False  True False]\n",
      "a >= b :  [ True  True  True False]\n",
      "a < b  :  [False False False  True]\n",
      "a <= b :  [ True  True False  True]\n"
     ]
    }
   ],
   "source": [
    "arr_1 = np.array([1, 2, 5, 4])\n",
    "arr_2 = np.array([1, 2, 3, 8])\n",
    "\n",
    "arr_3 = arr_1 == arr_2 # check equality element-wise\n",
    "print(arr_3)\n",
    "\n",
    "equal_arr = arr_3.all() # check two array with eachother \n",
    "print(equal_arr)\n",
    "\n",
    "print(np.array_equal(arr_1, arr_2)) # check two array with eachother by array_equal function\n",
    "\n",
    "print(\"a > b  : \", np.greater(arr_1, arr_2)) # a > b\n",
    "print(\"a >= b : \", np.greater_equal(arr_1, arr_2)) # a >= b\n",
    "print(\"a < b  : \", np.less(arr_1, arr_2)) # a < b\n",
    "print(\"a <= b : \", np.less_equal(arr_1, arr_2)) # a <= b"
   ]
  },
  {
   "cell_type": "markdown",
   "id": "31101432",
   "metadata": {
    "direction": "rtl"
   },
   "source": [
    "<hr>\n",
    "<font face=\"B Nazanin\">\n",
    "    <h3>\n",
    "پیدا کردن سطرها، ستون‌ها و المان‌های یکتای آرایه   </h3>\n",
    "    <br>\n",
    "    <font size=3>\n",
    "اگر بخواهیم سطر یکتا، ستون یکتا و یا درایه‌های یکتای یک آرایه را مشخص کنیم می‌توانیم از توابع زیر استفاده کنیم:\n",
    "        \n",
    "- unique(array): پیدا کردن درایه‌های یکتا در آرایه\n",
    "- unique(array, axis=#): پیدا کردن بردار یکتا در مختصات دلخواه \n",
    "    </font>\n",
    "    </font>  "
   ]
  },
  {
   "cell_type": "code",
   "execution_count": 22,
   "id": "e5734111",
   "metadata": {},
   "outputs": [
    {
     "name": "stdout",
     "output_type": "stream",
     "text": [
      "unique elements:  [1 2 3 4 5 6 8]\n",
      "unique vectors of array in axis 0: \n",
      " [[1 1 3 4]\n",
      " [1 1 4 5]\n",
      " [2 2 6 8]]\n",
      "unique vectors of array in axis 1: \n",
      " [[1 3 4]\n",
      " [1 4 5]\n",
      " [1 3 4]\n",
      " [2 6 8]]\n"
     ]
    }
   ],
   "source": [
    "my_array = np.array([[1, 1, 3, 4], [1, 1, 4, 5], [1, 1, 3, 4], [2, 2, 6, 8]])\n",
    "print(\"unique elements: \", np.unique(my_array)) # print unique elements\n",
    "print(\"unique vectors of array in axis 0: \\n\", np.unique(my_array, axis = 0)) # print unique vectors in axis 0\n",
    "print(\"unique vectors of array in axis 1: \\n\", np.unique(my_array, axis =1)) # print unique vectors in axis 1"
   ]
  },
  {
   "cell_type": "markdown",
   "id": "3416581a",
   "metadata": {
    "direction": "rtl"
   },
   "source": [
    "<hr>\n",
    "<font face=\"B Nazanin\">\n",
    "    <h3>\n",
    "حذف صفرهای ابتدا و انتهای آرایه   </h3>\n",
    "    <br>\n",
    "    <font size=3>\n",
    "اگر سیگنالی را ذخیره کنیم در ابتدا و انتهای سیگنال تعدادی صفر وجود دارد. در برخی اوقات این صفرها را باید حذف کرد یا این که بهتر است که حذف کنیم. با استفاده از تابع trim_zeros می‌توان این کار را انجام داد. \n",
    "    </font>\n",
    "    </font>  "
   ]
  },
  {
   "cell_type": "code",
   "execution_count": 23,
   "id": "599a15f2",
   "metadata": {},
   "outputs": [
    {
     "name": "stdout",
     "output_type": "stream",
     "text": [
      "[1 2 3 0 0 4]\n"
     ]
    }
   ],
   "source": [
    "my_array = np.array([0, 0, 0, 0, 1, 2, 3, 0, 0, 4, 0, 0])\n",
    "new_array = np.trim_zeros(my_array)\n",
    "print(new_array)"
   ]
  },
  {
   "cell_type": "markdown",
   "id": "04015e4b",
   "metadata": {
    "direction": "rtl"
   },
   "source": [
    "<hr>\n",
    "<font face=\"B Nazanin\">\n",
    "    <h2>\n",
    "عملیات‌های باینری   \n",
    "      </h2>\n",
    "    <br>\n",
    "    <font size=3>\n",
    "        \n",
    "عملیات‌های باینری عمدتا از نوع bitwise هستند و برخی از آن‌ها عبارتند از:\n",
    "\n",
    "- bitwise_and: این تابع بیت به بیت المان‌های هم ایندکس را با هم AND می‌کند.\n",
    "- bitwise_or: این تابع بیت به بیت المان‌های هم ایندکس را با هم OR می‌کند.\n",
    "- bitwise_xor: این تابع بیت به بیت المان‌های هم ایندکس را با هم XOR می‌کند.\n",
    "- invert: این تابع بیت‌های هر کدام از المان‌ها را NOT می‌کند.\n",
    "- left_shift: این تابع بیت‌های هر المان را به چپ شیفت می‌دهد.\n",
    "- right_shift: این تابع بیت‌های هر المان را به راست شیفت می‌دهد.\n",
    "- binary_repr: این تابع باینری هر المان را نشان می‌دهد.\n",
    "\n",
    "    </font>\n",
    "    </font>  "
   ]
  },
  {
   "cell_type": "code",
   "execution_count": 24,
   "id": "f8c0caf0",
   "metadata": {},
   "outputs": [
    {
     "name": "stdout",
     "output_type": "stream",
     "text": [
      "Bitwise AND:  [1 2 2 4 8 9]\n",
      "Bitwise OR:   [ 1  2  7 20 15 29]\n",
      "Bitwise XOR:  [ 0  0  5 16  7 20]\n",
      "Bitwise NOT:  [ -2  -3  -4  -5 -10 -14]\n",
      "Bitwise AND:  [0 0 0 0 0 0]\n",
      "\n",
      "\n",
      "Left shift arr_1 with 2bits:    [ 4  8 12 16 36 52]\n",
      "Right shift arr_1 with 2bits:   [0 0 0 1 2 3]\n"
     ]
    }
   ],
   "source": [
    "arr_1 = np.array([1, 2, 3, 4, 9, 13])\n",
    "arr_2 = np.array([1, 2, 6, 20, 14, 25])\n",
    "\n",
    "print(\"Bitwise AND: \", np.bitwise_and(arr_1, arr_2))\n",
    "print(\"Bitwise OR:  \", np.bitwise_or(arr_1, arr_2))\n",
    "print(\"Bitwise XOR: \", np.bitwise_xor(arr_1, arr_2))\n",
    "print(\"Bitwise NOT: \", np.invert(arr_1, arr_2))\n",
    "print(\"Bitwise AND: \", np.bitwise_and(arr_1, arr_2))\n",
    "print(\"\\n\\nLeft shift arr_1 with 2bits:   \", np.left_shift(arr_1, 2))\n",
    "print(\"Right shift arr_1 with 2bits:  \", np.right_shift(arr_1, 2))"
   ]
  },
  {
   "cell_type": "markdown",
   "id": "a53702ff",
   "metadata": {
    "direction": "rtl"
   },
   "source": [
    "<hr>\n",
    "<font face=\"B Nazanin\">\n",
    "    <h2>\n",
    "عملیات‌های ریاضیاتی  \n",
    "      </h2>\n",
    "    <br>\n",
    "    <font size=3>\n",
    "        \n",
    "<h3>\n",
    "    توابع مثلثاتی\n",
    "        </h3>\n",
    "\n",
    "توابع مثلثاتی معروف در کتابخانۀ numpy تعریف شده و عبارتند از:\n",
    "        \n",
    "- sin\n",
    "- cos\n",
    "- tan\n",
    "- arcsin\n",
    "- arccos \n",
    "- arctan\n",
    "- rad2deg: تبدیل رادیان به درجه\n",
    "- deg2rad: تبدیل درجه به رادیان\n",
    "    </font>\n",
    "    </font>  "
   ]
  },
  {
   "cell_type": "code",
   "execution_count": 25,
   "id": "46137bb9",
   "metadata": {},
   "outputs": [
    {
     "name": "stdout",
     "output_type": "stream",
     "text": [
      "Sin of array:  [0.00999983 0.09983342 0.29552021 0.43496553 0.5311862  0.76432894]\n",
      "Cos of array:  [0.99995    0.99500417 0.95533649 0.9004471  0.84725511 0.64482655]\n",
      "Tan of array:  [0.01000033 0.10033467 0.30933625 0.48305507 0.62694954 1.18532486]\n",
      "Arcsin of array:  [0.01000017 0.10016742 0.30469265 0.46676534 0.5943858  1.05520232]\n",
      "Arccos of array:  [1.56079616 1.47062891 1.26610367 1.10403099 0.97641053 0.51559401]\n",
      "Arctan of array:  [0.00999967 0.09966865 0.29145679 0.42285393 0.51048832 0.71599111]\n",
      "Change radian to degree of array:  [ 0.5729578   5.72957795 17.18873385 25.78310078 32.08563653 49.84732818]\n",
      "Change degree to radian of array:  [0.00017453 0.00174533 0.00523599 0.00785398 0.00977384 0.01518436]\n"
     ]
    }
   ],
   "source": [
    "signal_array = np.array([0.01, 0.1, 0.3, 0.45, 0.56, 0.87])\n",
    "print(\"Sin of array: \", np.sin(signal_array))\n",
    "print(\"Cos of array: \", np.cos(signal_array))\n",
    "print(\"Tan of array: \", np.tan(signal_array))\n",
    "print(\"Arcsin of array: \", np.arcsin(signal_array))\n",
    "print(\"Arccos of array: \", np.arccos(signal_array))\n",
    "print(\"Arctan of array: \", np.arctan(signal_array))\n",
    "print(\"Change radian to degree of array: \", np.rad2deg(signal_array))\n",
    "print(\"Change degree to radian of array: \", np.deg2rad(signal_array))"
   ]
  },
  {
   "cell_type": "markdown",
   "id": "fc8ca585",
   "metadata": {
    "direction": "rtl"
   },
   "source": [
    "<font face=\"B Nazanin\">\n",
    "    <br>\n",
    "    <font size=3>\n",
    "        \n",
    "<h3>\n",
    "توابع هایپربولیک        </h3>\n",
    "\n",
    "توابع هایپربولیک معروف در کتابخانۀ numpy تعریف شده و عبارتند از:\n",
    "        \n",
    "- sinh\n",
    "- cosh\n",
    "- tanh\n",
    "- arcsinh\n",
    "- arccosh\n",
    "- arctanh\n",
    "    </font>\n",
    "    </font>  "
   ]
  },
  {
   "cell_type": "code",
   "execution_count": 26,
   "id": "1e5122b5",
   "metadata": {},
   "outputs": [
    {
     "name": "stdout",
     "output_type": "stream",
     "text": [
      "Sinh of array:  [0.01000017 0.10016675 0.30452029 0.46534202 0.58973172 0.98397965]\n",
      "Cosh of array:  [1.00005    1.00500417 1.04533851 1.10297017 1.16094078 1.4029312 ]\n",
      "Tanh of array:  [0.00999967 0.09966799 0.29131261 0.42189901 0.50797743 0.70137413]\n",
      "Arcsinh of array:  [0.00999983 0.09983408 0.29567305 0.43604967 0.53422407 0.78640118]\n",
      "Arccosh of array:  [0.         2.99322285 4.09406667 4.49968619 4.71841914 5.15902227]\n",
      "Arctanh of array:  [0.01000033 0.10033535 0.3095196  0.48470028 0.63283319 1.33307963]\n"
     ]
    }
   ],
   "source": [
    "print(\"Sinh of array: \", np.sinh(signal_array))\n",
    "print(\"Cosh of array: \", np.cosh(signal_array))\n",
    "print(\"Tanh of array: \", np.tanh(signal_array))\n",
    "print(\"Arcsinh of array: \", np.arcsinh(signal_array))\n",
    "print(\"Arccosh of array: \", np.arccosh(signal_array * 100)) # cosh is over 1 so we multiple signal_array *100\n",
    "print(\"Arctanh of array: \", np.arctanh(signal_array))"
   ]
  },
  {
   "cell_type": "markdown",
   "id": "b1b8b28b",
   "metadata": {
    "direction": "rtl"
   },
   "source": [
    "<hr>\n",
    "<font face=\"B Nazanin\">\n",
    "    <h2>\n",
    "جبر خطی با Numpy!  \n",
    "      </h2>\n",
    "    <br>\n",
    "    <font size=3>\n",
    "اعمال مختلفی می‌توان بر روی یک ماتریس انجام داد. برای مثال می‌توان دترمینان آن را حساب کرد و یا در صورت لزوم معکوس آن را به دست آورد. توابعی که در جبر خطی می‌توان نام برد از این قرارند:\n",
    "        \n",
    "- linalg.det: محاسبۀ دترمینان ماتریس\n",
    "- linalg.inv: محاسبۀ معکوس تابع\n",
    "- linalg.eigvals: به‌دست آوردن مقادیر ویژه ماتریس\n",
    "- dot: ضرب داخلی آرایه\n",
    "- inner: ضرب داخلی آرایه\n",
    "- outer: ضرب خارجی آرایه\n",
    "- linalg.solve(a, b): حل معادلۀ a*x = b با استفاده از ماتریس‌های a و b\n",
    "- linalg.norm: محاسبۀ نُرم ماتریس\n",
    "    </font>\n",
    "    </font>  "
   ]
  },
  {
   "cell_type": "code",
   "execution_count": 27,
   "id": "7afd1d62",
   "metadata": {},
   "outputs": [
    {
     "name": "stdout",
     "output_type": "stream",
     "text": [
      "Determinant:  -9.999999999999998\n",
      "Inverse: \n",
      " [[-1.   0.5  0. ]\n",
      " [ 2.8 -0.4 -0.6]\n",
      " [-1.2  0.1  0.4]]\n",
      "Eigen values: \n",
      " [14.24894017 -0.54252744  1.29358727]\n",
      "\n",
      "Inner product of arr_1 and arr_2:  44\n",
      "\n",
      "Inner product of arr_1 and arr_2:  44\n",
      "\n",
      "Outer product of arr_1 and arr_2: \n",
      " [[ 1  5  3  6]\n",
      " [ 2 10  6 12]\n",
      " [ 3 15  9 18]\n",
      " [ 4 20 12 24]]\n",
      "\n",
      "Result of 'a * x = b' equation:  [-2.5  9.2 -3.3]\n",
      "Norm of 'a' matrix:  14.52583904633395\n"
     ]
    }
   ],
   "source": [
    "a = np.array([[1, 2, 3], [4, 4, 6], [2, 5, 10]])\n",
    "b = np.array([6, 7, 8])\n",
    "arr_1 = [1, 2, 3, 4]\n",
    "arr_2 = [1, 5, 3, 6]\n",
    "print(\"Determinant: \", np.linalg.det(a))\n",
    "print(\"Inverse: \\n\", np.linalg.inv(a))\n",
    "print(\"Eigen values: \\n\", np.linalg.eigvals(a))\n",
    "print(\"\\nInner product of arr_1 and arr_2: \", np.dot(arr_1, arr_2))\n",
    "print(\"\\nInner product of arr_1 and arr_2: \", np.inner(arr_1, arr_2))\n",
    "print(\"\\nOuter product of arr_1 and arr_2: \\n\", np.outer(arr_1, arr_2))\n",
    "print(\"\\nResult of 'a * x = b' equation: \", np.linalg.solve(a, b))\n",
    "print(\"Norm of 'a' matrix: \", np.linalg.norm(a))"
   ]
  },
  {
   "cell_type": "markdown",
   "id": "8f613f8f",
   "metadata": {
    "direction": "rtl"
   },
   "source": [
    "<hr>\n",
    "<font face=\"B Nazanin\">\n",
    "    <h2>\n",
    "ابعاد یک ماتریس\n",
    "    </h2>\n",
    "    <br>\n",
    "    <font size=3>\n",
    "زمانی که یک ماتریس به ما داده شد (که احتمال زیاد حاوی یک سیگنال و یا مجموعه‌ای از داده‌ها است!) برای تجزیه و تحلیل آن سریعا ابعاد آن را به‌دست می‌آوریم! :) برای به‌دست آوردن ابعاد از مشخصۀ shape استفاده می‌کنیم. \n",
    "    </font>\n",
    "    </font>  "
   ]
  },
  {
   "cell_type": "code",
   "execution_count": 19,
   "id": "6f350d78",
   "metadata": {},
   "outputs": [
    {
     "name": "stdout",
     "output_type": "stream",
     "text": [
      "shape of array:  (3, 4)\n"
     ]
    }
   ],
   "source": [
    "array = np.array([[1, 2, 3, 4], [5, 6, 7, 8], [9, 10, 11, 12]])\n",
    "print(\"shape of array: \", array.shape)"
   ]
  },
  {
   "cell_type": "markdown",
   "id": "ca02e36c",
   "metadata": {
    "direction": "rtl"
   },
   "source": [
    "<font face=\"B Nazanin\">\n",
    "    <h2>\n",
    "تغییر ابعاد یک ماتریس\n",
    "    </h2>\n",
    "    <br>\n",
    "    <font size=3>\n",
    "حال ممکن است بخواهیم یک ماتریس از ابعاد مورد نظر به ابعاد دیگری ببریم. برای مثال ماتریس m*n است، حال می‌خواهیم ابعاد را به k*l تغییر دهیم. این عملیات با استفاده از مشخصۀ reshape صورت می‌گیرد.\n",
    "        \n",
    "اگر بخواهیم آرایه با هر ابعادی را به آرایه‌ای یک بعدی تبدیل کنیم از دستور reshape(-1) استفاده می‌کنیم.\n",
    "    </font>\n",
    "    </font> "
   ]
  },
  {
   "cell_type": "code",
   "execution_count": 20,
   "id": "7df60bbc",
   "metadata": {},
   "outputs": [
    {
     "name": "stdout",
     "output_type": "stream",
     "text": [
      "new shape of array: \n",
      " [[ 1  2]\n",
      " [ 3  4]\n",
      " [ 5  6]\n",
      " [ 7  8]\n",
      " [ 9 10]\n",
      " [11 12]]\n",
      "\n",
      "2-d to 3-d conversion: \n",
      " [[[ 1  2  3]\n",
      "  [ 4  5  6]]\n",
      "\n",
      " [[ 7  8  9]\n",
      "  [10 11 12]]]\n",
      "\n",
      "1-d conversion of array:  [ 1  2  3  4  5  6  7  8  9 10 11 12]\n"
     ]
    }
   ],
   "source": [
    "print(\"new shape of array: \\n\", array.reshape(6, 2)) # convert 3*4 array to 6*2\n",
    "print(\"\\n2-d to 3-d conversion: \\n\", array.reshape(2, 2, 3)) # convert 2-d to 3-d \n",
    "print(\"\\n1-d conversion of array: \", array.reshape(-1))"
   ]
  },
  {
   "cell_type": "markdown",
   "id": "6274de2a",
   "metadata": {
    "direction": "rtl"
   },
   "source": [
    "<hr>\n",
    "<font face=\"B Nazanin\">\n",
    "    <h2>\n",
    "تکرار بر روی آرایه (Iterating)\n",
    "    </h2>\n",
    "    <br>\n",
    "    <font size=3>\n",
    "منظور از تکرار بر روی آرایه آن است که اعضای آرایه یک به یک پیموده شود. در ابتدا به تکرار بر روی آرایۀ 1-بعدی می‌پردازیم:\n",
    "    </font>\n",
    "    </font> "
   ]
  },
  {
   "cell_type": "code",
   "execution_count": 30,
   "id": "0beba523",
   "metadata": {},
   "outputs": [
    {
     "name": "stdout",
     "output_type": "stream",
     "text": [
      "1\n",
      "2\n",
      "3\n",
      "4\n",
      "5\n"
     ]
    }
   ],
   "source": [
    "my_array = np.array([1, 2, 3, 4, 5])\n",
    "for i in my_array:\n",
    "    print(i)"
   ]
  },
  {
   "cell_type": "markdown",
   "id": "1aa3ab2f",
   "metadata": {
    "direction": "rtl"
   },
   "source": [
    "<font face=\"B Nazanin\">\n",
    "    <br>\n",
    "    <font size=3>\n",
    "قضیه برای آرایه‌های 2-بعدی فرق می‌کند و اگر تنها یک حلقه برای پیمایش استفاده شود، ردیف‌ها چاپ می‌شوند. برای این که تک تک درایه‌های آرایۀ 2-بعدی را چاپ کنیم از دو حلقۀ تو در تو استفاده می‌کنیم.\n",
    "    </font>\n",
    "    </font> "
   ]
  },
  {
   "cell_type": "code",
   "execution_count": 33,
   "id": "b6bcd045",
   "metadata": {},
   "outputs": [
    {
     "name": "stdout",
     "output_type": "stream",
     "text": [
      "[1 2 3 4]\n",
      "[5 6 7 8]\n",
      "1\n",
      "2\n",
      "3\n",
      "4\n",
      "5\n",
      "6\n",
      "7\n",
      "8\n"
     ]
    }
   ],
   "source": [
    "my_array = np.array([[1, 2, 3, 4], [5, 6, 7, 8]])\n",
    "\n",
    "# print rows\n",
    "for i in my_array:\n",
    "    print(i)\n",
    "\n",
    "# print elements\n",
    "for i in my_array:\n",
    "    for j in i:\n",
    "        print(j)"
   ]
  },
  {
   "cell_type": "markdown",
   "id": "e68221fd",
   "metadata": {
    "direction": "rtl"
   },
   "source": [
    "<hr>\n",
    "<font face=\"B Nazanin\">\n",
    "    <h2>\n",
    "جست‌وجو در آرایه‌ها\n",
    "    </h2>\n",
    "    <br>\n",
    "    <font size=3>\n",
    "اگر به دنبال آن هستیم که در چه اندیس‌هایی مقادیری هستند که شرایط دلخواه ما را داشته باشند از متد where استفاده می‌کنیم. منظور از هر شرطی، یک شرط منطقی است که در مثال زیر خواهیم دید.    </font>\n",
    "    </font> "
   ]
  },
  {
   "cell_type": "code",
   "execution_count": 35,
   "id": "29270cfe",
   "metadata": {},
   "outputs": [
    {
     "name": "stdout",
     "output_type": "stream",
     "text": [
      "(array([0, 2, 3, 4, 5, 6, 7], dtype=int64),)\n",
      "(array([3], dtype=int64),)\n"
     ]
    }
   ],
   "source": [
    "my_array = np.array([20, 15, 17, 18, 19, 18.5, 17.5, 16, 13, 12, 11])\n",
    "val_list = np.where(my_array > 15) # elements that are bigger than 15\n",
    "val_list_1 = np.where(my_array == 18) # elements that are equal to 18\n",
    "print(val_list)\n",
    "print(val_list_1)"
   ]
  },
  {
   "cell_type": "markdown",
   "id": "eb15fb97",
   "metadata": {
    "direction": "rtl"
   },
   "source": [
    "<hr>\n",
    "<font face=\"B Nazanin\">\n",
    "    <h2>\n",
    "مرتب‌سازی آرایه‌ها\n",
    "    </h2>\n",
    "    <br>\n",
    "    <font size=3>\n",
    "برای آن که یک آرایه را مرتب کنیم از متد sort استفاده می‌کنیم. sort می‌تواند برای اعداد، رشته‌ها و حتی متغیرهای منطقی(boolean) استفاده شود. اگر برای آرایه‌های 2-بعدی استفاده شود، مرتب‌سازی در هر ردیف انجام می‌شود.\n",
    "    </font>\n",
    "    </font> "
   ]
  },
  {
   "cell_type": "code",
   "execution_count": 42,
   "id": "e8db7728",
   "metadata": {},
   "outputs": [
    {
     "name": "stdout",
     "output_type": "stream",
     "text": [
      "[1 2 3 4 6 7 8] \n",
      "\n",
      "[[1 2 3 5]\n",
      " [4 5 6 8]]\n"
     ]
    }
   ],
   "source": [
    "my_array = np.array([2, 1, 8, 6, 3, 7, 4])\n",
    "sorted_array = np.sort(my_array) # sort array\n",
    "print(sorted_array, '\\n')\n",
    "\n",
    "my_array_1 = np.array([[3, 2, 1, 5], [6, 4, 5, 8]]) # sort 2-d array\n",
    "print(np.sort(my_array_1))"
   ]
  },
  {
   "cell_type": "markdown",
   "id": "be37d69f",
   "metadata": {
    "direction": "rtl"
   },
   "source": [
    "<hr>\n",
    "<font face=\"B Nazanin\">\n",
    "    <h2>\n",
    "فیلتر آرایه‌ها\n",
    "    </h2>\n",
    "    <br>\n",
    "    <font size=3>\n",
    "وقتی صحبت از فیلتر می‌شود منظور آن است که از یک آرایۀ موجود درایه‌هایی را خارج کرده و با آن یک آرایۀ جدید ساخته شود. در Numpy با استفاده از اندیس‌گذاری boolean می‌توان این کار را انجام داد. یعنی آرایه‌ای به نام آرایۀ فیلتر ساخته شود و مطابق آن فیلتر صورت می‌گیرد.\n",
    "    </font>\n",
    "    </font> "
   ]
  },
  {
   "cell_type": "code",
   "execution_count": 44,
   "id": "b177ad0c",
   "metadata": {},
   "outputs": [
    {
     "name": "stdout",
     "output_type": "stream",
     "text": [
      "[16 20 18 19]\n",
      "[16 20 18 19]\n"
     ]
    }
   ],
   "source": [
    "my_array = np.array([10, 15, 16, 20, 18, 19])\n",
    "\n",
    "# first solution\n",
    "filter_ = [False, False, True, True, True, True]\n",
    "filtered_array = my_array[filter_]\n",
    "print(filtered_array)\n",
    "\n",
    "# second solution\n",
    "filter_ = []\n",
    "for i in my_array:\n",
    "    if (i 2 > 15):\n",
    "        filter_.append(True)\n",
    "    else:\n",
    "        filter_.append(False)\n",
    "\n",
    "filtered_array = my_array[filter_]\n",
    "print(filtered_array)"
   ]
  }
 ],
 "metadata": {
  "kernelspec": {
   "display_name": "Python 3 (ipykernel)",
   "language": "python",
   "name": "python3"
  },
  "language_info": {
   "codemirror_mode": {
    "name": "ipython",
    "version": 3
   },
   "file_extension": ".py",
   "mimetype": "text/x-python",
   "name": "python",
   "nbconvert_exporter": "python",
   "pygments_lexer": "ipython3",
   "version": "3.9.4"
  }
 },
 "nbformat": 4,
 "nbformat_minor": 5
}
