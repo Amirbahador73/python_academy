{
 "cells": [
  {
   "cell_type": "markdown",
   "id": "232c4ba1",
   "metadata": {
    "direction": "rtl"
   },
   "source": [
    "<div style=\"direction:rtl;line-height:300%;\">\n",
    "<div align=center>\n",
    "<font face=\"B Nazanin\" size=3>\n",
    "    به نام خدا\n",
    "    </font>\n",
    "    <br>\n",
    "    <br>\n",
    "    <font face=\"B Nazanin\" size=5>\n",
    "        <font color=#FF7500>\n",
    "      آکادمی همراه اول\n",
    "        </font>\n",
    "           <br> <br>\n",
    "        دورۀ آشنایی با پایتون\n",
    "        <br>\n",
    "        <br>\n",
    "<b>        آشنایی با کتابخانۀ Pandas\n",
    "</b> <br><br>   <b>  جمال کزازی </b>\n",
    "            <p> </p>\n",
    "    </font>\n",
    "    </div>\n",
    "    </div>"
   ]
  },
  {
   "cell_type": "markdown",
   "id": "fd7adf10",
   "metadata": {
    "direction": "rtl"
   },
   "source": [
    "<hr>\n",
    "<font face=\"B Nazanin\"> \n",
    "    <h2>\n",
    "       و اما Pandas...\n",
    "    </h2>\n",
    "    <br>\n",
    "    <font size=3>\n",
    "        <p> </p>\n",
    "Pandas یکی از کتابخانه‌های پایتون است که با هدف کار با مجموعه‌های داده طراحی گردیده است. این کتابخانه شامل توابعی است که می‌توان با آن‌ها داده‌ها را آنالیز کرد، تفکیک کرد و حتی به هم مرتبط کرد. با استفاده از توابع این کتابخانه می‌توان با داده‌های بزرگ (Big Data) را مدیریت کرد و شاخصه‌های آماری آن‌ها را به‌دست آورد. با توجه به خصوصیاتی که از این کتابخانه عنوان شد، در علوم داده نمی‌توان از آن چشم پوشاند!\n",
    "    </font>\n",
    "    </font>    "
   ]
  },
  {
   "cell_type": "markdown",
   "id": "a7363dcb",
   "metadata": {},
   "source": [
    "<center><img src='Pandas_logo_.png' width=60% height=60%></center>"
   ]
  },
  {
   "cell_type": "markdown",
   "id": "c309bf21",
   "metadata": {
    "direction": "rtl"
   },
   "source": [
    "<font face=\"B Nazanin\"> \n",
    "    <br>\n",
    "    <font size=3>\n",
    "        <p> </p>\n",
    "برای شروع کار با Pandas، ابتدا آن را import می‌کنیم و در ادامه برای مثال یک جدول از نمرات یک کلاس فرضی ایجاد می‌کنیم.\n",
    "    </font>\n",
    "    </font>    "
   ]
  },
  {
   "cell_type": "code",
   "execution_count": 1,
   "id": "7f62445c",
   "metadata": {},
   "outputs": [
    {
     "data": {
      "text/html": [
       "<div>\n",
       "<style scoped>\n",
       "    .dataframe tbody tr th:only-of-type {\n",
       "        vertical-align: middle;\n",
       "    }\n",
       "\n",
       "    .dataframe tbody tr th {\n",
       "        vertical-align: top;\n",
       "    }\n",
       "\n",
       "    .dataframe thead th {\n",
       "        text-align: right;\n",
       "    }\n",
       "</style>\n",
       "<table border=\"1\" class=\"dataframe\">\n",
       "  <thead>\n",
       "    <tr style=\"text-align: right;\">\n",
       "      <th></th>\n",
       "      <th>Name</th>\n",
       "      <th>Score</th>\n",
       "    </tr>\n",
       "  </thead>\n",
       "  <tbody>\n",
       "    <tr>\n",
       "      <th>0</th>\n",
       "      <td>John</td>\n",
       "      <td>60</td>\n",
       "    </tr>\n",
       "    <tr>\n",
       "      <th>1</th>\n",
       "      <td>Alice</td>\n",
       "      <td>80</td>\n",
       "    </tr>\n",
       "    <tr>\n",
       "      <th>2</th>\n",
       "      <td>Bob</td>\n",
       "      <td>90</td>\n",
       "    </tr>\n",
       "    <tr>\n",
       "      <th>3</th>\n",
       "      <td>Tom</td>\n",
       "      <td>75</td>\n",
       "    </tr>\n",
       "  </tbody>\n",
       "</table>\n",
       "</div>"
      ],
      "text/plain": [
       "    Name  Score\n",
       "0   John     60\n",
       "1  Alice     80\n",
       "2    Bob     90\n",
       "3    Tom     75"
      ]
     },
     "execution_count": 1,
     "metadata": {},
     "output_type": "execute_result"
    }
   ],
   "source": [
    "import pandas as pd\n",
    "\n",
    "dataset = {'Name':['John', 'Alice', 'Bob', 'Tom'], 'Score':[60, 80, 90, 75]}\n",
    "dataframe = pd.DataFrame(dataset)\n",
    "dataframe"
   ]
  },
  {
   "cell_type": "markdown",
   "id": "7b0a4a12",
   "metadata": {
    "direction": "rtl"
   },
   "source": [
    "<hr>\n",
    "<font face=\"B Nazanin\"> \n",
    "    <h2>\n",
    "     Series پاندایی! \n",
    "    </h2>\n",
    "    <br>\n",
    "    <font size=3>\n",
    "        <p> </p>\n",
    "هر Series مانند یک ستون در جدول است و برداری از داده‌هاست که می‌تواند شامل داده‌های مختلف شود. یک جدول داده از Series های مختلفی تشکیل می‌شود. برای تشکیل یک Series از pd.Series استفاده می‌کنیم. هم‌چنین می‌توان با استفاده از لیبل هر داده به محتوای آن در Series دسترسی پیدا کنیم.\n",
    "    </font>\n",
    "    </font>    "
   ]
  },
  {
   "cell_type": "markdown",
   "id": "f1d2cece",
   "metadata": {},
   "source": [
    "<center><img src='series.png' width=60% height=60%></center>"
   ]
  },
  {
   "cell_type": "code",
   "execution_count": 39,
   "id": "27fb0f2c",
   "metadata": {},
   "outputs": [
    {
     "name": "stdout",
     "output_type": "stream",
     "text": [
      "0    10.0\n",
      "1    15.0\n",
      "2    18.0\n",
      "3    19.5\n",
      "4    17.0\n",
      "dtype: float64\n",
      "\n",
      " 18.0\n"
     ]
    }
   ],
   "source": [
    "s1 = [10, 15, 18, 19.5, 17]\n",
    "series_1 = pd.Series(s1)\n",
    "print(series_1)\n",
    "print('\\n', series_1[2])"
   ]
  },
  {
   "cell_type": "markdown",
   "id": "a56a3fcf",
   "metadata": {
    "direction": "rtl"
   },
   "source": [
    "<font face=\"B Nazanin\"> \n",
    "    <font size=3>\n",
    "        <p> </p>\n",
    "لیبل هر داده در Series می‌تواند غیر از عدد باشد. یعنی به جای این که از 0, 1, 2, ... استفاده شود می‌توان از حروف هم استفاده کرد.\n",
    "\n",
    "برای تولید یک Series می‌توان از ساختارهایی مانند دیکشنری هم کمک گرفت. هم‌چنین می‌توانیم صرفا داده‌هایی را با لیبل خاصی در Series قرار دهیم.\n",
    "    </font>\n",
    "    </font>    "
   ]
  },
  {
   "cell_type": "code",
   "execution_count": 40,
   "id": "4e06f78c",
   "metadata": {},
   "outputs": [
    {
     "name": "stdout",
     "output_type": "stream",
     "text": [
      "A    10.0\n",
      "B    15.0\n",
      "C    18.0\n",
      "D    19.5\n",
      "E    17.0\n",
      "dtype: float64\n",
      "\n",
      " 19.5 \n",
      "\n",
      "a    17.00\n",
      "b    16.00\n",
      "c    20.00\n",
      "d    16.50\n",
      "e    17.25\n",
      "dtype: float64 \n",
      "\n",
      "b    16.00\n",
      "e    17.25\n",
      "dtype: float64\n"
     ]
    }
   ],
   "source": [
    "series_2 = pd.Series(s1, index = ['A', 'B', 'C', 'D', 'E'])\n",
    "print(series_2)\n",
    "print('\\n', series_2['D'], '\\n')\n",
    "\n",
    "s2 = {'a':17, 'b':16, 'c':20, 'd':16.5, 'e':17.25} \n",
    "series_3 = pd.Series(s2) \n",
    "print(series_3, '\\n')\n",
    "\n",
    "series_4 = pd.Series(s2, index = ['b', 'e']) # selective addition\n",
    "print(series_4)"
   ]
  },
  {
   "cell_type": "markdown",
   "id": "c6349862",
   "metadata": {
    "direction": "rtl"
   },
   "source": [
    "<hr>\n",
    "<font face=\"B Nazanin\"> \n",
    "    <h2>\n",
    "    DataFrame و آن‌چه هست ... \n",
    "    </h2>\n",
    "    <br>\n",
    "    <font size=3>\n",
    "        <p> </p>\n",
    "اگر Series مانند یک ستون جدول باشد، DataFrame مانند کل جدول است. هر DataFrame از چندین Series تشکیل شده است. می‌توان گفت که DataFrame یک ساختار 2-بعدی است. در مثال زیر یک جدول از داده‌ها تشکیل داده‌ایم.\n",
    "        \n",
    "برای نمایش اطلاعات ردیف مورد نظر می‌توان از لیبل آن و متد loc استفاده کرد. مثلا ردیف سوم را نمایش می‌دهیم. هم‌چنین مانند Series می‌توان ردیف‌ها را با پارامتر index لیبل‌گذاری کرد.\n",
    "    </font>\n",
    "    </font>    "
   ]
  },
  {
   "cell_type": "code",
   "execution_count": 6,
   "id": "ee647181",
   "metadata": {},
   "outputs": [
    {
     "name": "stdout",
     "output_type": "stream",
     "text": [
      "      Name  Score  Age\n",
      "0     John    100   19\n",
      "1    Alice     83   19\n",
      "2      Bob     96   20\n",
      "3      Tom     78   21\n",
      "4  Michael     71   20\n",
      "\n",
      " information of 3rd row:\n",
      " Name     Bob\n",
      "Score     96\n",
      "Age       20\n",
      "Name: 2, dtype: object\n",
      "\n",
      "       Name  Score  Age\n",
      "a     John    100   19\n",
      "b    Alice     83   19\n",
      "c      Bob     96   20\n",
      "d      Tom     78   21\n",
      "e  Michael     71   20\n",
      "================\n",
      " Name     John\n",
      "Score     100\n",
      "Age        19\n",
      "Name: a, dtype: object\n"
     ]
    }
   ],
   "source": [
    "data_frame = {'Name':['John', 'Alice', 'Bob', 'Tom', 'Michael'], 'Score':[100, 83, 96, 78, 71], 'Age': [19, 19, 20, 21, 20]}\n",
    "dataframe = pd.DataFrame(data_frame) #creation a dataframe\n",
    "print(dataframe)\n",
    "print('\\n', 'information of 3rd row:\\n', dataframe.loc[2]) \n",
    "dataframe_2 = pd.DataFrame(data_frame, index = ['a', 'b', 'c', 'd', 'e']) #indexing DataFrame \n",
    "print('\\n', dataframe_2)\n",
    "print('================\\n',dataframe_2.loc['a'])"
   ]
  },
  {
   "cell_type": "markdown",
   "id": "51f6d042",
   "metadata": {
    "direction": "rtl"
   },
   "source": [
    "<hr>\n",
    "<font face=\"B Nazanin\"> \n",
    "    <h2>\n",
    "ذخیره و بازآوری اطلاعات\n",
    "    </h2>\n",
    "    <br>\n",
    "    <font size=3>\n",
    "        <p> </p>\n",
    "برای ذخیره و نگهداری اطلاعات با حجم زیاد می‌توان از فرمت‌های مختلف استفاده کرد و یکی از معروف‌ترین آن‌ها csv است. csv یک فرمت پراستفاده است که در آن اطلاعات با کاما از هم تفکیک شده‌اند.\n",
    "        \n",
    "برای ذخیرۀ اطلاعات از متد to_csv استفاده می‌کنیم و می‌توانیم داده‌های یک DataFrame را درون یک فایل ذخیره کنیم. برای این که اطلاعات یک فایل را بازآوری کنیم نیز از متد read_csv استفاده می‌کنیم.\n",
    "    </font>\n",
    "    </font>    "
   ]
  },
  {
   "cell_type": "markdown",
   "id": "d2f0d8a2",
   "metadata": {},
   "source": [
    "<center><img src='csv.png' width=40% height=40%></center>"
   ]
  },
  {
   "cell_type": "code",
   "execution_count": 7,
   "id": "ca18c90e",
   "metadata": {},
   "outputs": [
    {
     "data": {
      "text/html": [
       "<div>\n",
       "<style scoped>\n",
       "    .dataframe tbody tr th:only-of-type {\n",
       "        vertical-align: middle;\n",
       "    }\n",
       "\n",
       "    .dataframe tbody tr th {\n",
       "        vertical-align: top;\n",
       "    }\n",
       "\n",
       "    .dataframe thead th {\n",
       "        text-align: right;\n",
       "    }\n",
       "</style>\n",
       "<table border=\"1\" class=\"dataframe\">\n",
       "  <thead>\n",
       "    <tr style=\"text-align: right;\">\n",
       "      <th></th>\n",
       "      <th>Unnamed: 0</th>\n",
       "      <th>Name</th>\n",
       "      <th>Score</th>\n",
       "      <th>Age</th>\n",
       "    </tr>\n",
       "  </thead>\n",
       "  <tbody>\n",
       "    <tr>\n",
       "      <th>0</th>\n",
       "      <td>0</td>\n",
       "      <td>John</td>\n",
       "      <td>100</td>\n",
       "      <td>19</td>\n",
       "    </tr>\n",
       "    <tr>\n",
       "      <th>1</th>\n",
       "      <td>1</td>\n",
       "      <td>Alice</td>\n",
       "      <td>83</td>\n",
       "      <td>19</td>\n",
       "    </tr>\n",
       "    <tr>\n",
       "      <th>2</th>\n",
       "      <td>2</td>\n",
       "      <td>Bob</td>\n",
       "      <td>96</td>\n",
       "      <td>20</td>\n",
       "    </tr>\n",
       "    <tr>\n",
       "      <th>3</th>\n",
       "      <td>3</td>\n",
       "      <td>Tom</td>\n",
       "      <td>78</td>\n",
       "      <td>21</td>\n",
       "    </tr>\n",
       "    <tr>\n",
       "      <th>4</th>\n",
       "      <td>4</td>\n",
       "      <td>Michael</td>\n",
       "      <td>71</td>\n",
       "      <td>20</td>\n",
       "    </tr>\n",
       "  </tbody>\n",
       "</table>\n",
       "</div>"
      ],
      "text/plain": [
       "   Unnamed: 0     Name  Score  Age\n",
       "0           0     John    100   19\n",
       "1           1    Alice     83   19\n",
       "2           2      Bob     96   20\n",
       "3           3      Tom     78   21\n",
       "4           4  Michael     71   20"
      ]
     },
     "execution_count": 7,
     "metadata": {},
     "output_type": "execute_result"
    }
   ],
   "source": [
    "dataframe.to_csv('data.csv')\n",
    "read_df = pd.read_csv('data.csv')\n",
    "read_df"
   ]
  },
  {
   "cell_type": "markdown",
   "id": "c413c92c",
   "metadata": {
    "direction": "rtl"
   },
   "source": [
    "<hr>\n",
    "<font face=\"B Nazanin\"> \n",
    "    <h2>\n",
    "افزودن ستون به DataFrame\n",
    "    </h2>\n",
    "    <br>\n",
    "    <font size=3>\n",
    "        <p> </p>\n",
    "در صورتی که بخواهیم یک ستون به DataFrame اضافه کنیم و یک شاخصه جدید به اطلاعات خود بیافزاییم می‌توانیم از روش زیر استفاده کنیم:\n",
    "    </font>\n",
    "    </font>    "
   ]
  },
  {
   "cell_type": "code",
   "execution_count": 8,
   "id": "5a869455",
   "metadata": {},
   "outputs": [
    {
     "data": {
      "text/html": [
       "<div>\n",
       "<style scoped>\n",
       "    .dataframe tbody tr th:only-of-type {\n",
       "        vertical-align: middle;\n",
       "    }\n",
       "\n",
       "    .dataframe tbody tr th {\n",
       "        vertical-align: top;\n",
       "    }\n",
       "\n",
       "    .dataframe thead th {\n",
       "        text-align: right;\n",
       "    }\n",
       "</style>\n",
       "<table border=\"1\" class=\"dataframe\">\n",
       "  <thead>\n",
       "    <tr style=\"text-align: right;\">\n",
       "      <th></th>\n",
       "      <th>Name</th>\n",
       "      <th>Score</th>\n",
       "      <th>Age</th>\n",
       "      <th>Class</th>\n",
       "    </tr>\n",
       "  </thead>\n",
       "  <tbody>\n",
       "    <tr>\n",
       "      <th>0</th>\n",
       "      <td>John</td>\n",
       "      <td>100</td>\n",
       "      <td>19</td>\n",
       "      <td>1</td>\n",
       "    </tr>\n",
       "    <tr>\n",
       "      <th>1</th>\n",
       "      <td>Alice</td>\n",
       "      <td>83</td>\n",
       "      <td>19</td>\n",
       "      <td>1</td>\n",
       "    </tr>\n",
       "    <tr>\n",
       "      <th>2</th>\n",
       "      <td>Bob</td>\n",
       "      <td>96</td>\n",
       "      <td>20</td>\n",
       "      <td>2</td>\n",
       "    </tr>\n",
       "    <tr>\n",
       "      <th>3</th>\n",
       "      <td>Tom</td>\n",
       "      <td>78</td>\n",
       "      <td>21</td>\n",
       "      <td>1</td>\n",
       "    </tr>\n",
       "    <tr>\n",
       "      <th>4</th>\n",
       "      <td>Michael</td>\n",
       "      <td>71</td>\n",
       "      <td>20</td>\n",
       "      <td>2</td>\n",
       "    </tr>\n",
       "  </tbody>\n",
       "</table>\n",
       "</div>"
      ],
      "text/plain": [
       "      Name  Score  Age  Class\n",
       "0     John    100   19      1\n",
       "1    Alice     83   19      1\n",
       "2      Bob     96   20      2\n",
       "3      Tom     78   21      1\n",
       "4  Michael     71   20      2"
      ]
     },
     "execution_count": 8,
     "metadata": {},
     "output_type": "execute_result"
    }
   ],
   "source": [
    "class_no = [1, 1, 2, 1, 2]\n",
    "dataframe['Class'] = class_no\n",
    "dataframe"
   ]
  },
  {
   "cell_type": "markdown",
   "id": "34153d57",
   "metadata": {
    "direction": "rtl"
   },
   "source": [
    "<hr>\n",
    "<font face=\"B Nazanin\"> \n",
    "    <h2>\n",
    "مرتب کردن مقادیر DataFrame بر اساس ستون\n",
    "    </h2>\n",
    "    <br>\n",
    "    <font size=3>\n",
    "        <p> </p>\n",
    "برخی مواقع دیده‌ایم که اطلاعات یک جدول برای ما مرتب نبوده و نیاز به مرتب‌سازی آن دیده شده است. مثلا می‌خواهیم لیسن کلاس درس را بر اساس ترتیب نام افراد داشته باشیم. برای این کار باید مرتب‌سازی را بر اساس یک ستون (ستون اسامی افراد کلاس) انجام دهیم. در Pandas می‌توانیم اطلاعات DataFrame را بر اساس مقادیر هر ستون که در نظر بگیریم به صورت صعوی یا نزولی مرتب سازیم. این کار با استفاده از متد sort_values صورت می‌گیرد. \n",
    "    </font>\n",
    "    </font>    "
   ]
  },
  {
   "cell_type": "code",
   "execution_count": 9,
   "id": "51ccc5ec",
   "metadata": {},
   "outputs": [
    {
     "name": "stdout",
     "output_type": "stream",
     "text": [
      "      Name  Score  Age  Class\n",
      "1    Alice     83   19      1\n",
      "2      Bob     96   20      2\n",
      "0     John    100   19      1\n",
      "4  Michael     71   20      2\n",
      "3      Tom     78   21      1\n",
      "      Name  Score  Age  Class\n",
      "1    Alice     83   19      1\n",
      "0     John    100   19      1\n",
      "2      Bob     96   20      2\n",
      "4  Michael     71   20      2\n",
      "3      Tom     78   21      1\n"
     ]
    }
   ],
   "source": [
    "dataframe.sort_values(\"Name\", axis = 0, ascending = True, inplace = True, na_position ='last') # sort as Name\n",
    "print(dataframe)\n",
    "dataframe.sort_values(\"Age\", axis = 0, ascending = True, inplace = True, na_position ='last') # sort as Age\n",
    "print(dataframe)"
   ]
  },
  {
   "cell_type": "markdown",
   "id": "f8326ec5",
   "metadata": {
    "direction": "rtl"
   },
   "source": [
    "<hr>\n",
    "<font face=\"B Nazanin\"> \n",
    "    <h2>\n",
    "دسته‌بندی داده‌ها (Groupby)\n",
    "    </h2>\n",
    "    <br>\n",
    "    <font size=3>\n",
    "        <p> </p>\n",
    "یکی از قابلیت‌های که هنگام کار با اطلاعات حجیم به دنبال آن می‌گردیم آن است که بتوانیم داده‌ها را دسته‌بندی کنیم و بر روی هر دسته تابع دلخواه را اجرا کنیم. دسته‌بندی اطلاعات باید بر اساس یک مبنا باشد که در اینجا اساس دسته‌بندی را مقادیر یکی یا چندتا از ستون‌ها در نظر می‌گیریم. مفهوم اصلی دسته‌بندی در Pandas به نام Groupby شناخته می‌شود. در واقع هدف از دسته‌بندی اعمال تابعی مشخص بر روی اطلاعات مشخص می‌باشد. حال این فرآیند را می‌توان در 3 مرحله نشان داد:\n",
    "        \n",
    "- Splitting: این مرحله همان دسته‌بندی اطلاعات در گروه‌ها براساس شاخصه‌های مختلف است.\n",
    "- Applying: در این مرحله تابع مدنظر به هر کدام از دسته‌های دلخواه اعمال می‌شود.\n",
    "- Combining: پس از اعمال توابع مورد نیاز، مجموعه داده‌های مختلف را با هم یکی می‌کنیم و یک مجموعه کلی به‌دست می‌آوریم.\n",
    "    </font>\n",
    "    </font>    "
   ]
  },
  {
   "cell_type": "markdown",
   "id": "3a74b999",
   "metadata": {
    "direction": "rtl"
   },
   "source": [
    "<font face=\"B Nazanin\"> \n",
    "    <h3>\n",
    "Splitting (تقسیم‌بندی)\n",
    "    </h3>\n",
    "    <br>\n",
    "    <font size=3>\n",
    "        <p> </p>\n",
    "برای تقسیم‌بندی داده‌ها در یک مجموعه داده نیاز داریم تا بر اساس شرایطی این کار را انجام دهیم. مثلا می‌توانیم افراد یک مدرسه را بر اساس شماره کلاس آن‌ها دسته‌بندی کنیم. می‌توانیم با متد first اولین مقدار هر گروه را چاپ کنیم.\n",
    "    </font>\n",
    "    </font>    "
   ]
  },
  {
   "cell_type": "code",
   "execution_count": 10,
   "id": "6e83a8f9",
   "metadata": {},
   "outputs": [
    {
     "data": {
      "text/html": [
       "<div>\n",
       "<style scoped>\n",
       "    .dataframe tbody tr th:only-of-type {\n",
       "        vertical-align: middle;\n",
       "    }\n",
       "\n",
       "    .dataframe tbody tr th {\n",
       "        vertical-align: top;\n",
       "    }\n",
       "\n",
       "    .dataframe thead th {\n",
       "        text-align: right;\n",
       "    }\n",
       "</style>\n",
       "<table border=\"1\" class=\"dataframe\">\n",
       "  <thead>\n",
       "    <tr style=\"text-align: right;\">\n",
       "      <th></th>\n",
       "      <th>Name</th>\n",
       "      <th>Score</th>\n",
       "      <th>Age</th>\n",
       "    </tr>\n",
       "    <tr>\n",
       "      <th>Class</th>\n",
       "      <th></th>\n",
       "      <th></th>\n",
       "      <th></th>\n",
       "    </tr>\n",
       "  </thead>\n",
       "  <tbody>\n",
       "    <tr>\n",
       "      <th>1</th>\n",
       "      <td>Alice</td>\n",
       "      <td>83</td>\n",
       "      <td>19</td>\n",
       "    </tr>\n",
       "    <tr>\n",
       "      <th>2</th>\n",
       "      <td>Bob</td>\n",
       "      <td>96</td>\n",
       "      <td>20</td>\n",
       "    </tr>\n",
       "  </tbody>\n",
       "</table>\n",
       "</div>"
      ],
      "text/plain": [
       "        Name  Score  Age\n",
       "Class                   \n",
       "1      Alice     83   19\n",
       "2        Bob     96   20"
      ]
     },
     "execution_count": 10,
     "metadata": {},
     "output_type": "execute_result"
    }
   ],
   "source": [
    "class_groups = dataframe.groupby('Class') # make groups from class number\n",
    "class_groups.first()"
   ]
  },
  {
   "cell_type": "markdown",
   "id": "712c4050",
   "metadata": {
    "direction": "rtl"
   },
   "source": [
    "<font face=\"B Nazanin\"> \n",
    "    <font size=3>\n",
    "        <p> </p>\n",
    "می‌توان تقسیم‌بندی را نیز بر اساس چندین شاخصه از DataFrame انجام داد. برای مثال در نمونه بالا بر اساس Class و Age دسته‌بندی را انجام می‌دهیم.\n",
    "    </font>\n",
    "    </font>    "
   ]
  },
  {
   "cell_type": "code",
   "execution_count": 11,
   "id": "0d5d5ba6",
   "metadata": {},
   "outputs": [
    {
     "name": "stdout",
     "output_type": "stream",
     "text": [
      "{(1, 19): [1, 0], (1, 21): [3], (2, 20): [2, 4]}\n"
     ]
    }
   ],
   "source": [
    "new_group = dataframe.groupby(['Class', 'Age'])\n",
    "print(new_group.groups)"
   ]
  },
  {
   "cell_type": "markdown",
   "id": "e3e06879",
   "metadata": {
    "direction": "rtl"
   },
   "source": [
    "<font face=\"B Nazanin\"> \n",
    "    <h3>\n",
    "Applying (اعمال تابع)\n",
    "    </h3>\n",
    "    <br>\n",
    "    <font size=3>\n",
    "        <p> </p>\n",
    "پس از این که تقسیم‌بندی دلخواه ما شکل گرفت می‌توانیم مقادیر هر گروه را به صورت‌های مختلف بخوانیم و هم‌چنین توابع دلخواه را بر روی آن اجرا کنیم. هم‌چنین می‌توان گروه مدنظر را با استفاده از متد get_group بگیریم. \n",
    "    </font>\n",
    "    </font>    "
   ]
  },
  {
   "cell_type": "code",
   "execution_count": 12,
   "id": "8ef78da2",
   "metadata": {},
   "outputs": [
    {
     "name": "stdout",
     "output_type": "stream",
     "text": [
      "(1, 19)\n",
      "    Name  Score  Age  Class\n",
      "1  Alice     83   19      1\n",
      "0   John    100   19      1 \n",
      "\n",
      "(1, 21)\n",
      "  Name  Score  Age  Class\n",
      "3  Tom     78   21      1 \n",
      "\n",
      "(2, 20)\n",
      "      Name  Score  Age  Class\n",
      "2      Bob     96   20      2\n",
      "4  Michael     71   20      2 \n",
      "\n"
     ]
    },
    {
     "data": {
      "text/html": [
       "<div>\n",
       "<style scoped>\n",
       "    .dataframe tbody tr th:only-of-type {\n",
       "        vertical-align: middle;\n",
       "    }\n",
       "\n",
       "    .dataframe tbody tr th {\n",
       "        vertical-align: top;\n",
       "    }\n",
       "\n",
       "    .dataframe thead th {\n",
       "        text-align: right;\n",
       "    }\n",
       "</style>\n",
       "<table border=\"1\" class=\"dataframe\">\n",
       "  <thead>\n",
       "    <tr style=\"text-align: right;\">\n",
       "      <th></th>\n",
       "      <th>Name</th>\n",
       "      <th>Score</th>\n",
       "      <th>Age</th>\n",
       "      <th>Class</th>\n",
       "    </tr>\n",
       "  </thead>\n",
       "  <tbody>\n",
       "    <tr>\n",
       "      <th>1</th>\n",
       "      <td>Alice</td>\n",
       "      <td>83</td>\n",
       "      <td>19</td>\n",
       "      <td>1</td>\n",
       "    </tr>\n",
       "    <tr>\n",
       "      <th>0</th>\n",
       "      <td>John</td>\n",
       "      <td>100</td>\n",
       "      <td>19</td>\n",
       "      <td>1</td>\n",
       "    </tr>\n",
       "    <tr>\n",
       "      <th>3</th>\n",
       "      <td>Tom</td>\n",
       "      <td>78</td>\n",
       "      <td>21</td>\n",
       "      <td>1</td>\n",
       "    </tr>\n",
       "  </tbody>\n",
       "</table>\n",
       "</div>"
      ],
      "text/plain": [
       "    Name  Score  Age  Class\n",
       "1  Alice     83   19      1\n",
       "0   John    100   19      1\n",
       "3    Tom     78   21      1"
      ]
     },
     "execution_count": 12,
     "metadata": {},
     "output_type": "execute_result"
    }
   ],
   "source": [
    "for name,group in new_group:\n",
    "    print(name)\n",
    "    print(group, '\\n')\n",
    "    \n",
    "class_groups.get_group(1) # get information of class #1"
   ]
  },
  {
   "cell_type": "code",
   "execution_count": 13,
   "id": "7b55f361",
   "metadata": {},
   "outputs": [
    {
     "data": {
      "text/html": [
       "<div>\n",
       "<style scoped>\n",
       "    .dataframe tbody tr th:only-of-type {\n",
       "        vertical-align: middle;\n",
       "    }\n",
       "\n",
       "    .dataframe tbody tr th {\n",
       "        vertical-align: top;\n",
       "    }\n",
       "\n",
       "    .dataframe thead th {\n",
       "        text-align: right;\n",
       "    }\n",
       "</style>\n",
       "<table border=\"1\" class=\"dataframe\">\n",
       "  <thead>\n",
       "    <tr style=\"text-align: right;\">\n",
       "      <th></th>\n",
       "      <th>Name</th>\n",
       "      <th>Score</th>\n",
       "      <th>Age</th>\n",
       "      <th>Class</th>\n",
       "    </tr>\n",
       "  </thead>\n",
       "  <tbody>\n",
       "    <tr>\n",
       "      <th>1</th>\n",
       "      <td>Alice</td>\n",
       "      <td>83</td>\n",
       "      <td>19</td>\n",
       "      <td>1</td>\n",
       "    </tr>\n",
       "    <tr>\n",
       "      <th>0</th>\n",
       "      <td>John</td>\n",
       "      <td>100</td>\n",
       "      <td>19</td>\n",
       "      <td>1</td>\n",
       "    </tr>\n",
       "  </tbody>\n",
       "</table>\n",
       "</div>"
      ],
      "text/plain": [
       "    Name  Score  Age  Class\n",
       "1  Alice     83   19      1\n",
       "0   John    100   19      1"
      ]
     },
     "execution_count": 13,
     "metadata": {},
     "output_type": "execute_result"
    }
   ],
   "source": [
    "new_group.get_group((1, 19)) # get information of class #1 with age 19"
   ]
  },
  {
   "cell_type": "markdown",
   "id": "54a2efcd",
   "metadata": {
    "direction": "rtl"
   },
   "source": [
    "<font face=\"B Nazanin\"> \n",
    "    <br>\n",
    "    <font size=3>\n",
    "        <p> </p>\n",
    "اعمال توابع بر روی هر گروه از داده‌ها را می‌توان به دست‌های زیر تقسیم کرد:\n",
    "    \n",
    "- Aggregation: در این دسته از اعمال، توابع آماری بر روی هر گروه صورت می‌گیرد..\n",
    "- Transformation: در این نوع برخی محاسبه‌های درون گروهی صورت می‌گیرد و برخی مقادیر گروه تغییر می‌کند.\n",
    "- Filteration: در این نوع فرآیند، بر اساس برخی محاسبات بردارهای فیلتر(True, False) به‌دست می‌آید.\n",
    "        \n",
    "        \n",
    "        \n",
    "حال در ابتدا به Aggregation می‌پردازیم:\n",
    "    </font>\n",
    "    </font>    "
   ]
  },
  {
   "cell_type": "code",
   "execution_count": 14,
   "id": "e7ab04af",
   "metadata": {},
   "outputs": [
    {
     "data": {
      "text/html": [
       "<div>\n",
       "<style scoped>\n",
       "    .dataframe tbody tr th:only-of-type {\n",
       "        vertical-align: middle;\n",
       "    }\n",
       "\n",
       "    .dataframe tbody tr th {\n",
       "        vertical-align: top;\n",
       "    }\n",
       "\n",
       "    .dataframe thead th {\n",
       "        text-align: right;\n",
       "    }\n",
       "</style>\n",
       "<table border=\"1\" class=\"dataframe\">\n",
       "  <thead>\n",
       "    <tr style=\"text-align: right;\">\n",
       "      <th></th>\n",
       "      <th>Score</th>\n",
       "      <th>Age</th>\n",
       "    </tr>\n",
       "    <tr>\n",
       "      <th>Class</th>\n",
       "      <th></th>\n",
       "      <th></th>\n",
       "    </tr>\n",
       "  </thead>\n",
       "  <tbody>\n",
       "    <tr>\n",
       "      <th>1</th>\n",
       "      <td>261</td>\n",
       "      <td>59</td>\n",
       "    </tr>\n",
       "    <tr>\n",
       "      <th>2</th>\n",
       "      <td>167</td>\n",
       "      <td>40</td>\n",
       "    </tr>\n",
       "  </tbody>\n",
       "</table>\n",
       "</div>"
      ],
      "text/plain": [
       "       Score  Age\n",
       "Class            \n",
       "1        261   59\n",
       "2        167   40"
      ]
     },
     "execution_count": 14,
     "metadata": {},
     "output_type": "execute_result"
    }
   ],
   "source": [
    "import numpy as np\n",
    "class_groups.aggregate(np.sum)"
   ]
  },
  {
   "cell_type": "code",
   "execution_count": 15,
   "id": "e19e091b",
   "metadata": {},
   "outputs": [
    {
     "data": {
      "text/html": [
       "<div>\n",
       "<style scoped>\n",
       "    .dataframe tbody tr th:only-of-type {\n",
       "        vertical-align: middle;\n",
       "    }\n",
       "\n",
       "    .dataframe tbody tr th {\n",
       "        vertical-align: top;\n",
       "    }\n",
       "\n",
       "    .dataframe thead th {\n",
       "        text-align: right;\n",
       "    }\n",
       "</style>\n",
       "<table border=\"1\" class=\"dataframe\">\n",
       "  <thead>\n",
       "    <tr style=\"text-align: right;\">\n",
       "      <th></th>\n",
       "      <th></th>\n",
       "      <th>Score</th>\n",
       "    </tr>\n",
       "    <tr>\n",
       "      <th>Class</th>\n",
       "      <th>Age</th>\n",
       "      <th></th>\n",
       "    </tr>\n",
       "  </thead>\n",
       "  <tbody>\n",
       "    <tr>\n",
       "      <th rowspan=\"2\" valign=\"top\">1</th>\n",
       "      <th>19</th>\n",
       "      <td>183</td>\n",
       "    </tr>\n",
       "    <tr>\n",
       "      <th>21</th>\n",
       "      <td>78</td>\n",
       "    </tr>\n",
       "    <tr>\n",
       "      <th>2</th>\n",
       "      <th>20</th>\n",
       "      <td>167</td>\n",
       "    </tr>\n",
       "  </tbody>\n",
       "</table>\n",
       "</div>"
      ],
      "text/plain": [
       "           Score\n",
       "Class Age       \n",
       "1     19     183\n",
       "      21      78\n",
       "2     20     167"
      ]
     },
     "execution_count": 15,
     "metadata": {},
     "output_type": "execute_result"
    }
   ],
   "source": [
    "new_group.aggregate(np.sum)"
   ]
  },
  {
   "cell_type": "code",
   "execution_count": 16,
   "id": "13cc4f89",
   "metadata": {},
   "outputs": [
    {
     "data": {
      "text/html": [
       "<div>\n",
       "<style scoped>\n",
       "    .dataframe tbody tr th:only-of-type {\n",
       "        vertical-align: middle;\n",
       "    }\n",
       "\n",
       "    .dataframe tbody tr th {\n",
       "        vertical-align: top;\n",
       "    }\n",
       "\n",
       "    .dataframe thead th {\n",
       "        text-align: right;\n",
       "    }\n",
       "</style>\n",
       "<table border=\"1\" class=\"dataframe\">\n",
       "  <thead>\n",
       "    <tr style=\"text-align: right;\">\n",
       "      <th></th>\n",
       "      <th>sum</th>\n",
       "      <th>mean</th>\n",
       "      <th>std</th>\n",
       "    </tr>\n",
       "    <tr>\n",
       "      <th>Class</th>\n",
       "      <th></th>\n",
       "      <th></th>\n",
       "      <th></th>\n",
       "    </tr>\n",
       "  </thead>\n",
       "  <tbody>\n",
       "    <tr>\n",
       "      <th>1</th>\n",
       "      <td>59</td>\n",
       "      <td>19.666667</td>\n",
       "      <td>1.154701</td>\n",
       "    </tr>\n",
       "    <tr>\n",
       "      <th>2</th>\n",
       "      <td>40</td>\n",
       "      <td>20.000000</td>\n",
       "      <td>0.000000</td>\n",
       "    </tr>\n",
       "  </tbody>\n",
       "</table>\n",
       "</div>"
      ],
      "text/plain": [
       "       sum       mean       std\n",
       "Class                          \n",
       "1       59  19.666667  1.154701\n",
       "2       40  20.000000  0.000000"
      ]
     },
     "execution_count": 16,
     "metadata": {},
     "output_type": "execute_result"
    }
   ],
   "source": [
    "class_groups['Age'].agg([np.sum, np.mean, np.std]) # calculate statistical features of Age"
   ]
  },
  {
   "cell_type": "markdown",
   "id": "2163195e",
   "metadata": {
    "direction": "rtl"
   },
   "source": [
    "<font face=\"B Nazanin\"> \n",
    "    <br>\n",
    "    <font size=3>\n",
    "        <p> </p>\n",
    "Transformation به این صورت است که برخی محاسبات گروه-محور انجام می‌شود و مقادیری از این محاسبات برمی‌گردد که داده‌های group را تغییر می‌دهد.\n",
    "    </font>\n",
    "    </font>    "
   ]
  },
  {
   "cell_type": "code",
   "execution_count": 18,
   "id": "eec2ae31",
   "metadata": {},
   "outputs": [
    {
     "name": "stderr",
     "output_type": "stream",
     "text": [
      "C:\\Users\\a\\AppData\\Local\\Temp/ipykernel_13964/3942993081.py:2: FutureWarning: Dropping invalid columns in DataFrameGroupBy.transform is deprecated. In a future version, a TypeError will be raised. Before calling .transform, select only columns which should be valid for the transforming function.\n",
      "  class_groups.transform(tf)\n"
     ]
    },
    {
     "data": {
      "text/html": [
       "<div>\n",
       "<style scoped>\n",
       "    .dataframe tbody tr th:only-of-type {\n",
       "        vertical-align: middle;\n",
       "    }\n",
       "\n",
       "    .dataframe tbody tr th {\n",
       "        vertical-align: top;\n",
       "    }\n",
       "\n",
       "    .dataframe thead th {\n",
       "        text-align: right;\n",
       "    }\n",
       "</style>\n",
       "<table border=\"1\" class=\"dataframe\">\n",
       "  <thead>\n",
       "    <tr style=\"text-align: right;\">\n",
       "      <th></th>\n",
       "      <th>Score</th>\n",
       "      <th>Age</th>\n",
       "    </tr>\n",
       "  </thead>\n",
       "  <tbody>\n",
       "    <tr>\n",
       "      <th>1</th>\n",
       "      <td>5220.467437</td>\n",
       "      <td>-17.154701</td>\n",
       "    </tr>\n",
       "    <tr>\n",
       "      <th>0</th>\n",
       "      <td>7991.467437</td>\n",
       "      <td>-17.154701</td>\n",
       "    </tr>\n",
       "    <tr>\n",
       "      <th>2</th>\n",
       "      <td>7281.322330</td>\n",
       "      <td>3.000000</td>\n",
       "    </tr>\n",
       "    <tr>\n",
       "      <th>4</th>\n",
       "      <td>3606.322330</td>\n",
       "      <td>3.000000</td>\n",
       "    </tr>\n",
       "    <tr>\n",
       "      <th>3</th>\n",
       "      <td>4515.467437</td>\n",
       "      <td>22.845299</td>\n",
       "    </tr>\n",
       "  </tbody>\n",
       "</table>\n",
       "</div>"
      ],
      "text/plain": [
       "         Score        Age\n",
       "1  5220.467437 -17.154701\n",
       "0  7991.467437 -17.154701\n",
       "2  7281.322330   3.000000\n",
       "4  3606.322330   3.000000\n",
       "3  4515.467437  22.845299"
      ]
     },
     "execution_count": 18,
     "metadata": {},
     "output_type": "execute_result"
    }
   ],
   "source": [
    "tf = lambda x: (x**2)-20*x+3-x.std()\n",
    "class_groups.transform(tf)"
   ]
  },
  {
   "cell_type": "markdown",
   "id": "53ffd600",
   "metadata": {
    "direction": "rtl"
   },
   "source": [
    "<font face=\"B Nazanin\"> \n",
    "    <br>\n",
    "    <font size=3>\n",
    "        <p> </p>\n",
    "Filteration همان‌طور  که از اسمش مشخص است برای فیلتر کردن داده‌ها و به‌دست آوردن بردار فیلتر (True, Flase) است.\n",
    "    </font>\n",
    "    </font>    "
   ]
  },
  {
   "cell_type": "code",
   "execution_count": 19,
   "id": "18e2ef9a",
   "metadata": {},
   "outputs": [
    {
     "data": {
      "text/html": [
       "<div>\n",
       "<style scoped>\n",
       "    .dataframe tbody tr th:only-of-type {\n",
       "        vertical-align: middle;\n",
       "    }\n",
       "\n",
       "    .dataframe tbody tr th {\n",
       "        vertical-align: top;\n",
       "    }\n",
       "\n",
       "    .dataframe thead th {\n",
       "        text-align: right;\n",
       "    }\n",
       "</style>\n",
       "<table border=\"1\" class=\"dataframe\">\n",
       "  <thead>\n",
       "    <tr style=\"text-align: right;\">\n",
       "      <th></th>\n",
       "      <th>Name</th>\n",
       "      <th>Score</th>\n",
       "      <th>Age</th>\n",
       "      <th>Class</th>\n",
       "    </tr>\n",
       "  </thead>\n",
       "  <tbody>\n",
       "    <tr>\n",
       "      <th>3</th>\n",
       "      <td>Tom</td>\n",
       "      <td>78</td>\n",
       "      <td>21</td>\n",
       "      <td>1</td>\n",
       "    </tr>\n",
       "  </tbody>\n",
       "</table>\n",
       "</div>"
      ],
      "text/plain": [
       "  Name  Score  Age  Class\n",
       "3  Tom     78   21      1"
      ]
     },
     "execution_count": 19,
     "metadata": {},
     "output_type": "execute_result"
    }
   ],
   "source": [
    "filt = lambda x: len(x) == 1 \n",
    "new_group.filter(filt)"
   ]
  },
  {
   "cell_type": "code",
   "execution_count": null,
   "id": "831a10a1",
   "metadata": {},
   "outputs": [],
   "source": []
  }
 ],
 "metadata": {
  "kernelspec": {
   "display_name": "Python 3 (ipykernel)",
   "language": "python",
   "name": "python3"
  },
  "language_info": {
   "codemirror_mode": {
    "name": "ipython",
    "version": 3
   },
   "file_extension": ".py",
   "mimetype": "text/x-python",
   "name": "python",
   "nbconvert_exporter": "python",
   "pygments_lexer": "ipython3",
   "version": "3.9.4"
  }
 },
 "nbformat": 4,
 "nbformat_minor": 5
}
