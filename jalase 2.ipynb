{
 "cells": [
  {
   "cell_type": "markdown",
   "metadata": {
    "id": "v-MHZmu9toRn"
   },
   "source": [
    "<div style=\"direction:rtl;line-height:300%;\">\n",
    "<div align=center>\n",
    "<font face=\"B Nazanin\" size=3>\n",
    "    به نام خدا\n",
    "    </font>\n",
    "    <br>\n",
    "    <br>\n",
    "    <font face=\"B Nazanin\" size=5>\n",
    "        <font color=#FF7500>\n",
    "      آکادمی همراه\n",
    "        </font>\n",
    "            <br><br>\n",
    "        دورۀ آشنایی با پایتون\n",
    "        <br>\n",
    "        <br>\n",
    "<b>        ساختارهای داده\n",
    "        </b>\n",
    "             </font>\n",
    "        <br>\n",
    "        <br>\n",
    "        <font face=\"B Nazanin\" size=4>\n",
    "        <b> جمال کزازی </b>\n",
    "            <p> </p>\n",
    "    </font>\n",
    "            <p> </p>\n",
    "    </font>\n",
    "    </div>\n",
    "    </div>"
   ]
  },
  {
   "cell_type": "markdown",
   "metadata": {
    "id": "n2u1tuTTtoRu"
   },
   "source": [
    "## Lists"
   ]
  },
  {
   "cell_type": "markdown",
   "metadata": {
    "id": "xg05KDMgtoRx"
   },
   "source": [
    "Lists are the most commonly used data structure. Think of it as a sequence of data that is enclosed in square brackets and data are separated by a comma. Each of these data can be accessed by calling it's index value.\n",
    "\n",
    "Lists are declared by just equating a variable to '[ ]' or list."
   ]
  },
  {
   "cell_type": "code",
   "execution_count": 1,
   "metadata": {
    "id": "YQ5q7ckctoR0"
   },
   "outputs": [],
   "source": [
    "a = []"
   ]
  },
  {
   "cell_type": "code",
   "execution_count": 7,
   "metadata": {
    "colab": {
     "base_uri": "https://localhost:8080/"
    },
    "executionInfo": {
     "elapsed": 333,
     "status": "ok",
     "timestamp": 1648384927301,
     "user": {
      "displayName": "UT MATLAB",
      "photoUrl": "https://lh3.googleusercontent.com/a/default-user=s64",
      "userId": "08553643746335249860"
     },
     "user_tz": -270
    },
    "id": "CQ1mI1A7toR7",
    "outputId": "e732bb3d-e14f-4644-a433-55571fdd4481"
   },
   "outputs": [
    {
     "name": "stdout",
     "output_type": "stream",
     "text": [
      "<class 'list'>\n"
     ]
    },
    {
     "data": {
      "text/plain": [
       "0"
      ]
     },
     "execution_count": 7,
     "metadata": {},
     "output_type": "execute_result"
    }
   ],
   "source": [
    "print(type(a))\n",
    "len(a)"
   ]
  },
  {
   "cell_type": "markdown",
   "metadata": {
    "id": "p0mz-Ut-toSD"
   },
   "source": [
    "One can directly assign the sequence of data to a list x as shown."
   ]
  },
  {
   "cell_type": "code",
   "execution_count": 2,
   "metadata": {
    "id": "IRX6ksPntoSG"
   },
   "outputs": [],
   "source": [
    "x = ['apple', 'orange']"
   ]
  },
  {
   "cell_type": "markdown",
   "metadata": {
    "id": "Kef6xXGHtoSL"
   },
   "source": [
    "### Indexing"
   ]
  },
  {
   "cell_type": "markdown",
   "metadata": {
    "id": "cE_0JjEStoSP"
   },
   "source": [
    "In python, Indexing starts from 0. Thus now the list x, which has two elements will have apple at 0 index and orange at 1 index."
   ]
  },
  {
   "cell_type": "code",
   "execution_count": 3,
   "metadata": {
    "colab": {
     "base_uri": "https://localhost:8080/",
     "height": 36
    },
    "executionInfo": {
     "elapsed": 13,
     "status": "ok",
     "timestamp": 1648385078627,
     "user": {
      "displayName": "UT MATLAB",
      "photoUrl": "https://lh3.googleusercontent.com/a/default-user=s64",
      "userId": "08553643746335249860"
     },
     "user_tz": -270
    },
    "id": "fZYaX736toSR",
    "outputId": "4a9777bd-312a-4a75-db72-851cd46f03f1"
   },
   "outputs": [
    {
     "data": {
      "text/plain": [
       "'orange'"
      ]
     },
     "execution_count": 3,
     "metadata": {},
     "output_type": "execute_result"
    }
   ],
   "source": [
    "x[1]"
   ]
  },
  {
   "cell_type": "markdown",
   "metadata": {
    "id": "xdl6HuLZtoST"
   },
   "source": [
    "Indexing can also be done in reverse order. That is the last element can be accessed first. Here, indexing starts from -1. Thus index value -1 will be orange and index -2 will be apple."
   ]
  },
  {
   "cell_type": "code",
   "execution_count": 4,
   "metadata": {
    "colab": {
     "base_uri": "https://localhost:8080/"
    },
    "executionInfo": {
     "elapsed": 347,
     "status": "ok",
     "timestamp": 1648385207271,
     "user": {
      "displayName": "UT MATLAB",
      "photoUrl": "https://lh3.googleusercontent.com/a/default-user=s64",
      "userId": "08553643746335249860"
     },
     "user_tz": -270
    },
    "id": "-trTWjeKtoSU",
    "outputId": "911575cb-d471-495b-fbb4-4cc6371186bb"
   },
   "outputs": [
    {
     "name": "stdout",
     "output_type": "stream",
     "text": [
      "apple apple orange orange\n"
     ]
    }
   ],
   "source": [
    "print(x[0],x[-2],x[1],x[-1])"
   ]
  },
  {
   "cell_type": "markdown",
   "metadata": {
    "id": "0KSkGEkutoSX"
   },
   "source": [
    "As you might have already guessed, x[0] = x[-2], x[1] = x[-1]. This concept can be extended towards lists with more many elements."
   ]
  },
  {
   "cell_type": "code",
   "execution_count": 5,
   "metadata": {
    "colab": {
     "base_uri": "https://localhost:8080/",
     "height": 36
    },
    "executionInfo": {
     "elapsed": 365,
     "status": "ok",
     "timestamp": 1648385303042,
     "user": {
      "displayName": "UT MATLAB",
      "photoUrl": "https://lh3.googleusercontent.com/a/default-user=s64",
      "userId": "08553643746335249860"
     },
     "user_tz": -270
    },
    "id": "ETj3ogXntoSY",
    "outputId": "122658ac-d10e-44b2-af1c-45ff7d2fe8e4"
   },
   "outputs": [
    {
     "data": {
      "text/plain": [
       "'potato'"
      ]
     },
     "execution_count": 5,
     "metadata": {},
     "output_type": "execute_result"
    }
   ],
   "source": [
    "y = ['carrot','potato']\n",
    "y[-1]"
   ]
  },
  {
   "cell_type": "markdown",
   "metadata": {
    "id": "1SSoFCe9toSZ"
   },
   "source": [
    "Here we have declared two lists x and y each containing its own data. Now, these two lists can again be put into another list say z which will have it's data as two lists. This list inside a list is called as nested lists and is how an array would be declared which we will see later."
   ]
  },
  {
   "cell_type": "code",
   "execution_count": 7,
   "metadata": {
    "colab": {
     "base_uri": "https://localhost:8080/"
    },
    "executionInfo": {
     "elapsed": 360,
     "status": "ok",
     "timestamp": 1648385479572,
     "user": {
      "displayName": "UT MATLAB",
      "photoUrl": "https://lh3.googleusercontent.com/a/default-user=s64",
      "userId": "08553643746335249860"
     },
     "user_tz": -270
    },
    "id": "d_rIKrhRtoSa",
    "outputId": "cd50d173-0d8b-4e26-d5da-a075cc8a5f32"
   },
   "outputs": [
    {
     "name": "stdout",
     "output_type": "stream",
     "text": [
      "[['apple', 'orange'], ['carrot', 'potato']]\n",
      "[['apple', 'orange'], [4, 5, 9, 1], ['carrot', 'potato'], ['Kivi', 'Sabzi', 'Mouz']]\n"
     ]
    }
   ],
   "source": [
    "z  = [x,y]\n",
    "print(z)\n",
    "s = ['Kivi','Sabzi','Mouz']\n",
    "t = [4,5,9,1]\n",
    "z = [x,t,y,s]\n",
    "\n",
    "print(z)"
   ]
  },
  {
   "cell_type": "markdown",
   "metadata": {
    "id": "2Xh0lIojtoSg"
   },
   "source": [
    "Indexing in nested lists can be quite confusing if you do not understand how indexing works in python. So let us break it down and then arrive at a conclusion.\n",
    "\n",
    "Let us access the data 'apple' in the above nested list.\n",
    "First, at index 0 there is a list ['apple','orange'] and at index 1 there is another list ['carrot','potato']. Hence z[0] should give us the first list which contains 'apple'."
   ]
  },
  {
   "cell_type": "code",
   "execution_count": 8,
   "metadata": {
    "colab": {
     "base_uri": "https://localhost:8080/"
    },
    "executionInfo": {
     "elapsed": 392,
     "status": "ok",
     "timestamp": 1648385568573,
     "user": {
      "displayName": "UT MATLAB",
      "photoUrl": "https://lh3.googleusercontent.com/a/default-user=s64",
      "userId": "08553643746335249860"
     },
     "user_tz": -270
    },
    "id": "o8OjQO0jtoSi",
    "outputId": "a19feb71-2fa1-4cf5-f475-5eb13a43eb01"
   },
   "outputs": [
    {
     "name": "stdout",
     "output_type": "stream",
     "text": [
      "['apple', 'orange']\n"
     ]
    }
   ],
   "source": [
    "z1 = z[0]\n",
    "print(z1)"
   ]
  },
  {
   "cell_type": "markdown",
   "metadata": {
    "id": "lRzmO0G_toSk"
   },
   "source": [
    "Now observe that z1 is not at all a nested list thus to access 'apple', z1 should be indexed at 0."
   ]
  },
  {
   "cell_type": "code",
   "execution_count": 17,
   "metadata": {
    "colab": {
     "base_uri": "https://localhost:8080/",
     "height": 36
    },
    "executionInfo": {
     "elapsed": 379,
     "status": "ok",
     "timestamp": 1648385582664,
     "user": {
      "displayName": "UT MATLAB",
      "photoUrl": "https://lh3.googleusercontent.com/a/default-user=s64",
      "userId": "08553643746335249860"
     },
     "user_tz": -270
    },
    "id": "FqLYIPaOtoSl",
    "outputId": "18746bea-8b98-4c30-e132-3941704829b7"
   },
   "outputs": [
    {
     "name": "stdout",
     "output_type": "stream",
     "text": [
      "apple\n",
      "potato\n"
     ]
    }
   ],
   "source": [
    "z1[0]\n",
    "print(z[0][0])\n",
    "print(z[2][1])"
   ]
  },
  {
   "cell_type": "markdown",
   "metadata": {
    "id": "L5-1nu-OtoSm"
   },
   "source": [
    "Instead of doing the above, In python, you can access 'apple' by just writing the index values each time side by side."
   ]
  },
  {
   "cell_type": "code",
   "execution_count": 9,
   "metadata": {
    "colab": {
     "base_uri": "https://localhost:8080/"
    },
    "executionInfo": {
     "elapsed": 380,
     "status": "ok",
     "timestamp": 1648385692575,
     "user": {
      "displayName": "UT MATLAB",
      "photoUrl": "https://lh3.googleusercontent.com/a/default-user=s64",
      "userId": "08553643746335249860"
     },
     "user_tz": -270
    },
    "id": "G1F_u-kctoSp",
    "outputId": "5c01ef47-449e-402d-8762-295bbf1479a1"
   },
   "outputs": [
    {
     "name": "stdout",
     "output_type": "stream",
     "text": [
      "orange 1 Mouz\n"
     ]
    }
   ],
   "source": [
    "print(z[0][1],z[1][3],z[3][2])"
   ]
  },
  {
   "cell_type": "code",
   "execution_count": 11,
   "metadata": {},
   "outputs": [],
   "source": [
    "z[2].append('Karafs')"
   ]
  },
  {
   "cell_type": "code",
   "execution_count": 13,
   "metadata": {},
   "outputs": [
    {
     "name": "stdout",
     "output_type": "stream",
     "text": [
      "[['apple', 'orange'], [4, 5, 'jamal', 1], ['carrot', 'potato', 'Karafs'], ['Kivi', 'Sabzi', 'Mouz']]\n"
     ]
    }
   ],
   "source": [
    "z[1][2] = 'jamal'\n",
    "print(z)"
   ]
  },
  {
   "cell_type": "markdown",
   "metadata": {
    "id": "JFTRU7G6toSr"
   },
   "source": [
    "If there was a list inside a list inside a list then you can access the innermost value by executing z[ ][ ][ ]."
   ]
  },
  {
   "cell_type": "markdown",
   "metadata": {
    "id": "7AZgMrq8toSu"
   },
   "source": [
    "### Slicing"
   ]
  },
  {
   "cell_type": "markdown",
   "metadata": {
    "id": "Vp1coSKmtoSw"
   },
   "source": [
    "Indexing was only limited to accessing a single element, Slicing on the other hand is accessing a sequence of data inside the list. In other words \"slicing\" the list.\n",
    "\n",
    "Slicing is done by defining the index values of the first element and the last element from the parent list that is required in the sliced list. It is written as parentlist[ a : b ] where a,b are the index values from the parent list. If a or b is not defined then the index value is considered to be the first value for a if a is not defined and the last value for b when b is not defined."
   ]
  },
  {
   "cell_type": "code",
   "execution_count": 14,
   "metadata": {
    "colab": {
     "base_uri": "https://localhost:8080/"
    },
    "executionInfo": {
     "elapsed": 363,
     "status": "ok",
     "timestamp": 1648386378976,
     "user": {
      "displayName": "UT MATLAB",
      "photoUrl": "https://lh3.googleusercontent.com/a/default-user=s64",
      "userId": "08553643746335249860"
     },
     "user_tz": -270
    },
    "id": "kfUBmOBUtoSy",
    "outputId": "495161b4-987b-421d-9821-9ffa740a5178"
   },
   "outputs": [
    {
     "name": "stdout",
     "output_type": "stream",
     "text": [
      "<class 'list'>\n"
     ]
    }
   ],
   "source": [
    "num = [0,1,2,3,4,5,6,7,8,9]\n",
    "print(type(num))"
   ]
  },
  {
   "cell_type": "code",
   "execution_count": 15,
   "metadata": {
    "colab": {
     "base_uri": "https://localhost:8080/"
    },
    "executionInfo": {
     "elapsed": 808,
     "status": "ok",
     "timestamp": 1648385835945,
     "user": {
      "displayName": "UT MATLAB",
      "photoUrl": "https://lh3.googleusercontent.com/a/default-user=s64",
      "userId": "08553643746335249860"
     },
     "user_tz": -270
    },
    "id": "P16TkURdtoS0",
    "outputId": "f98396d3-7523-40d8-f974-3e39100e18e0"
   },
   "outputs": [
    {
     "name": "stdout",
     "output_type": "stream",
     "text": [
      "0\n",
      "[0, 1, 2, 3]\n",
      "[4, 5, 6, 7, 8, 9]\n"
     ]
    }
   ],
   "source": [
    "print(num[0])\n",
    "print(num[0:4])\n",
    "print(num[4:])"
   ]
  },
  {
   "cell_type": "markdown",
   "metadata": {
    "id": "1uWbH33ltoS2"
   },
   "source": [
    "You can also slice a parent list with a fixed length or step length."
   ]
  },
  {
   "cell_type": "code",
   "execution_count": 16,
   "metadata": {
    "colab": {
     "base_uri": "https://localhost:8080/"
    },
    "executionInfo": {
     "elapsed": 508,
     "status": "ok",
     "timestamp": 1648373645439,
     "user": {
      "displayName": "UT MATLAB",
      "photoUrl": "https://lh3.googleusercontent.com/a/default-user=s64",
      "userId": "08553643746335249860"
     },
     "user_tz": -270
    },
    "id": "l_nL2qSctoS4",
    "outputId": "0bbfdb8d-96d5-4b61-d971-ac900c3e1dd4"
   },
   "outputs": [
    {
     "data": {
      "text/plain": [
       "[0, 2, 4, 6, 8]"
      ]
     },
     "execution_count": 16,
     "metadata": {},
     "output_type": "execute_result"
    }
   ],
   "source": [
    "num[:9:2] #in MATLAB start:step:stop in Python start:stop:step"
   ]
  },
  {
   "cell_type": "markdown",
   "metadata": {
    "id": "oCoI33hOtoS5"
   },
   "source": [
    "### Built in List Functions"
   ]
  },
  {
   "cell_type": "markdown",
   "metadata": {
    "id": "NUX1VJ_otoS6"
   },
   "source": [
    "To find the length of the list or the number of elements in a list, **len( )** is used."
   ]
  },
  {
   "cell_type": "code",
   "execution_count": 17,
   "metadata": {
    "colab": {
     "base_uri": "https://localhost:8080/"
    },
    "executionInfo": {
     "elapsed": 366,
     "status": "ok",
     "timestamp": 1648385955977,
     "user": {
      "displayName": "UT MATLAB",
      "photoUrl": "https://lh3.googleusercontent.com/a/default-user=s64",
      "userId": "08553643746335249860"
     },
     "user_tz": -270
    },
    "id": "zw_DZgsQtoS7",
    "outputId": "fd6d41f3-e304-48f2-853e-1a9170a65eb3"
   },
   "outputs": [
    {
     "data": {
      "text/plain": [
       "10"
      ]
     },
     "execution_count": 17,
     "metadata": {},
     "output_type": "execute_result"
    }
   ],
   "source": [
    "len(num)"
   ]
  },
  {
   "cell_type": "markdown",
   "metadata": {
    "id": "LLKUIxHktoS8"
   },
   "source": [
    "If the list consists of all integer elements then **min( )** and **max( )** gives the minimum and maximum value in the list."
   ]
  },
  {
   "cell_type": "code",
   "execution_count": null,
   "metadata": {
    "colab": {
     "base_uri": "https://localhost:8080/"
    },
    "executionInfo": {
     "elapsed": 347,
     "status": "ok",
     "timestamp": 1648385971713,
     "user": {
      "displayName": "UT MATLAB",
      "photoUrl": "https://lh3.googleusercontent.com/a/default-user=s64",
      "userId": "08553643746335249860"
     },
     "user_tz": -270
    },
    "id": "DY3v8dk5toS_",
    "outputId": "62ebbaaf-dbc5-4bc4-9b4d-f8b5afef1c63"
   },
   "outputs": [
    {
     "data": {
      "text/plain": [
       "0"
      ]
     },
     "execution_count": 144,
     "metadata": {},
     "output_type": "execute_result"
    }
   ],
   "source": [
    "min(num)"
   ]
  },
  {
   "cell_type": "code",
   "execution_count": null,
   "metadata": {
    "colab": {
     "base_uri": "https://localhost:8080/"
    },
    "executionInfo": {
     "elapsed": 344,
     "status": "ok",
     "timestamp": 1648385975234,
     "user": {
      "displayName": "UT MATLAB",
      "photoUrl": "https://lh3.googleusercontent.com/a/default-user=s64",
      "userId": "08553643746335249860"
     },
     "user_tz": -270
    },
    "id": "LhfVkwr5toTB",
    "outputId": "b7f019cd-d81b-4fd5-83a5-038fae1c9fcb"
   },
   "outputs": [
    {
     "data": {
      "text/plain": [
       "9"
      ]
     },
     "execution_count": 145,
     "metadata": {},
     "output_type": "execute_result"
    }
   ],
   "source": [
    "max(num)"
   ]
  },
  {
   "cell_type": "markdown",
   "metadata": {
    "id": "VGwtxnb5toTC"
   },
   "source": [
    "Lists can be concatenated by adding, '+' them. The resultant list will contain all the elements of the lists that were added. The resultant list will not be a nested list."
   ]
  },
  {
   "cell_type": "code",
   "execution_count": 18,
   "metadata": {
    "colab": {
     "base_uri": "https://localhost:8080/"
    },
    "executionInfo": {
     "elapsed": 323,
     "status": "ok",
     "timestamp": 1648386043899,
     "user": {
      "displayName": "UT MATLAB",
      "photoUrl": "https://lh3.googleusercontent.com/a/default-user=s64",
      "userId": "08553643746335249860"
     },
     "user_tz": -270
    },
    "id": "rTqc6F9ytoTD",
    "outputId": "ae8c0795-5599-44f2-fc4c-f5c5208d3ae4"
   },
   "outputs": [
    {
     "data": {
      "text/plain": [
       "[1, 2, 3, 5, 4, 1]"
      ]
     },
     "execution_count": 18,
     "metadata": {},
     "output_type": "execute_result"
    }
   ],
   "source": [
    "[1,2,3] + [5,4,1] #یک لیست با اعضای هر دو زیر لیست تشکیل می شود."
   ]
  },
  {
   "cell_type": "markdown",
   "metadata": {
    "id": "9ifrTyELtoTE"
   },
   "source": [
    "There might arise a requirement where you might need to check if a particular element is there in a predefined list. Consider the below list."
   ]
  },
  {
   "cell_type": "code",
   "execution_count": 19,
   "metadata": {
    "id": "IeZmpvnotoTF"
   },
   "outputs": [
    {
     "name": "stdout",
     "output_type": "stream",
     "text": [
      "['Earth', 'Air', 'Fire', 'Water', 1, 2, 3]\n"
     ]
    }
   ],
   "source": [
    "names = ['Earth','Air','Fire','Water']\n",
    "print(names + [1,2,3])"
   ]
  },
  {
   "cell_type": "markdown",
   "metadata": {
    "id": "hP9r2mJjtoTF"
   },
   "source": [
    "To check if 'Fire' and 'Rajath' is present in the list names. A conventional approach would be to use a for loop and iterate over the list and use the if condition. But in python you can use 'a in b' concept which would return 'True' if a is present in b and 'False' if not."
   ]
  },
  {
   "cell_type": "code",
   "execution_count": 30,
   "metadata": {
    "colab": {
     "base_uri": "https://localhost:8080/"
    },
    "executionInfo": {
     "elapsed": 380,
     "status": "ok",
     "timestamp": 1648386059948,
     "user": {
      "displayName": "UT MATLAB",
      "photoUrl": "https://lh3.googleusercontent.com/a/default-user=s64",
      "userId": "08553643746335249860"
     },
     "user_tz": -270
    },
    "id": "8PlkfrKTtoTG",
    "outputId": "39817a3d-66c1-4212-8a12-406ab7055cf2"
   },
   "outputs": [
    {
     "data": {
      "text/plain": [
       "True"
      ]
     },
     "execution_count": 30,
     "metadata": {},
     "output_type": "execute_result"
    }
   ],
   "source": [
    "\"Fire\" in names"
   ]
  },
  {
   "cell_type": "code",
   "execution_count": 31,
   "metadata": {
    "colab": {
     "base_uri": "https://localhost:8080/"
    },
    "executionInfo": {
     "elapsed": 351,
     "status": "ok",
     "timestamp": 1648386077384,
     "user": {
      "displayName": "UT MATLAB",
      "photoUrl": "https://lh3.googleusercontent.com/a/default-user=s64",
      "userId": "08553643746335249860"
     },
     "user_tz": -270
    },
    "id": "3ywNtOzitoTH",
    "outputId": "44d219be-ce38-429e-a63e-6a72c5354808"
   },
   "outputs": [
    {
     "data": {
      "text/plain": [
       "False"
      ]
     },
     "execution_count": 31,
     "metadata": {},
     "output_type": "execute_result"
    }
   ],
   "source": [
    "'University' in names"
   ]
  },
  {
   "cell_type": "markdown",
   "metadata": {
    "id": "tUWBGWeotoTI"
   },
   "source": [
    "In a list with elements as string, **max( )** and **min( )** is applicable. **max( )** would return a string element whose ASCII value is the highest and the lowest when **min( )** is used. Note that only the first index of each element is considered each time and if they value is the same then second index considered so on and so forth."
   ]
  },
  {
   "cell_type": "code",
   "execution_count": 20,
   "metadata": {
    "id": "qBxvJsrUtoTK"
   },
   "outputs": [],
   "source": [
    "mlist = ['bzaa','ds','nc','az','z','klm']"
   ]
  },
  {
   "cell_type": "code",
   "execution_count": 21,
   "metadata": {
    "colab": {
     "base_uri": "https://localhost:8080/"
    },
    "executionInfo": {
     "elapsed": 451,
     "status": "ok",
     "timestamp": 1648386104815,
     "user": {
      "displayName": "UT MATLAB",
      "photoUrl": "https://lh3.googleusercontent.com/a/default-user=s64",
      "userId": "08553643746335249860"
     },
     "user_tz": -270
    },
    "id": "y2Gm8JSStoTM",
    "outputId": "95fa4a64-a023-478d-b451-a3f21c80b43b"
   },
   "outputs": [
    {
     "name": "stdout",
     "output_type": "stream",
     "text": [
      "z\n",
      "az\n"
     ]
    }
   ],
   "source": [
    "print(max(mlist))\n",
    "print(min(mlist))"
   ]
  },
  {
   "cell_type": "markdown",
   "metadata": {
    "id": "JpzfamGEtoTO"
   },
   "source": [
    "Here the first index of each element is considered and thus z has the highest ASCII value thus it is returned and minimum ASCII is a. But what if numbers are declared as strings?"
   ]
  },
  {
   "cell_type": "code",
   "execution_count": 22,
   "metadata": {
    "id": "WDJjGgD8toTP"
   },
   "outputs": [],
   "source": [
    "nlist = ['1','94','93','1000']"
   ]
  },
  {
   "cell_type": "code",
   "execution_count": 38,
   "metadata": {
    "colab": {
     "base_uri": "https://localhost:8080/"
    },
    "executionInfo": {
     "elapsed": 344,
     "status": "ok",
     "timestamp": 1648386134517,
     "user": {
      "displayName": "UT MATLAB",
      "photoUrl": "https://lh3.googleusercontent.com/a/default-user=s64",
      "userId": "08553643746335249860"
     },
     "user_tz": -270
    },
    "id": "y_KOANFPtoTQ",
    "outputId": "4159ad0c-c91c-423e-97ea-d80df2f7a3c9"
   },
   "outputs": [
    {
     "name": "stdout",
     "output_type": "stream",
     "text": [
      "94\n",
      "1\n"
     ]
    },
    {
     "data": {
      "text/plain": [
       "93"
      ]
     },
     "execution_count": 38,
     "metadata": {},
     "output_type": "execute_result"
    }
   ],
   "source": [
    "print(max(nlist))\n",
    "print(min(nlist))\n",
    "int(nlist[2])"
   ]
  },
  {
   "cell_type": "markdown",
   "metadata": {
    "id": "k-fb7gcftoTS"
   },
   "source": [
    "Even if the numbers are declared in a string the first index of each element is considered and the maximum and minimum values are returned accordingly."
   ]
  },
  {
   "cell_type": "markdown",
   "metadata": {
    "id": "8zJZ1yzutoTU"
   },
   "source": [
    "But if you want to find the **max( )** string element based on the length of the string then another parameter 'key=len' is declared inside the **max( )** and **min( )** function."
   ]
  },
  {
   "cell_type": "code",
   "execution_count": null,
   "metadata": {
    "colab": {
     "base_uri": "https://localhost:8080/"
    },
    "executionInfo": {
     "elapsed": 341,
     "status": "ok",
     "timestamp": 1648386441832,
     "user": {
      "displayName": "UT MATLAB",
      "photoUrl": "https://lh3.googleusercontent.com/a/default-user=s64",
      "userId": "08553643746335249860"
     },
     "user_tz": -270
    },
    "id": "ooGmCBXjtoTU",
    "outputId": "19552a90-f0b1-4269-f621-8a53c736c865"
   },
   "outputs": [
    {
     "name": "stdout",
     "output_type": "stream",
     "text": [
      "Earth\n",
      "Air\n"
     ]
    }
   ],
   "source": [
    "print(max(names, key=len))\n",
    "print(min(names, key=len))"
   ]
  },
  {
   "cell_type": "markdown",
   "metadata": {
    "id": "hHIsA4ExtoTW"
   },
   "source": [
    "But even 'Water' has length 5. **max()** or **min()** function returns the first element when there are two or more elements with the same length.\n",
    "\n",
    "Any other built in function can be used or lambda function (will be discussed later) in place of len.\n",
    "\n",
    "A string can be converted into a list by using the **list()** function."
   ]
  },
  {
   "cell_type": "markdown",
   "metadata": {
    "id": "jc8nngLOtoTX"
   },
   "source": [
    "**append( )** is used to add a element at the end of the list."
   ]
  },
  {
   "cell_type": "code",
   "execution_count": 36,
   "metadata": {
    "id": "j1kdionCtoTY"
   },
   "outputs": [],
   "source": [
    "lst = [1,1,4,8,7]"
   ]
  },
  {
   "cell_type": "code",
   "execution_count": 37,
   "metadata": {
    "colab": {
     "base_uri": "https://localhost:8080/"
    },
    "executionInfo": {
     "elapsed": 394,
     "status": "ok",
     "timestamp": 1648386799319,
     "user": {
      "displayName": "UT MATLAB",
      "photoUrl": "https://lh3.googleusercontent.com/a/default-user=s64",
      "userId": "08553643746335249860"
     },
     "user_tz": -270
    },
    "id": "cccNvqLttoTZ",
    "outputId": "61a38f29-620e-46a8-8cd9-665d7a8e3db8"
   },
   "outputs": [
    {
     "name": "stdout",
     "output_type": "stream",
     "text": [
      "[1, 1, 4, 8, 7, 4]\n"
     ]
    }
   ],
   "source": [
    "lst.append(4)\n",
    "print(lst)"
   ]
  },
  {
   "cell_type": "markdown",
   "metadata": {
    "id": "F7-q1gdOtoTc"
   },
   "source": [
    "**count( )** is used to count the number of a particular element that is present in the list. "
   ]
  },
  {
   "cell_type": "code",
   "execution_count": 33,
   "metadata": {
    "colab": {
     "base_uri": "https://localhost:8080/"
    },
    "executionInfo": {
     "elapsed": 435,
     "status": "ok",
     "timestamp": 1648386784787,
     "user": {
      "displayName": "UT MATLAB",
      "photoUrl": "https://lh3.googleusercontent.com/a/default-user=s64",
      "userId": "08553643746335249860"
     },
     "user_tz": -270
    },
    "id": "_D_v6F8ytoTe",
    "outputId": "b6aa0929-6d5c-438f-d08c-71660946b212"
   },
   "outputs": [
    {
     "data": {
      "text/plain": [
       "5"
      ]
     },
     "execution_count": 33,
     "metadata": {},
     "output_type": "execute_result"
    }
   ],
   "source": [
    "lst.count(4)"
   ]
  },
  {
   "cell_type": "markdown",
   "metadata": {
    "id": "pwHEfKY6toTf"
   },
   "source": [
    "**append( )** function can also be used to add a entire list at the end. Observe that the resultant list becomes a nested list."
   ]
  },
  {
   "cell_type": "code",
   "execution_count": 34,
   "metadata": {
    "id": "38--MCgPtoTg"
   },
   "outputs": [],
   "source": [
    "lst1 = [5,4,2,8]"
   ]
  },
  {
   "cell_type": "code",
   "execution_count": 38,
   "metadata": {
    "colab": {
     "base_uri": "https://localhost:8080/"
    },
    "executionInfo": {
     "elapsed": 335,
     "status": "ok",
     "timestamp": 1648386851867,
     "user": {
      "displayName": "UT MATLAB",
      "photoUrl": "https://lh3.googleusercontent.com/a/default-user=s64",
      "userId": "08553643746335249860"
     },
     "user_tz": -270
    },
    "id": "4R95a21ztoTh",
    "outputId": "e1a0f8ce-dd84-4c68-8b85-dc646e7a77b9"
   },
   "outputs": [
    {
     "name": "stdout",
     "output_type": "stream",
     "text": [
      "[1, 1, 4, 8, 7, 4, [5, 4, 2, 8]]\n"
     ]
    },
    {
     "data": {
      "text/plain": [
       "[5, 4, 2, 8]"
      ]
     },
     "execution_count": 38,
     "metadata": {},
     "output_type": "execute_result"
    }
   ],
   "source": [
    "lst.append(lst1)\n",
    "print(lst)\n",
    "lst[6]"
   ]
  },
  {
   "cell_type": "markdown",
   "metadata": {
    "id": "Gr0YdEDKtoTi"
   },
   "source": [
    "But if nested list is not what is desired then **extend( )** function can be used."
   ]
  },
  {
   "cell_type": "code",
   "execution_count": 39,
   "metadata": {
    "colab": {
     "base_uri": "https://localhost:8080/"
    },
    "executionInfo": {
     "elapsed": 414,
     "status": "ok",
     "timestamp": 1648387278230,
     "user": {
      "displayName": "UT MATLAB",
      "photoUrl": "https://lh3.googleusercontent.com/a/default-user=s64",
      "userId": "08553643746335249860"
     },
     "user_tz": -270
    },
    "id": "dBF9pTB9toTi",
    "outputId": "25b4c4cf-5224-4525-dae2-68b64aa5092a"
   },
   "outputs": [
    {
     "name": "stdout",
     "output_type": "stream",
     "text": [
      "[1, 1, 4, 8, 7, 4, [5, 4, 2, 8], 5, 4, 2, 8]\n"
     ]
    }
   ],
   "source": [
    "lst.extend(lst1)\n",
    "print(lst)"
   ]
  },
  {
   "cell_type": "markdown",
   "metadata": {
    "id": "nL9XgT6QtoTj"
   },
   "source": [
    "**index( )** is used to find the index value of a particular element. Note that if there are multiple elements of the same value then the first index value of that element is returned."
   ]
  },
  {
   "cell_type": "code",
   "execution_count": 41,
   "metadata": {
    "colab": {
     "base_uri": "https://localhost:8080/"
    },
    "executionInfo": {
     "elapsed": 383,
     "status": "ok",
     "timestamp": 1648387028069,
     "user": {
      "displayName": "UT MATLAB",
      "photoUrl": "https://lh3.googleusercontent.com/a/default-user=s64",
      "userId": "08553643746335249860"
     },
     "user_tz": -270
    },
    "id": "0bWuKYv1toTk",
    "outputId": "878fa553-56b0-437b-ca25-04bb5f918a24"
   },
   "outputs": [
    {
     "name": "stdout",
     "output_type": "stream",
     "text": [
      "[9, 1, 4, 8, 7, 4, [5, 4, 2, 8], 5, 4, 2, 8]\n"
     ]
    },
    {
     "data": {
      "text/plain": [
       "1"
      ]
     },
     "execution_count": 41,
     "metadata": {},
     "output_type": "execute_result"
    }
   ],
   "source": [
    "lst[0] = 9\n",
    "print(lst)\n",
    "lst.index(1)"
   ]
  },
  {
   "cell_type": "markdown",
   "metadata": {
    "id": "Xn6lT_4btoTl"
   },
   "source": [
    "**insert(x,y)** is used to insert a element y at a specified index value x. **append( )** function made it only possible to insert at the end. "
   ]
  },
  {
   "cell_type": "code",
   "execution_count": 42,
   "metadata": {
    "colab": {
     "base_uri": "https://localhost:8080/"
    },
    "executionInfo": {
     "elapsed": 385,
     "status": "ok",
     "timestamp": 1648387101893,
     "user": {
      "displayName": "UT MATLAB",
      "photoUrl": "https://lh3.googleusercontent.com/a/default-user=s64",
      "userId": "08553643746335249860"
     },
     "user_tz": -270
    },
    "id": "gQCPJ5jdtoTm",
    "outputId": "2690587a-bf6e-4a9f-b3c9-1dad3d6fa51d"
   },
   "outputs": [
    {
     "name": "stdout",
     "output_type": "stream",
     "text": [
      "[9, 1, 4, 8, 7, 'name', 4, [5, 4, 2, 8], 5, 4, 2, 8]\n"
     ]
    }
   ],
   "source": [
    "lst.insert(5, 'name')\n",
    "print(lst)"
   ]
  },
  {
   "cell_type": "markdown",
   "metadata": {
    "id": "axfr0cUetoTm"
   },
   "source": [
    "**insert(x,y)** inserts but does not replace element. If you want to replace the element with another element you simply assign the value to that particular index."
   ]
  },
  {
   "cell_type": "code",
   "execution_count": 43,
   "metadata": {
    "colab": {
     "base_uri": "https://localhost:8080/"
    },
    "executionInfo": {
     "elapsed": 375,
     "status": "ok",
     "timestamp": 1648387125548,
     "user": {
      "displayName": "UT MATLAB",
      "photoUrl": "https://lh3.googleusercontent.com/a/default-user=s64",
      "userId": "08553643746335249860"
     },
     "user_tz": -270
    },
    "id": "wxRnjIiYtoTn",
    "outputId": "20b44f4e-8351-4d86-c11c-98d1443d05d2"
   },
   "outputs": [
    {
     "name": "stdout",
     "output_type": "stream",
     "text": [
      "[9, 1, 4, 8, 7, 'Python', 4, [5, 4, 2, 8], 5, 4, 2, 8]\n"
     ]
    }
   ],
   "source": [
    "lst[5] = 'Python'\n",
    "print(lst)"
   ]
  },
  {
   "cell_type": "code",
   "execution_count": 44,
   "metadata": {},
   "outputs": [
    {
     "ename": "TypeError",
     "evalue": "'str' object does not support item assignment",
     "output_type": "error",
     "traceback": [
      "\u001b[1;31m---------------------------------------------------------------------------\u001b[0m",
      "\u001b[1;31mTypeError\u001b[0m                                 Traceback (most recent call last)",
      "\u001b[1;32m~\\AppData\\Local\\Temp/ipykernel_12456/757259701.py\u001b[0m in \u001b[0;36m<module>\u001b[1;34m\u001b[0m\n\u001b[0;32m      1\u001b[0m \u001b[0mstr1\u001b[0m \u001b[1;33m=\u001b[0m \u001b[1;34m'jamal'\u001b[0m\u001b[1;33m\u001b[0m\u001b[1;33m\u001b[0m\u001b[0m\n\u001b[1;32m----> 2\u001b[1;33m \u001b[0mstr1\u001b[0m\u001b[1;33m[\u001b[0m\u001b[1;36m2\u001b[0m\u001b[1;33m]\u001b[0m \u001b[1;33m=\u001b[0m \u001b[1;34m'k'\u001b[0m\u001b[1;33m\u001b[0m\u001b[1;33m\u001b[0m\u001b[0m\n\u001b[0m\u001b[0;32m      3\u001b[0m \u001b[0mprint\u001b[0m\u001b[1;33m(\u001b[0m\u001b[0mstr1\u001b[0m\u001b[1;33m)\u001b[0m\u001b[1;33m\u001b[0m\u001b[1;33m\u001b[0m\u001b[0m\n",
      "\u001b[1;31mTypeError\u001b[0m: 'str' object does not support item assignment"
     ]
    }
   ],
   "source": [
    "str1 = 'jamal'\n",
    "str1[2] = 'k'\n",
    "print(str1)"
   ]
  },
  {
   "cell_type": "markdown",
   "metadata": {
    "id": "1pCyzHfTtoTo"
   },
   "source": [
    "**pop( )** function return the last element in the list. This is similar to the operation of a stack. Hence it wouldn't be wrong to tell that lists can be used as a stack."
   ]
  },
  {
   "cell_type": "code",
   "execution_count": 45,
   "metadata": {
    "colab": {
     "base_uri": "https://localhost:8080/"
    },
    "executionInfo": {
     "elapsed": 377,
     "status": "ok",
     "timestamp": 1648387190346,
     "user": {
      "displayName": "UT MATLAB",
      "photoUrl": "https://lh3.googleusercontent.com/a/default-user=s64",
      "userId": "08553643746335249860"
     },
     "user_tz": -270
    },
    "id": "7q1QWVc5toTo",
    "outputId": "65a7d4dc-0e67-47ea-c349-6cc15056f94c"
   },
   "outputs": [
    {
     "name": "stdout",
     "output_type": "stream",
     "text": [
      "[9, 1, 4, 8, 7, 'Python', 4, [5, 4, 2, 8], 5, 4, 2, 8]\n",
      "8\n",
      "[9, 1, 4, 8, 7, 'Python', 4, [5, 4, 2, 8], 5, 4, 2]\n"
     ]
    }
   ],
   "source": [
    "print(lst)\n",
    "print(lst.pop())\n",
    "print(lst)"
   ]
  },
  {
   "cell_type": "markdown",
   "metadata": {
    "id": "NsN8sTyqtoTp"
   },
   "source": [
    "Index value can be specified to pop a ceratin element corresponding to that index value."
   ]
  },
  {
   "cell_type": "code",
   "execution_count": null,
   "metadata": {
    "colab": {
     "base_uri": "https://localhost:8080/"
    },
    "executionInfo": {
     "elapsed": 593,
     "status": "ok",
     "timestamp": 1648374133401,
     "user": {
      "displayName": "UT MATLAB",
      "photoUrl": "https://lh3.googleusercontent.com/a/default-user=s64",
      "userId": "08553643746335249860"
     },
     "user_tz": -270
    },
    "id": "qI_HDvgTtoTq",
    "outputId": "68dd0f95-fa40-49b2-8803-dbeebbe4ada8"
   },
   "outputs": [
    {
     "data": {
      "text/plain": [
       "1"
      ]
     },
     "execution_count": 59,
     "metadata": {},
     "output_type": "execute_result"
    }
   ],
   "source": [
    "lst.pop(0)"
   ]
  },
  {
   "cell_type": "markdown",
   "metadata": {
    "id": "2i4B0KeFtoTr"
   },
   "source": [
    "**pop( )** is used to remove element based on it's index value which can be assigned to a variable. One can also remove element by specifying the element itself using the **remove( )** function."
   ]
  },
  {
   "cell_type": "code",
   "execution_count": 47,
   "metadata": {
    "colab": {
     "base_uri": "https://localhost:8080/"
    },
    "executionInfo": {
     "elapsed": 361,
     "status": "ok",
     "timestamp": 1648387284036,
     "user": {
      "displayName": "UT MATLAB",
      "photoUrl": "https://lh3.googleusercontent.com/a/default-user=s64",
      "userId": "08553643746335249860"
     },
     "user_tz": -270
    },
    "id": "pyC46A3_toTs",
    "outputId": "bc8091ae-6f98-4db3-d02a-73461b2cf3fa"
   },
   "outputs": [
    {
     "name": "stdout",
     "output_type": "stream",
     "text": [
      "[9, 1, 8, 7, 'Python', 4, [5, 4, 2, 8], 5, 4, 2]\n",
      "[9, 1, 8, 7, 'Python', [5, 4, 2, 8], 5, 4, 2]\n"
     ]
    }
   ],
   "source": [
    "print(lst)\n",
    "lst.remove(4)\n",
    "print(lst)"
   ]
  },
  {
   "cell_type": "markdown",
   "metadata": {
    "id": "ej_lXoBJtoTt"
   },
   "source": [
    "Alternative to **remove** function but with using index value is **del**"
   ]
  },
  {
   "cell_type": "code",
   "execution_count": 49,
   "metadata": {
    "colab": {
     "base_uri": "https://localhost:8080/"
    },
    "executionInfo": {
     "elapsed": 632,
     "status": "ok",
     "timestamp": 1648374219722,
     "user": {
      "displayName": "UT MATLAB",
      "photoUrl": "https://lh3.googleusercontent.com/a/default-user=s64",
      "userId": "08553643746335249860"
     },
     "user_tz": -270
    },
    "id": "c8w8nH4ptoTu",
    "outputId": "8ad58451-0846-4195-b47c-417d6eed939a"
   },
   "outputs": [
    {
     "name": "stdout",
     "output_type": "stream",
     "text": [
      "[9, 1, 8, 7, 'Python', [5, 4, 2, 8], 5, 4, 2]\n",
      "[9, 1, 8, 7, 'Python', 5, 4, 2]\n"
     ]
    }
   ],
   "source": [
    "print(lst)\n",
    "del lst[5]\n",
    "print(lst)"
   ]
  },
  {
   "cell_type": "markdown",
   "metadata": {
    "id": "xo3A_UUEtoTw"
   },
   "source": [
    "The entire elements present in the list can be reversed by using the **reverse()** function."
   ]
  },
  {
   "cell_type": "code",
   "execution_count": 50,
   "metadata": {
    "colab": {
     "base_uri": "https://localhost:8080/"
    },
    "executionInfo": {
     "elapsed": 354,
     "status": "ok",
     "timestamp": 1648387311156,
     "user": {
      "displayName": "UT MATLAB",
      "photoUrl": "https://lh3.googleusercontent.com/a/default-user=s64",
      "userId": "08553643746335249860"
     },
     "user_tz": -270
    },
    "id": "mNhMR2a2toTx",
    "outputId": "bd762d2c-f7d6-4036-f681-dc6a14523fcd"
   },
   "outputs": [
    {
     "name": "stdout",
     "output_type": "stream",
     "text": [
      "[9, 1, 8, 7, 'Python', 5, 4, 2]\n",
      "[2, 4, 5, 'Python', 7, 8, 1, 9]\n"
     ]
    }
   ],
   "source": [
    "print(lst)\n",
    "lst.reverse()\n",
    "print(lst)"
   ]
  },
  {
   "cell_type": "code",
   "execution_count": 53,
   "metadata": {
    "colab": {
     "base_uri": "https://localhost:8080/"
    },
    "executionInfo": {
     "elapsed": 5509,
     "status": "ok",
     "timestamp": 1648387358692,
     "user": {
      "displayName": "UT MATLAB",
      "photoUrl": "https://lh3.googleusercontent.com/a/default-user=s64",
      "userId": "08553643746335249860"
     },
     "user_tz": -270
    },
    "id": "oL3qN15cwtFj",
    "outputId": "912c728f-18ad-47c0-9c09-7a046d07bf75"
   },
   "outputs": [
    {
     "name": "stdout",
     "output_type": "stream",
     "text": [
      "please enter a number:\n",
      "54564\n",
      "['4', '6', '5', '4', '5']\n"
     ]
    },
    {
     "data": {
      "text/plain": [
       "'4654'"
      ]
     },
     "execution_count": 53,
     "metadata": {},
     "output_type": "execute_result"
    }
   ],
   "source": [
    "x = list(input('please enter a number:\\n'))\n",
    "x.reverse()\n",
    "print(str(x))\n",
    "x[0]+x[1]+x[2]+x[3]"
   ]
  },
  {
   "cell_type": "markdown",
   "metadata": {
    "id": "lEaS4P3qtoTy"
   },
   "source": [
    "Note that the nested list [5,4,2,8] is treated as a single element of the parent list lst. Thus the elements inside the nested list is not reversed.\n",
    "\n",
    "Python offers built in operation **sort( )** to arrange the elements in ascending order."
   ]
  },
  {
   "cell_type": "code",
   "execution_count": 54,
   "metadata": {
    "colab": {
     "base_uri": "https://localhost:8080/"
    },
    "executionInfo": {
     "elapsed": 368,
     "status": "ok",
     "timestamp": 1648387409021,
     "user": {
      "displayName": "UT MATLAB",
      "photoUrl": "https://lh3.googleusercontent.com/a/default-user=s64",
      "userId": "08553643746335249860"
     },
     "user_tz": -270
    },
    "id": "Hd9_gNLNtoTy",
    "outputId": "65040aa0-f408-4493-fcaa-8690c730297c"
   },
   "outputs": [
    {
     "name": "stdout",
     "output_type": "stream",
     "text": [
      "[0, 1, 1, 3, 3, 3, 4, 5, 5, 6, 6, 8, 8, 9, 12]\n"
     ]
    }
   ],
   "source": [
    "\n",
    "lst = [3,5,6,8,3,4,6,8,3,1,12,9,5,0,1]\n",
    "lst.sort()\n",
    "print(lst)"
   ]
  },
  {
   "cell_type": "markdown",
   "metadata": {
    "id": "IPJY5HIptoTz"
   },
   "source": [
    "For descending order, By default the reverse condition will be False for reverse. Hence changing it to True would arrange the elements in descending order."
   ]
  },
  {
   "cell_type": "code",
   "execution_count": 55,
   "metadata": {
    "colab": {
     "base_uri": "https://localhost:8080/"
    },
    "executionInfo": {
     "elapsed": 377,
     "status": "ok",
     "timestamp": 1648387411924,
     "user": {
      "displayName": "UT MATLAB",
      "photoUrl": "https://lh3.googleusercontent.com/a/default-user=s64",
      "userId": "08553643746335249860"
     },
     "user_tz": -270
    },
    "id": "iOe4-klltoT0",
    "outputId": "fc831ec3-b06c-4a45-b80a-631d21d444eb"
   },
   "outputs": [
    {
     "name": "stdout",
     "output_type": "stream",
     "text": [
      "[12, 9, 8, 8, 6, 6, 5, 5, 4, 3, 3, 3, 1, 1, 0]\n"
     ]
    }
   ],
   "source": [
    "lst.sort(reverse=True)\n",
    "print(lst)"
   ]
  },
  {
   "cell_type": "markdown",
   "metadata": {
    "id": "ZeEsEC6VtoT1"
   },
   "source": [
    "Similarly for lists containing string elements, **sort( )** would sort the elements based on it's ASCII value in ascending and by specifying reverse=True in descending."
   ]
  },
  {
   "cell_type": "code",
   "execution_count": 56,
   "metadata": {
    "colab": {
     "base_uri": "https://localhost:8080/"
    },
    "executionInfo": {
     "elapsed": 397,
     "status": "ok",
     "timestamp": 1648387416483,
     "user": {
      "displayName": "UT MATLAB",
      "photoUrl": "https://lh3.googleusercontent.com/a/default-user=s64",
      "userId": "08553643746335249860"
     },
     "user_tz": -270
    },
    "id": "kabOefBCtoT1",
    "outputId": "c4ec7b0b-254c-4cb9-e064-79a64b09de48"
   },
   "outputs": [
    {
     "name": "stdout",
     "output_type": "stream",
     "text": [
      "['Air', 'Earth', 'Fire', 'Water']\n",
      "['Water', 'Fire', 'Earth', 'Air']\n"
     ]
    }
   ],
   "source": [
    "names = ['Earth','Air','Fire','Water']\n",
    "names.sort()\n",
    "print(names)\n",
    "names.sort(reverse=True)\n",
    "print(names)"
   ]
  },
  {
   "cell_type": "markdown",
   "metadata": {
    "id": "OQGJ6PDztoT2"
   },
   "source": [
    "To sort based on length key=len should be specified as shown."
   ]
  },
  {
   "cell_type": "code",
   "execution_count": 57,
   "metadata": {
    "colab": {
     "base_uri": "https://localhost:8080/"
    },
    "executionInfo": {
     "elapsed": 496,
     "status": "ok",
     "timestamp": 1648374827320,
     "user": {
      "displayName": "UT MATLAB",
      "photoUrl": "https://lh3.googleusercontent.com/a/default-user=s64",
      "userId": "08553643746335249860"
     },
     "user_tz": -270
    },
    "id": "nRfBzTX6toT3",
    "outputId": "48da6d23-417f-4781-8c13-bd348c91cc34"
   },
   "outputs": [
    {
     "name": "stdout",
     "output_type": "stream",
     "text": [
      "['Air', 'Fire', 'Water', 'Earth']\n",
      "['Water', 'Earth', 'Fire', 'Air']\n"
     ]
    }
   ],
   "source": [
    "names.sort(key=len)\n",
    "print(names)\n",
    "names.sort(key=len,reverse=True)\n",
    "print(names)"
   ]
  },
  {
   "cell_type": "markdown",
   "metadata": {
    "id": "td8dujbftoT4"
   },
   "source": [
    "### Copying a list"
   ]
  },
  {
   "cell_type": "markdown",
   "metadata": {
    "id": "fLarBN6DtoT5"
   },
   "source": [
    "Most of the new python programmers commit this mistake. Consider the following,"
   ]
  },
  {
   "cell_type": "code",
   "execution_count": 58,
   "metadata": {
    "executionInfo": {
     "elapsed": 771,
     "status": "ok",
     "timestamp": 1648467982269,
     "user": {
      "displayName": "UT MATLAB",
      "photoUrl": "https://lh3.googleusercontent.com/a/default-user=s64",
      "userId": "08553643746335249860"
     },
     "user_tz": -270
    },
    "id": "J8HQAG0DtoT6"
   },
   "outputs": [],
   "source": [
    "lista= [2,1,4,3]"
   ]
  },
  {
   "cell_type": "code",
   "execution_count": 59,
   "metadata": {
    "colab": {
     "base_uri": "https://localhost:8080/"
    },
    "executionInfo": {
     "elapsed": 10,
     "status": "ok",
     "timestamp": 1648468031435,
     "user": {
      "displayName": "UT MATLAB",
      "photoUrl": "https://lh3.googleusercontent.com/a/default-user=s64",
      "userId": "08553643746335249860"
     },
     "user_tz": -270
    },
    "id": "EFjOjVfvtoT7",
    "outputId": "7b651b2c-eec8-471a-d9d5-d1cc22a5cc99"
   },
   "outputs": [
    {
     "name": "stdout",
     "output_type": "stream",
     "text": [
      "[2, 1, 4, 3]\n",
      "2140560252544\n",
      "2140560252544\n"
     ]
    }
   ],
   "source": [
    "listb = lista\n",
    "print(listb)\n",
    "print(id(lista))\n",
    "print(id(listb))"
   ]
  },
  {
   "cell_type": "markdown",
   "metadata": {
    "id": "mHr3tczttoT8"
   },
   "source": [
    "Here, We have declared a list, lista = [2,1,4,3]. This list is copied to listb by assigning it's value and it get's copied as seen. Now we perform some random operations on lista."
   ]
  },
  {
   "cell_type": "code",
   "execution_count": 60,
   "metadata": {
    "colab": {
     "base_uri": "https://localhost:8080/"
    },
    "executionInfo": {
     "elapsed": 608,
     "status": "ok",
     "timestamp": 1648468086378,
     "user": {
      "displayName": "UT MATLAB",
      "photoUrl": "https://lh3.googleusercontent.com/a/default-user=s64",
      "userId": "08553643746335249860"
     },
     "user_tz": -270
    },
    "id": "9gFzZZk9toT9",
    "outputId": "5429eae4-7cfc-4363-93c8-f8dd1a9180cc"
   },
   "outputs": [
    {
     "name": "stdout",
     "output_type": "stream",
     "text": [
      "[2, 1, 4]\n",
      "[2, 1, 4, 9]\n"
     ]
    }
   ],
   "source": [
    "lista.pop()\n",
    "print(lista)\n",
    "lista.append(9)\n",
    "print(lista)"
   ]
  },
  {
   "cell_type": "code",
   "execution_count": 61,
   "metadata": {
    "colab": {
     "base_uri": "https://localhost:8080/"
    },
    "executionInfo": {
     "elapsed": 496,
     "status": "ok",
     "timestamp": 1648374929377,
     "user": {
      "displayName": "UT MATLAB",
      "photoUrl": "https://lh3.googleusercontent.com/a/default-user=s64",
      "userId": "08553643746335249860"
     },
     "user_tz": -270
    },
    "id": "IU53pmi5toT9",
    "outputId": "d0c02740-4edc-44b7-d7cd-3ed46796bafb"
   },
   "outputs": [
    {
     "name": "stdout",
     "output_type": "stream",
     "text": [
      "[2, 1, 4, 9]\n"
     ]
    }
   ],
   "source": [
    "print(listb)"
   ]
  },
  {
   "cell_type": "markdown",
   "metadata": {
    "id": "aIvOo2WltoT-"
   },
   "source": [
    "listb has also changed though no operation has been performed on it. This is because you have assigned the same memory space of lista to listb. So how do fix this?\n",
    "\n",
    "If you recall, in slicing we had seen that parentlist[a:b] returns a list from parent list with start index a and end index b and if a and b is not mentioned then by default it considers the first and last element. We use the same concept here. By doing so, we are assigning the data of lista to listb as a variable."
   ]
  },
  {
   "cell_type": "code",
   "execution_count": 62,
   "metadata": {
    "executionInfo": {
     "elapsed": 658,
     "status": "ok",
     "timestamp": 1648468353023,
     "user": {
      "displayName": "UT MATLAB",
      "photoUrl": "https://lh3.googleusercontent.com/a/default-user=s64",
      "userId": "08553643746335249860"
     },
     "user_tz": -270
    },
    "id": "3e3j3lx8toUB"
   },
   "outputs": [],
   "source": [
    "lista = [2,1,4,3]"
   ]
  },
  {
   "cell_type": "code",
   "execution_count": 63,
   "metadata": {
    "colab": {
     "base_uri": "https://localhost:8080/"
    },
    "executionInfo": {
     "elapsed": 631,
     "status": "ok",
     "timestamp": 1648468361497,
     "user": {
      "displayName": "UT MATLAB",
      "photoUrl": "https://lh3.googleusercontent.com/a/default-user=s64",
      "userId": "08553643746335249860"
     },
     "user_tz": -270
    },
    "id": "87ug1o1GtoUC",
    "outputId": "12fe6ca4-5896-4e27-c131-89acde89cdc5"
   },
   "outputs": [
    {
     "name": "stdout",
     "output_type": "stream",
     "text": [
      "[2, 1, 4, 3]\n",
      "2140560236608\n",
      "2140560259648\n"
     ]
    }
   ],
   "source": [
    "listb = lista[:]\n",
    "print(listb)\n",
    "print(id(lista))\n",
    "print(id(listb))"
   ]
  },
  {
   "cell_type": "code",
   "execution_count": 66,
   "metadata": {
    "colab": {
     "base_uri": "https://localhost:8080/"
    },
    "executionInfo": {
     "elapsed": 3,
     "status": "ok",
     "timestamp": 1648468364819,
     "user": {
      "displayName": "UT MATLAB",
      "photoUrl": "https://lh3.googleusercontent.com/a/default-user=s64",
      "userId": "08553643746335249860"
     },
     "user_tz": -270
    },
    "id": "k3xuRvBttoUD",
    "outputId": "f131e9ee-1eda-49bd-ab7c-61a9aaf0fdea"
   },
   "outputs": [
    {
     "name": "stdout",
     "output_type": "stream",
     "text": [
      "[2, 1, 4]\n",
      "[2, 1, 4, 9]\n"
     ]
    }
   ],
   "source": [
    "lista.pop()\n",
    "print(lista)\n",
    "lista.append(9)\n",
    "print(lista)"
   ]
  },
  {
   "cell_type": "code",
   "execution_count": 67,
   "metadata": {
    "colab": {
     "base_uri": "https://localhost:8080/"
    },
    "executionInfo": {
     "elapsed": 629,
     "status": "ok",
     "timestamp": 1648468369515,
     "user": {
      "displayName": "UT MATLAB",
      "photoUrl": "https://lh3.googleusercontent.com/a/default-user=s64",
      "userId": "08553643746335249860"
     },
     "user_tz": -270
    },
    "id": "otgmOAWDtoUE",
    "outputId": "cbf4ac36-9778-43af-a6b9-d131b21af3a8"
   },
   "outputs": [
    {
     "name": "stdout",
     "output_type": "stream",
     "text": [
      "[2, 1, 4, 3]\n"
     ]
    }
   ],
   "source": [
    "print(listb)"
   ]
  },
  {
   "cell_type": "markdown",
   "metadata": {
    "id": "q7p2jfhJtoUF"
   },
   "source": [
    "## Tuples"
   ]
  },
  {
   "cell_type": "markdown",
   "metadata": {
    "id": "pdO7E5TttoUG"
   },
   "source": [
    "Tuples are similar to lists but only big difference is the elements inside a list can be changed but in tuple it cannot be changed. Think of tuples as something which has to be True for a particular something and cannot be True for no other values. For better understanding, Recall **divmod()** function."
   ]
  },
  {
   "cell_type": "code",
   "execution_count": 68,
   "metadata": {
    "colab": {
     "base_uri": "https://localhost:8080/"
    },
    "executionInfo": {
     "elapsed": 516,
     "status": "ok",
     "timestamp": 1648375075294,
     "user": {
      "displayName": "UT MATLAB",
      "photoUrl": "https://lh3.googleusercontent.com/a/default-user=s64",
      "userId": "08553643746335249860"
     },
     "user_tz": -270
    },
    "id": "62UzQuuTtoUG",
    "outputId": "c7d5bf57-6b0e-4e4e-9379-4e295ac0b0f6"
   },
   "outputs": [
    {
     "name": "stdout",
     "output_type": "stream",
     "text": [
      "(3, 1)\n",
      "<class 'tuple'>\n"
     ]
    }
   ],
   "source": [
    "xyz = divmod(10,3)\n",
    "print(xyz)\n",
    "print(type(xyz))"
   ]
  },
  {
   "cell_type": "markdown",
   "metadata": {
    "id": "ProvP8FhtoUH"
   },
   "source": [
    "Here the quotient has to be 3 and the remainder has to be 1. These values cannot be changed whatsoever when 10 is divided by 3. Hence divmod returns these values in a tuple."
   ]
  },
  {
   "cell_type": "markdown",
   "metadata": {
    "id": "1szdY7eQtoUI"
   },
   "source": [
    "To define a tuple, A variable is assigned to paranthesis ( ) or tuple( )."
   ]
  },
  {
   "cell_type": "code",
   "execution_count": 69,
   "metadata": {
    "id": "mZ7FUIFdtoUI"
   },
   "outputs": [],
   "source": [
    "tup = ()\n",
    "tup2 = tuple()"
   ]
  },
  {
   "cell_type": "markdown",
   "metadata": {
    "id": "GXvYaHlJtoUJ"
   },
   "source": [
    "If you want to directly declare a tuple it can be done by using a comma at the end of the data."
   ]
  },
  {
   "cell_type": "code",
   "execution_count": 71,
   "metadata": {
    "colab": {
     "base_uri": "https://localhost:8080/"
    },
    "executionInfo": {
     "elapsed": 521,
     "status": "ok",
     "timestamp": 1648375098723,
     "user": {
      "displayName": "UT MATLAB",
      "photoUrl": "https://lh3.googleusercontent.com/a/default-user=s64",
      "userId": "08553643746335249860"
     },
     "user_tz": -270
    },
    "id": "PHViFSVVtoUK",
    "outputId": "28348794-a512-4a2a-cde4-c089fd296694"
   },
   "outputs": [
    {
     "data": {
      "text/plain": [
       "(27,)"
      ]
     },
     "execution_count": 71,
     "metadata": {},
     "output_type": "execute_result"
    }
   ],
   "source": [
    "27,"
   ]
  },
  {
   "cell_type": "code",
   "execution_count": 72,
   "metadata": {
    "colab": {
     "base_uri": "https://localhost:8080/",
     "height": 36
    },
    "executionInfo": {
     "elapsed": 1009,
     "status": "ok",
     "timestamp": 1648468567175,
     "user": {
      "displayName": "UT MATLAB",
      "photoUrl": "https://lh3.googleusercontent.com/a/default-user=s64",
      "userId": "08553643746335249860"
     },
     "user_tz": -270
    },
    "id": "_pRYPNtbYe0t",
    "outputId": "f70f6476-e6f8-4e7a-a18c-3aebe6c41ddf"
   },
   "outputs": [
    {
     "data": {
      "text/plain": [
       "'AAAAA'"
      ]
     },
     "execution_count": 72,
     "metadata": {},
     "output_type": "execute_result"
    }
   ],
   "source": [
    "5*'A'"
   ]
  },
  {
   "cell_type": "markdown",
   "metadata": {
    "id": "UanNn3YGtoUN"
   },
   "source": [
    "27 when multiplied by 2 yields 54, But when multiplied with a tuple the data is repeated twice."
   ]
  },
  {
   "cell_type": "code",
   "execution_count": 74,
   "metadata": {
    "colab": {
     "base_uri": "https://localhost:8080/"
    },
    "executionInfo": {
     "elapsed": 3,
     "status": "ok",
     "timestamp": 1648468593239,
     "user": {
      "displayName": "UT MATLAB",
      "photoUrl": "https://lh3.googleusercontent.com/a/default-user=s64",
      "userId": "08553643746335249860"
     },
     "user_tz": -270
    },
    "id": "KGesRpRgtoUO",
    "outputId": "b947ec75-7e58-4479-aaf4-ad70280ba312"
   },
   "outputs": [
    {
     "data": {
      "text/plain": [
       "(27, 9, 27, 9, 27, 9, 27, 9, 27, 9)"
      ]
     },
     "execution_count": 74,
     "metadata": {},
     "output_type": "execute_result"
    }
   ],
   "source": [
    "5*(27,9)"
   ]
  },
  {
   "cell_type": "markdown",
   "metadata": {
    "id": "8rNBPig7toUP"
   },
   "source": [
    "Values can be assigned while declaring a tuple. It takes a list as input and converts it into a tuple or it takes a string and converts it into a tuple."
   ]
  },
  {
   "cell_type": "code",
   "execution_count": 86,
   "metadata": {
    "colab": {
     "base_uri": "https://localhost:8080/"
    },
    "executionInfo": {
     "elapsed": 485,
     "status": "ok",
     "timestamp": 1648375156773,
     "user": {
      "displayName": "UT MATLAB",
      "photoUrl": "https://lh3.googleusercontent.com/a/default-user=s64",
      "userId": "08553643746335249860"
     },
     "user_tz": -270
    },
    "id": "-qjwZlI-toUR",
    "outputId": "afee2d50-e917-4b53-9115-3a549f9d1f5f",
    "scrolled": true
   },
   "outputs": [
    {
     "name": "stdout",
     "output_type": "stream",
     "text": [
      "(1, 2, 3)\n",
      "('H', 'e', 'l', 'l', 'o')\n"
     ]
    }
   ],
   "source": [
    "tup3 = tuple([1,2,3])\n",
    "print(tup3)\n",
    "tup4 = tuple('Hello')\n",
    "print(tup4)"
   ]
  },
  {
   "cell_type": "markdown",
   "metadata": {
    "id": "fQ0kjkTftoUS"
   },
   "source": [
    "It follows the same indexing and slicing as Lists."
   ]
  },
  {
   "cell_type": "code",
   "execution_count": 87,
   "metadata": {
    "id": "ZafYSkTatoUT",
    "outputId": "357b3545-2ffe-4032-9cdb-ad1414b3f7d7"
   },
   "outputs": [
    {
     "name": "stdout",
     "output_type": "stream",
     "text": [
      "2\n",
      "('H', 'e', 'l')\n"
     ]
    }
   ],
   "source": [
    "print(tup3[1])\n",
    "tup5 = tup4[:3]\n",
    "print(tup5)"
   ]
  },
  {
   "cell_type": "markdown",
   "metadata": {
    "id": "ONMsakMxtoUU"
   },
   "source": [
    "### Mapping one tuple to another"
   ]
  },
  {
   "cell_type": "code",
   "execution_count": 76,
   "metadata": {
    "colab": {
     "base_uri": "https://localhost:8080/"
    },
    "executionInfo": {
     "elapsed": 17,
     "status": "ok",
     "timestamp": 1648468805459,
     "user": {
      "displayName": "UT MATLAB",
      "photoUrl": "https://lh3.googleusercontent.com/a/default-user=s64",
      "userId": "08553643746335249860"
     },
     "user_tz": -270
    },
    "id": "TGhDnQpWtoUU",
    "outputId": "2873d225-c2fc-48e0-8573-a95effb55aa8"
   },
   "outputs": [
    {
     "name": "stdout",
     "output_type": "stream",
     "text": [
      "('alpha', 'beta', 'gamma', 'Teta')\n"
     ]
    }
   ],
   "source": [
    "tup1 =  ('alpha','beta','gamma')\n",
    "(a,b,c)= tup1\n",
    "d = 'Teta'\n",
    "tup2 = (a,b,c,d)\n",
    "print(tup2)"
   ]
  },
  {
   "cell_type": "code",
   "execution_count": 77,
   "metadata": {
    "colab": {
     "base_uri": "https://localhost:8080/"
    },
    "executionInfo": {
     "elapsed": 370,
     "status": "ok",
     "timestamp": 1648468895355,
     "user": {
      "displayName": "UT MATLAB",
      "photoUrl": "https://lh3.googleusercontent.com/a/default-user=s64",
      "userId": "08553643746335249860"
     },
     "user_tz": -270
    },
    "id": "xN_d43x7toUV",
    "outputId": "ca21f95a-90a7-4e07-ba83-c51cff7c70f1"
   },
   "outputs": [
    {
     "data": {
      "text/plain": [
       "('Teta', ('alpha', 'beta', 'gamma'))"
      ]
     },
     "execution_count": 77,
     "metadata": {},
     "output_type": "execute_result"
    }
   ],
   "source": [
    "tup3 = (d,tup1)\n",
    "tup3"
   ]
  },
  {
   "cell_type": "code",
   "execution_count": 78,
   "metadata": {
    "colab": {
     "base_uri": "https://localhost:8080/"
    },
    "executionInfo": {
     "elapsed": 595,
     "status": "ok",
     "timestamp": 1648468942853,
     "user": {
      "displayName": "UT MATLAB",
      "photoUrl": "https://lh3.googleusercontent.com/a/default-user=s64",
      "userId": "08553643746335249860"
     },
     "user_tz": -270
    },
    "id": "QBlXFWZxtoUW",
    "outputId": "058788ce-dfa7-4627-cc2c-3d96ad8136fc"
   },
   "outputs": [
    {
     "name": "stdout",
     "output_type": "stream",
     "text": [
      "('J', 'a', 'm', 'a', 'l', ' ', 'K', 'a', 'z', 'a', 'z', 'i')\n"
     ]
    }
   ],
   "source": [
    "d = tuple('Jamal Kazazi')\n",
    "print(d)"
   ]
  },
  {
   "cell_type": "markdown",
   "metadata": {
    "id": "OK7vg1SxtoUX"
   },
   "source": [
    "### Built In Tuple functions"
   ]
  },
  {
   "cell_type": "markdown",
   "metadata": {
    "id": "LycvQiKutoUY"
   },
   "source": [
    "**count()** function counts the number of specified element that is present in the tuple."
   ]
  },
  {
   "cell_type": "code",
   "execution_count": 91,
   "metadata": {
    "colab": {
     "base_uri": "https://localhost:8080/"
    },
    "executionInfo": {
     "elapsed": 394,
     "status": "ok",
     "timestamp": 1648468956206,
     "user": {
      "displayName": "UT MATLAB",
      "photoUrl": "https://lh3.googleusercontent.com/a/default-user=s64",
      "userId": "08553643746335249860"
     },
     "user_tz": -270
    },
    "id": "IIhrx2FBtoUZ",
    "outputId": "a106a3b1-6faf-4260-cd20-474d3c005e85"
   },
   "outputs": [
    {
     "data": {
      "text/plain": [
       "4"
      ]
     },
     "execution_count": 91,
     "metadata": {},
     "output_type": "execute_result"
    }
   ],
   "source": [
    "d.count('a')"
   ]
  },
  {
   "cell_type": "markdown",
   "metadata": {
    "id": "QyqO3WH4toUc"
   },
   "source": [
    "**index()** function returns the index of the specified element. If the elements are more than one then the index of the first element of that specified element is returned"
   ]
  },
  {
   "cell_type": "code",
   "execution_count": 80,
   "metadata": {
    "colab": {
     "base_uri": "https://localhost:8080/"
    },
    "executionInfo": {
     "elapsed": 356,
     "status": "ok",
     "timestamp": 1648469001986,
     "user": {
      "displayName": "UT MATLAB",
      "photoUrl": "https://lh3.googleusercontent.com/a/default-user=s64",
      "userId": "08553643746335249860"
     },
     "user_tz": -270
    },
    "id": "b12_WukutoUf",
    "outputId": "cb3663b9-f8d4-4333-eca8-d7771899220f"
   },
   "outputs": [
    {
     "data": {
      "text/plain": [
       "7"
      ]
     },
     "execution_count": 80,
     "metadata": {},
     "output_type": "execute_result"
    }
   ],
   "source": [
    "d.index('a',4)"
   ]
  },
  {
   "cell_type": "code",
   "execution_count": 81,
   "metadata": {},
   "outputs": [
    {
     "ename": "TypeError",
     "evalue": "'tuple' object does not support item assignment",
     "output_type": "error",
     "traceback": [
      "\u001b[1;31m---------------------------------------------------------------------------\u001b[0m",
      "\u001b[1;31mTypeError\u001b[0m                                 Traceback (most recent call last)",
      "\u001b[1;32m~\\AppData\\Local\\Temp/ipykernel_12456/2147394918.py\u001b[0m in \u001b[0;36m<module>\u001b[1;34m\u001b[0m\n\u001b[0;32m      1\u001b[0m \u001b[0mtu\u001b[0m \u001b[1;33m=\u001b[0m \u001b[1;33m(\u001b[0m\u001b[1;36m1\u001b[0m\u001b[1;33m,\u001b[0m\u001b[1;36m3.6\u001b[0m\u001b[1;33m)\u001b[0m\u001b[1;33m\u001b[0m\u001b[1;33m\u001b[0m\u001b[0m\n\u001b[1;32m----> 2\u001b[1;33m \u001b[0mtu\u001b[0m\u001b[1;33m[\u001b[0m\u001b[1;36m2\u001b[0m\u001b[1;33m]\u001b[0m \u001b[1;33m=\u001b[0m \u001b[1;36m7\u001b[0m\u001b[1;33m\u001b[0m\u001b[1;33m\u001b[0m\u001b[0m\n\u001b[0m",
      "\u001b[1;31mTypeError\u001b[0m: 'tuple' object does not support item assignment"
     ]
    }
   ],
   "source": [
    "tu = (1,3.6)\n",
    "tu[2] = 7"
   ]
  },
  {
   "cell_type": "code",
   "execution_count": 83,
   "metadata": {},
   "outputs": [
    {
     "name": "stdout",
     "output_type": "stream",
     "text": [
      "('alpha', 'beta', 'gamma', 'T', 'e', 't', 'a')\n"
     ]
    }
   ],
   "source": [
    "tup2 = tup1 +tuple('Teta')\n",
    "print(tup2)"
   ]
  },
  {
   "cell_type": "markdown",
   "metadata": {
    "id": "VUQ9j9txtoUj"
   },
   "source": [
    "## Sets"
   ]
  },
  {
   "cell_type": "markdown",
   "metadata": {
    "id": "PJcXMtWctoUm"
   },
   "source": [
    "Sets are mainly used to eliminate repeated numbers in a sequence/list. It is also used to perform some standard set operations.\n",
    "\n",
    "Sets are declared as set() which will initialize a empty set. Also set([sequence]) can be executed to declare a set with elements"
   ]
  },
  {
   "cell_type": "code",
   "execution_count": null,
   "metadata": {
    "colab": {
     "base_uri": "https://localhost:8080/"
    },
    "executionInfo": {
     "elapsed": 508,
     "status": "ok",
     "timestamp": 1648375306548,
     "user": {
      "displayName": "UT MATLAB",
      "photoUrl": "https://lh3.googleusercontent.com/a/default-user=s64",
      "userId": "08553643746335249860"
     },
     "user_tz": -270
    },
    "id": "3Ok2C2YBtoUn",
    "outputId": "23faf4d2-9839-402e-d807-66158eb5210b"
   },
   "outputs": [
    {
     "name": "stdout",
     "output_type": "stream",
     "text": [
      "<class 'set'>\n"
     ]
    }
   ],
   "source": [
    "set1 = set()\n",
    "print(type(set1))"
   ]
  },
  {
   "cell_type": "code",
   "execution_count": 97,
   "metadata": {
    "colab": {
     "base_uri": "https://localhost:8080/"
    },
    "executionInfo": {
     "elapsed": 11,
     "status": "ok",
     "timestamp": 1648375318594,
     "user": {
      "displayName": "UT MATLAB",
      "photoUrl": "https://lh3.googleusercontent.com/a/default-user=s64",
      "userId": "08553643746335249860"
     },
     "user_tz": -270
    },
    "id": "Zdt90je9toUo",
    "outputId": "718401b4-f30a-4be5-d80e-096e60f2e3dd"
   },
   "outputs": [
    {
     "name": "stdout",
     "output_type": "stream",
     "text": [
      "{1, 2, 3, 4}\n"
     ]
    }
   ],
   "source": [
    "set0 = set([1,2,2,3,3,4])\n",
    "print(set0)"
   ]
  },
  {
   "cell_type": "markdown",
   "metadata": {
    "id": "wdj7KdmotoUs"
   },
   "source": [
    "elements 2,3 which are repeated twice are seen only once. Thus in a set each element is distinct."
   ]
  },
  {
   "cell_type": "markdown",
   "metadata": {
    "id": "bgdVbs9KtoUu"
   },
   "source": [
    "### Built-in Functions"
   ]
  },
  {
   "cell_type": "code",
   "execution_count": 86,
   "metadata": {
    "id": "NPUmUNT2toUv"
   },
   "outputs": [],
   "source": [
    "set1 = set([1,2,3])"
   ]
  },
  {
   "cell_type": "code",
   "execution_count": 87,
   "metadata": {
    "id": "EQ6Ql-P7toUy"
   },
   "outputs": [],
   "source": [
    "set2 = set([2,3,4,5])"
   ]
  },
  {
   "cell_type": "markdown",
   "metadata": {
    "id": "uL-vSH4otoUz"
   },
   "source": [
    "**union( )** function returns a set which contains all the elements of both the sets without repition."
   ]
  },
  {
   "cell_type": "code",
   "execution_count": 88,
   "metadata": {
    "colab": {
     "base_uri": "https://localhost:8080/"
    },
    "executionInfo": {
     "elapsed": 680,
     "status": "ok",
     "timestamp": 1648375337245,
     "user": {
      "displayName": "UT MATLAB",
      "photoUrl": "https://lh3.googleusercontent.com/a/default-user=s64",
      "userId": "08553643746335249860"
     },
     "user_tz": -270
    },
    "id": "tMPcdoGktoU0",
    "outputId": "2656c5b4-edd6-4bf3-84ae-9f044fb69aa5"
   },
   "outputs": [
    {
     "data": {
      "text/plain": [
       "{1, 2, 3, 4, 5}"
      ]
     },
     "execution_count": 88,
     "metadata": {},
     "output_type": "execute_result"
    }
   ],
   "source": [
    "set1.union(set2) # set1|set2"
   ]
  },
  {
   "cell_type": "markdown",
   "metadata": {
    "id": "Xf_FLvI1toU1"
   },
   "source": [
    "**add( )** will add a particular element into the set. Note that the index of the newly added element is arbitrary and can be placed anywhere not neccessarily in the end."
   ]
  },
  {
   "cell_type": "code",
   "execution_count": 89,
   "metadata": {
    "colab": {
     "base_uri": "https://localhost:8080/"
    },
    "executionInfo": {
     "elapsed": 581,
     "status": "ok",
     "timestamp": 1648375346339,
     "user": {
      "displayName": "UT MATLAB",
      "photoUrl": "https://lh3.googleusercontent.com/a/default-user=s64",
      "userId": "08553643746335249860"
     },
     "user_tz": -270
    },
    "id": "24-w1L-otoU1",
    "outputId": "ebd42e6d-35fd-4c41-a182-f983f6ed6d90"
   },
   "outputs": [
    {
     "data": {
      "text/plain": [
       "{0, 1, 2, 3}"
      ]
     },
     "execution_count": 89,
     "metadata": {},
     "output_type": "execute_result"
    }
   ],
   "source": [
    "set1.add(0)\n",
    "set1"
   ]
  },
  {
   "cell_type": "markdown",
   "metadata": {
    "id": "HKQvyO5AtoU3"
   },
   "source": [
    "**intersection( )** function outputs a set which contains all the elements that are in both sets."
   ]
  },
  {
   "cell_type": "code",
   "execution_count": 90,
   "metadata": {
    "colab": {
     "base_uri": "https://localhost:8080/"
    },
    "executionInfo": {
     "elapsed": 502,
     "status": "ok",
     "timestamp": 1648375359302,
     "user": {
      "displayName": "UT MATLAB",
      "photoUrl": "https://lh3.googleusercontent.com/a/default-user=s64",
      "userId": "08553643746335249860"
     },
     "user_tz": -270
    },
    "id": "HYohp5w_toU5",
    "outputId": "dda7f9d6-b379-4bd0-c04c-0a653f132626"
   },
   "outputs": [
    {
     "data": {
      "text/plain": [
       "{2, 3}"
      ]
     },
     "execution_count": 90,
     "metadata": {},
     "output_type": "execute_result"
    }
   ],
   "source": [
    "set1.intersection(set2) #set1&set2"
   ]
  },
  {
   "cell_type": "markdown",
   "metadata": {
    "id": "1hyVbqxgtoU7"
   },
   "source": [
    "**difference( )** function ouptuts a set which contains elements that are in set1 and not in set2."
   ]
  },
  {
   "cell_type": "code",
   "execution_count": 91,
   "metadata": {
    "colab": {
     "base_uri": "https://localhost:8080/"
    },
    "executionInfo": {
     "elapsed": 494,
     "status": "ok",
     "timestamp": 1648375366856,
     "user": {
      "displayName": "UT MATLAB",
      "photoUrl": "https://lh3.googleusercontent.com/a/default-user=s64",
      "userId": "08553643746335249860"
     },
     "user_tz": -270
    },
    "id": "7M9UlGSYtoU8",
    "outputId": "34dfbceb-2b78-4fdf-c0a1-436030d56035"
   },
   "outputs": [
    {
     "data": {
      "text/plain": [
       "{0, 1}"
      ]
     },
     "execution_count": 91,
     "metadata": {},
     "output_type": "execute_result"
    }
   ],
   "source": [
    "set1.difference(set2) #set1-set2"
   ]
  },
  {
   "cell_type": "markdown",
   "metadata": {
    "id": "aZ6UQPYPtoU-"
   },
   "source": [
    "**symmetric_difference( )** function ouputs a function which contains elements that are in one of the sets."
   ]
  },
  {
   "cell_type": "code",
   "execution_count": 92,
   "metadata": {
    "colab": {
     "base_uri": "https://localhost:8080/"
    },
    "executionInfo": {
     "elapsed": 497,
     "status": "ok",
     "timestamp": 1648375380110,
     "user": {
      "displayName": "UT MATLAB",
      "photoUrl": "https://lh3.googleusercontent.com/a/default-user=s64",
      "userId": "08553643746335249860"
     },
     "user_tz": -270
    },
    "id": "ilrUrOkLtoU-",
    "outputId": "9266a1d7-f908-4cf4-a2eb-8c2da047fe96"
   },
   "outputs": [
    {
     "data": {
      "text/plain": [
       "{0, 1, 4, 5}"
      ]
     },
     "execution_count": 92,
     "metadata": {},
     "output_type": "execute_result"
    }
   ],
   "source": [
    "set2.symmetric_difference(set1) #set1^set2"
   ]
  },
  {
   "cell_type": "markdown",
   "metadata": {
    "id": "SIBaNMfgtoU_"
   },
   "source": [
    "**issubset( ), isdisjoint( ), issuperset( )** is used to check if the set1/set2 is a subset, disjoint or superset of set2/set1 respectively."
   ]
  },
  {
   "cell_type": "code",
   "execution_count": null,
   "metadata": {
    "colab": {
     "base_uri": "https://localhost:8080/"
    },
    "executionInfo": {
     "elapsed": 748,
     "status": "ok",
     "timestamp": 1648375390398,
     "user": {
      "displayName": "UT MATLAB",
      "photoUrl": "https://lh3.googleusercontent.com/a/default-user=s64",
      "userId": "08553643746335249860"
     },
     "user_tz": -270
    },
    "id": "QWX1-XcPtoVA",
    "outputId": "1ea862bb-402c-413d-e4cf-4aba4a2253f7"
   },
   "outputs": [
    {
     "data": {
      "text/plain": [
       "False"
      ]
     },
     "execution_count": 118,
     "metadata": {},
     "output_type": "execute_result"
    }
   ],
   "source": [
    "set1.issubset(set2)  #set1<=set2"
   ]
  },
  {
   "cell_type": "code",
   "execution_count": null,
   "metadata": {
    "colab": {
     "base_uri": "https://localhost:8080/"
    },
    "executionInfo": {
     "elapsed": 538,
     "status": "ok",
     "timestamp": 1648375393468,
     "user": {
      "displayName": "UT MATLAB",
      "photoUrl": "https://lh3.googleusercontent.com/a/default-user=s64",
      "userId": "08553643746335249860"
     },
     "user_tz": -270
    },
    "id": "3N9oi1-ttoVD",
    "outputId": "de4e729c-2229-4fd1-e884-57c3b9e2a57c"
   },
   "outputs": [
    {
     "data": {
      "text/plain": [
       "False"
      ]
     },
     "execution_count": 119,
     "metadata": {},
     "output_type": "execute_result"
    }
   ],
   "source": [
    "set2.isdisjoint(set1) "
   ]
  },
  {
   "cell_type": "code",
   "execution_count": null,
   "metadata": {
    "colab": {
     "base_uri": "https://localhost:8080/"
    },
    "executionInfo": {
     "elapsed": 651,
     "status": "ok",
     "timestamp": 1648375400904,
     "user": {
      "displayName": "UT MATLAB",
      "photoUrl": "https://lh3.googleusercontent.com/a/default-user=s64",
      "userId": "08553643746335249860"
     },
     "user_tz": -270
    },
    "id": "6-dY7DF2toVF",
    "outputId": "9980ee13-b643-4fa1-9896-7d2da28ff43d"
   },
   "outputs": [
    {
     "data": {
      "text/plain": [
       "False"
      ]
     },
     "execution_count": 120,
     "metadata": {},
     "output_type": "execute_result"
    }
   ],
   "source": [
    "set2.issuperset(set1)  #set2>=set1"
   ]
  },
  {
   "cell_type": "markdown",
   "metadata": {
    "id": "wtfwue5PtoVG"
   },
   "source": [
    "**pop( )** is used to remove an arbitrary element in the set"
   ]
  },
  {
   "cell_type": "code",
   "execution_count": 93,
   "metadata": {
    "colab": {
     "base_uri": "https://localhost:8080/"
    },
    "executionInfo": {
     "elapsed": 522,
     "status": "ok",
     "timestamp": 1648375413700,
     "user": {
      "displayName": "UT MATLAB",
      "photoUrl": "https://lh3.googleusercontent.com/a/default-user=s64",
      "userId": "08553643746335249860"
     },
     "user_tz": -270
    },
    "id": "s6P1gpV_toVH",
    "outputId": "043d7397-43dc-488f-e718-4dc1f670485c"
   },
   "outputs": [
    {
     "name": "stdout",
     "output_type": "stream",
     "text": [
      "{1, 2, 3, 4}\n",
      "{2, 3, 4}\n"
     ]
    }
   ],
   "source": [
    "set1 = set([1,2,3,4])\n",
    "print(set1)\n",
    "set1.pop()\n",
    "print(set1)"
   ]
  },
  {
   "cell_type": "markdown",
   "metadata": {
    "id": "4ykEArDgtoVH"
   },
   "source": [
    "**remove( )** function deletes the specified element from the set."
   ]
  },
  {
   "cell_type": "code",
   "execution_count": 102,
   "metadata": {
    "colab": {
     "base_uri": "https://localhost:8080/"
    },
    "executionInfo": {
     "elapsed": 518,
     "status": "ok",
     "timestamp": 1648375423435,
     "user": {
      "displayName": "UT MATLAB",
      "photoUrl": "https://lh3.googleusercontent.com/a/default-user=s64",
      "userId": "08553643746335249860"
     },
     "user_tz": -270
    },
    "id": "XgcYBhJbtoVI",
    "outputId": "ca5e733d-4bf5-438f-ebf5-20015ea47353"
   },
   "outputs": [
    {
     "data": {
      "text/plain": [
       "{3, 4}"
      ]
     },
     "execution_count": 102,
     "metadata": {},
     "output_type": "execute_result"
    }
   ],
   "source": [
    "set1.remove(2)\n",
    "set1"
   ]
  },
  {
   "cell_type": "markdown",
   "metadata": {
    "id": "qvKe2Nd0toVL"
   },
   "source": [
    "**clear( )** is used to clear all the elements and make that set an empty set."
   ]
  },
  {
   "cell_type": "code",
   "execution_count": 94,
   "metadata": {
    "colab": {
     "base_uri": "https://localhost:8080/"
    },
    "executionInfo": {
     "elapsed": 495,
     "status": "ok",
     "timestamp": 1648375429451,
     "user": {
      "displayName": "UT MATLAB",
      "photoUrl": "https://lh3.googleusercontent.com/a/default-user=s64",
      "userId": "08553643746335249860"
     },
     "user_tz": -270
    },
    "id": "r5nMJx2ntoVM",
    "outputId": "d117025f-c5b1-4c20-cc95-72f69f8922c9"
   },
   "outputs": [
    {
     "data": {
      "text/plain": [
       "set()"
      ]
     },
     "execution_count": 94,
     "metadata": {},
     "output_type": "execute_result"
    }
   ],
   "source": [
    "set1.clear()\n",
    "set1"
   ]
  },
  {
   "cell_type": "code",
   "execution_count": 103,
   "metadata": {
    "colab": {
     "base_uri": "https://localhost:8080/"
    },
    "executionInfo": {
     "elapsed": 387,
     "status": "ok",
     "timestamp": 1648469327379,
     "user": {
      "displayName": "UT MATLAB",
      "photoUrl": "https://lh3.googleusercontent.com/a/default-user=s64",
      "userId": "08553643746335249860"
     },
     "user_tz": -270
    },
    "id": "MXo4KemAa_NP",
    "outputId": "55aee78d-4950-4abd-d022-a701e1f83fea"
   },
   "outputs": [
    {
     "name": "stdout",
     "output_type": "stream",
     "text": [
      "    1:100       :   1000   \n"
     ]
    }
   ],
   "source": [
    "x = 1\n",
    "y = 100\n",
    "z = 1000\n",
    "print(f'{x:>5}:{y:<10}:{z:^10}')"
   ]
  },
  {
   "cell_type": "markdown",
   "metadata": {},
   "source": [
    "## dictionary"
   ]
  },
  {
   "cell_type": "code",
   "execution_count": 95,
   "metadata": {
    "colab": {
     "base_uri": "https://localhost:8080/"
    },
    "executionInfo": {
     "elapsed": 440,
     "status": "ok",
     "timestamp": 1648554195636,
     "user": {
      "displayName": "UT MATLAB",
      "userId": "08553643746335249860"
     },
     "user_tz": -270
    },
    "id": "YKq76oL5dzvi",
    "outputId": "c373b35d-f11d-448c-f2c8-13fb11505ded"
   },
   "outputs": [
    {
     "name": "stdout",
     "output_type": "stream",
     "text": [
      "{'Hamedan': 500000, 'Mashhad': 2000000, 'Tehran': 12000000}\n"
     ]
    }
   ],
   "source": [
    "mydict2 = {'Hamedan':500_000,'Mashhad':2_000_000,'Tehran':12_000_000}\n",
    "print(mydict2)"
   ]
  },
  {
   "cell_type": "code",
   "execution_count": 113,
   "metadata": {
    "colab": {
     "base_uri": "https://localhost:8080/"
    },
    "executionInfo": {
     "elapsed": 414,
     "status": "ok",
     "timestamp": 1648554254333,
     "user": {
      "displayName": "UT MATLAB",
      "userId": "08553643746335249860"
     },
     "user_tz": -270
    },
    "id": "nF7Adbvie_2N",
    "outputId": "1c87af2f-c33f-44a0-f502-596fe031c060"
   },
   "outputs": [
    {
     "name": "stdout",
     "output_type": "stream",
     "text": [
      "Hamaedan   :     500000\n"
     ]
    }
   ],
   "source": [
    "print(f\"{'Hamaedan':<10} : {mydict2['Hamedan']:>10}\")"
   ]
  },
  {
   "cell_type": "code",
   "execution_count": 114,
   "metadata": {
    "colab": {
     "base_uri": "https://localhost:8080/"
    },
    "executionInfo": {
     "elapsed": 375,
     "status": "ok",
     "timestamp": 1648554314789,
     "user": {
      "displayName": "UT MATLAB",
      "userId": "08553643746335249860"
     },
     "user_tz": -270
    },
    "id": "rifTBz7Ifner",
    "outputId": "7eff1b15-1942-406d-bf97-22fc6c59b32f",
    "scrolled": true
   },
   "outputs": [
    {
     "name": "stdout",
     "output_type": "stream",
     "text": [
      "1 2\n"
     ]
    }
   ],
   "source": [
    "mydict = {'k1':1,'k2':2}\n",
    "print(mydict['k1'],mydict['k2'])"
   ]
  },
  {
   "cell_type": "code",
   "execution_count": 97,
   "metadata": {
    "colab": {
     "base_uri": "https://localhost:8080/"
    },
    "executionInfo": {
     "elapsed": 369,
     "status": "ok",
     "timestamp": 1648554353376,
     "user": {
      "displayName": "UT MATLAB",
      "userId": "08553643746335249860"
     },
     "user_tz": -270
    },
    "id": "0NbtolSPJEXs",
    "outputId": "3f350b25-5111-474f-8121-35fdacc70295"
   },
   "outputs": [
    {
     "name": "stdout",
     "output_type": "stream",
     "text": [
      "Hamedan    :     500000\n",
      "Mashhad    :    2000000\n",
      "Tehran     :   12000000\n"
     ]
    }
   ],
   "source": [
    "for harchi in mydict2:\n",
    "    print(f\"{harchi:<10} : {mydict2[harchi]:>10}\")"
   ]
  },
  {
   "cell_type": "code",
   "execution_count": 98,
   "metadata": {
    "id": "2Q3wA8YnJEXs",
    "outputId": "5683aa8a-1385-49c8-8a6f-da5ab86ba46f"
   },
   "outputs": [
    {
     "name": "stdout",
     "output_type": "stream",
     "text": [
      "('Hamedan', 500000)\n",
      "('Mashhad', 2000000)\n",
      "('Tehran', 12000000)\n"
     ]
    }
   ],
   "source": [
    "for harchi in mydict2.items():\n",
    "    print(harchi)"
   ]
  },
  {
   "cell_type": "code",
   "execution_count": 99,
   "metadata": {
    "colab": {
     "base_uri": "https://localhost:8080/"
    },
    "executionInfo": {
     "elapsed": 368,
     "status": "ok",
     "timestamp": 1648554385928,
     "user": {
      "displayName": "UT MATLAB",
      "userId": "08553643746335249860"
     },
     "user_tz": -270
    },
    "id": "5UygnzN2JEXt",
    "outputId": "7cf71b67-2799-480f-a863-52e233fa1db6"
   },
   "outputs": [
    {
     "name": "stdout",
     "output_type": "stream",
     "text": [
      "500000\n",
      "2000000\n",
      "12000000\n"
     ]
    }
   ],
   "source": [
    "for value in mydict2.values():\n",
    "    print(value)"
   ]
  },
  {
   "cell_type": "code",
   "execution_count": 100,
   "metadata": {
    "id": "DURjeUJEJEXt",
    "outputId": "b350b0a9-6bb9-43c4-caaa-c189bfab4402"
   },
   "outputs": [
    {
     "name": "stdout",
     "output_type": "stream",
     "text": [
      "Hamedan\n",
      "Mashhad\n",
      "Tehran\n"
     ]
    }
   ],
   "source": [
    "for key in mydict2.keys():\n",
    "    print(key)"
   ]
  },
  {
   "cell_type": "code",
   "execution_count": null,
   "metadata": {},
   "outputs": [],
   "source": []
  }
 ],
 "metadata": {
  "colab": {
   "collapsed_sections": [],
   "name": "03.ipynb",
   "provenance": []
  },
  "kernelspec": {
   "display_name": "Python 3 (ipykernel)",
   "language": "python",
   "name": "python3"
  },
  "language_info": {
   "codemirror_mode": {
    "name": "ipython",
    "version": 3
   },
   "file_extension": ".py",
   "mimetype": "text/x-python",
   "name": "python",
   "nbconvert_exporter": "python",
   "pygments_lexer": "ipython3",
   "version": "3.9.4"
  }
 },
 "nbformat": 4,
 "nbformat_minor": 1
}
