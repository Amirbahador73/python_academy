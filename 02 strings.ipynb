{
 "cells": [
  {
   "cell_type": "markdown",
   "metadata": {
    "id": "Pk9hi_JBou9-"
   },
   "source": [
    "<div style=\"direction:rtl;line-height:300%;\">\n",
    "<div align=center>\n",
    "<font face=\"B Nazanin\" size=3>\n",
    "    به نام خدا\n",
    "    </font>\n",
    "    <br>\n",
    "    <br>\n",
    "    <font face=\"B Nazanin\" size=5>\n",
    "        <font color=#FF7500>\n",
    "      آکادمی همراه\n",
    "        </font>\n",
    "            <br><br>\n",
    "        دورۀ آشنایی با پایتون\n",
    "        <br>\n",
    "        <br>\n",
    "<b>     (strings) رشته‌ها\n",
    "        </b>\n",
    "         </font>\n",
    "        <br>\n",
    "        <br>\n",
    "        <font face=\"B Nazanin\" size=4>\n",
    "        <b> جمال کزازی </b>\n",
    "            <p> </p>\n",
    "    </font>\n",
    "    </div>\n",
    "    </div>\n",
    "\n",
    "\n"
   ]
  },
  {
   "cell_type": "code",
   "execution_count": 2,
   "metadata": {
    "colab": {
     "base_uri": "https://localhost:8080/"
    },
    "executionInfo": {
     "elapsed": 757,
     "status": "ok",
     "timestamp": 1648379815611,
     "user": {
      "displayName": "UT MATLAB",
      "photoUrl": "https://lh3.googleusercontent.com/a/default-user=s64",
      "userId": "08553643746335249860"
     },
     "user_tz": -270
    },
    "id": "eg65MiILo9P0",
    "outputId": "d124328c-f65d-4b40-d1c8-2b5c7c883d6d"
   },
   "outputs": [
    {
     "name": "stdout",
     "output_type": "stream",
     "text": [
      "hello 5\n"
     ]
    }
   ],
   "source": [
    "hello = 'hello'   # String literals can use single quotes\n",
    "world = \"world\"   # or double quotes; it does not matter.\n",
    "print(hello, len(hello))"
   ]
  },
  {
   "cell_type": "code",
   "execution_count": 4,
   "metadata": {
    "colab": {
     "base_uri": "https://localhost:8080/"
    },
    "executionInfo": {
     "elapsed": 5,
     "status": "ok",
     "timestamp": 1648380691936,
     "user": {
      "displayName": "UT MATLAB",
      "photoUrl": "https://lh3.googleusercontent.com/a/default-user=s64",
      "userId": "08553643746335249860"
     },
     "user_tz": -270
    },
    "id": "x2KI8FlQpFrK",
    "outputId": "ec6c9a84-34b2-4053-8833-1b27db96f09f"
   },
   "outputs": [
    {
     "name": "stdout",
     "output_type": "stream",
     "text": [
      "hello world 12\n",
      "Jamal:20:17.98\n",
      "<class 'str'>\n"
     ]
    }
   ],
   "source": [
    "hw12 = '%s %s %d' % (hello, 'world', 12)  # sprintf style string formatting\n",
    "print(hw12)  # prints \"hello world 12\"\n",
    "\n",
    "fr = '%s:%d:%.2f'%('Jamal',20,17.976656453)\n",
    "print(fr)\n",
    "print(type(fr))"
   ]
  },
  {
   "cell_type": "code",
   "execution_count": 6,
   "metadata": {
    "colab": {
     "base_uri": "https://localhost:8080/"
    },
    "executionInfo": {
     "elapsed": 729,
     "status": "ok",
     "timestamp": 1648381130403,
     "user": {
      "displayName": "UT MATLAB",
      "photoUrl": "https://lh3.googleusercontent.com/a/default-user=s64",
      "userId": "08553643746335249860"
     },
     "user_tz": -270
    },
    "id": "zH-BtPyKpNcy",
    "outputId": "860fbaa2-af17-43bd-dee6-7f092c8098ce"
   },
   "outputs": [
    {
     "name": "stdout",
     "output_type": "stream",
     "text": [
      "Hello\n",
      "HELLO\n",
      "               hello\n",
      " hello \n",
      "he(ell)(ell)o\n",
      "world\n",
      "amal\n"
     ]
    }
   ],
   "source": [
    "s = \"hello\"\n",
    "print(s.capitalize())  # Capitalize a string; prints \"Hello\"\n",
    "print(s.upper())       # Convert a string to uppercase; prints \"HELLO\"\n",
    "print(s.rjust(20))      # Right-justify a string, padding with spaces; prints \"  hello\"\n",
    "print(s.center(7))    # Center a string, padding with spaces; prints \" hello \"\n",
    "print(s.replace('l', '(ell)'))  # Replace all instances of one substring with another;\n",
    "                               # prints \"he(ell)(ell)o\"\n",
    "print('  world '.strip() )  # Strip leading and trailing whitespace; prints \"world\"\n",
    "d = 'jjjjjamaljjjjjj'\n",
    "print(d.strip('j') )"
   ]
  },
  {
   "cell_type": "code",
   "execution_count": 7,
   "metadata": {
    "colab": {
     "base_uri": "https://localhost:8080/"
    },
    "executionInfo": {
     "elapsed": 625,
     "status": "ok",
     "timestamp": 1648381766223,
     "user": {
      "displayName": "UT MATLAB",
      "photoUrl": "https://lh3.googleusercontent.com/a/default-user=s64",
      "userId": "08553643746335249860"
     },
     "user_tz": -270
    },
    "id": "xBcIWxM0LtDJ",
    "outputId": "1d2efded-c8aa-41a5-a100-c72a2962d2d0"
   },
   "outputs": [
    {
     "name": "stdout",
     "output_type": "stream",
     "text": [
      "              Asghar\n",
      "        MohammadReza\n",
      "               Jamal\n",
      "              Nuisha\n",
      "              Maryam\n",
      "    ASGHAR\n",
      "AsgharMohammadRezaJamalNuishaMaryam\n"
     ]
    }
   ],
   "source": [
    "s1 = 'Asghar'\n",
    "s2 = 'MohammadReza'\n",
    "s3 = 'Jamal'\n",
    "s4 = 'Nuisha'\n",
    "s5 = 'Maryam'\n",
    "l = max(len(s1),len(s2),len(s3),len(s4),len(s5))\n",
    "print(s1.rjust(20))\n",
    "print(s2.rjust(20))\n",
    "print(s3.rjust(20))\n",
    "print(s4.rjust(20))\n",
    "print(s5.rjust(20))\n",
    "s = (s1.upper()).rjust(10)\n",
    "print(s)\n",
    "s6  = s1 + s2 + s3 + s4 + s5\n",
    "print(s6)"
   ]
  },
  {
   "cell_type": "code",
   "execution_count": 1,
   "metadata": {},
   "outputs": [
    {
     "name": "stdout",
     "output_type": "stream",
     "text": [
      "jamal\n",
      "  jamal\n",
      "   jamal   \n"
     ]
    }
   ],
   "source": [
    "s = 'jamal'\n",
    "print(s)\n",
    "print(s.rjust(7))\n",
    "print(s.center(11))\n"
   ]
  },
  {
   "cell_type": "code",
   "execution_count": 1,
   "metadata": {},
   "outputs": [
    {
     "name": "stdout",
     "output_type": "stream",
     "text": [
      "    *    \n",
      "   ***   \n",
      "  *****  \n",
      " ******* \n",
      "*********\n"
     ]
    }
   ],
   "source": [
    "print('*'.center(9))\n",
    "print('***'.center(9))\n",
    "print('*****'.center(9))\n",
    "print('*******'.center(9))\n",
    "print('*********'.center(9))"
   ]
  },
  {
   "cell_type": "markdown",
   "metadata": {
    "id": "4AjtgSI2N8rI"
   },
   "source": [
    "In Python, single, double and triple quotes are used to denote a string.\n",
    "Most use single quotes when declaring a single character. \n",
    "Double quotes when declaring a line and triple quotes when declaring a paragraph/multiple lines."
   ]
  },
  {
   "cell_type": "code",
   "execution_count": 8,
   "metadata": {
    "colab": {
     "base_uri": "https://localhost:8080/"
    },
    "executionInfo": {
     "elapsed": 881,
     "status": "ok",
     "timestamp": 1648381840531,
     "user": {
      "displayName": "UT MATLAB",
      "photoUrl": "https://lh3.googleusercontent.com/a/default-user=s64",
      "userId": "08553643746335249860"
     },
     "user_tz": -270
    },
    "id": "t9clZFZkN8rJ",
    "outputId": "48039bbd-83da-4ec4-c785-69e63010d221"
   },
   "outputs": [
    {
     "name": "stdout",
     "output_type": "stream",
     "text": [
      "Hey\n",
      "Hey\n",
      "Hey's\n",
      "Asla\"\n"
     ]
    }
   ],
   "source": [
    "print ('Hey')\n",
    "print (\"Hey\")\n",
    "print (\"Hey's\")\n",
    "print ('Asla\"')"
   ]
  },
  {
   "cell_type": "code",
   "execution_count": 8,
   "metadata": {
    "colab": {
     "base_uri": "https://localhost:8080/"
    },
    "executionInfo": {
     "elapsed": 863,
     "status": "ok",
     "timestamp": 1648382225144,
     "user": {
      "displayName": "UT MATLAB",
      "photoUrl": "https://lh3.googleusercontent.com/a/default-user=s64",
      "userId": "08553643746335249860"
     },
     "user_tz": -270
    },
    "id": "B3LT3K6LN8rK",
    "outputId": "8b06db43-d350-44d0-afe2-3b14c447add7"
   },
   "outputs": [
    {
     "name": "stdout",
     "output_type": "stream",
     "text": [
      "My name is Jamal Kazazi\n",
      "\n",
      "I love Python.\n"
     ]
    }
   ],
   "source": [
    "print (\"\"\"My name is Jamal Kazazi\n",
    "\n",
    "I love Python.\"\"\") #پرینت مشخصات\n",
    "\n",
    "#thoopadsdjlksdlsmkl\n",
    "a =\"\"\"dsjfhifljlsfoidjfiar\n",
    "aioshfioajfljr\n",
    "ao;rhfoierhoiehr;ioer\n",
    "iohrfioheriohoeirhoierhioer\n",
    "\\ihreoiehroiehrgiehrgoiherg\n",
    "ioerhoeirhoierhoierhoeirhoerh\"\"\""
   ]
  },
  {
   "cell_type": "markdown",
   "metadata": {
    "id": "vwxb9hmlN8rL"
   },
   "source": [
    "Strings can be assigned to variable say _string1_ and _string2_ which can called when using the print statement."
   ]
  },
  {
   "cell_type": "markdown",
   "metadata": {
    "id": "kYiFLCWcN8rN"
   },
   "source": [
    "String concatenation is the \"addition\" of two strings. Observe that while concatenating there will be no space between the strings."
   ]
  },
  {
   "cell_type": "code",
   "execution_count": 11,
   "metadata": {
    "colab": {
     "base_uri": "https://localhost:8080/"
    },
    "executionInfo": {
     "elapsed": 485,
     "status": "ok",
     "timestamp": 1648382322031,
     "user": {
      "displayName": "UT MATLAB",
      "photoUrl": "https://lh3.googleusercontent.com/a/default-user=s64",
      "userId": "08553643746335249860"
     },
     "user_tz": -270
    },
    "id": "WESaJx6SN8rN",
    "outputId": "7ef28092-f2fd-418f-863f-e2ca77a2b996"
   },
   "outputs": [
    {
     "name": "stdout",
     "output_type": "stream",
     "text": [
      "HelloWorld!\n",
      "Hello World !\n"
     ]
    }
   ],
   "source": [
    "string1 = 'World'\n",
    "string2 = '!'\n",
    "print ('Hello' + string1 + string2)\n",
    "print('Hello' ,string1 ,string2)"
   ]
  },
  {
   "cell_type": "markdown",
   "metadata": {
    "id": "nlh9J6M3N8rO"
   },
   "source": [
    "Similarly, when using other data types\n",
    "\n",
    "    - %s -> string\n",
    "    - %d -> Integer\n",
    "    - %f -> Float\n",
    "    - %o -> Octal\n",
    "    - %x -> Hexadecimal\n",
    "    - %e -> exponential\n",
    "    \n",
    "This can be used for conversions inside the print statement itself."
   ]
  },
  {
   "cell_type": "code",
   "execution_count": 18,
   "metadata": {
    "colab": {
     "base_uri": "https://localhost:8080/"
    },
    "executionInfo": {
     "elapsed": 523,
     "status": "ok",
     "timestamp": 1648382387733,
     "user": {
      "displayName": "UT MATLAB",
      "photoUrl": "https://lh3.googleusercontent.com/a/default-user=s64",
      "userId": "08553643746335249860"
     },
     "user_tz": -270
    },
    "id": "NWMjAkuBN8rP",
    "outputId": "09239d79-7216-4f82-fa69-1e50b78a348f"
   },
   "outputs": [
    {
     "name": "stdout",
     "output_type": "stream",
     "text": [
      "Actual Number = 18\n",
      "Float of the number = 18.000000\n",
      "Octal equivalent of the number = 22\n",
      "Hexadecimal equivalent of the number = 12\n",
      "Exponential equivalent of the number = 1.800000e+01\n"
     ]
    }
   ],
   "source": [
    "print (\"Actual Number = %d\" %18)\n",
    "print (\"Float of the number = %f\" %18)\n",
    "print (\"Octal equivalent of the number = %o\" %18)\n",
    "print (\"Hexadecimal equivalent of the number = %x\" %18)\n",
    "print (\"Exponential equivalent of the number = %e\" %18)"
   ]
  },
  {
   "cell_type": "markdown",
   "metadata": {
    "id": "jXcQUeE8N8rP"
   },
   "source": [
    "When referring to multiple variables parenthesis is used."
   ]
  },
  {
   "cell_type": "code",
   "execution_count": 12,
   "metadata": {
    "colab": {
     "base_uri": "https://localhost:8080/"
    },
    "executionInfo": {
     "elapsed": 498,
     "status": "ok",
     "timestamp": 1648382435735,
     "user": {
      "displayName": "UT MATLAB",
      "photoUrl": "https://lh3.googleusercontent.com/a/default-user=s64",
      "userId": "08553643746335249860"
     },
     "user_tz": -270
    },
    "id": "-BHcDLkiN8rP",
    "outputId": "4ed47843-85d9-44e3-f392-72730ffdff38"
   },
   "outputs": [
    {
     "name": "stdout",
     "output_type": "stream",
     "text": [
      "Hello World !\n"
     ]
    }
   ],
   "source": [
    "print (\"Hello %s %s\" %(string1,string2))"
   ]
  },
  {
   "cell_type": "markdown",
   "metadata": {
    "id": "0nNh6s1iN8rQ"
   },
   "source": [
    "## Other Examples"
   ]
  },
  {
   "cell_type": "markdown",
   "metadata": {
    "id": "FcJJqDB8N8rQ"
   },
   "source": [
    "The following are other different ways the print statement can be put to use."
   ]
  },
  {
   "cell_type": "code",
   "execution_count": 13,
   "metadata": {
    "colab": {
     "base_uri": "https://localhost:8080/"
    },
    "executionInfo": {
     "elapsed": 517,
     "status": "ok",
     "timestamp": 1648382525119,
     "user": {
      "displayName": "UT MATLAB",
      "photoUrl": "https://lh3.googleusercontent.com/a/default-user=s64",
      "userId": "08553643746335249860"
     },
     "user_tz": -270
    },
    "id": "L2G0ZN7tN8rQ",
    "outputId": "35342564-8da8-4dbc-fd2a-b0e8eb0c5adf"
   },
   "outputs": [
    {
     "name": "stdout",
     "output_type": "stream",
     "text": [
      "I want %d to be printed here\n",
      "backslash : \\ \n",
      " Enter:\\n tab:\t \\t\n"
     ]
    }
   ],
   "source": [
    "print (\"I want %%d to be printed %s\" %'here')\n",
    "print('backslash : \\\\ \\n Enter:\\\\n tab:\\t \\\\t')"
   ]
  },
  {
   "cell_type": "code",
   "execution_count": 23,
   "metadata": {
    "colab": {
     "base_uri": "https://localhost:8080/"
    },
    "executionInfo": {
     "elapsed": 494,
     "status": "ok",
     "timestamp": 1648382616087,
     "user": {
      "displayName": "UT MATLAB",
      "photoUrl": "https://lh3.googleusercontent.com/a/default-user=s64",
      "userId": "08553643746335249860"
     },
     "user_tz": -270
    },
    "id": "peUwzOw0N8rR",
    "outputId": "089fb30f-3237-42ba-8bda-d8faf57d2eb7"
   },
   "outputs": [
    {
     "name": "stdout",
     "output_type": "stream",
     "text": [
      "jamal\n",
      "jamal\n",
      "jamal\n",
      "jamal\n",
      "jamal\n",
      "jamal\n",
      "jamal\n",
      "jamal\n",
      "jamal\n",
      "jamal\n",
      "\n"
     ]
    }
   ],
   "source": [
    "print ('jamal\\n'*10)"
   ]
  },
  {
   "cell_type": "code",
   "execution_count": 14,
   "metadata": {},
   "outputs": [
    {
     "name": "stdout",
     "output_type": "stream",
     "text": [
      "jamal with student number 123 has average 17.01 and his/her level is PhD\n",
      " Thank you\n",
      "\n"
     ]
    }
   ],
   "source": [
    "s1 = 'jamal'\n",
    "stdno = 123\n",
    "ave = 17.01\n",
    "magh = 'PhD'\n",
    "print('%s with student number %d has average %.2f and his/her level is %s\\n Thank you\\n'%(s1,stdno,ave,magh))"
   ]
  },
  {
   "cell_type": "code",
   "execution_count": null,
   "metadata": {
    "colab": {
     "base_uri": "https://localhost:8080/"
    },
    "executionInfo": {
     "elapsed": 1868,
     "status": "ok",
     "timestamp": 1648284631908,
     "user": {
      "displayName": "UT MATLAB",
      "photoUrl": "https://lh3.googleusercontent.com/a/default-user=s64",
      "userId": "08553643746335249860"
     },
     "user_tz": -270
    },
    "id": "NOPgOLTEN8rR",
    "outputId": "44363311-5c73-4b76-ab42-4217b6bfa3b8"
   },
   "outputs": [
    {
     "name": "stdout",
     "output_type": "stream",
     "text": [
      "Jan\n",
      "Feb\n",
      "Mar\n",
      "Apr\n",
      "May\n",
      "Jun\n",
      "Jul\n",
      "Aug\n"
     ]
    }
   ],
   "source": [
    "print (\"Jan\\nFeb\\nMar\\nApr\\nMay\\nJun\\nJul\\nAug\")"
   ]
  },
  {
   "cell_type": "code",
   "execution_count": null,
   "metadata": {
    "colab": {
     "base_uri": "https://localhost:8080/"
    },
    "executionInfo": {
     "elapsed": 12,
     "status": "ok",
     "timestamp": 1648284647276,
     "user": {
      "displayName": "UT MATLAB",
      "photoUrl": "https://lh3.googleusercontent.com/a/default-user=s64",
      "userId": "08553643746335249860"
     },
     "user_tz": -270
    },
    "id": "aPLjbL0mN8rR",
    "outputId": "195229d9-854e-406e-f6c9-d1acddad9bdb"
   },
   "outputs": [
    {
     "name": "stdout",
     "output_type": "stream",
     "text": [
      "I want \\n to be printed.\n"
     ]
    }
   ],
   "source": [
    "print (\"I want \\\\n to be printed.\")"
   ]
  },
  {
   "cell_type": "code",
   "execution_count": null,
   "metadata": {
    "colab": {
     "base_uri": "https://localhost:8080/"
    },
    "executionInfo": {
     "elapsed": 2,
     "status": "ok",
     "timestamp": 1648284660119,
     "user": {
      "displayName": "UT MATLAB",
      "photoUrl": "https://lh3.googleusercontent.com/a/default-user=s64",
      "userId": "08553643746335249860"
     },
     "user_tz": -270
    },
    "id": "5X2DGThmN8rS",
    "outputId": "e686d4d6-be9f-4c3a-976a-a6e0ce2da2fd"
   },
   "outputs": [
    {
     "name": "stdout",
     "output_type": "stream",
     "text": [
      "\n",
      "Routine:\n",
      "\t- Eat\n",
      "\t- Sleep\n",
      "\t- Repeat\n",
      "\n"
     ]
    }
   ],
   "source": [
    "print (\"\"\"\n",
    "Routine:\n",
    "\\t- Eat\n",
    "\\t- Sleep\\n\\t- Repeat\n",
    "\"\"\")"
   ]
  },
  {
   "cell_type": "markdown",
   "metadata": {
    "id": "lv_O_rg2N8rS"
   },
   "source": [
    "# PrecisionWidth and FieldWidth"
   ]
  },
  {
   "cell_type": "markdown",
   "metadata": {
    "id": "QMLYsqq_N8rS"
   },
   "source": [
    "Fieldwidth is the width of the entire number and precision is the width towards the right. One can alter these widths based on the requirements.\n",
    "\n",
    "The default Precision Width is set to 6."
   ]
  },
  {
   "cell_type": "code",
   "execution_count": 18,
   "metadata": {
    "colab": {
     "base_uri": "https://localhost:8080/",
     "height": 35
    },
    "executionInfo": {
     "elapsed": 1893,
     "status": "ok",
     "timestamp": 1648284672636,
     "user": {
      "displayName": "UT MATLAB",
      "photoUrl": "https://lh3.googleusercontent.com/a/default-user=s64",
      "userId": "08553643746335249860"
     },
     "user_tz": -270
    },
    "id": "KbDi2FLVN8rS",
    "outputId": "3b85f020-7684-4e7d-c1b4-4de619ef236e"
   },
   "outputs": [
    {
     "data": {
      "text/plain": [
       "'3.121312'"
      ]
     },
     "execution_count": 18,
     "metadata": {},
     "output_type": "execute_result"
    }
   ],
   "source": [
    "\"%f\" % 3.121312312312"
   ]
  },
  {
   "cell_type": "markdown",
   "metadata": {
    "id": "fuYtsEh7N8rT"
   },
   "source": [
    "Notice upto 6 decimal points are returned. To specify the number of decimal points, '%(fieldwidth).(precisionwidth)f' is used."
   ]
  },
  {
   "cell_type": "code",
   "execution_count": 19,
   "metadata": {
    "colab": {
     "base_uri": "https://localhost:8080/",
     "height": 35
    },
    "executionInfo": {
     "elapsed": 11,
     "status": "ok",
     "timestamp": 1648284679488,
     "user": {
      "displayName": "UT MATLAB",
      "photoUrl": "https://lh3.googleusercontent.com/a/default-user=s64",
      "userId": "08553643746335249860"
     },
     "user_tz": -270
    },
    "id": "IlpojTkuN8rT",
    "outputId": "d59febd2-ac35-4fd0-c9a8-b4cfd9cac002"
   },
   "outputs": [
    {
     "data": {
      "text/plain": [
       "'3.12131'"
      ]
     },
     "execution_count": 19,
     "metadata": {},
     "output_type": "execute_result"
    }
   ],
   "source": [
    "\"%.5f\" % 3.121312312312"
   ]
  },
  {
   "cell_type": "markdown",
   "metadata": {
    "id": "PCvkybtyN8rT"
   },
   "source": [
    "If the field width is set more than the necessary than the data right aligns itself to adjust to the specified values."
   ]
  },
  {
   "cell_type": "code",
   "execution_count": 16,
   "metadata": {
    "colab": {
     "base_uri": "https://localhost:8080/",
     "height": 35
    },
    "executionInfo": {
     "elapsed": 22,
     "status": "ok",
     "timestamp": 1648284688688,
     "user": {
      "displayName": "UT MATLAB",
      "photoUrl": "https://lh3.googleusercontent.com/a/default-user=s64",
      "userId": "08553643746335249860"
     },
     "user_tz": -270
    },
    "id": "ZpYm20GVN8rT",
    "outputId": "1d8b4639-0fc3-43d7-9c38-9237bcb76055"
   },
   "outputs": [
    {
     "data": {
      "text/plain": [
       "'003.12131'"
      ]
     },
     "execution_count": 16,
     "metadata": {},
     "output_type": "execute_result"
    }
   ],
   "source": [
    "\"%09.5f\" % 3.121312312312"
   ]
  },
  {
   "cell_type": "code",
   "execution_count": 28,
   "metadata": {},
   "outputs": [
    {
     "name": "stdout",
     "output_type": "stream",
     "text": [
      "003.12131\n",
      "063.12131\n",
      "312.12131\n"
     ]
    }
   ],
   "source": [
    "print(\"%09.5f\" % 3.121312312312)\n",
    "print(\"%09.5f\" % 63.121312312312)\n",
    "print(\"%09.5f\" % 312.121312312312)"
   ]
  },
  {
   "cell_type": "markdown",
   "metadata": {
    "id": "rtj83qILN8rU"
   },
   "source": [
    "Zero padding is done by adding a 0 at the start of fieldwidth."
   ]
  },
  {
   "cell_type": "code",
   "execution_count": 14,
   "metadata": {
    "colab": {
     "base_uri": "https://localhost:8080/",
     "height": 36
    },
    "executionInfo": {
     "elapsed": 532,
     "status": "ok",
     "timestamp": 1648382919219,
     "user": {
      "displayName": "UT MATLAB",
      "photoUrl": "https://lh3.googleusercontent.com/a/default-user=s64",
      "userId": "08553643746335249860"
     },
     "user_tz": -270
    },
    "id": "0jNcjTmGN8rU",
    "outputId": "4647e446-280f-4efb-82bf-3b7a17b180bd"
   },
   "outputs": [
    {
     "data": {
      "text/plain": [
       "'00000000000003.12131'"
      ]
     },
     "execution_count": 14,
     "metadata": {},
     "output_type": "execute_result"
    }
   ],
   "source": [
    "\"%020.5f\" % 3.121312312312"
   ]
  },
  {
   "cell_type": "markdown",
   "metadata": {
    "id": "66M3-npmN8rV"
   },
   "source": [
    "'+' sign can be returned at the beginning of a positive number by adding a + sign at the beginning of the field width."
   ]
  },
  {
   "cell_type": "code",
   "execution_count": null,
   "metadata": {
    "colab": {
     "base_uri": "https://localhost:8080/"
    },
    "executionInfo": {
     "elapsed": 6250,
     "status": "ok",
     "timestamp": 1648284743669,
     "user": {
      "displayName": "UT MATLAB",
      "photoUrl": "https://lh3.googleusercontent.com/a/default-user=s64",
      "userId": "08553643746335249860"
     },
     "user_tz": -270
    },
    "id": "_8l-gbMGN8rV",
    "outputId": "a918891e-0644-4a3e-bff7-d6836bbae27b"
   },
   "outputs": [
    {
     "name": "stdout",
     "output_type": "stream",
     "text": [
      "+3.121312\n",
      "-3.121312\n",
      "-3.121312\n"
     ]
    }
   ],
   "source": [
    "print (\"%+9f\" % 3.121312312312)\n",
    "print (\"% 9f\" % -3.121312312312)\n",
    "print (\"%+9f\" % -3.121312312312)"
   ]
  },
  {
   "cell_type": "markdown",
   "metadata": {
    "id": "xKXL1kQ2N8rV"
   },
   "source": [
    "As mentioned above, the data right aligns itself when the field width mentioned is larger than the actualy field width. But left alignment can be done by specifying a negative symbol in the field width."
   ]
  },
  {
   "cell_type": "code",
   "execution_count": 30,
   "metadata": {
    "colab": {
     "base_uri": "https://localhost:8080/",
     "height": 36
    },
    "executionInfo": {
     "elapsed": 577,
     "status": "ok",
     "timestamp": 1648383430315,
     "user": {
      "displayName": "UT MATLAB",
      "photoUrl": "https://lh3.googleusercontent.com/a/default-user=s64",
      "userId": "08553643746335249860"
     },
     "user_tz": -270
    },
    "id": "JT6XBhdsN8rW",
    "outputId": "c97ed8b1-728f-475b-a403-856e5c6d2d7b"
   },
   "outputs": [
    {
     "data": {
      "application/vnd.google.colaboratory.intrinsic+json": {
       "type": "string"
      },
      "text/plain": [
       "'1245.12  '"
      ]
     },
     "execution_count": 30,
     "metadata": {},
     "output_type": "execute_result"
    }
   ],
   "source": [
    "\"%-9.3f\" % 3.121312312312\n",
    "'%-9.2f' %1245.1234567"
   ]
  },
  {
   "cell_type": "code",
   "execution_count": 17,
   "metadata": {
    "colab": {
     "base_uri": "https://localhost:8080/"
    },
    "executionInfo": {
     "elapsed": 511,
     "status": "ok",
     "timestamp": 1648383284270,
     "user": {
      "displayName": "UT MATLAB",
      "photoUrl": "https://lh3.googleusercontent.com/a/default-user=s64",
      "userId": "08553643746335249860"
     },
     "user_tz": -270
    },
    "id": "_UUjQ3HHcBQP",
    "outputId": "29dfdf3a-dae3-451e-95ca-2c471b2b6c3b"
   },
   "outputs": [
    {
     "name": "stdout",
     "output_type": "stream",
     "text": [
      "10 20 30 Jamal\n",
      "10 20 30\n",
      "Jamal\n",
      "10 20 30Jamal\n",
      "10@20@30\n",
      "102030\n"
     ]
    }
   ],
   "source": [
    "print(10,20,30,end=' ')\n",
    "print('Jamal')\n",
    "print(10,20,30,end='\\n')\n",
    "print('Jamal')\n",
    "print(10,20,30,end='')\n",
    "print('Jamal', end = '\\n')\n",
    "print(10,20,30,sep = '@')\n",
    "print(10,20,30,sep = '')"
   ]
  },
  {
   "cell_type": "markdown",
   "metadata": {
    "id": "wxyhDqDqdWPr"
   },
   "source": [
    "می توان برای نمایش متغیر در بین متن ها از گذاشتن حرف اف در ابتدای رشته استفاده کرد\n",
    "در این صورت باید مکان متغیرها را با آکولاد نمایش داد\n",
    "\n",
    "\n"
   ]
  },
  {
   "cell_type": "code",
   "execution_count": 18,
   "metadata": {},
   "outputs": [
    {
     "name": "stdout",
     "output_type": "stream",
     "text": [
      "x is 19\n",
      "x is 19\n"
     ]
    }
   ],
   "source": [
    "x = 19\n",
    "print('x is %d'%x)\n",
    "print(f'x is {x}')"
   ]
  },
  {
   "cell_type": "markdown",
   "metadata": {},
   "source": [
    "نوشتن 1+2 = 3"
   ]
  },
  {
   "cell_type": "code",
   "execution_count": 19,
   "metadata": {
    "colab": {
     "base_uri": "https://localhost:8080/"
    },
    "executionInfo": {
     "elapsed": 503,
     "status": "ok",
     "timestamp": 1648384741181,
     "user": {
      "displayName": "UT MATLAB",
      "photoUrl": "https://lh3.googleusercontent.com/a/default-user=s64",
      "userId": "08553643746335249860"
     },
     "user_tz": -270
    },
    "id": "Ct_2CZ6mco5e",
    "outputId": "43022abd-8231-4d78-b7df-3251e42ee7ee"
   },
   "outputs": [
    {
     "name": "stdout",
     "output_type": "stream",
     "text": [
      "x+y = 1 + 2 = 3\n"
     ]
    }
   ],
   "source": [
    "x = 1\n",
    "y = 2\n",
    "print(f'x+y = {x} + {y} = {x+y}')\n"
   ]
  },
  {
   "cell_type": "code",
   "execution_count": 20,
   "metadata": {},
   "outputs": [
    {
     "name": "stdout",
     "output_type": "stream",
     "text": [
      "x+y = 1 + 2 = 3\n"
     ]
    }
   ],
   "source": [
    "print('x+y = %d + %d = %d'%(x,y,x+y))"
   ]
  },
  {
   "cell_type": "code",
   "execution_count": null,
   "metadata": {},
   "outputs": [],
   "source": []
  }
 ],
 "metadata": {
  "colab": {
   "collapsed_sections": [],
   "name": "02.ipynb",
   "provenance": []
  },
  "kernelspec": {
   "display_name": "Python 3 (ipykernel)",
   "language": "python",
   "name": "python3"
  },
  "language_info": {
   "codemirror_mode": {
    "name": "ipython",
    "version": 3
   },
   "file_extension": ".py",
   "mimetype": "text/x-python",
   "name": "python",
   "nbconvert_exporter": "python",
   "pygments_lexer": "ipython3",
   "version": "3.9.4"
  }
 },
 "nbformat": 4,
 "nbformat_minor": 1
}
