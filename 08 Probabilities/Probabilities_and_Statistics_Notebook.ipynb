{
 "cells": [
  {
   "cell_type": "markdown",
   "id": "a5e44611",
   "metadata": {
    "direction": "rtl"
   },
   "source": [
    "<div style=\"direction:rtl;line-height:300%;\">\n",
    "<div align=center>\n",
    "<font face=\"B Nazanin\" size=3>\n",
    "    به نام خدا\n",
    "    </font>\n",
    "    <br>\n",
    "    <br>\n",
    "    <font face=\"B Nazanin\" size=5>\n",
    "        <font color=#FF7500>\n",
    "      آکادمی همراه اول\n",
    "        </font>\n",
    "           <br><br>\n",
    "        دورۀ آشنایی با پایتون\n",
    "        <br>\n",
    "        <br>\n",
    "<b>        آشنایی با آمار و احتمالات در پایتون <br> \n",
    "    </b>       \n",
    "   \n",
    "   </font>\n",
    "    <br>\n",
    "<font face=\"B Nazanin\" size=4 color = green>\n",
    "با استفاده از کتابخانه‌های Numpy\n",
    "    </font>\n",
    "           <p> </p>\n",
    "    <font face=\"B Nazanin\" size=5>\n",
    "    جمال کزازی\n",
    "    </font>\n",
    "    <br>\n",
    "    <br>\n",
    "    </div>\n",
    "    </div>"
   ]
  },
  {
   "cell_type": "markdown",
   "id": "b10de41a",
   "metadata": {
    "direction": "rtl"
   },
   "source": [
    "<hr>\n",
    "<font face=\"B Nazanin\"> \n",
    "    <h2>\n",
    "بخش اول) آمار در پایتون\n",
    "    </h2>\n",
    "    <br>\n",
    "    <font size=3>\n",
    "        <p> </p>\n",
    "*نکته: در بخش اول و دوم، مباحث با فرض این که دانشجویان آشنایی کامل با مباحث آمار و احتمالات دارند، عنوان شده‌اند. <br>\n",
    "    </font>\n",
    "    </font>    "
   ]
  },
  {
   "cell_type": "markdown",
   "id": "3a39e708",
   "metadata": {},
   "source": [
    "<center><img src='NumPy_Statistical.png' width=80% height=80%></center>"
   ]
  },
  {
   "cell_type": "markdown",
   "id": "72799027",
   "metadata": {
    "direction": "rtl"
   },
   "source": [
    "<hr>\n",
    "<font face=\"B Nazanin\"> \n",
    "    <h3>\n",
    "بیشینه    \n",
    "    </h3>\n",
    "    <br>\n",
    "    <font size=3>\n",
    "        <p> </p>\n",
    "برای محاسبۀ بیشینه مقدار یک آرایه در هر axis از متد amax استفاده می‌شود. \n",
    "    </font>\n",
    "    </font>    "
   ]
  },
  {
   "cell_type": "code",
   "execution_count": 2,
   "id": "38361a2c",
   "metadata": {},
   "outputs": [
    {
     "name": "stdout",
     "output_type": "stream",
     "text": [
      "100\n"
     ]
    }
   ],
   "source": [
    "import numpy as np\n",
    "array = np.array([1, 4, 9, 16, 25, 36, 49, 64, 81, 100])\n",
    "\n",
    "arr_max = np.amax(array)\n",
    "print(arr_max)"
   ]
  },
  {
   "cell_type": "markdown",
   "id": "d58ebf75",
   "metadata": {
    "direction": "rtl"
   },
   "source": [
    "<font face=\"B Nazanin\"> \n",
    "    <h3>\n",
    "کمینه    \n",
    "    </h3>\n",
    "    <br>\n",
    "    <font size=3>\n",
    "        <p> </p>\n",
    "برای محاسبۀ کمینه مقدار یک آرایه در هر axis از متد amin استفاده می‌شود. \n",
    "    </font>\n",
    "    </font>    "
   ]
  },
  {
   "cell_type": "code",
   "execution_count": 3,
   "id": "a62d4d5d",
   "metadata": {},
   "outputs": [
    {
     "name": "stdout",
     "output_type": "stream",
     "text": [
      "1\n"
     ]
    }
   ],
   "source": [
    "arr_min = np.amin(array)\n",
    "print(arr_min)"
   ]
  },
  {
   "cell_type": "markdown",
   "id": "158d12f2",
   "metadata": {
    "direction": "rtl"
   },
   "source": [
    "<font face=\"B Nazanin\"> \n",
    "    <h3>\n",
    "میانگین    </h3>\n",
    "    <br>\n",
    "    <font size=3>\n",
    "        <p> </p>\n",
    "یکی از مشخصه‌های آماری مهم یک آرایه (سیگنال)، میانگین مقادیر آن است. میانگین‌گیری با استفاده از متد mean صورت می‌گیرد. \n",
    "    </font>\n",
    "    </font>    "
   ]
  },
  {
   "cell_type": "markdown",
   "id": "8898242c",
   "metadata": {},
   "source": [
    "<center><img src='mean.png' width=25% height=25%></center>"
   ]
  },
  {
   "cell_type": "code",
   "execution_count": 4,
   "id": "a263a56c",
   "metadata": {},
   "outputs": [
    {
     "name": "stdout",
     "output_type": "stream",
     "text": [
      "38.5\n"
     ]
    }
   ],
   "source": [
    "arr_mean = np.mean(array)\n",
    "print (arr_mean)"
   ]
  },
  {
   "cell_type": "markdown",
   "id": "9228c919",
   "metadata": {
    "direction": "rtl"
   },
   "source": [
    "<font face=\"B Nazanin\"> \n",
    "    <h3>\n",
    "میانه\n",
    "    </h3>\n",
    "    <br>\n",
    "    <font size=3>\n",
    "        <p> </p>\n",
    "دومین مشخصۀ مهم آماری میانه است. میانه همان چارک دوم است و وسط یک آرایه را مشخص می‌کند.\n",
    "    </font>\n",
    "    </font>    "
   ]
  },
  {
   "cell_type": "code",
   "execution_count": 5,
   "id": "41b517c4",
   "metadata": {},
   "outputs": [
    {
     "name": "stdout",
     "output_type": "stream",
     "text": [
      "30.5\n"
     ]
    }
   ],
   "source": [
    "arr_median = np.median(array) # (25+36)/2 = 30.5\n",
    "print(arr_median)"
   ]
  },
  {
   "cell_type": "markdown",
   "id": "e1e0a26d",
   "metadata": {
    "direction": "rtl"
   },
   "source": [
    "<font face=\"B Nazanin\"> \n",
    "    <h3>\n",
    "انحراف معیار\n",
    "    </h3>\n",
    "    <br>\n",
    "    <font size=3>\n",
    "        <p> </p>\n",
    "انحراف معیار یکی از شاخص‌های پراکندگی داده‌ها است که نشان می‌دهد داده‌ها به طور متوسط چقدر با میانگین آرایه فاصله دارند.\n",
    "    </font>\n",
    "    </font>    "
   ]
  },
  {
   "cell_type": "markdown",
   "id": "85838360",
   "metadata": {},
   "source": [
    "<center><img src='var1.png' width=25% height=25%></center>"
   ]
  },
  {
   "cell_type": "code",
   "execution_count": 6,
   "id": "2c1cbaf1",
   "metadata": {},
   "outputs": [
    {
     "name": "stdout",
     "output_type": "stream",
     "text": [
      "32.41990129534635\n"
     ]
    }
   ],
   "source": [
    "arr_std = np.std(array)\n",
    "print(arr_std)"
   ]
  },
  {
   "cell_type": "markdown",
   "id": "da0742a2",
   "metadata": {
    "direction": "rtl"
   },
   "source": [
    "<font face=\"B Nazanin\"> \n",
    "    <h3>\n",
    "واریانس\n",
    "    </h3>\n",
    "    <br>\n",
    "    <font size=3>\n",
    "        <p> </p>\n",
    "واریانس شاخصی دیگر از شاخص‌های پراکندگی داده‌ها است که میانگین مربع فاصلۀ داده‌ها را از مقدار متوسط آرایه نشان می‌دهد.\n",
    "    </font>\n",
    "    </font>    "
   ]
  },
  {
   "cell_type": "markdown",
   "id": "24485020",
   "metadata": {},
   "source": [
    "<center><img src='std3.png' width=25% height=25%></center>"
   ]
  },
  {
   "cell_type": "code",
   "execution_count": 7,
   "id": "809590fc",
   "metadata": {},
   "outputs": [
    {
     "name": "stdout",
     "output_type": "stream",
     "text": [
      "1051.05\n"
     ]
    }
   ],
   "source": [
    "arr_var = np.var(array)\n",
    "print(arr_var)"
   ]
  },
  {
   "cell_type": "markdown",
   "id": "0c94f07a",
   "metadata": {
    "direction": "rtl"
   },
   "source": [
    "<font face=\"B Nazanin\"> \n",
    "    <h3>\n",
    "معدل\n",
    "    </h3>\n",
    "    <br>\n",
    "    <font size=3>\n",
    "        <p> </p>\n",
    "معدل شاخصی از شاخص‌های آماری است و با مفهوم میانگین وزن‌دار برابری می‌کند. برای محاسبۀ میانگین وزن‌دار(معدل) می‌توان از متد average استفاده کرد. البته در صورتی که پارامتر وزن برای این متد تعیین نگردد، میانگین را محاسبه می‌کند.\n",
    "    </font>\n",
    "    </font>    "
   ]
  },
  {
   "cell_type": "code",
   "execution_count": 8,
   "id": "ebe6046f",
   "metadata": {},
   "outputs": [
    {
     "name": "stdout",
     "output_type": "stream",
     "text": [
      "42.43197026022305\n"
     ]
    }
   ],
   "source": [
    "arr_ave = np.average(array, weights = [1, 1.2, 1.23, 1.06, 1.56, 1.75, 1.15, 1.41, 1.09, 2])\n",
    "print(arr_ave)"
   ]
  },
  {
   "cell_type": "markdown",
   "id": "d316d33b",
   "metadata": {
    "direction": "rtl"
   },
   "source": [
    "<font face=\"B Nazanin\"> \n",
    "    <h3>\n",
    "صدک\n",
    "    </h3>\n",
    "    <br>\n",
    "    <font size=3>\n",
    "        <p> </p>\n",
    "صدک شاخصی است که مشخص می‌کند درصد خاصی از داده‌ها کمتر از مقدار آن صدک هستند. برای مثال صدک 30ام، یک متغیر تصادفی است که 30 درصد داده‌ها از این متغیر تصادفی کمتر هستند. syntax این متد به این صورت است: \n",
    "    </font>\n",
    "    </font>    "
   ]
  },
  {
   "cell_type": "code",
   "execution_count": 9,
   "id": "242b3ad1",
   "metadata": {},
   "outputs": [
    {
     "name": "stdout",
     "output_type": "stream",
     "text": [
      "25 percent RV:  10.75\n",
      "50 percent RV:  30.5\n",
      "75 percent RV:  60.25\n"
     ]
    }
   ],
   "source": [
    "# rand_val = np.percentile(array, percent)\n",
    "\n",
    "rand_val = np.percentile(array, 50) # 50 percent range of array like median\n",
    "rand_val_1 = np.percentile(array, 25) # 25 percent range of array\n",
    "rand_val_2 = np.percentile(array, 75) # 75 percent range of array\n",
    "\n",
    "print(\"25 percent RV: \", rand_val_1)\n",
    "print(\"50 percent RV: \", rand_val)\n",
    "print(\"75 percent RV: \", rand_val_2)"
   ]
  },
  {
   "cell_type": "markdown",
   "id": "90403e9a",
   "metadata": {
    "direction": "rtl"
   },
   "source": [
    "<font face=\"B Nazanin\"> \n",
    "    <h3>\n",
    "Peak to Peak\n",
    "    </h3>\n",
    "    <br>\n",
    "    <font size=3>\n",
    "        <p> </p>\n",
    "فاصلۀ بین دو پیک یا به اصطلاح peak to peak کوچکترین بازه‌ای است که همۀ داده‌ها را در یک axis در بر می‌گیرد. عملا می‌توان گفت مقدار peak to peak برابر است با max -min. \n",
    "    </font>\n",
    "    </font>    "
   ]
  },
  {
   "cell_type": "code",
   "execution_count": 10,
   "id": "33ff2ea4",
   "metadata": {},
   "outputs": [
    {
     "name": "stdout",
     "output_type": "stream",
     "text": [
      "99\n"
     ]
    }
   ],
   "source": [
    "arr_p2p = np.ptp(array)\n",
    "print(arr_p2p)"
   ]
  },
  {
   "cell_type": "markdown",
   "id": "65d4b05d",
   "metadata": {
    "direction": "rtl"
   },
   "source": [
    "<hr>\n",
    "<font face=\"B Nazanin\"> \n",
    "    <h2>\n",
    "بخش دوم) احتمالات در پایتون\n",
    "    </h2>\n",
    "    <br>\n",
    "    <font size=3>\n",
    "        <p> </p>\n",
    "در این بخش به متغیرهای تصادفی مختلف با انواع توزیع‌ها می‌پردازیم. آن‌ها را ایجاد و رسم می‌کنیم. \n",
    "        <br>\n",
    "    </font>\n",
    "    </font>    "
   ]
  },
  {
   "cell_type": "markdown",
   "id": "744359cb",
   "metadata": {},
   "source": [
    "<center><img src='Probability.png' width=80% height=80%></center>"
   ]
  },
  {
   "cell_type": "markdown",
   "id": "de654832",
   "metadata": {
    "direction": "rtl"
   },
   "source": [
    "<font face=\"B Nazanin\"> \n",
    "    <font size=3>\n",
    "        <p> </p>\n",
    "وقتی صحبت از اعداد و متغیرهای تصادفی می‌شود، توقع ما آن است که نتوانیم آن‌ها را دقیقا پیش‌بینی کنیم و اینجا پای احتمال به میام می‌آید. اعداد تصادفی در کامپیوتر، توسط تابعی(یا توابعی) تولید می‌شوند که اگر الگوریتم و ورودی‌های آن را بدانیم می‌توانیم عدد تصادفی تولید شده را پیش‌بینی کنیم. حال اگر ورودی این تابع (تابع تولید عدد تصادفی) نیز توسط خود کامپیوتر (و نه ورودی خارج از کامپیوتر) داده شود تنها با دانستن state (وضعیت) کامپیوتر و الگوریتم تابع، عدد تصادفی را دقیقا می‌توانیم اعلام کنیم. معمولا ورودی این تابع (تابع تولید عدد تصادفی)، زمانِ سیستم یا اطلاعات از این دست هستند. به همین دلیل به اعداد تصادفی تولید شده توسط کامپیوتر اعداد شبه تصادفی (pseudo random) می‌گوییم و نه اعداد تصادفی! \n",
    "        <br>\n",
    "    </font>\n",
    "    </font>    "
   ]
  },
  {
   "cell_type": "markdown",
   "id": "a442a8ec",
   "metadata": {
    "direction": "rtl"
   },
   "source": [
    "<font face=\"B Nazanin\"> \n",
    "    <h3>\n",
    "تولید اعداد تصادفی صحیح \n",
    "    </h3>\n",
    "    <br>\n",
    "    <font size=3>\n",
    "        <p> </p>\n",
    "برای این که اعداد تصادفی صحیح تولید کنیم از متد randint استفاده کنیم. برای استفاده از این متد باید random را از کتابخانۀ numpy در کد خود import کنیم. با استفاده از این متد می‌توان آرایه‌ای از اعداد تصادفی صحیح در بازۀ دلخواه و با ابعاد دلخواه تولید کرد. برای مثال در کد زیر یک آرایۀ 6*5 از اعداد صحیح تصادفی با مقادیر بین 0 تا 30 تولید می‌کنیم: \n",
    "    </font>\n",
    "    </font>    "
   ]
  },
  {
   "cell_type": "code",
   "execution_count": 11,
   "id": "56ec3df0",
   "metadata": {},
   "outputs": [
    {
     "name": "stdout",
     "output_type": "stream",
     "text": [
      "[[ 8 12  3 10 26 24]\n",
      " [ 0 27 24  8  7  4]\n",
      " [ 4  6 12  6 29 21]\n",
      " [25 27 20 14 13 11]\n",
      " [14 10 22 23 11  3]]\n"
     ]
    }
   ],
   "source": [
    "from numpy import random\n",
    "rand_array = random.randint(30, size = [5, 6])\n",
    "print(rand_array)"
   ]
  },
  {
   "cell_type": "markdown",
   "id": "4b4c494a",
   "metadata": {
    "direction": "rtl"
   },
   "source": [
    "<font face=\"B Nazanin\"> \n",
    "    <h3>\n",
    "تولید اعداد تصادفی اعشاری \n",
    "    </h3>\n",
    "    <br>\n",
    "    <font size=3>\n",
    "        <p> </p>\n",
    "برای این که اعداد تصادفی اعشاری باید از متد دیگری به نام rand استفاده کرد. این متد یک آرایه از اعداد تصادفی بین 0 و 1 و با ابعاد دلخواه تولید می‌کند. در مثال زیر یک آرایه از اعداد تصادفی بین 0 و 1 با ابعاد 6*4 تولید می‌کنیم. در ادامه آرایه‌ای دیگر از اعداد تصادفی بین 6 تا 10 و با همین ابعاد ایجاد می‌کنیم. \n",
    "    </font>\n",
    "    </font>    "
   ]
  },
  {
   "cell_type": "code",
   "execution_count": 12,
   "id": "2b9c32f6",
   "metadata": {},
   "outputs": [
    {
     "name": "stdout",
     "output_type": "stream",
     "text": [
      "[[0.33763267 0.8877106  0.21499965 0.19573894 0.64369297 0.2613717 ]\n",
      " [0.38271877 0.32475835 0.74475298 0.76216371 0.47595613 0.87256111]\n",
      " [0.68463764 0.43960693 0.68140011 0.72997046 0.41179795 0.6873757 ]\n",
      " [0.94062513 0.09016187 0.69224775 0.45500111 0.73544122 0.11343629]] \n",
      "\n",
      "[[7.77271306 6.8041087  6.30805497 7.96548979 7.01759645 9.64541557]\n",
      " [6.89246989 7.63728867 7.06134931 8.02858341 6.82016124 8.63661206]\n",
      " [9.71124656 7.84547039 8.87042718 8.76211754 7.60487589 9.21633469]\n",
      " [6.94949745 8.71927037 8.78129101 9.49407072 8.58394157 8.77678918]]\n"
     ]
    }
   ],
   "source": [
    "float_rand_array = random.rand(4, 6)\n",
    "print(float_rand_array, '\\n')\n",
    "\n",
    "distance = 10 - 6\n",
    "float_rand_array_2 = random.rand(4, 6)\n",
    "float_rand_array_2 = float_rand_array_2 * distance + 6\n",
    "print(float_rand_array_2)"
   ]
  },
  {
   "cell_type": "markdown",
   "id": "187ed0ae",
   "metadata": {
    "direction": "rtl"
   },
   "source": [
    "<font face=\"B Nazanin\"> \n",
    "    <h3>\n",
    "تولید اعداد تصادفی از آرایه \n",
    "    </h3>\n",
    "    <br>\n",
    "    <font size=3>\n",
    "        <p> </p>\n",
    "با استفاده از متد choice می‌توان یکی از اعضای آرایۀ ورودی را به صورت تصادفی انتخاب کرد. اگر ابعادی برای خروجی مشخص شود می‌توان یک آرایه با ابعاد دلخواه و با اعداد تصادفی (از بین اعداد آرایۀ ورودی) ایجاد کرد. \n",
    "    </font>\n",
    "    </font>    "
   ]
  },
  {
   "cell_type": "code",
   "execution_count": 13,
   "id": "5ae1a92a",
   "metadata": {},
   "outputs": [
    {
     "name": "stdout",
     "output_type": "stream",
     "text": [
      "[[16 36 49 36 25]\n",
      " [ 1  9  1 64 49]\n",
      " [36 64 64  1 16]\n",
      " [ 4 36  1 16  9]\n",
      " [36 36  9 64 36]]\n"
     ]
    }
   ],
   "source": [
    "input_array = np.array([1, 4, 9, 16, 25, 36, 49, 64])\n",
    "rand_array = random.choice(input_array, size=[5, 5])\n",
    "print(rand_array)"
   ]
  },
  {
   "cell_type": "markdown",
   "id": "31867e9d",
   "metadata": {
    "direction": "rtl"
   },
   "source": [
    "<hr>\n",
    "<font face=\"B Nazanin\"> \n",
    "    <h3>\n",
    "توزیع تصادفی\n",
    "    </h3>\n",
    "    <br>\n",
    "    <font size=3>\n",
    "        <p> </p>\n",
    "منظور از توزیع تصادفی آن است که هر عدد در یک بازۀ اعداد را با چه احتمالی می‌توان تولید کرد. برای مثال فضای پیشامد ما (20 ,15 ,10 ,5 ,1) است و احتمال انتخاب هر کدام از این اعداد برابر است با (0.1 ,0.2 ,0.25 ,0.25 ,0.2) که به این مجموعه احتمالا توزیع احتمال می‌گویند. حال می‌توان با متد choice و یک آرایه از اعداد و توزیع احتمال آن‌ها آرایه‌ای با ابعاد دلخواه ایجاد کرد.\n",
    "        \n",
    "اگر توزیع احتمال را به صورت تجربی به‌دست آوریم به توزیع احتمال ورودی نزدیک است. \n",
    "    </font>\n",
    "    </font>    "
   ]
  },
  {
   "cell_type": "code",
   "execution_count": 14,
   "id": "d80e8e87",
   "metadata": {},
   "outputs": [
    {
     "name": "stdout",
     "output_type": "stream",
     "text": [
      "[[5 5 5 ... 5 5 5]\n",
      " [3 5 7 ... 5 5 5]\n",
      " [1 7 1 ... 5 5 5]\n",
      " ...\n",
      " [5 5 5 ... 5 5 5]\n",
      " [5 5 3 ... 3 5 9]\n",
      " [5 7 1 ... 9 3 5]]\n",
      "[  28.  231. 1776.  256.  209.]\n",
      "[0.0112 0.0924 0.7104 0.1024 0.0836]\n"
     ]
    }
   ],
   "source": [
    "input_array = np.array([1, 3, 5, 7, 9])\n",
    "prob_dist = np.array([0.01, 0.1, 0.7, 0.1, 0.09])\n",
    "rand_array = random.choice(input_array, p = prob_dist, size = [50, 50])\n",
    "print(rand_array)\n",
    "flat_array = rand_array.reshape(-1)\n",
    "count_array = np.zeros(5)\n",
    "for i in flat_array:\n",
    "    count_array[int((i-1)/2)] = count_array[int((i-1)/2)] + 1\n",
    "\n",
    "practical_dist = count_array / flat_array.shape[0]\n",
    "print(count_array)\n",
    "print(practical_dist)"
   ]
  },
  {
   "cell_type": "markdown",
   "id": "bd0a79b6",
   "metadata": {
    "direction": "rtl"
   },
   "source": [
    "<hr>\n",
    "<font face=\"B Nazanin\"> \n",
    "    <h3>\n",
    "جایگشت تصادفی آرایه\n",
    "    </h3>\n",
    "    <br>\n",
    "    <font size=3>\n",
    "        <p> </p>\n",
    "برای این که بتوان یک جایگشت تصادفی از یک آرایه را به‌دست آوریم از متد permutation استفاده می‌کنیم. \n",
    "    </font>\n",
    "    </font>    "
   ]
  },
  {
   "cell_type": "code",
   "execution_count": 15,
   "id": "01eb1b42",
   "metadata": {},
   "outputs": [
    {
     "name": "stdout",
     "output_type": "stream",
     "text": [
      "[ 8 13 18  5  1]\n"
     ]
    }
   ],
   "source": [
    "my_array = np.array([1, 5, 8, 13, 18])\n",
    "permutated_arr = random.permutation(my_array)\n",
    "print(permutated_arr)"
   ]
  },
  {
   "cell_type": "markdown",
   "id": "6dc54cd1",
   "metadata": {
    "direction": "rtl"
   },
   "source": [
    "<hr>\n",
    "<font face=\"B Nazanin\"> \n",
    "    <h3>\n",
    "نمایش توزیع‌های تصادفی\n",
    "    </h3>\n",
    "    <br>\n",
    "    <font size=3>\n",
    "        <p> </p>\n",
    "برای نمایش توزیع‌های تصادفی از کتابخانۀ Seaborn استفاده می‌کنیم که از کتابخانۀ Matplotlib بهره می‌گیرد. برای نمایش یا عدم نمایش هیستوگرام، می‌توان مقدار پارامتر hist را برابر True یا False قرار داد. در مثال زیر خواهیم دید:\n",
    "    </font>\n",
    "    </font>    "
   ]
  },
  {
   "cell_type": "code",
   "execution_count": 16,
   "id": "50f1cfce",
   "metadata": {},
   "outputs": [
    {
     "name": "stderr",
     "output_type": "stream",
     "text": [
      "c:\\users\\thispc\\appdata\\local\\programs\\python\\python39\\lib\\site-packages\\seaborn\\distributions.py:2619: FutureWarning: `distplot` is a deprecated function and will be removed in a future version. Please adapt your code to use either `displot` (a figure-level function with similar flexibility) or `histplot` (an axes-level function for histograms).\n",
      "  warnings.warn(msg, FutureWarning)\n"
     ]
    },
    {
     "data": {
      "image/png": "[encoded data removed]",
      "text/plain": [
       "<Figure size 432x288 with 1 Axes>"
      ]
     },
     "metadata": {
      "needs_background": "light"
     },
     "output_type": "display_data"
    }
   ],
   "source": [
    "import matplotlib.pyplot as plt\n",
    "import seaborn as sns\n",
    "\n",
    "sns.distplot([1, 2, 3, 4, 5], hist = True)\n",
    "plt.show()"
   ]
  },
  {
   "cell_type": "markdown",
   "id": "c3bb86d3",
   "metadata": {
    "direction": "rtl"
   },
   "source": [
    "<hr>\n",
    "<font face=\"B Nazanin\"> \n",
    "    <h3>\n",
    "توزیع نرمال\n",
    "    </h3>\n",
    "    <br>\n",
    "    <font size=3>\n",
    "        <p> </p>\n",
    "توزیع نرمال یا همان توزیع گوسی، یکی از معروف‌ترین توزیع‌های تصادفی است که می‌تواند تعداد زیادی از پدیده‌های طبیعی را مدل کند. متغیرهای تصادفی دارای این توزیع با استفاده از متد normal به‌دست می‌آیند. این متد دارای 3 پارامتر است که عبارتند از:\n",
    "\n",
    "- loc: میانگین توزیع تصادفی\n",
    "- scale: انحراف معیار توزیع تصادفی\n",
    "- size: ابعاد آرایۀ خروجی\n",
    "        \n",
    "اگر loc و scale مشخص نگردد، توزیع به‌دست آمده، توزیع استاندارد خواهد بود.\n",
    "    </font>\n",
    "    </font>    "
   ]
  },
  {
   "cell_type": "markdown",
   "id": "5ea74f72",
   "metadata": {},
   "source": [
    "<center><img src='normal-distribution-formula.png' width=25% height=25%></center>"
   ]
  },
  {
   "cell_type": "code",
   "execution_count": 28,
   "id": "f3a39069",
   "metadata": {},
   "outputs": [
    {
     "name": "stderr",
     "output_type": "stream",
     "text": [
      "c:\\users\\thispc\\appdata\\local\\programs\\python\\python39\\lib\\site-packages\\seaborn\\distributions.py:2619: FutureWarning: `distplot` is a deprecated function and will be removed in a future version. Please adapt your code to use either `displot` (a figure-level function with similar flexibility) or `kdeplot` (an axes-level function for kernel density plots).\n",
      "  warnings.warn(msg, FutureWarning)\n"
     ]
    },
    {
     "data": {
      "text/plain": [
       "<AxesSubplot:ylabel='Density'>"
      ]
     },
     "execution_count": 28,
     "metadata": {},
     "output_type": "execute_result"
    },
    {
     "data": {
      "image/png": "[encoded data removed]",
      "text/plain": [
       "<Figure size 432x288 with 1 Axes>"
      ]
     },
     "metadata": {
      "needs_background": "light"
     },
     "output_type": "display_data"
    }
   ],
   "source": [
    "normal_array = random.normal(loc = 6, scale = 6, size = 500 )\n",
    "sns.distplot(normal_array, hist=False)"
   ]
  },
  {
   "cell_type": "markdown",
   "id": "ac64498f",
   "metadata": {
    "direction": "rtl"
   },
   "source": [
    "<hr>\n",
    "<font face=\"B Nazanin\"> \n",
    "    <h3>\n",
    "توزیع دوجمله‌ای\n",
    "    </h3>\n",
    "    <br>\n",
    "    <font size=3>\n",
    "        <p> </p>\n",
    "توزیع دوجمله‌ای، توزیعی گسسته است که از n آزمایش مستقل برنولی به‌دست آمده است. احتمال موفقیت توزیع‌های برنولی برابر p است و احتمال شکست برابر q=1-p خواهد بود. این توزیع با استفاده از متد binomial در دسترس است و پارامترهای آن عبارتند از:\n",
    "        \n",
    "- n: تعداد آزمایش‌ها\n",
    "- p: احتمال موفقیت هر آزمایش برنولی\n",
    "- size: ابعاد آرایۀ خروجی\n",
    "    </font>\n",
    "    </font>    "
   ]
  },
  {
   "cell_type": "markdown",
   "id": "133055a0",
   "metadata": {},
   "source": [
    "<center><img src='binomial_distribution.png' width=20% height=20%></center>"
   ]
  },
  {
   "cell_type": "code",
   "execution_count": 33,
   "id": "ac2cd88f",
   "metadata": {},
   "outputs": [
    {
     "name": "stderr",
     "output_type": "stream",
     "text": [
      "c:\\users\\thispc\\appdata\\local\\programs\\python\\python39\\lib\\site-packages\\seaborn\\distributions.py:2619: FutureWarning: `distplot` is a deprecated function and will be removed in a future version. Please adapt your code to use either `displot` (a figure-level function with similar flexibility) or `histplot` (an axes-level function for histograms).\n",
      "  warnings.warn(msg, FutureWarning)\n"
     ]
    },
    {
     "data": {
      "image/png": "[encoded data removed]",
      "text/plain": [
       "<Figure size 432x288 with 1 Axes>"
      ]
     },
     "metadata": {
      "needs_background": "light"
     },
     "output_type": "display_data"
    }
   ],
   "source": [
    "binomial_array = random.binomial(n = 20, p = 0.6, size = 500)\n",
    "sns.distplot(binomial_array, hist = True)\n",
    "\n",
    "plt.show()"
   ]
  },
  {
   "cell_type": "markdown",
   "id": "23bedd44",
   "metadata": {
    "direction": "rtl"
   },
   "source": [
    "<hr>\n",
    "<font face=\"B Nazanin\"> \n",
    "    <h3>\n",
    "توزیع پوآسون\n",
    "    </h3>\n",
    "    <br>\n",
    "    <font size=3>\n",
    "        <p> </p>\n",
    "توزیع پوآسون یک توزیع گسسته است که احتمال وقوع یک حادثه را در یک فاصلۀ زمانی نشان می‌دهد. هر حادثه به صورت مستقل از زمان آخرین حادثۀ رخ داده، رخ می‌دهد. این توزیع با استفاده از متد poisson به‌دست می‌آید و پارامترهای آن عبارتند از:\n",
    "        \n",
    "- lam: میانگین نرخ وقوع حادثه در فاصلۀ زمانی معلوم را مشخص می‌کند.\n",
    "- size: ابعاد آرایۀ خروجی را مشخص می‌کند.\n",
    "    </font>\n",
    "    </font>    "
   ]
  },
  {
   "cell_type": "markdown",
   "id": "d874cfa9",
   "metadata": {
    "direction": "ltr"
   },
   "source": [
    "<center><img src='poison_distribution.png' width=20% height=20%></center>"
   ]
  },
  {
   "cell_type": "code",
   "execution_count": 39,
   "id": "f1dc125f",
   "metadata": {},
   "outputs": [
    {
     "name": "stderr",
     "output_type": "stream",
     "text": [
      "c:\\users\\thispc\\appdata\\local\\programs\\python\\python39\\lib\\site-packages\\seaborn\\distributions.py:2619: FutureWarning: `distplot` is a deprecated function and will be removed in a future version. Please adapt your code to use either `displot` (a figure-level function with similar flexibility) or `histplot` (an axes-level function for histograms).\n",
      "  warnings.warn(msg, FutureWarning)\n"
     ]
    },
    {
     "data": {
      "text/plain": [
       "<AxesSubplot:ylabel='Density'>"
      ]
     },
     "execution_count": 39,
     "metadata": {},
     "output_type": "execute_result"
    },
    {
     "data": {
      "image/png": "[encoded data removed]",
      "text/plain": [
       "<Figure size 432x288 with 1 Axes>"
      ]
     },
     "metadata": {
      "needs_background": "light"
     },
     "output_type": "display_data"
    }
   ],
   "source": [
    "poisson_array = random.poisson(lam = 10, size = 500)\n",
    "sns.distplot(poisson_array, hist = True)"
   ]
  },
  {
   "cell_type": "markdown",
   "id": "a8f489f1",
   "metadata": {
    "direction": "rtl"
   },
   "source": [
    "<hr>\n",
    "<font face=\"B Nazanin\"> \n",
    "    <h3>\n",
    "توزیع یکنواخت\n",
    "    </h3>\n",
    "    <br>\n",
    "    <font size=3>\n",
    "        <p> </p>\n",
    "\n",
    "توزیع یکنواخت بیان می‌دارد که در بازۀ وقوع پیشامد، احتمال وقوع هر یک از مقادیر فضای پیشامد برابر هم است. این توزیع با استفاده از متد uniform قابل استفاده است و پارامترهای آن عبارتند از:\n",
    "\n",
    "- size: ابعاد آرایۀ خروجی\n",
    "        \n",
    "* به صورت پیش‌فرض کران بالای بازۀ وقوع برابر 1 و کران پایین آن برابر 0 است.\n",
    "    </font>\n",
    "    </font>    "
   ]
  },
  {
   "cell_type": "markdown",
   "id": "7295fdce",
   "metadata": {},
   "source": [
    "<center><img src='uniform_distribution1.png' width=20% height=20%></center>"
   ]
  },
  {
   "cell_type": "code",
   "execution_count": 46,
   "id": "582c58c9",
   "metadata": {},
   "outputs": [
    {
     "name": "stderr",
     "output_type": "stream",
     "text": [
      "c:\\users\\thispc\\appdata\\local\\programs\\python\\python39\\lib\\site-packages\\seaborn\\distributions.py:2619: FutureWarning: `distplot` is a deprecated function and will be removed in a future version. Please adapt your code to use either `displot` (a figure-level function with similar flexibility) or `histplot` (an axes-level function for histograms).\n",
      "  warnings.warn(msg, FutureWarning)\n"
     ]
    },
    {
     "data": {
      "image/png": "[encoded data removed]",
      "text/plain": [
       "<Figure size 432x288 with 1 Axes>"
      ]
     },
     "metadata": {
      "needs_background": "light"
     },
     "output_type": "display_data"
    }
   ],
   "source": [
    "uniform_array = random.uniform(size = 500)\n",
    "sns.distplot(uniform_array, hist = True)\n",
    "\n",
    "plt.show()"
   ]
  },
  {
   "cell_type": "markdown",
   "id": "1f4a0787",
   "metadata": {
    "direction": "rtl"
   },
   "source": [
    "<hr>\n",
    "<font face=\"B Nazanin\"> \n",
    "    <h3>\n",
    "توزیع لجستیک\n",
    "    </h3>\n",
    "    <br>\n",
    "    <font size=3>\n",
    "        <p> </p>\n",
    "\n",
    "توزیع لجستیک یک توزیع پیوسته است و از این توزیع در مبحث رگرسیون لجستیک و شبکه‌های عصبی استفاده می‌گردد. به تابع توزیع تجمعی آن، تابع لجستیک می‌گویند. این توزیع دارای پارامترهای زیر است:\n",
    "        \n",
    "- loc: میانگین متغیرهای تصادفی را مشخص می‌کند.\n",
    "- scale: انحراف معیار متغیرهای تصادفی این توزیع را مشخص می‌کند.\n",
    "- size: ابعاد آرایۀ خروجی را مشخص می‌کند.\n",
    "    </font>\n",
    "    </font>    "
   ]
  },
  {
   "cell_type": "markdown",
   "id": "2b632c1c",
   "metadata": {},
   "source": [
    "<center><img src='logistic-distribution.png' width=40% height=40%></center>"
   ]
  },
  {
   "cell_type": "code",
   "execution_count": 48,
   "id": "3380094f",
   "metadata": {},
   "outputs": [
    {
     "name": "stderr",
     "output_type": "stream",
     "text": [
      "c:\\users\\thispc\\appdata\\local\\programs\\python\\python39\\lib\\site-packages\\seaborn\\distributions.py:2619: FutureWarning: `distplot` is a deprecated function and will be removed in a future version. Please adapt your code to use either `displot` (a figure-level function with similar flexibility) or `histplot` (an axes-level function for histograms).\n",
      "  warnings.warn(msg, FutureWarning)\n"
     ]
    },
    {
     "data": {
      "image/png": "[encoded data removed]",
      "text/plain": [
       "<Figure size 432x288 with 1 Axes>"
      ]
     },
     "metadata": {
      "needs_background": "light"
     },
     "output_type": "display_data"
    }
   ],
   "source": [
    "logistic_array = random.logistic(loc = 2, scale = 3, size = 500)\n",
    "sns.distplot(logistic_array, hist = True)\n",
    "\n",
    "plt.show()"
   ]
  },
  {
   "cell_type": "markdown",
   "id": "b70b4432",
   "metadata": {
    "direction": "rtl"
   },
   "source": [
    "<hr>\n",
    "<font face=\"B Nazanin\"> \n",
    "    <h3>\n",
    "توزیع نمایی\n",
    "    </h3>\n",
    "    <br>\n",
    "    <font size=3>\n",
    "        <p> </p>\n",
    "توزیع نمایی یک توزیع پیوسته است و فاصلۀ زمانی بین آخرین رخداد و رخداد بعدی را شرح می‌دهد. مقداردهی متغیرهای تصادفی این توزیع با استفاده از متد exponential امکان‌پذیر است که پارامترهای آن عبارتند از:\n",
    " \n",
    "- scale: معکوس نرخ وقوع حادثه (نرخ وقوع حادثه همان lam در توزیع پوآسون است)\n",
    "- size: ابعاد آرایۀ خروجی\n",
    "    </font>\n",
    "    </font>    "
   ]
  },
  {
   "cell_type": "markdown",
   "id": "6ba51be1",
   "metadata": {},
   "source": [
    "<center><img src='exponential_distribution.png' width=40% height=40%></center>"
   ]
  },
  {
   "cell_type": "code",
   "execution_count": 49,
   "id": "7301c67b",
   "metadata": {},
   "outputs": [
    {
     "name": "stderr",
     "output_type": "stream",
     "text": [
      "c:\\users\\thispc\\appdata\\local\\programs\\python\\python39\\lib\\site-packages\\seaborn\\distributions.py:2619: FutureWarning: `distplot` is a deprecated function and will be removed in a future version. Please adapt your code to use either `displot` (a figure-level function with similar flexibility) or `histplot` (an axes-level function for histograms).\n",
      "  warnings.warn(msg, FutureWarning)\n"
     ]
    },
    {
     "data": {
      "image/png": "[encoded data removed]",
      "text/plain": [
       "<Figure size 432x288 with 1 Axes>"
      ]
     },
     "metadata": {
      "needs_background": "light"
     },
     "output_type": "display_data"
    }
   ],
   "source": [
    "exponential_array = random.exponential(scale = 5, size = 500)\n",
    "sns.distplot(exponential_array, hist = True)\n",
    "\n",
    "plt.show()"
   ]
  },
  {
   "cell_type": "code",
   "execution_count": null,
   "id": "bf7f0c88",
   "metadata": {},
   "outputs": [],
   "source": []
  }
 ],
 "metadata": {
  "kernelspec": {
   "display_name": "Python 3 (ipykernel)",
   "language": "python",
   "name": "python3"
  },
  "language_info": {
   "codemirror_mode": {
    "name": "ipython",
    "version": 3
   },
   "file_extension": ".py",
   "mimetype": "text/x-python",
   "name": "python",
   "nbconvert_exporter": "python",
   "pygments_lexer": "ipython3",
   "version": "3.9.4"
  }
 },
 "nbformat": 4,
 "nbformat_minor": 5
}
