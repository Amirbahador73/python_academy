{
 "cells": [
  {
   "cell_type": "markdown",
   "id": "eef9be98",
   "metadata": {
    "direction": "rtl"
   },
   "source": [
    "<div style=\"direction:rtl;line-height:300%;\">\n",
    "<div align=center>\n",
    "<font face=\"B Nazanin\" size=3>\n",
    "    به نام خدا\n",
    "    </font>\n",
    "    <br>\n",
    "    <br>\n",
    "    <font face=\"B Nazanin\" size=5>\n",
    "        <font color=#FF7500>\n",
    "      آکادمی همراه اول\n",
    "        </font>\n",
    "            <br>\n",
    "        <br>\n",
    "        دورۀ آشنایی با پایتون\n",
    "        <br>\n",
    "        <br>\n",
    "<b>        تابع در پایتون\n",
    "        </b>\n",
    "        <br><br>\n",
    "        <b> جمال کزازی <b>\n",
    "            <p> </p>\n",
    "    </font>\n",
    "    </div>\n",
    "    </div>"
   ]
  },
  {
   "cell_type": "markdown",
   "id": "56a6fd01",
   "metadata": {
    "direction": "rtl"
   },
   "source": [
    "<hr>\n",
    "<font face=\"B Nazanin\"> \n",
    "    <h2>\n",
    "        تابع واقعا چیست؟!\n",
    "    </h2>\n",
    "    <br>\n",
    "    <font size=3>\n",
    "        <p> </p>\n",
    "تابع (Function) به بلاکی از دستورات گفته می‌شود که برای به اجرا درآمدن نیازمند فراخوانی هستند و این فراخوانی می‌تواند به هر تعداد انجام گیرد. تابع می‌تواند به هنگام فراخوانی مقادیری را دریافت کند و در صورت لزوم مقداری نیز به عنوان نتیجه برگرداند.\n",
    "\n",
    "تابع، جایگزینی برای بخش‌های تکراری برنامه است که با یک بار نوشتن و چندین بار فراخوانی و اجرای آن می‌توان از پیچیدگی برنامه جلوگیری و تغییر در آن را آسان نمود. استفاده از توابع باعث بالابردن قابلیت استفاده مجدد از کدها می‌شود و افزونگی را نیز کاهش می‌دهد. توابع ابزاری برای خرد کردن منطق برنامه به واحدهای اجرایی کوچکتر برای تسهیل ساخت برنامه‌های بزرگ است.\n",
    "\n",
    "مفهوم تابع از علم ریاضی وارد برنامه‌نویسی شده و به معنی ابزاری است که می‌تواند نتیجه (یا خروجی) را بر اساس داده‌های ورودی محاسبه نماید. چنانچه تمام بخش‌های اساسی برنامه با چنین رویکردی توسعه یابد، به این شیوه توسعه «برنامه‌نویسی تابعی» (Functional Programming) گفته می‌شود.\n",
    "    </font>\n",
    "    </font>    "
   ]
  },
  {
   "cell_type": "markdown",
   "id": "beda9ebf",
   "metadata": {},
   "source": [
    "<center><img src='function.png' height=50% width=50%></center>"
   ]
  },
  {
   "cell_type": "markdown",
   "id": "87538bac",
   "metadata": {
    "direction": "rtl"
   },
   "source": [
    "<hr>\n",
    "<font face=\"B Nazanin\"> \n",
    "    <h2>\n",
    "        تعریف تابع در پایتون\n",
    "    </h2>\n",
    "    <br>\n",
    "    <font size=3>\n",
    "        <p> </p>\n",
    "برای تعریف تابع در پایتون باید از کلمه کلیدی def استفاده کنیم و در ادامه نام تابع و پرانتز قرار می‌گیرد که این پرانتز‌ محل قرار گرفتن پارامترهای تابع را نمایش می‌دهد. هر تابع می‌تواند هیچ، یک یا چند پارامتر بپذیرد.\n",
    "    </font>\n",
    "    </font>    "
   ]
  },
  {
   "cell_type": "code",
   "execution_count": 1,
   "id": "c06a72c3",
   "metadata": {},
   "outputs": [
    {
     "name": "stdout",
     "output_type": "stream",
     "text": [
      "Hello\n"
     ]
    }
   ],
   "source": [
    "def function_name(): # function definition\n",
    "    print(\"Hello\")\n",
    "\n",
    "    \n",
    "function_name() # calling function"
   ]
  },
  {
   "cell_type": "code",
   "execution_count": 5,
   "id": "8a67b241",
   "metadata": {},
   "outputs": [
    {
     "ename": "TypeError",
     "evalue": "func1() takes 3 positional arguments but 4 were given",
     "output_type": "error",
     "traceback": [
      "\u001b[1;31m---------------------------------------------------------------------------\u001b[0m",
      "\u001b[1;31mTypeError\u001b[0m                                 Traceback (most recent call last)",
      "\u001b[1;32m~\\AppData\\Local\\Temp/ipykernel_13900/1587402183.py\u001b[0m in \u001b[0;36m<module>\u001b[1;34m\u001b[0m\n\u001b[0;32m      2\u001b[0m     \u001b[0mprint\u001b[0m\u001b[1;33m(\u001b[0m\u001b[1;34m\"There are 3 parameters: \"\u001b[0m\u001b[1;33m,\u001b[0m \u001b[0mpar1\u001b[0m\u001b[1;33m,\u001b[0m \u001b[1;34m','\u001b[0m\u001b[1;33m,\u001b[0m \u001b[0mpar2\u001b[0m\u001b[1;33m,\u001b[0m \u001b[1;34m','\u001b[0m\u001b[1;33m,\u001b[0m \u001b[0mpar3\u001b[0m\u001b[1;33m)\u001b[0m\u001b[1;33m\u001b[0m\u001b[1;33m\u001b[0m\u001b[0m\n\u001b[0;32m      3\u001b[0m \u001b[1;33m\u001b[0m\u001b[0m\n\u001b[1;32m----> 4\u001b[1;33m \u001b[0mfunc1\u001b[0m\u001b[1;33m(\u001b[0m\u001b[1;34m\"A\"\u001b[0m\u001b[1;33m,\u001b[0m \u001b[1;34m\"B\"\u001b[0m\u001b[1;33m,\u001b[0m\u001b[1;36m1\u001b[0m\u001b[1;33m,\u001b[0m\u001b[1;36m2\u001b[0m\u001b[1;33m)\u001b[0m\u001b[1;33m\u001b[0m\u001b[1;33m\u001b[0m\u001b[0m\n\u001b[0m",
      "\u001b[1;31mTypeError\u001b[0m: func1() takes 3 positional arguments but 4 were given"
     ]
    }
   ],
   "source": [
    "def func1(par1, par2, par3):\n",
    "    print(\"There are 3 parameters: \", par1, ',', par2, ',', par3)\n",
    "    \n",
    "func1(\"A\", \"B\",1,2)"
   ]
  },
  {
   "cell_type": "markdown",
   "id": "7fabbcbd",
   "metadata": {
    "direction": "rtl"
   },
   "source": [
    "<font face=\"B Nazanin\"> \n",
    "    <br>\n",
    "    <font size=3>\n",
    "        <p> </p>\n",
    "        <h3>نکته:</h3> در بحث توابع، به متغیرهایی که در سرآیند تابع تعریف می‌شوند پارامتر (Parameter) و به داده‌هایی که هنگام فراخوانی تابع ارسال می‌گردند، آرگومان (Argument) گفته می‌شود. به ازای هر پارامتر در نظر گرفته شده در تعریف تابع می‌بایست یک آرگومان نظیر به آن ارسال گردد. در واقع آرگومان‌ها مقادیری هستند که می‌خواهیم به پارامترهای یک تابع انتساب دهیم. هیچ الزامی به هم نام بودن آرگومان‌ها و پارامترهای نظیر وجود ندارد ولی وجود هم نامی باعث خوانایی بیشتر کد می‌شود.\n",
    "    </font>\n",
    "    </font>    "
   ]
  },
  {
   "cell_type": "markdown",
   "id": "174e5a91",
   "metadata": {
    "direction": "rtl"
   },
   "source": [
    "<hr>\n",
    "<font face=\"B Nazanin\"> \n",
    "    <h2>\n",
    "بازگشت مقادیر از تابع\n",
    "    </h2>\n",
    "    <br>\n",
    "    <font size=3>\n",
    "        <p> </p>\n",
    "بدنه تابع می تواند حاوی کلمه کلیدی return نیز باشد. در واقع return دستوری است که در هر جایی از بدنه آورده شود، اجرای تابع در آن نقطه متوقف و مقداری (البته در زبان پایتون درست این است که گفته شود: شی‌ای) را به عنوان نتیجه به محل فراخوانی تابع بازمی‌گرداند.\n",
    "    </font>\n",
    "    </font>    "
   ]
  },
  {
   "cell_type": "code",
   "execution_count": 6,
   "id": "c8e68849",
   "metadata": {},
   "outputs": [
    {
     "name": "stdout",
     "output_type": "stream",
     "text": [
      "9\n"
     ]
    }
   ],
   "source": [
    "def function(par1):\n",
    "    return par1**2 # power 2\n",
    "\n",
    "result = function(3)\n",
    "print(result)"
   ]
  },
  {
   "cell_type": "code",
   "execution_count": 10,
   "id": "55797025",
   "metadata": {},
   "outputs": [
    {
     "name": "stdout",
     "output_type": "stream",
     "text": [
      "10 6\n"
     ]
    }
   ],
   "source": [
    "def fact(num):\n",
    "    f = 1\n",
    "    for i in range(1,num+1):\n",
    "        f = f * i\n",
    "    return f\n",
    "# C(n,r) = n!/((n-r)! * r !)\n",
    "\n",
    "\n",
    "def C(n,r):\n",
    "    return fact(n)//(fact(n-r)*fact(r))\n",
    "\n",
    "print(C(5,3),C(4,2))\n",
    "    "
   ]
  },
  {
   "cell_type": "markdown",
   "id": "a9a8f7db",
   "metadata": {
    "direction": "rtl"
   },
   "source": [
    "<font face=\"B Nazanin\"> \n",
    "    <br>\n",
    "    <font size=3>\n",
    "        <p> </p>\n",
    "چنانچه در انتهای تابع دستور return نوشته نشود، مفسر پایتون به صورت ضمنی دستور return None را در نظر می‌گیرد. بنابراین با فراخوانی این چنین توابع در زبان پایتون، پس از اجرای کامل دستورات داخل بدنه مقدار None بازگردانده خواهد شد.\n",
    "    </font>\n",
    "    </font>    "
   ]
  },
  {
   "cell_type": "markdown",
   "id": "15ee8cc1",
   "metadata": {
    "direction": "rtl"
   },
   "source": [
    "<hr>\n",
    "<font face=\"B Nazanin\"> \n",
    "    <h2>\n",
    "ارسال آرگومان\n",
    "    </h2>\n",
    "    <br>\n",
    "    <font size=3>\n",
    "        <p> </p>\n",
    "به صورت خودکار با ارسال آرگومان به تابع، متغیرهایی محلی از انتساب اشیای آرگومان‌ها به اسامی پارامترهای موجود در سرآیند تابع به وجود می‌آیند:\n",
    "    </font>\n",
    "    </font>    "
   ]
  },
  {
   "cell_type": "code",
   "execution_count": 11,
   "id": "2b7f1788",
   "metadata": {},
   "outputs": [
    {
     "name": "stdout",
     "output_type": "stream",
     "text": [
      "9\n"
     ]
    }
   ],
   "source": [
    "def f(a):\n",
    "    print(a*a)\n",
    "    \n",
    "    \n",
    "b = 3\n",
    "f(b)"
   ]
  },
  {
   "cell_type": "markdown",
   "id": "4b5e3296",
   "metadata": {
    "direction": "rtl"
   },
   "source": [
    "<font face=\"B Nazanin\"> \n",
    "    <br>\n",
    "    <font size=3>\n",
    "با فراخوانی تابع f در نمونه کد بالا، متغیر محلی a ایجاد می‌گردد که به شی صحیح 3 اشاره دارد.\n",
    "\n",
    "توجه داشته باشید که با انتساب شی‌ای جدید به پارامترهای تابع، عملا ارسال آرگومان بی‌تاثیر می‌گردد:\n",
    "</font>\n",
    "</font>    "
   ]
  },
  {
   "cell_type": "code",
   "execution_count": 12,
   "id": "2997847c",
   "metadata": {},
   "outputs": [
    {
     "name": "stdout",
     "output_type": "stream",
     "text": [
      "4\n"
     ]
    }
   ],
   "source": [
    "def f(a):\n",
    "    a = 2\n",
    "    print(a*a)\n",
    "    \n",
    "    \n",
    "b = 3\n",
    "f(b)"
   ]
  },
  {
   "cell_type": "markdown",
   "id": "eed75b78",
   "metadata": {
    "direction": "rtl"
   },
   "source": [
    "<font face=\"B Nazanin\"> \n",
    "    <br>\n",
    "    <font size=3>\n",
    "<b>نکته مهم در ارسال آرگومان، توجه به چگونگی آن است!</b>\n",
    "\n",
    "در بین زبان‌های برنامه‌نویسی دو شیوه برای ارسال آرگومان‌ رایج است: **”by value“** و **”by reference“**. در شیوه by value یک کپی از مقدار آرگومان به تابع ارسال می‌گردد و در نتیجه با تغییر مقدار پارامتر متناظر در تابع، مقدار آرگومان ارسال شده در خارج از تابع بدون تغییر باقی می‌ماند. به مثال پایتونی پایین توجه نمایید:\n",
    "</font>\n",
    "</font>    "
   ]
  },
  {
   "cell_type": "code",
   "execution_count": 13,
   "id": "0300a989",
   "metadata": {},
   "outputs": [
    {
     "name": "stdout",
     "output_type": "stream",
     "text": [
      "4\n",
      "3\n"
     ]
    }
   ],
   "source": [
    "def f(a):\n",
    "    a = 2\n",
    "    print(a*a)\n",
    "    \n",
    "    \n",
    "b = 3\n",
    "f(b)\n",
    "print(b)"
   ]
  },
  {
   "cell_type": "markdown",
   "id": "f72ab046",
   "metadata": {
    "direction": "rtl"
   },
   "source": [
    "<font face=\"B Nazanin\"> \n",
    "    <br>\n",
    "    <font size=3>\n",
    "همانطور که در نمونه کد بالا قابل مشاهده است، مقدار متغییر b بدون تغییر باقی مانده است.\n",
    "       \n",
    "     \n",
    "\n",
    "ولی در شیوه by reference به جای ارسال یک کپی از مقدار آرگومان، یک ارجاع (reference) به از آرگومان به تابع ارسال می‌گردد. می‌توان این‌طور در نظر گرفت که پارامتر متناظر در تابع، همان آرگومان در خارج از تابع است. در نتیجه با تغییر مقدار پارامتر متناظر در تابع، مقدار آرگومان در خارج از تابع نیز تغییر می‌کند. به مثال پایتونی پایین توجه نمایید:\n",
    "</font>\n",
    "</font>    "
   ]
  },
  {
   "cell_type": "code",
   "execution_count": 24,
   "id": "86bf3aa1",
   "metadata": {},
   "outputs": [
    {
     "name": "stdout",
     "output_type": "stream",
     "text": [
      "[3, 2]\n",
      "[3, 2]\n"
     ]
    }
   ],
   "source": [
    "def f(a):\n",
    "    a[0] = 3\n",
    "    print(a)\n",
    "    \n",
    "    \n",
    "b = [1, 2]\n",
    "f(b)\n",
    "print(b)"
   ]
  },
  {
   "cell_type": "markdown",
   "id": "2b28688c",
   "metadata": {
    "direction": "rtl"
   },
   "source": [
    "<font face=\"B Nazanin\"> \n",
    "    <br>\n",
    "    <font size=3>\n",
    "این دو از شیوه‌‌های مرسوم در زبان‌های برنامه‌نویسی هستند ولی ارسال پارامتر به صورت خاص در زبان برنامه‌نویسی پایتون چگونه است؟ در پایتون هر چیزی یک شی است و در نتیجه ارسال آرگومان‌ها در هر شرایطی به صورت ”by reference“ انجام می‌پذیرد.\n",
    "        \n",
    "\n",
    "و اگر سوال شود که علت تفاوت رفتار در دو مثال قبل چیست؟ باید بدانیم که علت به ماهیت اشیای آرگومان‌های ارسالی مربوط است. ارسال اشیای تغییرناپذیر (Immutable) به مانند انواع بولین، اعداد، رشته و تاپل به تابع، باعث بروز رفتاری مشابه با شیوه by value می‌شود ولی در مورد ارسال اشیای تغییرپذیر (Mutable) به مانند انواع لیست، دیکشنری و مجموعه اینگونه نخواهد بود. به تصاویر پایین توجه نمایید:\n",
    "</font>\n",
    "</font>    "
   ]
  },
  {
   "cell_type": "markdown",
   "id": "1418c810",
   "metadata": {},
   "source": [
    "<center><img src='l12-python-passing-arguments-01.png' height=50% width=50%></center>"
   ]
  },
  {
   "cell_type": "markdown",
   "id": "1a52fdb0",
   "metadata": {},
   "source": [
    "<center><img src='l12-python-passing-arguments-02.png' height=50% width=50%></center>"
   ]
  },
  {
   "cell_type": "markdown",
   "id": "8eccb7e5",
   "metadata": {
    "direction": "rtl"
   },
   "source": [
    "<font face=\"B Nazanin\"> \n",
    "    <br>\n",
    "    <font size=3>\n",
    "اشیای تغییرپذیر در پایتون اشیایی هستند که بدون تغییر ()id‍‍ آن‌ها، مقدارشان قابل تغییر است. خروجی تابع ()id‍‍ برای هر شی بیانگر شناسه منحصر به فرد آن شی است که در واقع نشانی آن در حافظه نیز می‌باشد.\n",
    "\n",
    "\n",
    "\n",
    "برای جلوگیری از تغییر اشیای تغییرپذیر درون تابع، می‌توان یک کپی از این نوع اشیا را ایجاد و سپس به صورت آرگومان به تابع ارسال کرد:\n",
    "</font>\n",
    "</font>    "
   ]
  },
  {
   "cell_type": "code",
   "execution_count": 25,
   "id": "d4f05ba5",
   "metadata": {},
   "outputs": [
    {
     "name": "stdout",
     "output_type": "stream",
     "text": [
      "[3, 2]\n",
      "[1, 2]\n"
     ]
    }
   ],
   "source": [
    "def f(a):\n",
    "    a[0] = 3\n",
    "    print(a)\n",
    "    \n",
    "    \n",
    "    \n",
    "b = [1, 2]\n",
    "f(b[:])\n",
    "print(b)"
   ]
  },
  {
   "cell_type": "markdown",
   "id": "739573f4",
   "metadata": {
    "direction": "rtl"
   },
   "source": [
    "<font face=\"B Nazanin\"> \n",
    "    <br>\n",
    "    <font size=3>\n",
    "در نمونه کد بالا، از آنجایی که تمام اعضای شی لیست متغیر b تماما از انواع تغییرناپذیر هستند، یک کپی سطحی (Shallow Copy) از شی کفایت می‌کند ولی در حالتی غیر از این می‌بایست یک کپی عمیق (Deep Copy) از شی ارسال گردد.\n",
    "\n",
    "البته گاهی واقعا نیاز است که مقدار تغییر یافته از متغیری که به تابع ارسال می‌شود را نیز بیرون از تابع هم در اختیار داشته باشیم. برای این منظور در برخی از زبان‌های برنامه‌نویسی امکان ارسال به شیوه by reference بنابر خواست برنامه‌نویس فراهم شده است. برای مثال در زبان php این کار با قرار دادن یک & در پشت پارامتر مورد نظر انجام می‌پذیرد:\n",
    "</font>\n",
    "</font>    "
   ]
  },
  {
   "cell_type": "raw",
   "id": "76f04177",
   "metadata": {},
   "source": [
    "<?php\n",
    "function foo(&$var)\n",
    "{\n",
    "    $var++;\n",
    "}\n",
    "\n",
    "$a=5;\n",
    "foo($a);\n",
    "// $a is 6 here\n",
    "?>"
   ]
  },
  {
   "cell_type": "markdown",
   "id": "15468d74",
   "metadata": {
    "direction": "rtl"
   },
   "source": [
    "<font face=\"B Nazanin\"> \n",
    "    <br>\n",
    "    <font size=3>\n",
    "در پایتون چنین قابلیتی وجود ندارد، حداقل برای اشیای تغییرناپذیر! ولی می‌توان با استفاده از امکان بازگشت چندین شی توسط دستور return، آن را پوشش داد. با استفاده از این شیوه می‌توان هر تعداد از پارمترهای مورد نیاز خود را به خارج از تابع انتقال داد:\n",
    "</font>\n",
    "</font>    "
   ]
  },
  {
   "cell_type": "code",
   "execution_count": 29,
   "id": "e63b8a9e",
   "metadata": {},
   "outputs": [
    {
     "name": "stdout",
     "output_type": "stream",
     "text": [
      "2\n",
      "[3, 4]\n"
     ]
    }
   ],
   "source": [
    "def multiple(x, y):\n",
    "    x = 2\n",
    "    y = [3, 4]\n",
    "    return x, y\n",
    "\n",
    "\n",
    "X = 1\n",
    "Y = [1, 2]\n",
    "X, Y = multiple(X, Y)\n",
    "\n",
    "print(X)\n",
    "print(Y)"
   ]
  },
  {
   "cell_type": "markdown",
   "id": "d4727142",
   "metadata": {
    "direction": "rtl"
   },
   "source": [
    "<font face=\"B Nazanin\"> \n",
    "    <br>\n",
    "    <font size=3>\n",
    "توجه داشته باشید که در این حالت دستور return تمام این اشیا را در قالب یک شی تاپل برمی‌گرداند:\n",
    "</font>\n",
    "</font>    "
   ]
  },
  {
   "cell_type": "code",
   "execution_count": 30,
   "id": "3c83ec83",
   "metadata": {},
   "outputs": [
    {
     "name": "stdout",
     "output_type": "stream",
     "text": [
      "(2, [3, 4])\n"
     ]
    }
   ],
   "source": [
    "print(multiple(X, Y))"
   ]
  },
  {
   "cell_type": "markdown",
   "id": "28793215",
   "metadata": {
    "direction": "rtl"
   },
   "source": [
    "<hr>\n",
    "<font face=\"B Nazanin\"> \n",
    "    <h2>\n",
    "تطابق آرگومان\n",
    "    </h2>\n",
    "    <br>\n",
    "    <font size=3>\n",
    "        <p> </p>\n",
    "پیش‌تر به لزوم همخوانی تعداد آرگومان‌های ارسالی با پارامترهای موجود در سرآیند تابع اشاره شد:\n",
    "    </font>\n",
    "    </font>    "
   ]
  },
  {
   "cell_type": "code",
   "execution_count": 31,
   "id": "3bfdb91b",
   "metadata": {},
   "outputs": [
    {
     "ename": "TypeError",
     "evalue": "f() missing 1 required positional argument: 'c'",
     "output_type": "error",
     "traceback": [
      "\u001b[1;31m---------------------------------------------------------------------------\u001b[0m",
      "\u001b[1;31mTypeError\u001b[0m                                 Traceback (most recent call last)",
      "\u001b[1;32m~\\AppData\\Local\\Temp/ipykernel_7436/3154259716.py\u001b[0m in \u001b[0;36m<module>\u001b[1;34m\u001b[0m\n\u001b[0;32m      4\u001b[0m \u001b[1;33m\u001b[0m\u001b[0m\n\u001b[0;32m      5\u001b[0m \u001b[1;33m\u001b[0m\u001b[0m\n\u001b[1;32m----> 6\u001b[1;33m \u001b[0mf\u001b[0m\u001b[1;33m(\u001b[0m\u001b[1;36m1\u001b[0m\u001b[1;33m,\u001b[0m \u001b[1;36m2\u001b[0m\u001b[1;33m)\u001b[0m\u001b[1;33m\u001b[0m\u001b[1;33m\u001b[0m\u001b[0m\n\u001b[0m",
      "\u001b[1;31mTypeError\u001b[0m: f() missing 1 required positional argument: 'c'"
     ]
    }
   ],
   "source": [
    "def f(a, b, c):\n",
    "    pass\n",
    "\n",
    "\n",
    "\n",
    "f(1, 2)"
   ]
  },
  {
   "cell_type": "code",
   "execution_count": 32,
   "id": "3057fcb6",
   "metadata": {},
   "outputs": [
    {
     "ename": "TypeError",
     "evalue": "f() takes 3 positional arguments but 4 were given",
     "output_type": "error",
     "traceback": [
      "\u001b[1;31m---------------------------------------------------------------------------\u001b[0m",
      "\u001b[1;31mTypeError\u001b[0m                                 Traceback (most recent call last)",
      "\u001b[1;32m~\\AppData\\Local\\Temp/ipykernel_7436/187368274.py\u001b[0m in \u001b[0;36m<module>\u001b[1;34m\u001b[0m\n\u001b[1;32m----> 1\u001b[1;33m \u001b[0mf\u001b[0m\u001b[1;33m(\u001b[0m\u001b[1;36m1\u001b[0m\u001b[1;33m,\u001b[0m \u001b[1;36m2\u001b[0m\u001b[1;33m,\u001b[0m \u001b[1;36m3\u001b[0m\u001b[1;33m,\u001b[0m \u001b[1;36m4\u001b[0m\u001b[1;33m)\u001b[0m\u001b[1;33m\u001b[0m\u001b[1;33m\u001b[0m\u001b[0m\n\u001b[0m",
      "\u001b[1;31mTypeError\u001b[0m: f() takes 3 positional arguments but 4 were given"
     ]
    }
   ],
   "source": [
    "f(1, 2, 3, 4)"
   ]
  },
  {
   "cell_type": "markdown",
   "id": "1a183013",
   "metadata": {
    "direction": "rtl"
   },
   "source": [
    "<font face=\"B Nazanin\"> \n",
    "    <br>\n",
    "    <font size=3>\n",
    "        <p> </p>\n",
    "در ادامه به ارایه انواع سینتکس‌های مورد قبول پایتون در تطابق آرگومان‌ها (Argument Matching) با پارامتر‌های تابع می‌پردازیم:\n",
    "\n",
    "* سینتکس معمول که تاکنون استفاده می‌کردیم یعنی به صراحت در ازای هر پارامتر یک آرگومان نظیر ارسال گردد. عمل تطابق در این سینتکس بر اساس موقعیت آرگومان‌ها انجام می‌شود که در نتیجه می‌بایست ترتیب آرگومان‌ها، متناظر با ترتیب پارامترها در سرآیند تابع باشد:\n",
    "    </font>\n",
    "    </font>    "
   ]
  },
  {
   "cell_type": "code",
   "execution_count": 14,
   "id": "353c4137",
   "metadata": {},
   "outputs": [
    {
     "name": "stdout",
     "output_type": "stream",
     "text": [
      "a =  1\n",
      "b =  2\n",
      "c =  3\n"
     ]
    }
   ],
   "source": [
    "def f(a, b, c):\n",
    "    print(\"a = \", a)\n",
    "    print(\"b = \", b)\n",
    "    print(\"c = \", c)\n",
    "    \n",
    "    \n",
    "f(1, 2, 3)"
   ]
  },
  {
   "cell_type": "code",
   "execution_count": 15,
   "id": "cac5e0d5",
   "metadata": {},
   "outputs": [
    {
     "name": "stdout",
     "output_type": "stream",
     "text": [
      "a =  One\n",
      "b =  222\n",
      "c =  [3, 3, 3, 3]\n"
     ]
    }
   ],
   "source": [
    "f(\"One\", 222, [3, 3, 3, 3])"
   ]
  },
  {
   "cell_type": "markdown",
   "id": "5882a018",
   "metadata": {
    "direction": "rtl"
   },
   "source": [
    "<font face=\"B Nazanin\"> \n",
    "    <br>\n",
    "    <font size=3>\n",
    "        <p> </p>\n",
    "        \n",
    "* سینتکس **نام=مقدار**، در این سینتکس آرگومان‌ها به نام پارامترها انتساب داده می‌شوند و از آنجا که عمل تطابق بر اساس نام پارامترها انجام می‌شود دیگر موقعیت یا ترتیب آرگومان‌ها اهمیتی ندارد:\n",
    "    </font>\n",
    "    </font>    "
   ]
  },
  {
   "cell_type": "code",
   "execution_count": 36,
   "id": "daa11221",
   "metadata": {},
   "outputs": [
    {
     "name": "stdout",
     "output_type": "stream",
     "text": [
      "1 2 3\n"
     ]
    }
   ],
   "source": [
    "def f(a, b, c):\n",
    "    print(a, b, c)\n",
    "    \n",
    "    \n",
    "f(a=1, c=3, b=2)"
   ]
  },
  {
   "cell_type": "markdown",
   "id": "7c8b958a",
   "metadata": {
    "direction": "rtl"
   },
   "source": [
    "<font face=\"B Nazanin\"> \n",
    "    <br>\n",
    "    <font size=3>\n",
    "        <p> </p>\n",
    "        \n",
    "می‌توان از این دو سینتکس به صورت ترکیبی نیز استفاده کرد. فقط باید توجه داشت آرگومان‌هایی که عمل تطابق آن‌ها وابسته به موقعیت است را - با رعایت ترتیب موارد قبل‌تر از آن - در ابتدا قرار دهیم. به مثال پایین توجه نمایید:\n",
    "    </font>\n",
    "    </font>    "
   ]
  },
  {
   "cell_type": "code",
   "execution_count": 39,
   "id": "8a177930",
   "metadata": {},
   "outputs": [
    {
     "name": "stdout",
     "output_type": "stream",
     "text": [
      "a =  1\n",
      "b =  2\n",
      "c =  3\n"
     ]
    }
   ],
   "source": [
    "def f(a, b, c):\n",
    "    print(\"a = \", a)\n",
    "    print(\"b = \", b)\n",
    "    print(\"c = \", c)\n",
    "\n",
    "f(1, c=3, b=2)"
   ]
  },
  {
   "cell_type": "code",
   "execution_count": 40,
   "id": "71766468",
   "metadata": {},
   "outputs": [
    {
     "name": "stdout",
     "output_type": "stream",
     "text": [
      "a =  1\n",
      "b =  2\n",
      "c =  3\n"
     ]
    }
   ],
   "source": [
    "f(1, 2, c=3)"
   ]
  },
  {
   "cell_type": "markdown",
   "id": "c01c4f5a",
   "metadata": {
    "direction": "rtl"
   },
   "source": [
    "<font face=\"B Nazanin\"> \n",
    "    <br>\n",
    "    <font size=3>\n",
    "        <p> </p>\n",
    "برای تابع مثال بالا، حالت‌های فراخوانی پایین نادرست هستند:\n",
    "    </font>\n",
    "    </font>    "
   ]
  },
  {
   "cell_type": "code",
   "execution_count": 41,
   "id": "ef1d116a",
   "metadata": {},
   "outputs": [
    {
     "ename": "SyntaxError",
     "evalue": "positional argument follows keyword argument (Temp/ipykernel_7436/4243724367.py, line 1)",
     "output_type": "error",
     "traceback": [
      "\u001b[1;36m  File \u001b[1;32m\"C:\\Users\\ThisPC\\AppData\\Local\\Temp/ipykernel_7436/4243724367.py\"\u001b[1;36m, line \u001b[1;32m1\u001b[0m\n\u001b[1;33m    f(c=3, b=2, 1)\u001b[0m\n\u001b[1;37m                 ^\u001b[0m\n\u001b[1;31mSyntaxError\u001b[0m\u001b[1;31m:\u001b[0m positional argument follows keyword argument\n"
     ]
    }
   ],
   "source": [
    "f(c=3, b=2, 1)"
   ]
  },
  {
   "cell_type": "code",
   "execution_count": 42,
   "id": "2d6973cf",
   "metadata": {},
   "outputs": [
    {
     "ename": "SyntaxError",
     "evalue": "positional argument follows keyword argument (Temp/ipykernel_7436/1928254806.py, line 1)",
     "output_type": "error",
     "traceback": [
      "\u001b[1;36m  File \u001b[1;32m\"C:\\Users\\ThisPC\\AppData\\Local\\Temp/ipykernel_7436/1928254806.py\"\u001b[1;36m, line \u001b[1;32m1\u001b[0m\n\u001b[1;33m    f(a=1, 2, c=3)\u001b[0m\n\u001b[1;37m                 ^\u001b[0m\n\u001b[1;31mSyntaxError\u001b[0m\u001b[1;31m:\u001b[0m positional argument follows keyword argument\n"
     ]
    }
   ],
   "source": [
    "f(a=1, 2, c=3)"
   ]
  },
  {
   "cell_type": "code",
   "execution_count": 43,
   "id": "74b7f31a",
   "metadata": {},
   "outputs": [
    {
     "ename": "SyntaxError",
     "evalue": "positional argument follows keyword argument (Temp/ipykernel_7436/2948639862.py, line 1)",
     "output_type": "error",
     "traceback": [
      "\u001b[1;36m  File \u001b[1;32m\"C:\\Users\\ThisPC\\AppData\\Local\\Temp/ipykernel_7436/2948639862.py\"\u001b[1;36m, line \u001b[1;32m1\u001b[0m\n\u001b[1;33m    f(a=1, 2, 3)\u001b[0m\n\u001b[1;37m               ^\u001b[0m\n\u001b[1;31mSyntaxError\u001b[0m\u001b[1;31m:\u001b[0m positional argument follows keyword argument\n"
     ]
    }
   ],
   "source": [
    "f(a=1, 2, 3)"
   ]
  },
  {
   "cell_type": "code",
   "execution_count": 44,
   "id": "cd6bc21b",
   "metadata": {},
   "outputs": [
    {
     "ename": "TypeError",
     "evalue": "f() got multiple values for argument 'a'",
     "output_type": "error",
     "traceback": [
      "\u001b[1;31m---------------------------------------------------------------------------\u001b[0m",
      "\u001b[1;31mTypeError\u001b[0m                                 Traceback (most recent call last)",
      "\u001b[1;32m~\\AppData\\Local\\Temp/ipykernel_7436/3913332870.py\u001b[0m in \u001b[0;36m<module>\u001b[1;34m\u001b[0m\n\u001b[1;32m----> 1\u001b[1;33m \u001b[0mf\u001b[0m\u001b[1;33m(\u001b[0m\u001b[1;36m2\u001b[0m\u001b[1;33m,\u001b[0m \u001b[0ma\u001b[0m\u001b[1;33m=\u001b[0m\u001b[1;36m1\u001b[0m\u001b[1;33m,\u001b[0m \u001b[0mc\u001b[0m\u001b[1;33m=\u001b[0m\u001b[1;36m3\u001b[0m\u001b[1;33m)\u001b[0m\u001b[1;33m\u001b[0m\u001b[1;33m\u001b[0m\u001b[0m\n\u001b[0m",
      "\u001b[1;31mTypeError\u001b[0m: f() got multiple values for argument 'a'"
     ]
    }
   ],
   "source": [
    "f(2, a=1, c=3)"
   ]
  },
  {
   "cell_type": "markdown",
   "id": "7cf5f25f",
   "metadata": {
    "direction": "rtl"
   },
   "source": [
    "<font face=\"B Nazanin\"> \n",
    "    <br>\n",
    "    <font size=3>\n",
    "        <p> </p>\n",
    "        \n",
    "* سینتکس iterable*، در این سینتکس یک شی از نوع تکرارپذیر (iterable - درس نهم) مانند انواع رشته، تاپل، لیست و... که توسط یک کاراکتر ستاره *‍‍ نشانه‌گذاری شده است، به تابع ارسال می‌گردد. در این صورت بر اساس ترتیب موقعیت، اعضای درون شی تکرارپذیر به پارامتر‌های تابع اختصاص می‌یابند:\n",
    "    </font>\n",
    "    </font>    "
   ]
  },
  {
   "cell_type": "code",
   "execution_count": 16,
   "id": "bf53ea73",
   "metadata": {},
   "outputs": [
    {
     "name": "stdout",
     "output_type": "stream",
     "text": [
      "a =  1\n",
      "b =  2\n",
      "c =  3\n"
     ]
    }
   ],
   "source": [
    "my_list = [1, 2, 3]\n",
    "\n",
    "f(*my_list)"
   ]
  },
  {
   "cell_type": "code",
   "execution_count": 17,
   "id": "25a01740",
   "metadata": {},
   "outputs": [
    {
     "ename": "TypeError",
     "evalue": "f() takes 3 positional arguments but 4 were given",
     "output_type": "error",
     "traceback": [
      "\u001b[1;31m---------------------------------------------------------------------------\u001b[0m",
      "\u001b[1;31mTypeError\u001b[0m                                 Traceback (most recent call last)",
      "\u001b[1;32m~\\AppData\\Local\\Temp/ipykernel_13900/2063175288.py\u001b[0m in \u001b[0;36m<module>\u001b[1;34m\u001b[0m\n\u001b[0;32m      1\u001b[0m \u001b[0mmy_list_2\u001b[0m \u001b[1;33m=\u001b[0m \u001b[1;33m[\u001b[0m\u001b[1;36m1\u001b[0m\u001b[1;33m,\u001b[0m \u001b[1;36m2\u001b[0m\u001b[1;33m,\u001b[0m \u001b[1;36m3\u001b[0m\u001b[1;33m,\u001b[0m \u001b[1;36m4\u001b[0m\u001b[1;33m]\u001b[0m\u001b[1;33m\u001b[0m\u001b[1;33m\u001b[0m\u001b[0m\n\u001b[1;32m----> 2\u001b[1;33m \u001b[0mf\u001b[0m\u001b[1;33m(\u001b[0m\u001b[1;33m*\u001b[0m\u001b[0mmy_list_2\u001b[0m\u001b[1;33m)\u001b[0m\u001b[1;33m\u001b[0m\u001b[1;33m\u001b[0m\u001b[0m\n\u001b[0m",
      "\u001b[1;31mTypeError\u001b[0m: f() takes 3 positional arguments but 4 were given"
     ]
    }
   ],
   "source": [
    "my_list_2 = [1, 2, 3, 4]\n",
    "f(*my_list_2)"
   ]
  },
  {
   "cell_type": "markdown",
   "id": "7931d4dc",
   "metadata": {
    "direction": "rtl"
   },
   "source": [
    "<font face=\"B Nazanin\"> \n",
    "    <br>\n",
    "    <font size=3>\n",
    "        <p> </p>\n",
    "        \n",
    "* سینتکس dict***، در این سینتکس یک شی دیکشنری که توسط دو کاراکتر ستاره ** نشانه‌گذاری شده است به تابع ارسال می‌شود. کلید‌های این شی دیکشنری می‌بایست هم‌نام با پارامترهای تعریف شده در سرآیند تابع باشند. پس از فراخوانی تابع، این شی دیکشنری باز می‌شود و بر اساس نام کلید در جفت‌های کلید:مقدار درون آن، پارامترهای تابع مقداردهی می‌شوند:\n",
    "    </font>\n",
    "    </font>    "
   ]
  },
  {
   "cell_type": "code",
   "execution_count": 47,
   "id": "a4d1546c",
   "metadata": {},
   "outputs": [
    {
     "name": "stdout",
     "output_type": "stream",
     "text": [
      "1 2 3\n"
     ]
    }
   ],
   "source": [
    "def f(a, b, c):\n",
    "    print(a, b, c)\n",
    "    \n",
    "b = {'a':1, 'c':3, 'b':2}\n",
    "f(**b)"
   ]
  },
  {
   "cell_type": "markdown",
   "id": "321dbaba",
   "metadata": {
    "direction": "rtl"
   },
   "source": [
    "<font face=\"B Nazanin\"> \n",
    "    <br>\n",
    "    <font size=3>\n",
    "        <p> </p>\n",
    "<b>        \n",
    "این چهار سینتکس بر تعیین آرگومان‌ها در هنگام فراخوانی تابع بحث می‌کردند و در تمام آن‌ها می‌بایست تعداد آرگومان‌های ارسالی با تعداد پارامترهای تعریف شده در سرآیند تابع برابر باشد و البته بدیهی است که در دو سینتکس پایانی لازم است تعداد اعضای شی تکرارپذیر یا تعداد جفت‌های کلید:مقدار شی دیکشنری با تعداد پارامترهای تابع برابر باشند.\n",
    "        </b>\n",
    "        \n",
    "در ادامه به ارایه سینتکس‌هایی در این زمینه می‌پردازیم که هنگام تعیین پارامترهای تابع نقش دارند.\n",
    "\n",
    "* **سینتکس معمول** که تاکنون استفاده می‌کردیم یعنی به صراحت تک تک پارامترها را تعریف کنیم:\n",
    "    </font>\n",
    "    </font>    "
   ]
  },
  {
   "cell_type": "code",
   "execution_count": 48,
   "id": "e87e36f9",
   "metadata": {},
   "outputs": [
    {
     "name": "stdout",
     "output_type": "stream",
     "text": [
      "1 2 3\n"
     ]
    }
   ],
   "source": [
    "def f(a, b, c):\n",
    "    print(a, b, c)\n",
    "    \n",
    "f(1, 2, 3)"
   ]
  },
  {
   "cell_type": "markdown",
   "id": "299565f3",
   "metadata": {
    "direction": "rtl"
   },
   "source": [
    "<font face=\"B Nazanin\"> \n",
    "    <br>\n",
    "    <font size=3>\n",
    "        <p> </p>\n",
    "\n",
    "* **سینتکس تعیین مقدار پیش‌فرض برای پارامترها**. می‌توان هنگام تعیین هر پارامتر در تعریف تابع، مقداری را نیز به آن انتساب داد؛ در این شرایط اگر آرگومانی نظیر با آن پارامتر ارسال نگردد، مقدار پیش‌فرض آن پارامتر در نظر گرفته خواهد شد. به این گونه پارامترها، اختیاری نیز گفته می‌شود:\n",
    "    </font>\n",
    "    </font>    "
   ]
  },
  {
   "cell_type": "code",
   "execution_count": 49,
   "id": "e093300d",
   "metadata": {},
   "outputs": [
    {
     "name": "stdout",
     "output_type": "stream",
     "text": [
      "Academy!\n"
     ]
    }
   ],
   "source": [
    "def chaap(text=None):\n",
    "    if text:\n",
    "        print(text)\n",
    "    else:\n",
    "        print(\"Nothing!\")\n",
    "        \n",
    "    \n",
    "chaap(\"Academy!\")"
   ]
  },
  {
   "cell_type": "code",
   "execution_count": 50,
   "id": "1322053f",
   "metadata": {},
   "outputs": [
    {
     "name": "stdout",
     "output_type": "stream",
     "text": [
      "Nothing!\n"
     ]
    }
   ],
   "source": [
    "chaap()"
   ]
  },
  {
   "cell_type": "markdown",
   "id": "488e9309",
   "metadata": {
    "direction": "rtl"
   },
   "source": [
    "<font face=\"B Nazanin\"> \n",
    "    <br>\n",
    "    <font size=3>\n",
    "        <p> </p>\n",
    "پارامتر با مقدار پیش‌فرض را می‌توان در کنار پارمترهای اجباری (بدون مقدار پیش‌فرض) تعریف کرد که در این شرایط می‌بایست پارامترهای دارای مقدار پیش‌فرض را در انتها قرار داد:\n",
    "    </font>\n",
    "    </font>    "
   ]
  },
  {
   "cell_type": "code",
   "execution_count": 51,
   "id": "4043f0ea",
   "metadata": {},
   "outputs": [
    {
     "name": "stdout",
     "output_type": "stream",
     "text": [
      "1 2 3\n"
     ]
    }
   ],
   "source": [
    "def f(a, b=2, c=3):\n",
    "    print(a, b, c)\n",
    "    \n",
    "f(1)"
   ]
  },
  {
   "cell_type": "code",
   "execution_count": 52,
   "id": "c6b55cc3",
   "metadata": {},
   "outputs": [
    {
     "name": "stdout",
     "output_type": "stream",
     "text": [
      "1 2 3\n"
     ]
    }
   ],
   "source": [
    "f(a=1)"
   ]
  },
  {
   "cell_type": "code",
   "execution_count": 53,
   "id": "b81747a4",
   "metadata": {},
   "outputs": [
    {
     "name": "stdout",
     "output_type": "stream",
     "text": [
      "1 4 3\n"
     ]
    }
   ],
   "source": [
    "f(1, 4)"
   ]
  },
  {
   "cell_type": "code",
   "execution_count": 54,
   "id": "aa7c7876",
   "metadata": {},
   "outputs": [
    {
     "name": "stdout",
     "output_type": "stream",
     "text": [
      "1 4 5\n"
     ]
    }
   ],
   "source": [
    "f(1, 4, 5)"
   ]
  },
  {
   "cell_type": "code",
   "execution_count": 55,
   "id": "69058348",
   "metadata": {
    "scrolled": true
   },
   "outputs": [
    {
     "name": "stdout",
     "output_type": "stream",
     "text": [
      "1 2 6\n"
     ]
    }
   ],
   "source": [
    "f(1, c=6)"
   ]
  },
  {
   "cell_type": "markdown",
   "id": "a9215ea1",
   "metadata": {},
   "source": [
    "<hr>\n",
    "<font face=\"B Nazanin\"> \n",
    "    <h1>\n",
    "       پیشرفته!\n",
    "    </h1>"
   ]
  },
  {
   "cell_type": "markdown",
   "id": "8f7bd5dc",
   "metadata": {
    "direction": "rtl"
   },
   "source": [
    "<font face=\"B Nazanin\"> \n",
    "    <br>\n",
    "    <font size=3>\n",
    "        <p> </p>\n",
    "\n",
    "* سینتکس name*، تمام آرگومان‌های ارسالی را در قالب یه شی تاپل دریافت می‌کند - این قابلیت در مواقعی که تعداد آرگومان‌های ارسالی متغییر است کمک بزرگی می‌کند:\n",
    "    </font>\n",
    "    </font>    "
   ]
  },
  {
   "cell_type": "code",
   "execution_count": 56,
   "id": "b859847d",
   "metadata": {},
   "outputs": [
    {
     "name": "stdout",
     "output_type": "stream",
     "text": [
      "<class 'tuple'>\n",
      "(1,)\n"
     ]
    }
   ],
   "source": [
    "def f(*name):\n",
    "    print(type(name))\n",
    "    print(name)\n",
    "    \n",
    "    \n",
    "f(1)"
   ]
  },
  {
   "cell_type": "code",
   "execution_count": 57,
   "id": "dad2d098",
   "metadata": {},
   "outputs": [
    {
     "name": "stdout",
     "output_type": "stream",
     "text": [
      "<class 'tuple'>\n",
      "(1, 2, 3)\n"
     ]
    }
   ],
   "source": [
    "f(1, 2, 3)"
   ]
  },
  {
   "cell_type": "code",
   "execution_count": 58,
   "id": "3ad2bafc",
   "metadata": {},
   "outputs": [
    {
     "name": "stdout",
     "output_type": "stream",
     "text": [
      "a=  1\n",
      "b=  2\n",
      "args=  ()\n"
     ]
    }
   ],
   "source": [
    "def f(a, b=2, *args):\n",
    "    print(\"a= \", a)\n",
    "    print(\"b= \", b)\n",
    "    print(\"args= \", args)\n",
    "    \n",
    "    \n",
    "f(1)"
   ]
  },
  {
   "cell_type": "code",
   "execution_count": 59,
   "id": "43a9b113",
   "metadata": {},
   "outputs": [
    {
     "name": "stdout",
     "output_type": "stream",
     "text": [
      "a=  1\n",
      "b=  5\n",
      "args=  ()\n"
     ]
    }
   ],
   "source": [
    "f(1, 5)"
   ]
  },
  {
   "cell_type": "code",
   "execution_count": 60,
   "id": "1dba8f9d",
   "metadata": {},
   "outputs": [
    {
     "name": "stdout",
     "output_type": "stream",
     "text": [
      "a=  1\n",
      "b=  FF\n",
      "args=  (3,)\n"
     ]
    }
   ],
   "source": [
    "f(1, \"FF\", 3)"
   ]
  },
  {
   "cell_type": "code",
   "execution_count": 61,
   "id": "51fc0c87",
   "metadata": {},
   "outputs": [
    {
     "name": "stdout",
     "output_type": "stream",
     "text": [
      "a=  1\n",
      "b=  FF\n",
      "args=  (3, 4, 5)\n"
     ]
    }
   ],
   "source": [
    "f(1, \"FF\", 3, 4, 5)"
   ]
  },
  {
   "cell_type": "code",
   "execution_count": 62,
   "id": "4e517621",
   "metadata": {},
   "outputs": [
    {
     "ename": "TypeError",
     "evalue": "f() missing 1 required positional argument: 'a'",
     "output_type": "error",
     "traceback": [
      "\u001b[1;31m---------------------------------------------------------------------------\u001b[0m",
      "\u001b[1;31mTypeError\u001b[0m                                 Traceback (most recent call last)",
      "\u001b[1;32m~\\AppData\\Local\\Temp/ipykernel_7436/3782956317.py\u001b[0m in \u001b[0;36m<module>\u001b[1;34m\u001b[0m\n\u001b[1;32m----> 1\u001b[1;33m \u001b[0mf\u001b[0m\u001b[1;33m(\u001b[0m\u001b[1;33m)\u001b[0m\u001b[1;33m\u001b[0m\u001b[1;33m\u001b[0m\u001b[0m\n\u001b[0m",
      "\u001b[1;31mTypeError\u001b[0m: f() missing 1 required positional argument: 'a'"
     ]
    }
   ],
   "source": [
    "f()"
   ]
  },
  {
   "cell_type": "code",
   "execution_count": 63,
   "id": "0fbeb3b2",
   "metadata": {},
   "outputs": [
    {
     "name": "stdout",
     "output_type": "stream",
     "text": [
      "a=  [3, (4, 5)]\n",
      "b=  2\n",
      "args=  ()\n"
     ]
    }
   ],
   "source": [
    "a_list = [3, (4, 5)]\n",
    "\n",
    "f(a_list)"
   ]
  },
  {
   "cell_type": "code",
   "execution_count": 64,
   "id": "06140b2e",
   "metadata": {},
   "outputs": [
    {
     "name": "stdout",
     "output_type": "stream",
     "text": [
      "a=  1\n",
      "b=  4\n",
      "args=  ([8, 12, 16],)\n"
     ]
    }
   ],
   "source": [
    "f(1, 4, [8, 12, 16])"
   ]
  },
  {
   "cell_type": "code",
   "execution_count": 65,
   "id": "693f485b",
   "metadata": {},
   "outputs": [
    {
     "name": "stdout",
     "output_type": "stream",
     "text": [
      "a=  3\n",
      "b=  6\n",
      "args=  (9, (10, 11))\n"
     ]
    }
   ],
   "source": [
    "a_list = [3, 6, 9, (10, 11)]\n",
    "\n",
    "f(*a_list)"
   ]
  },
  {
   "cell_type": "markdown",
   "id": "068f55c9",
   "metadata": {},
   "source": [
    "<font face=\"B Nazanin\"> \n",
    "    <br>\n",
    "    <font size=5>\n",
    "        <p> </p>\n",
    "پایان بخش مباحث مقدماتی پایتون\n",
    "        <br>\n",
    "        تابع بازگشتی؛ متغیرهای داخلی و عام؛ کنترل ورودی ها؛ ؛ تابع های داخلی \n",
    "    </font>\n",
    "    </font>    "
   ]
  },
  {
   "cell_type": "code",
   "execution_count": 66,
   "id": "cb7777a1",
   "metadata": {},
   "outputs": [
    {
     "ename": "TypeError",
     "evalue": "f() got an unexpected keyword argument 'b'",
     "output_type": "error",
     "traceback": [
      "\u001b[1;31m---------------------------------------------------------------------------\u001b[0m",
      "\u001b[1;31mTypeError\u001b[0m                                 Traceback (most recent call last)",
      "\u001b[1;32m~\\AppData\\Local\\Temp/ipykernel_7436/1887915545.py\u001b[0m in \u001b[0;36m<module>\u001b[1;34m\u001b[0m\n\u001b[0;32m      3\u001b[0m \u001b[1;33m\u001b[0m\u001b[0m\n\u001b[0;32m      4\u001b[0m \u001b[1;33m\u001b[0m\u001b[0m\n\u001b[1;32m----> 5\u001b[1;33m \u001b[0mf\u001b[0m\u001b[1;33m(\u001b[0m\u001b[0ma\u001b[0m\u001b[1;33m=\u001b[0m\u001b[1;36m1\u001b[0m\u001b[1;33m,\u001b[0m \u001b[0mb\u001b[0m\u001b[1;33m=\u001b[0m\u001b[1;36m2\u001b[0m\u001b[1;33m,\u001b[0m \u001b[0mc\u001b[0m\u001b[1;33m=\u001b[0m\u001b[1;36m3\u001b[0m\u001b[1;33m)\u001b[0m\u001b[1;33m\u001b[0m\u001b[1;33m\u001b[0m\u001b[0m\n\u001b[0m",
      "\u001b[1;31mTypeError\u001b[0m: f() got an unexpected keyword argument 'b'"
     ]
    }
   ],
   "source": [
    "def f(a, *b, c):\n",
    "    print(a, b, c)\n",
    "    \n",
    "    \n",
    "f(a=1, b=2, c=3)"
   ]
  },
  {
   "cell_type": "markdown",
   "id": "4fec7030",
   "metadata": {
    "direction": "rtl"
   },
   "source": [
    "<font face=\"B Nazanin\"> \n",
    "    <br>\n",
    "    <font size=3>\n",
    "        <p> </p>\n",
    "توجه داشته باشید که نمی‌توان آرگومان را با استفاده از شیوه نام=مقدار به پارامتر ستاره‌دار ارسال کرد.\n",
    "        \n",
    "در پایتون نسخه 2x پس از پارامتر ستاره‌دار، نمی‌توان پارامتر دیگری قرار داد و این امکان تنها در پایتون نسخه 3x امکان‌‌پذیر می‌باشد. باید توجه داشت که در این نسخه‌ (3x) آرگومان نظیر تمامی پارامترهایی که پس از پارامتر ستاره‌دار قرار گرفته‌اند، می‌بایست به صورت **نام=مقدار** ارسال گردند.\n",
    "        \n",
    "تابع با سرآیند (def f(a, *b, c را در نظر بگیرید. در چنین شرایطی که پارامتر a با استفاده از موقعیت آن مقدار دهی می‌شود و پارامتر b هر تعداد آرگومان دیگری را دریافت می‌کند، دیگر برای ارسال آرگومان به پارامتر c چاره‌ای جز ذکر نام آن باقی نمی‌ماند!\n",
    "    </font>\n",
    "    </font>    "
   ]
  },
  {
   "cell_type": "code",
   "execution_count": 67,
   "id": "0a104fd1",
   "metadata": {},
   "outputs": [
    {
     "name": "stdout",
     "output_type": "stream",
     "text": [
      "1 (2,) 3\n"
     ]
    }
   ],
   "source": [
    "def f(a, *b, c):\n",
    "    print(a, b, c)\n",
    "    \n",
    "    \n",
    "f(1, 2, c=3)"
   ]
  },
  {
   "cell_type": "code",
   "execution_count": 68,
   "id": "e83cadde",
   "metadata": {},
   "outputs": [
    {
     "name": "stdout",
     "output_type": "stream",
     "text": [
      "1 () 3\n"
     ]
    }
   ],
   "source": [
    "f(1, c=3)"
   ]
  },
  {
   "cell_type": "code",
   "execution_count": 69,
   "id": "2de8f27f",
   "metadata": {},
   "outputs": [
    {
     "name": "stdout",
     "output_type": "stream",
     "text": [
      "1 (2, 3, 4, 5) 30\n"
     ]
    }
   ],
   "source": [
    "f(1, 2 ,3 ,4 , 5, c=30)"
   ]
  },
  {
   "cell_type": "code",
   "execution_count": 70,
   "id": "99cf025a",
   "metadata": {},
   "outputs": [
    {
     "ename": "TypeError",
     "evalue": "f() missing 1 required keyword-only argument: 'c'",
     "output_type": "error",
     "traceback": [
      "\u001b[1;31m---------------------------------------------------------------------------\u001b[0m",
      "\u001b[1;31mTypeError\u001b[0m                                 Traceback (most recent call last)",
      "\u001b[1;32m~\\AppData\\Local\\Temp/ipykernel_7436/1567560659.py\u001b[0m in \u001b[0;36m<module>\u001b[1;34m\u001b[0m\n\u001b[1;32m----> 1\u001b[1;33m \u001b[0mf\u001b[0m\u001b[1;33m(\u001b[0m\u001b[1;36m1\u001b[0m\u001b[1;33m)\u001b[0m\u001b[1;33m\u001b[0m\u001b[1;33m\u001b[0m\u001b[0m\n\u001b[0m",
      "\u001b[1;31mTypeError\u001b[0m: f() missing 1 required keyword-only argument: 'c'"
     ]
    }
   ],
   "source": [
    "f(1)"
   ]
  },
  {
   "cell_type": "code",
   "execution_count": 71,
   "id": "8125a2b4",
   "metadata": {},
   "outputs": [
    {
     "ename": "TypeError",
     "evalue": "f() missing 1 required keyword-only argument: 'c'",
     "output_type": "error",
     "traceback": [
      "\u001b[1;31m---------------------------------------------------------------------------\u001b[0m",
      "\u001b[1;31mTypeError\u001b[0m                                 Traceback (most recent call last)",
      "\u001b[1;32m~\\AppData\\Local\\Temp/ipykernel_7436/3429210777.py\u001b[0m in \u001b[0;36m<module>\u001b[1;34m\u001b[0m\n\u001b[1;32m----> 1\u001b[1;33m \u001b[0mf\u001b[0m\u001b[1;33m(\u001b[0m\u001b[1;36m1\u001b[0m\u001b[1;33m,\u001b[0m \u001b[1;36m2\u001b[0m\u001b[1;33m,\u001b[0m \u001b[1;36m3\u001b[0m\u001b[1;33m)\u001b[0m\u001b[1;33m\u001b[0m\u001b[1;33m\u001b[0m\u001b[0m\n\u001b[0m",
      "\u001b[1;31mTypeError\u001b[0m: f() missing 1 required keyword-only argument: 'c'"
     ]
    }
   ],
   "source": [
    "f(1, 2, 3)"
   ]
  },
  {
   "cell_type": "code",
   "execution_count": 72,
   "id": "b4a33bc2",
   "metadata": {},
   "outputs": [
    {
     "ename": "SyntaxError",
     "evalue": "positional argument follows keyword argument (Temp/ipykernel_7436/3652604936.py, line 1)",
     "output_type": "error",
     "traceback": [
      "\u001b[1;36m  File \u001b[1;32m\"C:\\Users\\ThisPC\\AppData\\Local\\Temp/ipykernel_7436/3652604936.py\"\u001b[1;36m, line \u001b[1;32m1\u001b[0m\n\u001b[1;33m    f(1, 2 ,3 ,4 , 5, c=30, 40)\u001b[0m\n\u001b[1;37m                              ^\u001b[0m\n\u001b[1;31mSyntaxError\u001b[0m\u001b[1;31m:\u001b[0m positional argument follows keyword argument\n"
     ]
    }
   ],
   "source": [
    "f(1, 2 ,3 ,4 , 5, c=30, 40)"
   ]
  },
  {
   "cell_type": "code",
   "execution_count": 73,
   "id": "60106f73",
   "metadata": {},
   "outputs": [
    {
     "name": "stdout",
     "output_type": "stream",
     "text": [
      "1 (2, 3) 4 5\n"
     ]
    }
   ],
   "source": [
    "def f(a, *b, c, d=5):\n",
    "    print(a, b, c, d)\n",
    "    \n",
    "    \n",
    "f(1, 2, 3, c=4)"
   ]
  },
  {
   "cell_type": "code",
   "execution_count": 74,
   "id": "7c157fed",
   "metadata": {},
   "outputs": [
    {
     "name": "stdout",
     "output_type": "stream",
     "text": [
      "1 (2, 3, 4) 7 9\n"
     ]
    }
   ],
   "source": [
    "f(1, 2, 3, 4, c=7, d=9)"
   ]
  },
  {
   "cell_type": "markdown",
   "id": "2e5025c5",
   "metadata": {
    "direction": "rtl"
   },
   "source": [
    "<font face=\"B Nazanin\"> \n",
    "    <br>\n",
    "    <font size=3>\n",
    "        <p> </p>\n",
    "        \n",
    "در بسط این مبحث لازم است اضافه گردد که می‌توان ارسال آرگومان به برخی پارامترهای یک تابع را ملزم به روش **نام=مقدار** کرد. در این شیوه از کاراکتر * به عنوان یک پارامتر نشانگر استفاده می‌گردد به این صورت که تمامی پارامترهای بعد از آن تنها می‌بایست به صورت **نام=مقدار** مقداردهی شوند. باید توجه داشت که * در اینجا پارامتر نبوده و تنها نقش یک نشانگر را دارد:\n",
    "    </font>\n",
    "    </font>    "
   ]
  },
  {
   "cell_type": "code",
   "execution_count": 75,
   "id": "d73b15ef",
   "metadata": {},
   "outputs": [
    {
     "name": "stdout",
     "output_type": "stream",
     "text": [
      "1 2 3\n"
     ]
    }
   ],
   "source": [
    "def f(a, *, b, c):\n",
    "    print(a, b, c)\n",
    "    \n",
    "    \n",
    "f(1, b=2, c=3)"
   ]
  },
  {
   "cell_type": "code",
   "execution_count": 76,
   "id": "0bac4706",
   "metadata": {},
   "outputs": [
    {
     "ename": "TypeError",
     "evalue": "f() takes 1 positional argument but 2 positional arguments (and 1 keyword-only argument) were given",
     "output_type": "error",
     "traceback": [
      "\u001b[1;31m---------------------------------------------------------------------------\u001b[0m",
      "\u001b[1;31mTypeError\u001b[0m                                 Traceback (most recent call last)",
      "\u001b[1;32m~\\AppData\\Local\\Temp/ipykernel_7436/4290272218.py\u001b[0m in \u001b[0;36m<module>\u001b[1;34m\u001b[0m\n\u001b[1;32m----> 1\u001b[1;33m \u001b[0mf\u001b[0m\u001b[1;33m(\u001b[0m\u001b[1;36m1\u001b[0m\u001b[1;33m,\u001b[0m \u001b[1;36m2\u001b[0m\u001b[1;33m,\u001b[0m \u001b[0mc\u001b[0m\u001b[1;33m=\u001b[0m\u001b[1;36m3\u001b[0m\u001b[1;33m)\u001b[0m\u001b[1;33m\u001b[0m\u001b[1;33m\u001b[0m\u001b[0m\n\u001b[0m",
      "\u001b[1;31mTypeError\u001b[0m: f() takes 1 positional argument but 2 positional arguments (and 1 keyword-only argument) were given"
     ]
    }
   ],
   "source": [
    "f(1, 2, c=3)"
   ]
  },
  {
   "cell_type": "code",
   "execution_count": 77,
   "id": "5905f89e",
   "metadata": {},
   "outputs": [
    {
     "ename": "TypeError",
     "evalue": "f() takes 1 positional argument but 3 were given",
     "output_type": "error",
     "traceback": [
      "\u001b[1;31m---------------------------------------------------------------------------\u001b[0m",
      "\u001b[1;31mTypeError\u001b[0m                                 Traceback (most recent call last)",
      "\u001b[1;32m~\\AppData\\Local\\Temp/ipykernel_7436/3429210777.py\u001b[0m in \u001b[0;36m<module>\u001b[1;34m\u001b[0m\n\u001b[1;32m----> 1\u001b[1;33m \u001b[0mf\u001b[0m\u001b[1;33m(\u001b[0m\u001b[1;36m1\u001b[0m\u001b[1;33m,\u001b[0m \u001b[1;36m2\u001b[0m\u001b[1;33m,\u001b[0m \u001b[1;36m3\u001b[0m\u001b[1;33m)\u001b[0m\u001b[1;33m\u001b[0m\u001b[1;33m\u001b[0m\u001b[0m\n\u001b[0m",
      "\u001b[1;31mTypeError\u001b[0m: f() takes 1 positional argument but 3 were given"
     ]
    }
   ],
   "source": [
    "f(1, 2, 3)"
   ]
  },
  {
   "cell_type": "markdown",
   "id": "e21f7312",
   "metadata": {
    "direction": "rtl"
   },
   "source": [
    "<font face=\"B Nazanin\"> \n",
    "    <br>\n",
    "    <font size=3>\n",
    "        <p> </p>\n",
    "        \n",
    "* سینتکس name**، تمام آرگومان‌های کلید:مقدار ارسالی را در قالب یک شی دیکشنری دریافت می‌کند:\n",
    "    </font>\n",
    "    </font>    "
   ]
  },
  {
   "cell_type": "code",
   "execution_count": 78,
   "id": "cfcc4faa",
   "metadata": {},
   "outputs": [
    {
     "name": "stdout",
     "output_type": "stream",
     "text": [
      "<class 'dict'>\n",
      "{}\n"
     ]
    }
   ],
   "source": [
    "def f(**name):\n",
    "    print(type(name))\n",
    "    print(name)\n",
    "    \n",
    "    \n",
    "    \n",
    "f()"
   ]
  },
  {
   "cell_type": "code",
   "execution_count": 79,
   "id": "d56c2879",
   "metadata": {},
   "outputs": [
    {
     "name": "stdout",
     "output_type": "stream",
     "text": [
      "<class 'dict'>\n",
      "{'a': 1}\n"
     ]
    }
   ],
   "source": [
    "f(a=1)"
   ]
  },
  {
   "cell_type": "code",
   "execution_count": 80,
   "id": "8a7f321c",
   "metadata": {},
   "outputs": [
    {
     "name": "stdout",
     "output_type": "stream",
     "text": [
      "1 2 {'c': 3}\n"
     ]
    }
   ],
   "source": [
    "def f(a, b=2, **kwargs):\n",
    "    print(a, b, kwargs)\n",
    "    \n",
    "    \n",
    "f(1, c=3)"
   ]
  },
  {
   "cell_type": "code",
   "execution_count": 81,
   "id": "b001a22f",
   "metadata": {},
   "outputs": [
    {
     "name": "stdout",
     "output_type": "stream",
     "text": [
      "5 10 {'c': 15}\n"
     ]
    }
   ],
   "source": [
    "f(b=10, a=5, c=15)"
   ]
  },
  {
   "cell_type": "code",
   "execution_count": 82,
   "id": "3e0314d7",
   "metadata": {},
   "outputs": [
    {
     "name": "stdout",
     "output_type": "stream",
     "text": [
      "1 2 (3, 4, 5) {'c': 7, 'd': 9}\n"
     ]
    }
   ],
   "source": [
    "def f(a, b=2, *args, **kwargs):\n",
    "    print(a, b , args, kwargs)\n",
    "    \n",
    "    \n",
    "f(*[1, 2, 3, 4 ,5], **{\"c\":7, \"d\":9})"
   ]
  },
  {
   "cell_type": "code",
   "execution_count": 83,
   "id": "4281259e",
   "metadata": {},
   "outputs": [
    {
     "name": "stdout",
     "output_type": "stream",
     "text": [
      "11 12 (13, 14, 15) {}\n"
     ]
    }
   ],
   "source": [
    "f(11, 12, 13, 14, 15)"
   ]
  },
  {
   "cell_type": "code",
   "execution_count": 84,
   "id": "15035477",
   "metadata": {},
   "outputs": [
    {
     "name": "stdout",
     "output_type": "stream",
     "text": [
      "7 14 () {'c': 21, 'd': 28}\n"
     ]
    }
   ],
   "source": [
    "f(b=14, a=7, c=21, d=28)"
   ]
  },
  {
   "cell_type": "markdown",
   "id": "77f9accf",
   "metadata": {
    "direction": "rtl"
   },
   "source": [
    "<font face=\"B Nazanin\"> \n",
    "    <br>\n",
    "    <font size=3>\n",
    "        <p> </p>\n",
    "        \n",
    "از نسخه **3.8 پایتون** سینتکس جدیدی به پایتون اضافه گردیده است که این امکان را به ما می‌دهد تا بتوانیم تعدادی پارامتر را در تعریف یک تابع مجبور به ارسال آرگومان متناظر آن‌ها بر اساس موقعیت نماییم و به بیانی دیگر امکان ارسال آرگومان به روش **نام=مقدار** را برای آن‌ها غیرفعال سازیم. این سینتکس در مواقعی که نام پارامترها در آینده ممکن است دستخوش تغییر شوند، مفید خواهد بود زیرا در این حالت بخش‌های دیگری از کد برنامه نیاز به تغییر نخواهد داشت.\n",
    "\n",
    "در این سینتکس کافی است در تعریف پارامترهای تابع، پس از نام پارامترهای مورد نظر خود از کاراکتر / به عنوان یک پارامتر نشانگر استفاده نماییم. در این صورت ارسال آرگومان به روش نام=مقدار برای تمامی پارامترهای پیش از / ممنوع می‌گردد. باید توجه داشت که / در اینجا پارامتر نبوده و تنها نقش یک نشانگر را دارد:\n",
    "    </font>\n",
    "    </font>    "
   ]
  },
  {
   "cell_type": "code",
   "execution_count": 85,
   "id": "d1250cb8",
   "metadata": {},
   "outputs": [
    {
     "name": "stdout",
     "output_type": "stream",
     "text": [
      "3\n"
     ]
    }
   ],
   "source": [
    "def f(a, /):\n",
    "    print(a)\n",
    "    \n",
    "    \n",
    "f(3)"
   ]
  },
  {
   "cell_type": "code",
   "execution_count": 86,
   "id": "a40257fc",
   "metadata": {},
   "outputs": [
    {
     "ename": "TypeError",
     "evalue": "f() got some positional-only arguments passed as keyword arguments: 'a'",
     "output_type": "error",
     "traceback": [
      "\u001b[1;31m---------------------------------------------------------------------------\u001b[0m",
      "\u001b[1;31mTypeError\u001b[0m                                 Traceback (most recent call last)",
      "\u001b[1;32m~\\AppData\\Local\\Temp/ipykernel_7436/1058631587.py\u001b[0m in \u001b[0;36m<module>\u001b[1;34m\u001b[0m\n\u001b[1;32m----> 1\u001b[1;33m \u001b[0mf\u001b[0m\u001b[1;33m(\u001b[0m\u001b[0ma\u001b[0m\u001b[1;33m=\u001b[0m\u001b[1;36m3\u001b[0m\u001b[1;33m)\u001b[0m\u001b[1;33m\u001b[0m\u001b[1;33m\u001b[0m\u001b[0m\n\u001b[0m",
      "\u001b[1;31mTypeError\u001b[0m: f() got some positional-only arguments passed as keyword arguments: 'a'"
     ]
    }
   ],
   "source": [
    "f(a=3)"
   ]
  },
  {
   "cell_type": "markdown",
   "id": "563134a0",
   "metadata": {
    "direction": "rtl"
   },
   "source": [
    "<hr>\n",
    "<font face=\"B Nazanin\"> \n",
    "    <h2>\n",
    "فضای نام و حوزه‌های تعریف در پایتون\n",
    "    </h2>\n",
    "    <br>\n",
    "    <font size=3>\n",
    "        <p> </p>\n",
    "در هر برنامه پایتون تعداد زیادی نام وجود دارد که برای نمونه می‌توان به متغیرها، نام توابع، نام کلاس‌ها و... اشاره کرد. بدیهی است که برای شناسایی اشیا لازم است نام‌ها منحصر به فرد باشند، رعایت چنین امری در یک برنامه حتی کوچک کار سختی است. در زبان پایتون برای دسته‌بندی و جلوگیری از تداخل نام‌ها، ساختاری با عنوان «فضاهای نام» (Namespaces) در نظر گرفته شده است. هر فضا نام بخشی از نام‌های درون برنامه را دربر‌می‌گیرد. به صورت کلی فضاهای نام پایتون در سه سطح تو در توی «محلی» (Local)، «سراسری» (Global) و Built-in به تصویر کشیده می‌شوند:\n",
    "    </font>\n",
    "    </font>    "
   ]
  },
  {
   "cell_type": "markdown",
   "id": "80b1e109",
   "metadata": {},
   "source": [
    "<center><img src='nested-namespaces-python.jpg' height=50% width=50%></center>"
   ]
  },
  {
   "cell_type": "markdown",
   "id": "f3d99654",
   "metadata": {
    "direction": "rtl"
   },
   "source": [
    "<font face=\"B Nazanin\"> \n",
    "    <br>\n",
    "    <font size=3>\n",
    "        <p> </p>\n",
    "هر ماژول پایتون یک فضانام سراسری برای خود تشکیل می‌دهد که نسبت به فضا نام دیگر ماژول‌ها ایزوله است. فضانام تمام ماژول‌ها درون فضانام بزرگتری ایجاد می‌گردند که به عنوان فضانام Built-in شناخته می‌شود و نام تمامی توابع آماده مانند ()open که پیش از این استفاده می‌کردیم در این فضا قرار گرفته است. ساختار تو در توی سطوح فضا نام باعث می‌شود که بدون نیاز به import ماژول خاصی در هر جای برنامه به توابع آماده (Built-in) دسترسی داشته باشیم.\n",
    "        \n",
    "هر ماژول می‌تواند شامل تعدادی تابع و کلاس باشد. با فراخوانی هر تابع یک فضانام محلی برای آن تابع، درون فضانام ماژول مربوطه ایجاد می‌گردد و با پایان اجرای تابع نیز از بین می‌رود، در مورد کلاس‌ها هم اتفاق مشابهی رخ می‌دهد. بر همین اساس می‌توانیم درون تابع متغیرهایی متفاوت ولی هم نام با متغیرهای خارج از تابع در ماژول ایجاد نماییم چرا که آن‌ها در دو فضانام متفاوت قرار دارند و از طرفی به دلیل داخل بودن فضا نام تابع درون فضا نام ماژول خود، می‌توان به نام‌های خارج از تابع نیز دسترسی داشت.\n",
    "        \n",
    "گفتیم فضا نام ماژول‌ها نسبت به یکدیگر ایزوله هستند. بنابراین برای دسترسی به نام‌های درون ماژول‌های دیگر، ابتدا می‌بایست آن‌ ماژول‌ها را import نماییم که در این صورت با استفاده از نام ماژول - به شکل یک پیشوند - قابل دستیابی هستند. برای نمونه دستیابی نام getcwd که به یک تابع ارجاع دارد از فضانام ماژول os است.\n",
    "    </font>\n",
    "    </font>    "
   ]
  },
  {
   "cell_type": "code",
   "execution_count": 7,
   "id": "97cd1335",
   "metadata": {},
   "outputs": [
    {
     "data": {
      "text/plain": [
       "'C:\\\\Users\\\\ThisPC\\\\Desktop\\\\Python_Notebooks\\\\Function'"
      ]
     },
     "execution_count": 7,
     "metadata": {},
     "output_type": "execute_result"
    }
   ],
   "source": [
    "import os\n",
    "\n",
    "os.getcwd()"
   ]
  },
  {
   "cell_type": "markdown",
   "id": "7eb06619",
   "metadata": {
    "direction": "rtl"
   },
   "source": [
    "<font face=\"B Nazanin\"> \n",
    "    <br>\n",
    "    <font size=3>\n",
    "        <p> </p>\n",
    "اما استفاده از نام‌های یک ماژول درون خودش چگونه است؟ جایی که فضا‌های نام دیگری همچون توابع نیز وجود دارند ولی هیچ پیشوندی مانند نام ماژول وجود ندارد که بتوان نام‌های درون این فضاهای متفاوت را از یکدیگر تمیز داد. برای اینکه بدانیم هر نام ماژول در هر نقطه‌ایی از همان ماژول چگونه مورد دستیابی قرار می‌گیرد با مفهوم دیگری به نام «حوزه» (Scope) آشنا می‌شویم. به صورت کلی حوزه به نواحی‌ای از برنامه گفته می‌شود که می‌توان یک نام را بدون استفاده از هیچ پیشوندی و البته بدون تداخل با نام‌های دیگر به کار برد. بحث حوزه صرفا در داخل هر ماژول مطرح است.\n",
    "        \n",
    "<b> قوانین حوزه:</b>\n",
    "\n",
    "- بدنه ماژول - منظور نواحی‌ای که خارج از بدنه توابع و کلاس‌ها قرار دارد - حوزه سراسری (Global Scope) است. توجه داشته باشید که واژه «سراسری» در بحث حوزه (یا فضانام) تنها به سراسر کدهای داخل هر ماژول اشاره دارد و نه سراسر برنامه. به صورت کلی هر جایی از زبان پایتون که واژه سراسری (Global) را شنیدید (یا خواندید) به یاد ماژول بیافتید:\n",
    "</font>\n",
    "</font>    "
   ]
  },
  {
   "cell_type": "code",
   "execution_count": 8,
   "id": "d5b3391d",
   "metadata": {},
   "outputs": [],
   "source": [
    "# This is a global variable\n",
    "a = 0\n",
    "\n",
    "if a == 0:\n",
    "    # This is still a global variable\n",
    "    b = 1"
   ]
  },
  {
   "cell_type": "markdown",
   "id": "9163266b",
   "metadata": {
    "direction": "rtl"
   },
   "source": [
    "<font face=\"B Nazanin\"> \n",
    "    <br>\n",
    "    <font size=3>\n",
    "        <p> </p>\n",
    "\n",
    " \n",
    "- بدنه هر تابع یک حوزه محلی (Local Scope) است و به صورت پیش‌فرض تمام متغیرهایی که درون توابع ایجاد می‌گردند درون حوزه محلی قرار گرفته‌اند مگر اینکه با استفاده از کلمه‌های کلیدی global یا nonlocal مشخص شده باشند. چنانچه بخواهیم درون تابع انتسابی به یکی از نام‌های موجود در حوزه سراسری انجام دهیم، می‌بایست از دستور global استفاده کنیم. به نمونه کدهای پایین توجه نمایید:\n",
    "</font>\n",
    "</font>    "
   ]
  },
  {
   "cell_type": "code",
   "execution_count": 9,
   "id": "60c3738f",
   "metadata": {},
   "outputs": [],
   "source": [
    "def my_function(c):\n",
    "    # this is a local variable\n",
    "    d = 3"
   ]
  },
  {
   "cell_type": "code",
   "execution_count": 13,
   "id": "4f93440e",
   "metadata": {},
   "outputs": [
    {
     "name": "stdout",
     "output_type": "stream",
     "text": [
      "0\n",
      "3\n",
      "0\n"
     ]
    }
   ],
   "source": [
    "a = 0\n",
    "\n",
    "def my_function():\n",
    "    a = 3\n",
    "    print(a)\n",
    "    \n",
    "\n",
    "print(a)\n",
    "my_function()\n",
    "print(a)"
   ]
  },
  {
   "cell_type": "code",
   "execution_count": 14,
   "id": "a2c87775",
   "metadata": {},
   "outputs": [
    {
     "name": "stdout",
     "output_type": "stream",
     "text": [
      "0\n",
      "3\n",
      "3\n"
     ]
    }
   ],
   "source": [
    "a = 0\n",
    "\n",
    "def my_function():\n",
    "    global a\n",
    "    a = 3\n",
    "    print(a)\n",
    "        \n",
    "        \n",
    "print(a)\n",
    "my_function()\n",
    "print(a)"
   ]
  },
  {
   "cell_type": "markdown",
   "id": "58b53b08",
   "metadata": {
    "direction": "rtl"
   },
   "source": [
    "<font face=\"B Nazanin\"> \n",
    "    <br>\n",
    "    <font size=3>\n",
    "        <p> </p>\n",
    "در توابع تو در تو نیز فرقی ندارد، هر تابع که فراخوانی می‌شود فضانامی مجزا برای آن ایجاد می‌شود و حوزه محلی خود را خواهد داشت. دستور nonlocal در پایتون ۳ ارائه شده است و در توابع تو در تو کاربرد دارد. هنگامی که بخواهیم داخل بدنه تابع درونی انتسابی به نامی تعریف شده در یکی از توابع بیرونی آن انجام دهیم، می‌بایست از این دستور برای مشخص کردن نام مورد نظر استفاده کنیم:\n",
    "</font>\n",
    "</font>    "
   ]
  },
  {
   "cell_type": "code",
   "execution_count": 15,
   "id": "429271d2",
   "metadata": {},
   "outputs": [
    {
     "name": "stdout",
     "output_type": "stream",
     "text": [
      "inner: 2\n",
      "outer: 1\n"
     ]
    }
   ],
   "source": [
    "def outer():\n",
    "    x = 1\n",
    "    def inner():\n",
    "        x = 2\n",
    "        print(\"inner:\", x)\n",
    "    inner()\n",
    "    print(\"outer:\", x)\n",
    "\n",
    "\n",
    "\n",
    "outer()"
   ]
  },
  {
   "cell_type": "code",
   "execution_count": 17,
   "id": "ecade960",
   "metadata": {},
   "outputs": [
    {
     "name": "stdout",
     "output_type": "stream",
     "text": [
      "inner: 2\n",
      "outer: 2\n"
     ]
    }
   ],
   "source": [
    "def outer():\n",
    "    x = 1\n",
    "    def inner():\n",
    "        nonlocal x\n",
    "        x = 2\n",
    "        print(\"inner:\", x)\n",
    "    inner()\n",
    "    print(\"outer:\", x)\n",
    "        \n",
    "        \n",
    "outer()"
   ]
  },
  {
   "cell_type": "markdown",
   "id": "2d15c290",
   "metadata": {
    "direction": "rtl"
   },
   "source": [
    "<font face=\"B Nazanin\"> \n",
    "    <br>\n",
    "    <font size=3>\n",
    "\n",
    "- وقتی از متغیری استفاده می‌کنیم، مفسر پایتون ابتدا می‌بایست حوزه و فضانام آن را تشخیص دهد تا بتواند شی‌ای که این متغیر به آن ارجاع دارد را پیدا کند. فرض کنیم متغیری درون عبارتی در بدنه یک تابع به کار رفته باشد در این صورت مفسر ابتدا حوزه محلی که متغیر در آن وجود دارد را برای یافتن تعریف متغیر جستجو می‌کند و چنانچه نیابد به سراغ حوزه محلی تابع بیرونی آن - در صورت وجود - می‌رود و همینطور ادامه می‌دهد که در نهایت حوزه سراسری ماژول و پس از آن نیز Built-in را بررسی می‌کند؛ اگر هم به نتیجه‌ایی نرسد یک استثنا NameError رخ می‌دهد:\n",
    "</font>\n",
    "</font>    "
   ]
  },
  {
   "cell_type": "code",
   "execution_count": 18,
   "id": "993ff637",
   "metadata": {},
   "outputs": [
    {
     "name": "stdout",
     "output_type": "stream",
     "text": [
      "1\n"
     ]
    }
   ],
   "source": [
    "x = 0\n",
    "\n",
    "def outer():\n",
    "    x = 1\n",
    "    def inner():\n",
    "        print(x)\n",
    "    inner()\n",
    "\n",
    "outer()"
   ]
  },
  {
   "cell_type": "code",
   "execution_count": 19,
   "id": "e0a43c86",
   "metadata": {},
   "outputs": [
    {
     "name": "stdout",
     "output_type": "stream",
     "text": [
      "0\n"
     ]
    }
   ],
   "source": [
    "x = 0\n",
    "\n",
    "def outer():\n",
    "    def inner():\n",
    "        print(x)\n",
    "    inner()\n",
    "\n",
    "outer()"
   ]
  },
  {
   "cell_type": "code",
   "execution_count": 20,
   "id": "7cb06e3e",
   "metadata": {},
   "outputs": [
    {
     "ename": "NameError",
     "evalue": "name 'z' is not defined",
     "output_type": "error",
     "traceback": [
      "\u001b[1;31m---------------------------------------------------------------------------\u001b[0m",
      "\u001b[1;31mNameError\u001b[0m                                 Traceback (most recent call last)",
      "\u001b[1;32m~\\AppData\\Local\\Temp/ipykernel_7436/999269320.py\u001b[0m in \u001b[0;36m<module>\u001b[1;34m\u001b[0m\n\u001b[0;32m      6\u001b[0m     \u001b[0minner\u001b[0m\u001b[1;33m(\u001b[0m\u001b[1;33m)\u001b[0m\u001b[1;33m\u001b[0m\u001b[1;33m\u001b[0m\u001b[0m\n\u001b[0;32m      7\u001b[0m \u001b[1;33m\u001b[0m\u001b[0m\n\u001b[1;32m----> 8\u001b[1;33m \u001b[0mouter\u001b[0m\u001b[1;33m(\u001b[0m\u001b[1;33m)\u001b[0m\u001b[1;33m\u001b[0m\u001b[1;33m\u001b[0m\u001b[0m\n\u001b[0m",
      "\u001b[1;32m~\\AppData\\Local\\Temp/ipykernel_7436/999269320.py\u001b[0m in \u001b[0;36mouter\u001b[1;34m()\u001b[0m\n\u001b[0;32m      4\u001b[0m     \u001b[1;32mdef\u001b[0m \u001b[0minner\u001b[0m\u001b[1;33m(\u001b[0m\u001b[1;33m)\u001b[0m\u001b[1;33m:\u001b[0m\u001b[1;33m\u001b[0m\u001b[1;33m\u001b[0m\u001b[0m\n\u001b[0;32m      5\u001b[0m         \u001b[0mprint\u001b[0m\u001b[1;33m(\u001b[0m\u001b[0mz\u001b[0m\u001b[1;33m)\u001b[0m\u001b[1;33m\u001b[0m\u001b[1;33m\u001b[0m\u001b[0m\n\u001b[1;32m----> 6\u001b[1;33m     \u001b[0minner\u001b[0m\u001b[1;33m(\u001b[0m\u001b[1;33m)\u001b[0m\u001b[1;33m\u001b[0m\u001b[1;33m\u001b[0m\u001b[0m\n\u001b[0m\u001b[0;32m      7\u001b[0m \u001b[1;33m\u001b[0m\u001b[0m\n\u001b[0;32m      8\u001b[0m \u001b[0mouter\u001b[0m\u001b[1;33m(\u001b[0m\u001b[1;33m)\u001b[0m\u001b[1;33m\u001b[0m\u001b[1;33m\u001b[0m\u001b[0m\n",
      "\u001b[1;32m~\\AppData\\Local\\Temp/ipykernel_7436/999269320.py\u001b[0m in \u001b[0;36minner\u001b[1;34m()\u001b[0m\n\u001b[0;32m      3\u001b[0m \u001b[1;32mdef\u001b[0m \u001b[0mouter\u001b[0m\u001b[1;33m(\u001b[0m\u001b[1;33m)\u001b[0m\u001b[1;33m:\u001b[0m\u001b[1;33m\u001b[0m\u001b[1;33m\u001b[0m\u001b[0m\n\u001b[0;32m      4\u001b[0m     \u001b[1;32mdef\u001b[0m \u001b[0minner\u001b[0m\u001b[1;33m(\u001b[0m\u001b[1;33m)\u001b[0m\u001b[1;33m:\u001b[0m\u001b[1;33m\u001b[0m\u001b[1;33m\u001b[0m\u001b[0m\n\u001b[1;32m----> 5\u001b[1;33m         \u001b[0mprint\u001b[0m\u001b[1;33m(\u001b[0m\u001b[0mz\u001b[0m\u001b[1;33m)\u001b[0m\u001b[1;33m\u001b[0m\u001b[1;33m\u001b[0m\u001b[0m\n\u001b[0m\u001b[0;32m      6\u001b[0m     \u001b[0minner\u001b[0m\u001b[1;33m(\u001b[0m\u001b[1;33m)\u001b[0m\u001b[1;33m\u001b[0m\u001b[1;33m\u001b[0m\u001b[0m\n\u001b[0;32m      7\u001b[0m \u001b[1;33m\u001b[0m\u001b[0m\n",
      "\u001b[1;31mNameError\u001b[0m: name 'z' is not defined"
     ]
    }
   ],
   "source": [
    "x = 0\n",
    "\n",
    "def outer():\n",
    "    def inner():\n",
    "        print(z)\n",
    "    inner()\n",
    "\n",
    "outer()"
   ]
  }
 ],
 "metadata": {
  "kernelspec": {
   "display_name": "Python 3 (ipykernel)",
   "language": "python",
   "name": "python3"
  },
  "language_info": {
   "codemirror_mode": {
    "name": "ipython",
    "version": 3
   },
   "file_extension": ".py",
   "mimetype": "text/x-python",
   "name": "python",
   "nbconvert_exporter": "python",
   "pygments_lexer": "ipython3",
   "version": "3.9.4"
  }
 },
 "nbformat": 4,
 "nbformat_minor": 5
}
