{
 "cells": [
  {
   "cell_type": "markdown",
   "id": "0d67c962",
   "metadata": {
    "direction": "rtl"
   },
   "source": [
    "<div style=\"direction:rtl;line-height:300%;\">\n",
    "<div align=center>\n",
    "<font face=\"B Nazanin\" size=3>\n",
    "    به نام خدا\n",
    "    </font>\n",
    "    <br>\n",
    "    <br>\n",
    "    <font face=\"B Nazanin\" size=5>\n",
    "        <font color=#FF7500>\n",
    "      آکادمی همراه اول\n",
    "        </font>\n",
    "            <br>\n",
    "        <br>\n",
    "        دورۀ آشنایی با پایتون\n",
    "        <br>\n",
    "        <br>\n",
    "<b>        آشنایی با برنامه‌نویسی شیءگرا <br> <br> (OOP)\n",
    "        </b>\n",
    "           <br> <p> </p>\n",
    "   <b> جمال کزازی <b> \n",
    "    </font>\n",
    "    </div>\n",
    "    </div>"
   ]
  },
  {
   "cell_type": "markdown",
   "id": "8cc8f6b1",
   "metadata": {
    "direction": "rtl"
   },
   "source": [
    "<hr>\n",
    "<font face=\"B Nazanin\"> \n",
    "    <h2>\n",
    "شیءگرایی چیست؟!\n",
    " </h2>\n",
    "    <br>\n",
    "    <font size=3>\n",
    "        <p> </p>\n",
    "در ابتدا باید با مفهومی به نام class آشنا شویم. class را می‌توان یک الگو و یا نمونۀ اولیه نامید که از اجزا مختلف، از از داده گرفته تا تابع، تشکیل شده است! ایجاد یک class جدید در واقع ایجاد یک نوع object (شیء) است و می‌توان اشیائی با آن نوع (type) تعریف کرد. برای این که کمی شهودی با این موضوع ارتباط برقرار شود، فرض می‌کنیم که که ما یک نوع pack اختراع کرده‌ایم که شامل یک عدد کوله پشتی، 2 عدد دفتر خط دار، 1 عدد لپ‌تاپ، 1 میلیون تومان پول و تعدادی فرمول ریاضی است. این pack شامل الگویی است که گفته شد و هر کس می‌تواند آن را با نوع student_pack داشته باشد و مثلا pack آقای Tom را با این جمله می‌توان مشخص کرد: student_pack tom_pack \n",
    "       \n",
    "یعنی گفته‌ایم که یک pack به نام tom_pack داشته باشیم که از جنس student_pack و طبق الگوی آن است. و طبق همین تعریف می‌توان به تعداد دلخواه pack از جنس student_pack داشت که به هر کدام از pack های ایجاد شده یک شیء (object) گفته می‌شود.\n",
    "        \n",
    "برای تعریف یک class در پایتون از syntax زیر استفاده می‌شود:\n",
    "    </font>\n",
    "    </font>    "
   ]
  },
  {
   "cell_type": "code",
   "execution_count": 20,
   "id": "a603702e",
   "metadata": {},
   "outputs": [],
   "source": [
    "class Class_Name:\n",
    "    # define each element of object\n",
    "    # .\n",
    "    # .\n",
    "    # .\n",
    "    pass"
   ]
  },
  {
   "cell_type": "markdown",
   "id": "d348307b",
   "metadata": {
    "direction": "rtl"
   },
   "source": [
    "<font face=\"B Nazanin\"> \n",
    "    <font size=3>\n",
    "        <p> </p>\n",
    "حال می‌خواهیم که یک نوع class به نام sport_car ایجاد کنیم که دارای مشخصه‌های(Attributes) مختلف باشد. سپس تعدادی object از این نوع class ایجاد کنیم و آن‌ها را درون لیستی نگه داریم. بعد از آن مشخصه‌ای از اشیاء لیست را چاپ می‌کنیم. \n",
    "    </font>\n",
    "    </font>    "
   ]
  },
  {
   "cell_type": "markdown",
   "id": "7096bddd",
   "metadata": {},
   "source": [
    "<center><img src='python_object_class_2.jpg' height=50% width=50%></center>"
   ]
  },
  {
   "cell_type": "code",
   "execution_count": 1,
   "id": "6a8e7dae",
   "metadata": {},
   "outputs": [
    {
     "name": "stdout",
     "output_type": "stream",
     "text": [
      "280\n",
      "290\n",
      "293\n"
     ]
    }
   ],
   "source": [
    "class sport_car:\n",
    "    company_name = \"NULL\"\n",
    "    year = 0\n",
    "    max_speed = 0 \n",
    "    \n",
    "    def print_max_speed(self):\n",
    "        print(self.max_speed)\n",
    "    \n",
    "Audi_R8 = sport_car()\n",
    "Toyota_GR86 = sport_car()\n",
    "Porsche_911 = sport_car()\n",
    "\n",
    "# set Audi_R8 features\n",
    "Audi_R8.company_name = \"Audi\"\n",
    "Audi_R8.year = 2022\n",
    "Audi_R8.max_speed = 280\n",
    "\n",
    "# set Toyota_GR86 features\n",
    "Toyota_GR86.company_name = \"Toyota\"\n",
    "Toyota_GR86.year = 2022\n",
    "Toyota_GR86.max_speed = 290\n",
    "\n",
    "# set Porsche_911 features\n",
    "Porsche_911.company_name = \"Porsche\"\n",
    "Porsche_911.year = 2022\n",
    "Porsche_911.max_speed = 293\n",
    "\n",
    "car_list = [Audi_R8, Toyota_GR86, Porsche_911]\n",
    "\n",
    "# print max_speed of cars\n",
    "\n",
    "for i in car_list:\n",
    "    i.print_max_speed()"
   ]
  },
  {
   "cell_type": "code",
   "execution_count": null,
   "id": "eb1d9a3f",
   "metadata": {},
   "outputs": [],
   "source": []
  },
  {
   "cell_type": "markdown",
   "id": "e2d3ceb3",
   "metadata": {
    "direction": "rtl"
   },
   "source": [
    "<hr>\n",
    "<font face=\"B Nazanin\"> \n",
    "    <h2>\n",
    "Self چیست؟! </h2>\n",
    "    <br>\n",
    "    <font size=3>\n",
    "        <p> </p>\n",
    "همانطور که در class مثال بالا مشاهده شد، تابعی که به عنوان عضو class تعریف شده بود (()print_max_speed)، آرگومان self را به عنوان ورودی دریافت می‌کند. اما سوال این است که این پارامتر چیست؟!\n",
    "        \n",
    "منظور از self خود شی ای هست که درون آن هستیم و به عنوان یک اشاره‌گر به شی فعلی به کار می‌رود. self به عنوان آرگومان ورودی به توابع درون class داده می‌شود و برای آن است که بتوان به شی ای که در آن هستیم اشاره کرد و از داده‌های و توابع دیگر در تابعی که مدنظرمان است استفاده کنیم!\n",
    "    </font>\n",
    "    </font>    "
   ]
  },
  {
   "cell_type": "markdown",
   "id": "d57c6c43",
   "metadata": {
    "direction": "rtl"
   },
   "source": [
    "<hr>\n",
    "<font face=\"B Nazanin\"> \n",
    "    <h2>\n",
    "Constructor چیست؟! موجودی دوست‌داشتنی به نام __init__ </h2>\n",
    "    <br>\n",
    "    <font size=3>\n",
    "        <p> </p>\n",
    "constructor یا سازنده به چیزهایی اطلاق می‌شود که در هنگام تعریف و ساخت یک شیء(object) می‌توانند آن‌ها را مقداردهی اولیه (initialization) کنند. در پایتون متدی به نام __init__ وجود دارد که این کار را انجام می‌دهد و syntax آن به صورت زیر است:\n",
    "    </font>\n",
    "    </font>   "
   ]
  },
  {
   "cell_type": "code",
   "execution_count": 22,
   "id": "d7dc0a85",
   "metadata": {},
   "outputs": [],
   "source": [
    "class Class_Name:\n",
    "    def __init__(self):\n",
    "        self.Attr1 = 0\n",
    "        self.Attr2 = 'NO'"
   ]
  },
  {
   "cell_type": "markdown",
   "id": "e8974847",
   "metadata": {
    "direction": "rtl"
   },
   "source": [
    "<hr>\n",
    "<font face=\"B Nazanin\"> \n",
    "    <h2>\n",
    "مقداردهی اولیه class      \n",
    "</h2>\n",
    "    <br>\n",
    "    <font size=3>\n",
    "        <p> </p>\n",
    "در هنگام ایجاد یک object مشخصه‌های آن مقداردهی اولیه می‌شوند. این مقداردهی را می‌توان به 2 نوع انجام داد:\n",
    "        \n",
    "1- مقداردهی اولیه برای همۀ objectها یکسان باشد. (در مثال‌هایی که تاکنون زده شده این‌طور بوده است)<br> \n",
    "2- مقداردهی اولیه در هنگام تعریف object و با استفاده از آرگومان‌های ورودی باشد.\n",
    "        \n",
    "برای این که به روش دوم بتوان این کار را انجام داد، باید مشخصه‌های مدنظر در متد init به عنوان ورودی مشخص شوند.\n",
    "    </font>\n",
    "    </font>   "
   ]
  },
  {
   "cell_type": "code",
   "execution_count": 23,
   "id": "7b9beb41",
   "metadata": {},
   "outputs": [
    {
     "name": "stdout",
     "output_type": "stream",
     "text": [
      "280\n",
      "290\n",
      "293\n",
      "Your arbitrary attribute is not alive!  ERROR 404\n",
      "Your arbitrary attribute is not alive!  ERROR 404\n",
      "Your arbitrary attribute is not alive!  ERROR 404\n"
     ]
    }
   ],
   "source": [
    "class sport_car:\n",
    "    def __init__(self, company_name, year, max_speed):\n",
    "        self.company_name = company_name\n",
    "        self.year = year\n",
    "        self.max_speed = max_speed\n",
    "        \n",
    "    def print_info(self, attr):\n",
    "        if (attr == 'company_name'):\n",
    "            print(self.company_name)\n",
    "        elif (attr == 'year'):\n",
    "            print(self.year)\n",
    "        elif (attr == 'max_speed'):\n",
    "            print(self.max_speed)\n",
    "        else:\n",
    "            print(\"Your arbitrary attribute is not alive!  ERROR 404\")\n",
    "\n",
    "            \n",
    "Audi_R8 = sport_car('Audi', 2022, 280)\n",
    "Toyota_GR86 = sport_car('Toyota', 2022, 290)\n",
    "Porsche_911 = sport_car('Porsche', 2022, 293)\n",
    "\n",
    "car_list = [Audi_R8, Toyota_GR86, Porsche_911]\n",
    "\n",
    "# print arbitrary attribute of each object\n",
    "\n",
    "for i in car_list:\n",
    "    i.print_info('max_speed')\n",
    "    \n",
    "for i in car_list:\n",
    "    i.print_info('length')"
   ]
  },
  {
   "cell_type": "markdown",
   "id": "fd3e15f9",
   "metadata": {
    "direction": "rtl"
   },
   "source": [
    "<hr>\n",
    "<font face=\"B Nazanin\"> \n",
    "    <h2>\n",
    "وراثت در پایتون (Inheritance)</h2>\n",
    "    <br>\n",
    "    <font size=3>\n",
    "        <p> </p>\n",
    "وراثت یک مفهوم کلی در برنامه‌نویسی شیءگرا است و محدود به زبان برنامه‌نویسی پایتون نیست. وراثت قابلیتی است که یک class می‌تواند ویژگی‌های یک class دیگر را به ارث ببرد. اگر ما یک class به نام first_class داشته باشیم و بخواهیم ویژگی‌های آن به second_class برسد، در هنگام تعریف second_class این‌گونه می‌نویسیم:\n",
    "    </font>\n",
    "    </font>   "
   ]
  },
  {
   "cell_type": "markdown",
   "id": "c820b39e",
   "metadata": {},
   "source": [
    "class second_class(first_class):"
   ]
  },
  {
   "cell_type": "code",
   "execution_count": 35,
   "id": "bd0a772a",
   "metadata": {},
   "outputs": [
    {
     "name": "stdout",
     "output_type": "stream",
     "text": [
      "10.0\n"
     ]
    }
   ],
   "source": [
    "class money:\n",
    "    def __init__(self, init_money):\n",
    "        self.today_price_per_gold = init_money\n",
    "        self.tomorrow_price_per_gold = 0\n",
    "\n",
    "    def print_price(self):\n",
    "        print(self.today_price_per_gold)\n",
    "        print(self.tomorrow_price_per_gold)\n",
    "        \n",
    "\n",
    "class stock(money):\n",
    "    def __init__(self, init_money):\n",
    "        money.__init__(self, init_money)\n",
    "    \n",
    "    def change2money(self, mon):\n",
    "        value = self.today_price_per_gold / mon.today_price_per_gold\n",
    "        print(value)\n",
    "        \n",
    "        \n",
    "Rial = money(0.02)\n",
    "Khsapa = stock(0.2)\n",
    "\n",
    "Khsapa.change2money(Rial)"
   ]
  }
 ],
 "metadata": {
  "kernelspec": {
   "display_name": "Python 3 (ipykernel)",
   "language": "python",
   "name": "python3"
  },
  "language_info": {
   "codemirror_mode": {
    "name": "ipython",
    "version": 3
   },
   "file_extension": ".py",
   "mimetype": "text/x-python",
   "name": "python",
   "nbconvert_exporter": "python",
   "pygments_lexer": "ipython3",
   "version": "3.9.4"
  }
 },
 "nbformat": 4,
 "nbformat_minor": 5
}
