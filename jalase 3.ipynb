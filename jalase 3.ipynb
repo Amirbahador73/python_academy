{
 "cells": [
  {
   "cell_type": "markdown",
   "metadata": {
    "id": "88gFPz1WJCKt"
   },
   "source": [
    "<div style=\"direction:rtl;line-height:300%;\">\n",
    "<div align=center>\n",
    "<font face=\"B Nazanin\" size=3>\n",
    "    به نام خدا\n",
    "    </font>\n",
    "    <br>\n",
    "    <br>\n",
    "    <font face=\"B Nazanin\" size=5>\n",
    "        <font color=#FF7500>\n",
    "      آکادمی همراه\n",
    "        </font>\n",
    "            <br><br>\n",
    "        دورۀ آشنایی با پایتون\n",
    "        <br>\n",
    "        <br>\n",
    "<b>        ساختارهای کنترلی\n",
    "        </b>\n",
    "             </font>\n",
    "        <br>\n",
    "        <br>\n",
    "        <font face=\"B Nazanin\" size=4>\n",
    "        <b> جمال کزازی </b>\n",
    "            <p> </p>\n",
    "    </font>\n",
    "            <p> </p>\n",
    "    </font>\n",
    "    </div>\n",
    "    </div>"
   ]
  },
  {
   "cell_type": "markdown",
   "metadata": {
    "id": "u0lRdgW3JCKu"
   },
   "source": [
    "## If"
   ]
  },
  {
   "cell_type": "markdown",
   "metadata": {
    "id": "jAuprsISJCKu"
   },
   "source": [
    "if some_condition:\n",
    "    \n",
    "    algorithm"
   ]
  },
  {
   "cell_type": "code",
   "execution_count": 13,
   "metadata": {
    "colab": {
     "base_uri": "https://localhost:8080/"
    },
    "executionInfo": {
     "elapsed": 491,
     "status": "ok",
     "timestamp": 1648470552942,
     "user": {
      "displayName": "UT MATLAB",
      "photoUrl": "https://lh3.googleusercontent.com/a/default-user=s64",
      "userId": "08553643746335249860"
     },
     "user_tz": -270
    },
    "id": "TCgPPuEUJCKu",
    "outputId": "a28e5905-64de-4bd1-8078-9518039c171f"
   },
   "outputs": [],
   "source": [
    "x = 9\n",
    "y = 1\n",
    "if x >10:\n",
    "    print(\"Hello\")\n",
    "    y = 2\n",
    "\n"
   ]
  },
  {
   "cell_type": "markdown",
   "metadata": {
    "id": "M-PaMLYSJCKv"
   },
   "source": [
    "## If-else"
   ]
  },
  {
   "cell_type": "markdown",
   "metadata": {
    "id": "IMNn7dmXJCKw"
   },
   "source": [
    "if some_condition:\n",
    "    \n",
    "    algorithm\n",
    "    \n",
    "else:\n",
    "    \n",
    "    algorithm"
   ]
  },
  {
   "cell_type": "code",
   "execution_count": 15,
   "metadata": {
    "colab": {
     "base_uri": "https://localhost:8080/"
    },
    "executionInfo": {
     "elapsed": 525,
     "status": "ok",
     "timestamp": 1648470658150,
     "user": {
      "displayName": "UT MATLAB",
      "photoUrl": "https://lh3.googleusercontent.com/a/default-user=s64",
      "userId": "08553643746335249860"
     },
     "user_tz": -270
    },
    "id": "ejn0if6hJCKw",
    "outputId": "413a7404-ac99-41a6-b2d9-a69eeb87cfaa"
   },
   "outputs": [
    {
     "name": "stdout",
     "output_type": "stream",
     "text": [
      "world\n",
      "2\n"
     ]
    }
   ],
   "source": [
    "x = 5\n",
    "if x > 10:\n",
    "    print (\"hello\")\n",
    "    y  = 1\n",
    "else:\n",
    "    print (\"world\")\n",
    "    y = 2\n",
    "print(y)"
   ]
  },
  {
   "cell_type": "markdown",
   "metadata": {
    "id": "WyR7Np__JCKw"
   },
   "source": [
    "## if-elif"
   ]
  },
  {
   "cell_type": "markdown",
   "metadata": {
    "id": "V3xrvKB-JCKx"
   },
   "source": [
    "if some_condition:\n",
    "    \n",
    "    algorithm\n",
    "\n",
    "elif some_condition:\n",
    "    \n",
    "    algorithm\n",
    "\n",
    "else:\n",
    "    \n",
    "    algorithm"
   ]
  },
  {
   "cell_type": "code",
   "execution_count": 17,
   "metadata": {
    "colab": {
     "base_uri": "https://localhost:8080/"
    },
    "executionInfo": {
     "elapsed": 561,
     "status": "ok",
     "timestamp": 1648470782187,
     "user": {
      "displayName": "UT MATLAB",
      "photoUrl": "https://lh3.googleusercontent.com/a/default-user=s64",
      "userId": "08553643746335249860"
     },
     "user_tz": -270
    },
    "id": "C8BugMqwJCKy",
    "outputId": "3cf65c72-2863-466a-8839-935baee9d78f"
   },
   "outputs": [
    {
     "name": "stdout",
     "output_type": "stream",
     "text": [
      "x<y\n"
     ]
    }
   ],
   "source": [
    "x = 12\n",
    "y = 120\n",
    "if x > y:\n",
    "    print (\"x>y\")\n",
    "elif x < y:\n",
    "    print (\"x<y\")\n",
    "else:\n",
    "    print (\"x==y\")"
   ]
  },
  {
   "cell_type": "code",
   "execution_count": 21,
   "metadata": {
    "colab": {
     "base_uri": "https://localhost:8080/"
    },
    "executionInfo": {
     "elapsed": 5268,
     "status": "ok",
     "timestamp": 1648471317508,
     "user": {
      "displayName": "UT MATLAB",
      "photoUrl": "https://lh3.googleusercontent.com/a/default-user=s64",
      "userId": "08553643746335249860"
     },
     "user_tz": -270
    },
    "id": "HgGu4TSjhAPB",
    "outputId": "08d37bf0-1939-45d1-faae-2175845541dc"
   },
   "outputs": [
    {
     "name": "stdout",
     "output_type": "stream",
     "text": [
      "10\n",
      "6\n",
      "be x kap akhlagh dade mishavad\n",
      "be y kap akhlagh dade mishavad\n"
     ]
    }
   ],
   "source": [
    "x = int(input())\n",
    "y = int(input())\n",
    "if x > y :\n",
    "     y = x+1\n",
    "     print('be x kap akhlagh dade mishavad')\n",
    "if(y>x):\n",
    "    print('be y kap akhlagh dade mishavad')\n",
    "#وقتی بجای ایف و الز از دو ایف استفاده میشود"
   ]
  },
  {
   "cell_type": "code",
   "execution_count": null,
   "metadata": {
    "colab": {
     "base_uri": "https://localhost:8080/"
    },
    "executionInfo": {
     "elapsed": 607,
     "status": "ok",
     "timestamp": 1648471536948,
     "user": {
      "displayName": "UT MATLAB",
      "photoUrl": "https://lh3.googleusercontent.com/a/default-user=s64",
      "userId": "08553643746335249860"
     },
     "user_tz": -270
    },
    "id": "ldDlOaN8ja3p",
    "outputId": "88195d17-ea38-4e55-861a-fd10c683d655"
   },
   "outputs": [
    {
     "name": "stdout",
     "output_type": "stream",
     "text": [
      "Awli\n"
     ]
    }
   ],
   "source": [
    "x = 10\n",
    "# C++ Like if statement\n",
    "if x==11 or x>3 : # if ((x==11)||(x>3))\n",
    "  print('Awli')\n"
   ]
  },
  {
   "cell_type": "code",
   "execution_count": 22,
   "metadata": {
    "colab": {
     "base_uri": "https://localhost:8080/"
    },
    "executionInfo": {
     "elapsed": 505,
     "status": "ok",
     "timestamp": 1648471593280,
     "user": {
      "displayName": "UT MATLAB",
      "photoUrl": "https://lh3.googleusercontent.com/a/default-user=s64",
      "userId": "08553643746335249860"
     },
     "user_tz": -270
    },
    "id": "34X3Ev_vj4SG",
    "outputId": "c842a8e3-e87b-433c-a5b3-a481cfe816cd"
   },
   "outputs": [
    {
     "data": {
      "text/plain": [
       "False"
      ]
     },
     "execution_count": 22,
     "metadata": {},
     "output_type": "execute_result"
    }
   ],
   "source": [
    "15 in range(1,11)"
   ]
  },
  {
   "cell_type": "code",
   "execution_count": 25,
   "metadata": {
    "colab": {
     "base_uri": "https://localhost:8080/"
    },
    "executionInfo": {
     "elapsed": 3452,
     "status": "ok",
     "timestamp": 1648471750525,
     "user": {
      "displayName": "UT MATLAB",
      "photoUrl": "https://lh3.googleusercontent.com/a/default-user=s64",
      "userId": "08553643746335249860"
     },
     "user_tz": -270
    },
    "id": "r0jbsTwPkJWg",
    "outputId": "5693853b-3c26-41ce-cfa7-ce402ea03ceb"
   },
   "outputs": [
    {
     "name": "stdout",
     "output_type": "stream",
     "text": [
      "200\n",
      "Adad Morakab\n"
     ]
    }
   ],
   "source": [
    "x  = int(input())\n",
    "if x in (2,3,5,7,11,13,17,19):\n",
    "  print(\"Adad Aval\")\n",
    "if x not in (2,3,5,7,11,13,17,19):\n",
    "  print(\"Adad Morakab\")"
   ]
  },
  {
   "cell_type": "code",
   "execution_count": null,
   "metadata": {
    "colab": {
     "base_uri": "https://localhost:8080/"
    },
    "executionInfo": {
     "elapsed": 722,
     "status": "ok",
     "timestamp": 1648471816918,
     "user": {
      "displayName": "UT MATLAB",
      "photoUrl": "https://lh3.googleusercontent.com/a/default-user=s64",
      "userId": "08553643746335249860"
     },
     "user_tz": -270
    },
    "id": "J-hOkBGek1Ua",
    "outputId": "0a5e877e-3aba-490d-a09a-66e745e465c6"
   },
   "outputs": [
    {
     "data": {
      "text/plain": [
       "range"
      ]
     },
     "execution_count": 29,
     "metadata": {},
     "output_type": "execute_result"
    }
   ],
   "source": [
    "a = range(10)\n",
    "type(a)"
   ]
  },
  {
   "cell_type": "code",
   "execution_count": 26,
   "metadata": {
    "colab": {
     "base_uri": "https://localhost:8080/"
    },
    "executionInfo": {
     "elapsed": 507,
     "status": "ok",
     "timestamp": 1648472220735,
     "user": {
      "displayName": "UT MATLAB",
      "photoUrl": "https://lh3.googleusercontent.com/a/default-user=s64",
      "userId": "08553643746335249860"
     },
     "user_tz": -270
    },
    "id": "gk53sIKFlE9G",
    "outputId": "2ef9a3b4-3645-4dcd-feed-7d28265f70a8"
   },
   "outputs": [
    {
     "name": "stdout",
     "output_type": "stream",
     "text": [
      "3.141592653589793\n",
      "toss is 5 and it's aval\n",
      "2.718281828459045\n",
      "3.141592653589793\n"
     ]
    },
    {
     "data": {
      "text/plain": [
       "2"
      ]
     },
     "execution_count": 26,
     "metadata": {},
     "output_type": "execute_result"
    }
   ],
   "source": [
    "from math import pi\n",
    "print(pi)\n",
    "import random\n",
    "a = random.randrange(1,7)\n",
    "if a in (2,3,5):\n",
    "   print(f\"toss is {a} and it's aval\")\n",
    "from math import e\n",
    "print(e)   \n",
    "import math\n",
    "print(math.pi)\n",
    "import statistics as st\n",
    "st.mean([1,2,3])"
   ]
  },
  {
   "cell_type": "markdown",
   "metadata": {
    "id": "wOSiGQl3JCKy"
   },
   "source": [
    "if statement inside a if statement or if-elif or if-else are called as nested if statements."
   ]
  },
  {
   "cell_type": "code",
   "execution_count": null,
   "metadata": {
    "colab": {
     "base_uri": "https://localhost:8080/"
    },
    "executionInfo": {
     "elapsed": 532,
     "status": "ok",
     "timestamp": 1648472390071,
     "user": {
      "displayName": "UT MATLAB",
      "photoUrl": "https://lh3.googleusercontent.com/a/default-user=s64",
      "userId": "08553643746335249860"
     },
     "user_tz": -270
    },
    "id": "2733z3uvJCKy",
    "outputId": "1bb025ac-8c4e-4094-b0e2-583099d9c18a"
   },
   "outputs": [
    {
     "name": "stdout",
     "output_type": "stream",
     "text": [
      "x<y\n",
      "x=10\n"
     ]
    }
   ],
   "source": [
    "x = 10\n",
    "y = 12\n",
    "if x > y:\n",
    "    print(\"x>y\")\n",
    "elif x < y:\n",
    "    print(\"x<y\")\n",
    "    if x==10:\n",
    "        print (\"x=10\")\n",
    "    else:\n",
    "        print (\"invalid\")\n",
    "else:\n",
    "    print (\"x=y\")"
   ]
  },
  {
   "cell_type": "markdown",
   "metadata": {
    "id": "2BDEVayeJCKz"
   },
   "source": [
    "## Loops"
   ]
  },
  {
   "cell_type": "markdown",
   "metadata": {
    "id": "pnkLqZIqJCKz"
   },
   "source": [
    "### For"
   ]
  },
  {
   "cell_type": "markdown",
   "metadata": {
    "id": "xkDil8GTJCKz"
   },
   "source": [
    "for variable in something:\n",
    "    \n",
    "    algorithm"
   ]
  },
  {
   "cell_type": "code",
   "execution_count": 27,
   "metadata": {
    "colab": {
     "base_uri": "https://localhost:8080/"
    },
    "executionInfo": {
     "elapsed": 539,
     "status": "ok",
     "timestamp": 1648472517283,
     "user": {
      "displayName": "UT MATLAB",
      "photoUrl": "https://lh3.googleusercontent.com/a/default-user=s64",
      "userId": "08553643746335249860"
     },
     "user_tz": -270
    },
    "id": "EGvP7sQKJCKz",
    "outputId": "45327b14-7231-4732-f401-eb4004d47e91"
   },
   "outputs": [
    {
     "name": "stdout",
     "output_type": "stream",
     "text": [
      "1\n",
      "2\n",
      "3\n",
      "4\n"
     ]
    }
   ],
   "source": [
    "for i in range(1,5):\n",
    "    print(i)"
   ]
  },
  {
   "cell_type": "code",
   "execution_count": 28,
   "metadata": {
    "colab": {
     "base_uri": "https://localhost:8080/"
    },
    "executionInfo": {
     "elapsed": 565,
     "status": "ok",
     "timestamp": 1648472546730,
     "user": {
      "displayName": "UT MATLAB",
      "photoUrl": "https://lh3.googleusercontent.com/a/default-user=s64",
      "userId": "08553643746335249860"
     },
     "user_tz": -270
    },
    "id": "9BEp7D3Tnp9i",
    "outputId": "9f8cabe0-77f5-454d-dcc1-0d7e366c4700"
   },
   "outputs": [
    {
     "name": "stdout",
     "output_type": "stream",
     "text": [
      "3\n",
      "10\n",
      "jamal\n"
     ]
    }
   ],
   "source": [
    "for i in [3, 10, 'jamal']:\n",
    "    print(i)"
   ]
  },
  {
   "cell_type": "markdown",
   "metadata": {
    "id": "KYuknOofJCKz"
   },
   "source": [
    "In the above example, i iterates over the 0,1,2,3,4. Every time it takes each value and executes the algorithm inside the loop. It is also possible to iterate over a nested list illustrated below."
   ]
  },
  {
   "cell_type": "code",
   "execution_count": null,
   "metadata": {
    "colab": {
     "base_uri": "https://localhost:8080/"
    },
    "executionInfo": {
     "elapsed": 523,
     "status": "ok",
     "timestamp": 1648472644339,
     "user": {
      "displayName": "UT MATLAB",
      "photoUrl": "https://lh3.googleusercontent.com/a/default-user=s64",
      "userId": "08553643746335249860"
     },
     "user_tz": -270
    },
    "id": "9PqOqeryJCKz",
    "outputId": "017fc54a-f0fc-4636-afaf-bf2d7f0693f3"
   },
   "outputs": [
    {
     "name": "stdout",
     "output_type": "stream",
     "text": [
      "[1, 2, 3]\n",
      "[4, 5, 6]\n",
      "[7, 8, 9]\n"
     ]
    }
   ],
   "source": [
    "list_of_lists = [[1, 2, 3], [4, 5, 6], [7, 8, 9]]\n",
    "for list1 in list_of_lists:\n",
    "        print(list1)"
   ]
  },
  {
   "cell_type": "markdown",
   "metadata": {
    "id": "IgyaLMrsJCK0"
   },
   "source": [
    "A use case of a nested for loop in this case would be,"
   ]
  },
  {
   "cell_type": "code",
   "execution_count": 30,
   "metadata": {
    "colab": {
     "base_uri": "https://localhost:8080/"
    },
    "executionInfo": {
     "elapsed": 19,
     "status": "ok",
     "timestamp": 1648552676738,
     "user": {
      "displayName": "UT MATLAB",
      "userId": "08553643746335249860"
     },
     "user_tz": -270
    },
    "id": "uHtQwlghJCK0",
    "outputId": "9272aef1-2ea2-41ec-8a45-79e85b3de097"
   },
   "outputs": [
    {
     "name": "stdout",
     "output_type": "stream",
     "text": [
      "  1   2   3 \n",
      "  4   5   6 \n",
      "  7   8   9 \n"
     ]
    }
   ],
   "source": [
    "list_of_lists = [[1, 2, 3], [4, 5, 6], [7, 8, 9]]\n",
    "for list1 in list_of_lists:\n",
    "    for x in list1:\n",
    "        print(\"%3s\"%x,end = ' ')\n",
    "    print('\\n',end='')"
   ]
  },
  {
   "cell_type": "markdown",
   "metadata": {
    "id": "dVeg_anOJCK0"
   },
   "source": [
    "### While"
   ]
  },
  {
   "cell_type": "markdown",
   "metadata": {
    "id": "rqUnK7DOJCK0"
   },
   "source": [
    "while some_condition:\n",
    "    \n",
    "    algorithm"
   ]
  },
  {
   "cell_type": "code",
   "execution_count": 32,
   "metadata": {
    "colab": {
     "base_uri": "https://localhost:8080/"
    },
    "executionInfo": {
     "elapsed": 544,
     "status": "ok",
     "timestamp": 1648473034358,
     "user": {
      "displayName": "UT MATLAB",
      "photoUrl": "https://lh3.googleusercontent.com/a/default-user=s64",
      "userId": "08553643746335249860"
     },
     "user_tz": -270
    },
    "id": "w7-NmDj0JCK0",
    "outputId": "a0d4a074-26cb-44e0-d9c1-e3b8394eeadd"
   },
   "outputs": [
    {
     "name": "stdout",
     "output_type": "stream",
     "text": [
      "1\n",
      "4\n",
      "9\n",
      "16\n",
      "25\n",
      "36\n",
      "Bye\n"
     ]
    }
   ],
   "source": [
    "i = 1\n",
    "while i < 7:\n",
    "    print(i ** 2)\n",
    "    i = i+1\n",
    "print('Bye')"
   ]
  },
  {
   "cell_type": "code",
   "execution_count": 33,
   "metadata": {},
   "outputs": [
    {
     "name": "stdout",
     "output_type": "stream",
     "text": [
      "1\n",
      "4\n",
      "9\n",
      "16\n",
      "25\n",
      "36\n"
     ]
    }
   ],
   "source": [
    "for i in range(1,7):\n",
    "    print(i**2)"
   ]
  },
  {
   "cell_type": "markdown",
   "metadata": {
    "id": "7iK1AUftJCK0"
   },
   "source": [
    "## Break"
   ]
  },
  {
   "cell_type": "markdown",
   "metadata": {
    "id": "R-vFianuJCK1"
   },
   "source": [
    "As the name says. It is used to break out of a loop when a condition becomes true when executing the loop."
   ]
  },
  {
   "cell_type": "code",
   "execution_count": 34,
   "metadata": {
    "colab": {
     "base_uri": "https://localhost:8080/"
    },
    "executionInfo": {
     "elapsed": 514,
     "status": "ok",
     "timestamp": 1648473571586,
     "user": {
      "displayName": "UT MATLAB",
      "photoUrl": "https://lh3.googleusercontent.com/a/default-user=s64",
      "userId": "08553643746335249860"
     },
     "user_tz": -270
    },
    "id": "nDhQeK0gJCK1",
    "outputId": "c6272e29-b753-427e-acac-232ef8f98bb3"
   },
   "outputs": [
    {
     "name": "stdout",
     "output_type": "stream",
     "text": [
      "hop 1 2 3 4 hop 6 7 8 9 hop 11 12 13 14 hop 16 17 18 19 hop 21 22 23 24 hop 26 27 28 29 hop 31 32 33 34 hop 36 37 "
     ]
    }
   ],
   "source": [
    "for i in range(100):\n",
    "    if i%5 == 0:\n",
    "      print('hop',end = ' ')\n",
    "    else:\n",
    "        print(i,end = ' ')\n",
    "    if (i == 37):\n",
    "      break \n",
    "      "
   ]
  },
  {
   "cell_type": "markdown",
   "metadata": {
    "id": "NcQXbikGJCK1"
   },
   "source": [
    "## Continue"
   ]
  },
  {
   "cell_type": "markdown",
   "metadata": {
    "id": "93cl00UWJCK1"
   },
   "source": [
    "This continues the rest of the loop. Sometimes when a condition is satisfied there are chances of the loop getting terminated. This can be avoided using continue statement. "
   ]
  },
  {
   "cell_type": "code",
   "execution_count": 35,
   "metadata": {
    "colab": {
     "base_uri": "https://localhost:8080/"
    },
    "executionInfo": {
     "elapsed": 550,
     "status": "ok",
     "timestamp": 1648473267562,
     "user": {
      "displayName": "UT MATLAB",
      "photoUrl": "https://lh3.googleusercontent.com/a/default-user=s64",
      "userId": "08553643746335249860"
     },
     "user_tz": -270
    },
    "id": "xghZtBuCJCK1",
    "outputId": "4bae7727-e694-4222-dace-5a3dd7666b48"
   },
   "outputs": [
    {
     "name": "stdout",
     "output_type": "stream",
     "text": [
      "0\n",
      "1\n",
      "2\n",
      "3\n",
      "4\n",
      "The end.\n",
      "The end.\n",
      "The end.\n",
      "The end.\n",
      "The end.\n"
     ]
    }
   ],
   "source": [
    "for i in range(10):\n",
    "    if i>4:\n",
    "        print(\"The end.\")\n",
    "        continue\n",
    "    elif i<7:\n",
    "        print(i)"
   ]
  },
  {
   "cell_type": "markdown",
   "metadata": {
    "id": "ZZW_0a8lJCK2"
   },
   "source": [
    "## List Comprehensions"
   ]
  },
  {
   "cell_type": "markdown",
   "metadata": {
    "id": "czb_jyzsJCK2"
   },
   "source": [
    "Python makes it simple to generate a required list with a single line of code using list comprehensions. For example If i need to generate multiples of say 27 I write the code using for loop as,"
   ]
  },
  {
   "cell_type": "code",
   "execution_count": 36,
   "metadata": {
    "colab": {
     "base_uri": "https://localhost:8080/"
    },
    "executionInfo": {
     "elapsed": 384,
     "status": "ok",
     "timestamp": 1648553020840,
     "user": {
      "displayName": "UT MATLAB",
      "userId": "08553643746335249860"
     },
     "user_tz": -270
    },
    "id": "tJTZ9n0IJCK2",
    "outputId": "c2af1f6a-8b36-437f-cce4-10679ae0e821"
   },
   "outputs": [
    {
     "name": "stdout",
     "output_type": "stream",
     "text": [
      "[27, 54, 81, 108, 135, 162, 189, 216, 243, 270]\n"
     ]
    }
   ],
   "source": [
    "res = []\n",
    "for i in range(1,11):\n",
    "    x = 27*i\n",
    "    res.append(x)\n",
    "print(res)"
   ]
  },
  {
   "cell_type": "markdown",
   "metadata": {
    "id": "Z3_G_kaNJCK2"
   },
   "source": [
    "Since you are generating another list altogether and that is what is required, List comprehensions is a more efficient way to solve this problem."
   ]
  },
  {
   "cell_type": "code",
   "execution_count": 4,
   "metadata": {
    "colab": {
     "base_uri": "https://localhost:8080/"
    },
    "executionInfo": {
     "elapsed": 338,
     "status": "ok",
     "timestamp": 1648553116745,
     "user": {
      "displayName": "UT MATLAB",
      "userId": "08553643746335249860"
     },
     "user_tz": -270
    },
    "id": "xTLhjUbSJCK2",
    "outputId": "bb612923-ae3d-4011-8bb0-d195ea46d67a"
   },
   "outputs": [
    {
     "data": {
      "text/plain": [
       "[27, 54, 81, 108, 135, 162, 189, 216, 243, 270]"
      ]
     },
     "execution_count": 4,
     "metadata": {},
     "output_type": "execute_result"
    }
   ],
   "source": [
    "[27*x for x in range(1,11)]"
   ]
  },
  {
   "cell_type": "markdown",
   "metadata": {
    "id": "uw8XZObKJCK2"
   },
   "source": [
    "That's it!. Only remember to enclose it in square brackets"
   ]
  },
  {
   "cell_type": "markdown",
   "metadata": {
    "id": "267-C0XwJCK3"
   },
   "source": [
    "Understanding the code, The first bit of the code is always the algorithm and then leave a space and then write the necessary loop. But you might be wondering can nested loops be extended to list comprehensions? Yes you can."
   ]
  },
  {
   "cell_type": "code",
   "execution_count": 38,
   "metadata": {
    "colab": {
     "base_uri": "https://localhost:8080/"
    },
    "executionInfo": {
     "elapsed": 366,
     "status": "ok",
     "timestamp": 1648553157804,
     "user": {
      "displayName": "UT MATLAB",
      "userId": "08553643746335249860"
     },
     "user_tz": -270
    },
    "id": "isxWcnZ_JCK3",
    "outputId": "b9ffd572-d3b1-4b3d-e399-39a611a32db9"
   },
   "outputs": [
    {
     "data": {
      "text/plain": [
       "[27, 54, 81, 108, 135, 162, 189, 216, 243, 270]"
      ]
     },
     "execution_count": 38,
     "metadata": {},
     "output_type": "execute_result"
    }
   ],
   "source": [
    "[27*x for x in range(1,20) if x<=10]"
   ]
  },
  {
   "cell_type": "markdown",
   "metadata": {
    "id": "Sg1HcN4AJCK3"
   },
   "source": [
    "Let me add one more loop to make you understand better, "
   ]
  },
  {
   "cell_type": "code",
   "execution_count": 7,
   "metadata": {
    "colab": {
     "base_uri": "https://localhost:8080/"
    },
    "executionInfo": {
     "elapsed": 359,
     "status": "ok",
     "timestamp": 1648553315556,
     "user": {
      "displayName": "UT MATLAB",
      "userId": "08553643746335249860"
     },
     "user_tz": -270
    },
    "id": "i1YcQvkOJCK3",
    "outputId": "98e77c49-da3a-479b-abb7-1bc700bf8d1e"
   },
   "outputs": [
    {
     "data": {
      "text/plain": [
       "[27, 54, 81, 108, 135, 162, 189, 216, 243, 270]"
      ]
     },
     "execution_count": 7,
     "metadata": {},
     "output_type": "execute_result"
    }
   ],
   "source": [
    "[27*z for i in range(50) if i==27 for z in range(1,11)]"
   ]
  },
  {
   "cell_type": "code",
   "execution_count": 9,
   "metadata": {
    "colab": {
     "base_uri": "https://localhost:8080/"
    },
    "executionInfo": {
     "elapsed": 363,
     "status": "ok",
     "timestamp": 1648553399902,
     "user": {
      "displayName": "UT MATLAB",
      "userId": "08553643746335249860"
     },
     "user_tz": -270
    },
    "id": "iTL6Gx3pb0QP",
    "outputId": "5bdae9ee-5bf9-48f5-9421-118e4f052cf9"
   },
   "outputs": [
    {
     "name": "stdout",
     "output_type": "stream",
     "text": [
      "[27, 54, 81, 108, 135, 162, 189, 216, 243, 270, 27, 54, 81, 108, 135, 162, 189, 216, 243, 270]\n"
     ]
    }
   ],
   "source": [
    "res = []\n",
    "for i in range(50):\n",
    "    if i == 27 or i==28:\n",
    "      for z in range(1,11):\n",
    "         res.append(27*z)\n",
    "print(res)"
   ]
  },
  {
   "cell_type": "code",
   "execution_count": 39,
   "metadata": {
    "executionInfo": {
     "elapsed": 370,
     "status": "ok",
     "timestamp": 1648553449163,
     "user": {
      "displayName": "UT MATLAB",
      "userId": "08553643746335249860"
     },
     "user_tz": -270
    },
    "id": "T4gI7xwlJEXl"
   },
   "outputs": [],
   "source": [
    "mylist = [1,2,3,4,5,6]"
   ]
  },
  {
   "cell_type": "code",
   "execution_count": 11,
   "metadata": {
    "colab": {
     "base_uri": "https://localhost:8080/"
    },
    "executionInfo": {
     "elapsed": 435,
     "status": "ok",
     "timestamp": 1648553451187,
     "user": {
      "displayName": "UT MATLAB",
      "userId": "08553643746335249860"
     },
     "user_tz": -270
    },
    "id": "lbw0DTG_JEXn",
    "outputId": "d14678ed-e65a-4c87-93de-43f9671f43bd"
   },
   "outputs": [
    {
     "data": {
      "text/plain": [
       "[1, 2, 3, 4, 5, 6]"
      ]
     },
     "execution_count": 11,
     "metadata": {},
     "output_type": "execute_result"
    }
   ],
   "source": [
    "mylist"
   ]
  },
  {
   "cell_type": "code",
   "execution_count": 40,
   "metadata": {
    "colab": {
     "base_uri": "https://localhost:8080/"
    },
    "executionInfo": {
     "elapsed": 374,
     "status": "ok",
     "timestamp": 1648553462016,
     "user": {
      "displayName": "UT MATLAB",
      "userId": "08553643746335249860"
     },
     "user_tz": -270
    },
    "id": "y8cvASb7JEXo",
    "outputId": "df1a5291-3945-4dd4-972f-e6de6c03e481"
   },
   "outputs": [
    {
     "name": "stdout",
     "output_type": "stream",
     "text": [
      "1\n",
      "2\n",
      "3\n",
      "4\n",
      "5\n",
      "6\n"
     ]
    }
   ],
   "source": [
    "for x in mylist:\n",
    "    print(x)"
   ]
  },
  {
   "cell_type": "code",
   "execution_count": 14,
   "metadata": {
    "colab": {
     "base_uri": "https://localhost:8080/"
    },
    "executionInfo": {
     "elapsed": 370,
     "status": "ok",
     "timestamp": 1648553482663,
     "user": {
      "displayName": "UT MATLAB",
      "userId": "08553643746335249860"
     },
     "user_tz": -270
    },
    "id": "3v3Nvx2fJEXp",
    "outputId": "59ed9a4a-92f0-450e-d9d1-58402e307fd2"
   },
   "outputs": [
    {
     "name": "stdout",
     "output_type": "stream",
     "text": [
      "4\n",
      "5\n"
     ]
    }
   ],
   "source": [
    "for x in mylist:\n",
    "    if x // 2 == 2:\n",
    "        print(x)"
   ]
  },
  {
   "cell_type": "code",
   "execution_count": 16,
   "metadata": {
    "executionInfo": {
     "elapsed": 5,
     "status": "ok",
     "timestamp": 1648553537290,
     "user": {
      "displayName": "UT MATLAB",
      "userId": "08553643746335249860"
     },
     "user_tz": -270
    },
    "id": "IFeIcbL3JEXp"
   },
   "outputs": [],
   "source": [
    "mystring = \"Pythorial\""
   ]
  },
  {
   "cell_type": "code",
   "execution_count": 17,
   "metadata": {
    "colab": {
     "base_uri": "https://localhost:8080/"
    },
    "executionInfo": {
     "elapsed": 15,
     "status": "ok",
     "timestamp": 1648553539535,
     "user": {
      "displayName": "UT MATLAB",
      "userId": "08553643746335249860"
     },
     "user_tz": -270
    },
    "id": "Bcs7ZZ83JEXq",
    "outputId": "24e0768d-3446-45cf-de5d-29e1030a571f"
   },
   "outputs": [
    {
     "name": "stdout",
     "output_type": "stream",
     "text": [
      "P\n",
      "y\n",
      "t\n",
      "h\n",
      "o\n",
      "r\n",
      "i\n",
      "a\n",
      "l\n"
     ]
    }
   ],
   "source": [
    "for letter in mystring:\n",
    "    print(letter)"
   ]
  },
  {
   "cell_type": "code",
   "execution_count": 20,
   "metadata": {
    "colab": {
     "base_uri": "https://localhost:8080/"
    },
    "executionInfo": {
     "elapsed": 353,
     "status": "ok",
     "timestamp": 1648553574127,
     "user": {
      "displayName": "UT MATLAB",
      "userId": "08553643746335249860"
     },
     "user_tz": -270
    },
    "id": "PCD91pO3JEXq",
    "outputId": "5ee22c89-d3a1-4b5b-b6bc-b056c07f5c12"
   },
   "outputs": [
    {
     "name": "stdout",
     "output_type": "stream",
     "text": [
      "*\n",
      "*\n",
      "*\n",
      "*\n",
      "*\n",
      "*\n"
     ]
    }
   ],
   "source": [
    "for letter in 'Ashkan':\n",
    "    print('*')"
   ]
  },
  {
   "cell_type": "code",
   "execution_count": 41,
   "metadata": {
    "executionInfo": {
     "elapsed": 347,
     "status": "ok",
     "timestamp": 1648553582500,
     "user": {
      "displayName": "UT MATLAB",
      "userId": "08553643746335249860"
     },
     "user_tz": -270
    },
    "id": "uuVX8nXHJEXq"
   },
   "outputs": [],
   "source": [
    "mytuple = (1,2,3,4)"
   ]
  },
  {
   "cell_type": "code",
   "execution_count": 42,
   "metadata": {
    "colab": {
     "base_uri": "https://localhost:8080/"
    },
    "executionInfo": {
     "elapsed": 364,
     "status": "ok",
     "timestamp": 1648553585990,
     "user": {
      "displayName": "UT MATLAB",
      "userId": "08553643746335249860"
     },
     "user_tz": -270
    },
    "id": "Px-dzJJsJEXq",
    "outputId": "5fdf72c5-8834-4bcd-9b6d-13522e73ed97"
   },
   "outputs": [
    {
     "name": "stdout",
     "output_type": "stream",
     "text": [
      "1\n",
      "2\n",
      "3\n",
      "4\n"
     ]
    }
   ],
   "source": [
    "for harchi in mytuple:\n",
    "    print(harchi)"
   ]
  },
  {
   "cell_type": "code",
   "execution_count": 23,
   "metadata": {
    "executionInfo": {
     "elapsed": 373,
     "status": "ok",
     "timestamp": 1648553598683,
     "user": {
      "displayName": "UT MATLAB",
      "userId": "08553643746335249860"
     },
     "user_tz": -270
    },
    "id": "WkIrqrZCJEXr"
   },
   "outputs": [],
   "source": [
    "newlist = [(1,2,3),(5,6,7)]"
   ]
  },
  {
   "cell_type": "code",
   "execution_count": 24,
   "metadata": {
    "colab": {
     "base_uri": "https://localhost:8080/"
    },
    "executionInfo": {
     "elapsed": 382,
     "status": "ok",
     "timestamp": 1648553605356,
     "user": {
      "displayName": "UT MATLAB",
      "userId": "08553643746335249860"
     },
     "user_tz": -270
    },
    "id": "8WqQUDOUJEXr",
    "outputId": "21b53021-a1ba-4a99-80ee-45f7961efe70"
   },
   "outputs": [
    {
     "data": {
      "text/plain": [
       "2"
      ]
     },
     "execution_count": 24,
     "metadata": {},
     "output_type": "execute_result"
    }
   ],
   "source": [
    "len(newlist)"
   ]
  },
  {
   "cell_type": "code",
   "execution_count": 25,
   "metadata": {
    "colab": {
     "base_uri": "https://localhost:8080/"
    },
    "executionInfo": {
     "elapsed": 368,
     "status": "ok",
     "timestamp": 1648553620512,
     "user": {
      "displayName": "UT MATLAB",
      "userId": "08553643746335249860"
     },
     "user_tz": -270
    },
    "id": "4jn82szaJEXr",
    "outputId": "a0909d21-ba60-4546-ca0a-961517b4480b",
    "scrolled": true
   },
   "outputs": [
    {
     "name": "stdout",
     "output_type": "stream",
     "text": [
      "(1, 2, 3)\n",
      "(5, 6, 7)\n"
     ]
    }
   ],
   "source": [
    "for harchi in newlist:\n",
    "    print(harchi)"
   ]
  },
  {
   "cell_type": "code",
   "execution_count": 26,
   "metadata": {
    "colab": {
     "base_uri": "https://localhost:8080/"
    },
    "executionInfo": {
     "elapsed": 348,
     "status": "ok",
     "timestamp": 1648553713706,
     "user": {
      "displayName": "UT MATLAB",
      "userId": "08553643746335249860"
     },
     "user_tz": -270
    },
    "id": "M_dwcIcXJEXr",
    "outputId": "552408b7-617e-4a81-c655-e50f3590e769"
   },
   "outputs": [
    {
     "name": "stdout",
     "output_type": "stream",
     "text": [
      "(1,2,3) : 6\n",
      "(5,6,7) : 18\n"
     ]
    }
   ],
   "source": [
    "for (a,b,c) in newlist:\n",
    "    print(f'({a},{b},{c}) : {a+b+c}')"
   ]
  },
  {
   "cell_type": "code",
   "execution_count": null,
   "metadata": {
    "id": "yhkIbD-WJEXs",
    "outputId": "cc2055a2-2596-4fad-c1f3-ebe9ed845943"
   },
   "outputs": [
    {
     "name": "stdout",
     "output_type": "stream",
     "text": [
      "3\n",
      "7\n"
     ]
    }
   ],
   "source": [
    "for (a,b,c) in newlist:\n",
    "    print(c)44"
   ]
  },
  {
   "cell_type": "code",
   "execution_count": null,
   "metadata": {},
   "outputs": [],
   "source": []
  }
 ],
 "metadata": {
  "colab": {
   "collapsed_sections": [],
   "name": "05.ipynb",
   "provenance": []
  },
  "kernelspec": {
   "display_name": "Python 3 (ipykernel)",
   "language": "python",
   "name": "python3"
  },
  "language_info": {
   "codemirror_mode": {
    "name": "ipython",
    "version": 3
   },
   "file_extension": ".py",
   "mimetype": "text/x-python",
   "name": "python",
   "nbconvert_exporter": "python",
   "pygments_lexer": "ipython3",
   "version": "3.9.4"
  }
 },
 "nbformat": 4,
 "nbformat_minor": 1
}
